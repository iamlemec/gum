{
 "cells": [
  {
   "cell_type": "code",
   "execution_count": 1,
   "id": "e095695b",
   "metadata": {
    "tags": []
   },
   "outputs": [],
   "source": [
    "from gum import *"
   ]
  },
  {
   "cell_type": "code",
   "execution_count": 2,
   "id": "5f085ab3",
   "metadata": {},
   "outputs": [],
   "source": [
    "from math import sqrt, sin, cos"
   ]
  },
  {
   "cell_type": "code",
   "execution_count": 3,
   "id": "e9ffc345",
   "metadata": {},
   "outputs": [],
   "source": [
    "%config InlineBackend.figure_format = 'svg'"
   ]
  },
  {
   "cell_type": "code",
   "execution_count": 4,
   "id": "b7ad6461",
   "metadata": {},
   "outputs": [
    {
     "data": {
      "image/svg+xml": [
       "<svg width=\"250\" height=\"250\" xmlns=\"http://www.w3.org/2000/svg\">\n",
       "<g>\n",
       "<g>\n",
       "<g>\n",
       "<g>\n",
       "<g>\n",
       "<line x1=\"76\" y1=\"76\" x2=\"174\" y2=\"174\" stroke=\"black\" stroke-width=\"25\" />\n",
       "<line x1=\"76\" y1=\"174\" x2=\"174\" y2=\"76\" stroke=\"black\" stroke-width=\"25\" />\n",
       "</g>\n",
       "</g>\n",
       "<ellipse cx=\"125\" cy=\"125\" rx=\"98\" ry=\"98\" fill=\"none\" stroke=\"black\" stroke-width=\"25\" />\n",
       "</g>\n",
       "</g>\n",
       "</g>\n",
       "</svg>"
      ],
      "text/plain": [
       "g: "
      ]
     },
     "execution_count": 4,
     "metadata": {},
     "output_type": "execute_result"
    }
   ],
   "source": [
    "ex0 = Ray(-45, stroke_width=25) + Ray(45, stroke_width=25)\n",
    "ex = Frame(ex0, margin=0.25)\n",
    "ci = Circle(stroke_width=25)\n",
    "bt = ex + ci\n",
    "Frame(bt, margin=0.1)"
   ]
  },
  {
   "cell_type": "code",
   "execution_count": 5,
   "id": "0f517fa6",
   "metadata": {},
   "outputs": [
    {
     "data": {
      "image/svg+xml": [
       "<svg width=\"250\" height=\"250\" xmlns=\"http://www.w3.org/2000/svg\">\n",
       "<g>\n",
       "<g>\n",
       "<g>\n",
       "<line x1=\"125\" y1=\"2.5\" x2=\"125\" y2=\"247.5\" stroke=\"black\" />\n",
       "<line x1=\"103.399944863213\" y1=\"2.5\" x2=\"146.600055136787\" y2=\"247.5\" stroke=\"black\" />\n",
       "<line x1=\"80.4136463023902\" y1=\"2.5\" x2=\"169.5863536976098\" y2=\"247.5\" stroke=\"black\" />\n",
       "<line x1=\"54.2745920242708\" y1=\"2.5\" x2=\"195.7254079757292\" y2=\"247.5\" stroke=\"black\" />\n",
       "<line x1=\"22.2102951807832\" y1=\"2.5\" x2=\"227.7897048192168\" y2=\"247.5\" stroke=\"black\" />\n",
       "<line x1=\"2.5\" y1=\"22.2102951807832\" x2=\"247.5\" y2=\"227.7897048192168\" stroke=\"black\" />\n",
       "<line x1=\"2.5\" y1=\"54.2745920242708\" x2=\"247.5\" y2=\"195.7254079757292\" stroke=\"black\" />\n",
       "<line x1=\"2.5\" y1=\"80.4136463023902\" x2=\"247.5\" y2=\"169.5863536976098\" stroke=\"black\" />\n",
       "<line x1=\"2.5\" y1=\"103.399944863213\" x2=\"247.5\" y2=\"146.600055136787\" stroke=\"black\" />\n",
       "<line x1=\"2.5\" y1=\"125\" x2=\"247.5\" y2=\"125\" stroke=\"black\" />\n",
       "<line x1=\"2.5\" y1=\"146.600055136787\" x2=\"247.5\" y2=\"103.399944863213\" stroke=\"black\" />\n",
       "<line x1=\"2.5\" y1=\"169.5863536976098\" x2=\"247.5\" y2=\"80.4136463023902\" stroke=\"black\" />\n",
       "<line x1=\"2.5\" y1=\"195.7254079757292\" x2=\"247.5\" y2=\"54.2745920242708\" stroke=\"black\" />\n",
       "<line x1=\"2.5\" y1=\"227.7897048192168\" x2=\"247.5\" y2=\"22.2102951807832\" stroke=\"black\" />\n",
       "<line x1=\"22.2102951807832\" y1=\"247.5\" x2=\"227.7897048192168\" y2=\"2.5\" stroke=\"black\" />\n",
       "<line x1=\"54.2745920242708\" y1=\"247.5\" x2=\"195.7254079757292\" y2=\"2.5\" stroke=\"black\" />\n",
       "<line x1=\"80.4136463023902\" y1=\"247.5\" x2=\"169.5863536976098\" y2=\"2.5\" stroke=\"black\" />\n",
       "<line x1=\"103.399944863213\" y1=\"247.5\" x2=\"146.600055136787\" y2=\"2.5\" stroke=\"black\" />\n",
       "</g>\n",
       "<rect x=\"2.5\" y=\"2.5\" width=\"245\" height=\"245\" fill=\"none\" stroke=\"black\" />\n",
       "</g>\n",
       "</g>\n",
       "</svg>"
      ],
      "text/plain": [
       "g: "
      ]
     },
     "execution_count": 5,
     "metadata": {},
     "output_type": "execute_result"
    }
   ],
   "source": [
    "Box([Ray(th) for th in range(-90, 90, 10)]) + Rect()"
   ]
  },
  {
   "cell_type": "code",
   "execution_count": 6,
   "id": "6b494756",
   "metadata": {},
   "outputs": [
    {
     "data": {
      "image/svg+xml": [
       "<svg width=\"250\" height=\"56.5154476781024\" xmlns=\"http://www.w3.org/2000/svg\">\n",
       "<g>\n",
       "<g>\n",
       "<g>\n",
       "<text x=\"14.5442603245834\" y=\"44.8732654564133\" font-size=\"47.472976049606px\" stroke=\"black\" font-family=\"Montserrat\" font-weight=\"400\">Test</text>\n",
       "<rect x=\"2.5\" y=\"0.565154476781\" width=\"122.5\" height=\"55.3851387245403\" fill=\"none\" stroke=\"black\" />\n",
       "</g>\n",
       "<g>\n",
       "<text x=\"137.0442603245834\" y=\"44.8732654564133\" font-size=\"47.472976049606px\" stroke=\"black\" font-family=\"Montserrat\" font-weight=\"400\">Test</text>\n",
       "<rect x=\"125\" y=\"0.565154476781\" width=\"122.5\" height=\"55.3851387245403\" fill=\"none\" stroke=\"black\" />\n",
       "</g>\n",
       "</g>\n",
       "</g>\n",
       "</svg>"
      ],
      "text/plain": [
       "g: "
      ]
     },
     "execution_count": 6,
     "metadata": {},
     "output_type": "execute_result"
    }
   ],
   "source": [
    "t = Node('Test')\n",
    "t | t"
   ]
  },
  {
   "cell_type": "code",
   "execution_count": 7,
   "id": "a9776a86",
   "metadata": {},
   "outputs": [
    {
     "data": {
      "image/svg+xml": [
       "<svg width=\"173.4110245834581\" height=\"250\" xmlns=\"http://www.w3.org/2000/svg\">\n",
       "<g>\n",
       "<g>\n",
       "<g>\n",
       "<text x=\"35.0308560030774\" y=\"137.0318806213153\" font-size=\"144.141300665695px\" stroke=\"black\" font-family=\"Montserrat\" font-weight=\"400\">A</text>\n",
       "<rect x=\"1.7341102458346\" y=\"2.5\" width=\"169.9428040917889\" height=\"168.1648507766441\" fill=\"none\" stroke=\"black\" />\n",
       "</g>\n",
       "<g>\n",
       "<text x=\"18.4429704317218\" y=\"232.1329701553288\" font-size=\"65.8586993343051px\" stroke=\"black\" font-family=\"Montserrat\" font-weight=\"400\">Test</text>\n",
       "<rect x=\"1.7341102458346\" y=\"170.6648507766441\" width=\"169.9428040917889\" height=\"76.8351492233559\" fill=\"none\" stroke=\"black\" />\n",
       "</g>\n",
       "</g>\n",
       "</g>\n",
       "</svg>"
      ],
      "text/plain": [
       "g: "
      ]
     },
     "execution_count": 7,
     "metadata": {},
     "output_type": "execute_result"
    }
   ],
   "source": [
    "t1 = Node(text='A')\n",
    "t2 = Node(text='Test')\n",
    "t1 & t2"
   ]
  },
  {
   "cell_type": "markdown",
   "id": "9f6ed9ed",
   "metadata": {},
   "source": [
    "### Text Debug"
   ]
  },
  {
   "cell_type": "code",
   "execution_count": 8,
   "id": "dffc443c",
   "metadata": {},
   "outputs": [
    {
     "data": {
      "image/svg+xml": [
       "<svg width=\"250\" height=\"100\" xmlns=\"http://www.w3.org/2000/svg\">\n",
       "<g>\n",
       "<g>\n",
       "<text x=\"25.4115226337449\" y=\"80\" font-size=\"82.3045267489712px\" stroke=\"black\" font-family=\"Montserrat\" font-weight=\"400\">gum</text>\n",
       "<rect x=\"25.4115226337449\" y=\"20\" width=\"56.4609053497943\" height=\"60\" fill=\"none\" stroke=\"red\" />\n",
       "<rect x=\"81.8724279835391\" y=\"36.2962962962963\" width=\"55.3909465020576\" height=\"43.7037037037037\" fill=\"none\" stroke=\"red\" />\n",
       "<rect x=\"137.2633744855967\" y=\"36.3786008230453\" width=\"87.3251028806584\" height=\"43.6213991769547\" fill=\"none\" stroke=\"red\" />\n",
       "<rect x=\"25.4115226337449\" y=\"20\" width=\"199.1769547325103\" height=\"60\" fill=\"none\" stroke=\"blue\" stroke-dasharray=\"5 5\" />\n",
       "</g>\n",
       "</g>\n",
       "</svg>"
      ],
      "text/plain": [
       "svg: "
      ]
     },
     "execution_count": 8,
     "metadata": {},
     "output_type": "execute_result"
    }
   ],
   "source": [
    "text = TextDebug(text='gum')\n",
    "logo = Frame(text, padding=(0.1, 0.2))\n",
    "s = SVG(logo, size=(250, 100))\n",
    "s.save('gum.svg')\n",
    "s"
   ]
  },
  {
   "cell_type": "code",
   "execution_count": 9,
   "id": "ce1c68a6",
   "metadata": {
    "tags": []
   },
   "outputs": [
    {
     "data": {
      "image/svg+xml": [
       "<svg width=\"250\" height=\"49.1841291652353\" xmlns=\"http://www.w3.org/2000/svg\">\n",
       "<g>\n",
       "<g>\n",
       "<rect x=\"2.5\" y=\"0.4918412916524\" width=\"244.9999999999999\" height=\"48.2004465819306\" fill=\"none\" stroke=\"black\" stroke-width=\"1\" />\n",
       "<g>\n",
       "<text x=\"12.3000000000001\" y=\"39.0521985571968\" font-size=\"38.7152181380969px\" stroke=\"black\" font-family=\"Montserrat\" font-weight=\"400\">hello world!</text>\n",
       "<rect x=\"12.3\" y=\"10.325506698729\" width=\"26.2102026794916\" height=\"28.7266918584679\" fill=\"none\" stroke=\"red\" />\n",
       "<rect x=\"38.5102026794916\" y=\"18.339556853315\" width=\"23.3839917554105\" height=\"20.7126417038818\" fill=\"none\" stroke=\"red\" />\n",
       "<rect x=\"61.8941944349021\" y=\"10.325506698729\" width=\"10.4143936791481\" height=\"28.7266918584679\" fill=\"none\" stroke=\"red\" />\n",
       "<rect x=\"72.3085881140502\" y=\"10.325506698729\" width=\"10.414393679148\" height=\"28.7266918584679\" fill=\"none\" stroke=\"red\" />\n",
       "<rect x=\"82.7229817931982\" y=\"18.339556853315\" width=\"24.2744417725867\" height=\"20.7126417038818\" fill=\"none\" stroke=\"red\" />\n",
       "<rect x=\"106.997423565785\" y=\"39.0521985571968\" width=\"10.1433871521814\" height=\"0\" fill=\"none\" stroke=\"red\" />\n",
       "<rect x=\"117.1408107179664\" y=\"18.6879938165579\" width=\"34.0306767433871\" height=\"20.3642047406389\" fill=\"none\" stroke=\"red\" />\n",
       "<rect x=\"151.1714874613535\" y=\"18.339556853315\" width=\"24.2744417725867\" height=\"20.7126417038818\" fill=\"none\" stroke=\"red\" />\n",
       "<rect x=\"175.4459292339402\" y=\"18.5331329440055\" width=\"15.5248024733768\" height=\"20.5190656131913\" fill=\"none\" stroke=\"red\" />\n",
       "<rect x=\"190.970731707317\" y=\"10.325506698729\" width=\"10.414393679148\" height=\"28.7266918584679\" fill=\"none\" stroke=\"red\" />\n",
       "<rect x=\"201.3851253864651\" y=\"10.1319306080385\" width=\"26.2489178976297\" height=\"28.9202679491584\" fill=\"none\" stroke=\"red\" />\n",
       "<rect x=\"227.6340432840948\" y=\"11.7579697698385\" width=\"10.0659567159052\" height=\"27.2942287873583\" fill=\"none\" stroke=\"red\" />\n",
       "<rect x=\"12.3\" y=\"10.1319306080385\" width=\"225.3999999999999\" height=\"28.9202679491583\" fill=\"none\" stroke=\"blue\" stroke-dasharray=\"5 5\" />\n",
       "</g>\n",
       "</g>\n",
       "</g>\n",
       "</svg>"
      ],
      "text/plain": [
       "g: "
      ]
     },
     "execution_count": 9,
     "metadata": {},
     "output_type": "execute_result"
    }
   ],
   "source": [
    "hello = TextDebug(text='hello world!')\n",
    "s = Frame(hello, padding=(0.04, 0.2), border=1)\n",
    "s.save('test/hello.svg')\n",
    "s"
   ]
  },
  {
   "cell_type": "code",
   "execution_count": 10,
   "id": "587d1cd3",
   "metadata": {},
   "outputs": [
    {
     "data": {
      "image/svg+xml": [
       "<svg width=\"250\" height=\"58.9460784313726\" xmlns=\"http://www.w3.org/2000/svg\">\n",
       "<g>\n",
       "<g>\n",
       "<g>\n",
       "<g>\n",
       "<rect x=\"27\" y=\"6.3661764705882\" width=\"49\" height=\"46.2137254901961\" fill=\"none\" stroke=\"black\" stroke-width=\"1\" />\n",
       "<text x=\"27\" y=\"46.8031862745098\" font-size=\"49.1921568627451px\" stroke=\"black\" font-family=\"NotoColorEmoji\">🦊</text>\n",
       "</g>\n",
       "<g>\n",
       "<rect x=\"76\" y=\"6.3661764705882\" width=\"49\" height=\"46.2137254901961\" fill=\"none\" stroke=\"black\" stroke-width=\"1\" />\n",
       "<text x=\"76\" y=\"46.8031862745098\" font-size=\"49.1921568627451px\" stroke=\"black\" font-family=\"NotoColorEmoji\">🍄</text>\n",
       "</g>\n",
       "<g>\n",
       "<rect x=\"125\" y=\"6.3661764705882\" width=\"49\" height=\"46.2137254901961\" fill=\"none\" stroke=\"black\" stroke-width=\"1\" />\n",
       "<text x=\"125\" y=\"46.8031862745098\" font-size=\"49.1921568627451px\" stroke=\"black\" font-family=\"NotoColorEmoji\">🗻</text>\n",
       "</g>\n",
       "<g>\n",
       "<rect x=\"174\" y=\"6.3661764705882\" width=\"49\" height=\"46.2137254901961\" fill=\"none\" stroke=\"black\" stroke-width=\"1\" />\n",
       "<text x=\"174\" y=\"46.8031862745098\" font-size=\"49.1921568627451px\" stroke=\"black\" font-family=\"NotoColorEmoji\">⬜</text>\n",
       "</g>\n",
       "</g>\n",
       "</g>\n",
       "</g>\n",
       "</svg>"
      ],
      "text/plain": [
       "g: "
      ]
     },
     "execution_count": 10,
     "metadata": {},
     "output_type": "execute_result"
    }
   ],
   "source": [
    "squares = list('🦊🍄🗻⬜')\n",
    "squares = [Emoji(text=s) for s in squares]\n",
    "squares = [Frame(s, border=1) for s in squares]\n",
    "s = Frame(HStack(squares), margin=0.1)\n",
    "s.save('test/emoji.svg')\n",
    "s"
   ]
  },
  {
   "cell_type": "code",
   "execution_count": 11,
   "id": "dc3acbfe",
   "metadata": {},
   "outputs": [
    {
     "data": {
      "image/svg+xml": [
       "<svg width=\"250\" height=\"235.7843137254903\" xmlns=\"http://www.w3.org/2000/svg\">\n",
       "<g>\n",
       "<g>\n",
       "<text x=\"27\" y=\"187.2127450980392\" font-size=\"196.7686274509804px\" stroke=\"black\" font-family=\"NotoColorEmoji\">🍄</text>\n",
       "</g>\n",
       "</g>\n",
       "</svg>"
      ],
      "text/plain": [
       "g: "
      ]
     },
     "execution_count": 11,
     "metadata": {},
     "output_type": "execute_result"
    }
   ],
   "source": [
    "Frame(Emoji('🍄'), margin=0.1)"
   ]
  },
  {
   "cell_type": "markdown",
   "id": "976f8e4d",
   "metadata": {},
   "source": [
    "### Font Shaping"
   ]
  },
  {
   "cell_type": "code",
   "execution_count": 12,
   "id": "15adc985",
   "metadata": {},
   "outputs": [],
   "source": [
    "from gi.repository import HarfBuzz as hb\n",
    "from gi.repository import GLib\n",
    "from gum import fonts"
   ]
  },
  {
   "cell_type": "code",
   "execution_count": 13,
   "id": "e596863d",
   "metadata": {},
   "outputs": [
    {
     "name": "stdout",
     "output_type": "stream",
     "text": [
      "2555 2405\n",
      "0 1898\n",
      "0 0\n",
      "2550 0\n"
     ]
    }
   ],
   "source": [
    "font, infos, positions, extents = get_text_shape('🗻', font='Noto Emoji', debug=True)\n",
    "ext, pos = extents[0].extents, positions[0]\n",
    "print(ext.width, -ext.height)\n",
    "print(ext.x_bearing, ext.y_bearing)\n",
    "print(pos.x_offset, pos.y_offset)\n",
    "print(pos.x_advance, pos.y_advance)"
   ]
  },
  {
   "cell_type": "code",
   "execution_count": 14,
   "id": "a45f1f86-064e-43d6-8965-2c9d190fbba6",
   "metadata": {},
   "outputs": [
    {
     "data": {
      "text/plain": [
       "([(82, 0), (442, 1), (508, 2), (508, 3), (530, 4)],\n",
       " [(0.57, 0.7), (0.499, 0.53), (0.05, 0.742), (0.05, 0.742), (0.522, 0.53)],\n",
       " [(0.814, 0.0), (0.597, 0.0), (0.261, 0.0), (0.261, 0.0), (0.62, 0.0)],\n",
       " [(0.0, 0.0), (0.0, 0.0), (0.0, 0.0), (0.0, 0.0), (0.0, 0.0)])"
      ]
     },
     "execution_count": 14,
     "metadata": {},
     "output_type": "execute_result"
    }
   ],
   "source": [
    "get_text_shape('Hello', font='Montserrat', weight='Light')"
   ]
  },
  {
   "cell_type": "code",
   "execution_count": 15,
   "id": "c21bcdc4-6ce3-45c7-a5c1-3e695369a0ef",
   "metadata": {},
   "outputs": [
    {
     "data": {
      "image/svg+xml": [
       "<svg width=\"250\" height=\"71.8435321456236\" xmlns=\"http://www.w3.org/2000/svg\">\n",
       "<g>\n",
       "<text x=\"2.5\" y=\"71.1250968241673\" font-size=\"94.8876839659179px\" stroke=\"black\" font-family=\"Montserrat\" font-weight=\"400\">Hello</text>\n",
       "</g>\n",
       "</svg>"
      ],
      "text/plain": [
       "text: font-family=\"Montserrat\" font-weight=\"400\""
      ]
     },
     "execution_count": 15,
     "metadata": {},
     "output_type": "execute_result"
    }
   ],
   "source": [
    "Text('Hello', font_family='Montserrat', font_weight='Light')"
   ]
  },
  {
   "cell_type": "markdown",
   "id": "cd0bb0eb",
   "metadata": {},
   "source": [
    "### Layout"
   ]
  },
  {
   "cell_type": "code",
   "execution_count": 16,
   "id": "761e78bd",
   "metadata": {},
   "outputs": [],
   "source": [
    "na = Node(text='A', pad=0.2)\n",
    "nt = Node(text='Test', pad=0.2)\n",
    "b = Bullet()"
   ]
  },
  {
   "cell_type": "code",
   "execution_count": 17,
   "id": "a2e45e62",
   "metadata": {},
   "outputs": [
    {
     "data": {
      "image/svg+xml": [
       "<svg width=\"250\" height=\"250\" xmlns=\"http://www.w3.org/2000/svg\">\n",
       "<g>\n",
       "<g>\n",
       "<g>\n",
       "<ellipse cx=\"149.5\" cy=\"76\" rx=\"12.25\" ry=\"12.25\" fill=\"black\" stroke=\"black\" />\n",
       "</g>\n",
       "<rect x=\"2.5\" y=\"2.5\" width=\"245\" height=\"245\" fill=\"none\" stroke=\"black\" />\n",
       "</g>\n",
       "</g>\n",
       "</svg>"
      ],
      "text/plain": [
       "g: "
      ]
     },
     "execution_count": 17,
     "metadata": {},
     "output_type": "execute_result"
    }
   ],
   "source": [
    "Point(b, x=0.6, y=0.3, r=0.05) + Rect()"
   ]
  },
  {
   "cell_type": "code",
   "execution_count": 18,
   "id": "627c28a5",
   "metadata": {},
   "outputs": [
    {
     "data": {
      "image/svg+xml": [
       "<svg width=\"250\" height=\"250\" xmlns=\"http://www.w3.org/2000/svg\">\n",
       "<g>\n",
       "<g>\n",
       "<g>\n",
       "<ellipse cx=\"149.5\" cy=\"76\" rx=\"12.25\" ry=\"12.25\" fill=\"black\" stroke=\"black\" />\n",
       "<g pad=\"0.2\">\n",
       "<text x=\"46.2010547410254\" y=\"203.0924151761258\" font-size=\"83.1211862175023px\" stroke=\"black\" font-family=\"Montserrat\" font-weight=\"400\">A</text>\n",
       "<rect x=\"27\" y=\"125.5126413731236\" width=\"98\" height=\"96.9747172537527\" fill=\"none\" stroke=\"black\" />\n",
       "</g>\n",
       "</g>\n",
       "<rect x=\"2.5\" y=\"2.5\" width=\"245\" height=\"245\" fill=\"none\" stroke=\"black\" />\n",
       "</g>\n",
       "</g>\n",
       "</svg>"
      ],
      "text/plain": [
       "g: "
      ]
     },
     "execution_count": 18,
     "metadata": {},
     "output_type": "execute_result"
    }
   ],
   "source": [
    "Scatter({\n",
    "    b: (0.6, 0.3, 0.05),\n",
    "    na: (0.3, 0.7, 0.2)\n",
    "}) + Rect()"
   ]
  },
  {
   "cell_type": "code",
   "execution_count": 19,
   "id": "b64ddb13",
   "metadata": {},
   "outputs": [
    {
     "data": {
      "image/svg+xml": [
       "<svg width=\"250\" height=\"77.5829536764353\" xmlns=\"http://www.w3.org/2000/svg\">\n",
       "<g>\n",
       "<g>\n",
       "<g pad=\"0.2\">\n",
       "<text x=\"17.5542439415563\" y=\"61.6008652190896\" font-size=\"65.1696810882056px\" stroke=\"black\" font-family=\"Montserrat\" font-weight=\"400\">A</text>\n",
       "<rect x=\"2.5\" y=\"0.7758295367644\" width=\"76.835149223356\" height=\"76.0312946029065\" fill=\"none\" stroke=\"black\" />\n",
       "</g>\n",
       "<g pad=\"0.2\">\n",
       "<text x=\"95.8692001637529\" y=\"61.6008652190896\" font-size=\"65.1696810882056px\" stroke=\"black\" font-family=\"Montserrat\" font-weight=\"400\">Test</text>\n",
       "<rect x=\"79.335149223356\" y=\"0.7758295367644\" width=\"168.164850776644\" height=\"76.0312946029065\" fill=\"none\" stroke=\"black\" />\n",
       "</g>\n",
       "</g>\n",
       "</g>\n",
       "</svg>"
      ],
      "text/plain": [
       "g: "
      ]
     },
     "execution_count": 19,
     "metadata": {},
     "output_type": "execute_result"
    }
   ],
   "source": [
    "na | nt"
   ]
  },
  {
   "cell_type": "code",
   "execution_count": 20,
   "id": "d3a6f7cb",
   "metadata": {},
   "outputs": [
    {
     "data": {
      "image/svg+xml": [
       "<svg width=\"250\" height=\"138.9246676773523\" xmlns=\"http://www.w3.org/2000/svg\">\n",
       "<g>\n",
       "<g>\n",
       "<g>\n",
       "<g pad=\"0.2\">\n",
       "<text x=\"21.002957356249\" y=\"76.1484339060753\" font-size=\"80.0991291742519px\" stroke=\"black\" font-family=\"Montserrat\" font-weight=\"400\">A</text>\n",
       "<rect x=\"2.5\" y=\"1.3892466767735\" width=\"94.4369903304366\" height=\"93.4489840366272\" fill=\"none\" stroke=\"black\" />\n",
       "</g>\n",
       "<g pad=\"0.2\">\n",
       "<text x=\"11.7850913943669\" y=\"128.9959829431432\" font-size=\"36.597591674724px\" stroke=\"black\" font-family=\"Montserrat\" font-weight=\"400\">Test</text>\n",
       "<rect x=\"2.5\" y=\"94.8382307134008\" width=\"94.4369903304366\" height=\"42.697190287178\" fill=\"none\" stroke=\"black\" />\n",
       "</g>\n",
       "</g>\n",
       "<g>\n",
       "<g pad=\"0.2\">\n",
       "<text x=\"151.3006079530394\" y=\"55.8477164062956\" font-size=\"58.348360424488px\" stroke=\"black\" font-family=\"Montserrat\" font-weight=\"400\">A</text>\n",
       "<rect x=\"137.8220940681669\" y=\"1.3892466767735\" width=\"68.7928021941028\" height=\"68.0730871619026\" fill=\"none\" stroke=\"black\" />\n",
       "</g>\n",
       "<g pad=\"0.2\">\n",
       "<text x=\"111.7404195852365\" y=\"123.9208035681982\" font-size=\"58.348360424488px\" stroke=\"black\" font-family=\"Montserrat\" font-weight=\"400\">Test</text>\n",
       "<rect x=\"96.9369903304366\" y=\"69.4623338386761\" width=\"150.5630096695634\" height=\"68.0730871619026\" fill=\"none\" stroke=\"black\" />\n",
       "</g>\n",
       "</g>\n",
       "</g>\n",
       "</g>\n",
       "</svg>"
      ],
      "text/plain": [
       "g: "
      ]
     },
     "execution_count": 20,
     "metadata": {},
     "output_type": "execute_result"
    }
   ],
   "source": [
    "(na & nt) | (na * nt)"
   ]
  },
  {
   "cell_type": "code",
   "execution_count": 21,
   "id": "b63174db",
   "metadata": {},
   "outputs": [
    {
     "data": {
      "image/svg+xml": [
       "<svg width=\"250\" height=\"201.2751950715279\" xmlns=\"http://www.w3.org/2000/svg\">\n",
       "<g>\n",
       "<g>\n",
       "<g>\n",
       "<g pad=\"0.2\">\n",
       "<text x=\"17.5542439415563\" y=\"62.8377876330405\" font-size=\"65.1696810882056px\" stroke=\"black\" font-family=\"Montserrat\" font-weight=\"400\">A</text>\n",
       "<rect x=\"2.5\" y=\"2.0127519507153\" width=\"76.8351492233559\" height=\"76.0312946029065\" fill=\"none\" stroke=\"black\" />\n",
       "</g>\n",
       "<g pad=\"0.2\">\n",
       "<text x=\"95.8692001637529\" y=\"62.8377876330405\" font-size=\"65.1696810882056px\" stroke=\"black\" font-family=\"Montserrat\" font-weight=\"400\">Test</text>\n",
       "<rect x=\"79.335149223356\" y=\"2.0127519507153\" width=\"168.164850776644\" height=\"76.0312946029065\" fill=\"none\" stroke=\"black\" />\n",
       "</g>\n",
       "</g>\n",
       "<g>\n",
       "<g pad=\"0.2\">\n",
       "<text x=\"26.5013184262818\" y=\"175.0187638073745\" font-size=\"103.9014827718779px\" stroke=\"black\" font-family=\"Montserrat\" font-weight=\"400\">A</text>\n",
       "<rect x=\"2.5\" y=\"78.0440465536218\" width=\"122.5\" height=\"121.2183965671908\" fill=\"none\" stroke=\"black\" />\n",
       "</g>\n",
       "<g pad=\"0.2\">\n",
       "<text x=\"137.0442603245834\" y=\"155.2687864545793\" font-size=\"47.472976049606px\" stroke=\"black\" font-family=\"Montserrat\" font-weight=\"400\">Test</text>\n",
       "<rect x=\"125\" y=\"110.9606754749471\" width=\"122.5\" height=\"55.3851387245403\" fill=\"none\" stroke=\"black\" />\n",
       "</g>\n",
       "</g>\n",
       "</g>\n",
       "</g>\n",
       "</svg>"
      ],
      "text/plain": [
       "g: "
      ]
     },
     "execution_count": 21,
     "metadata": {},
     "output_type": "execute_result"
    }
   ],
   "source": [
    "(na | nt) & (na ^ nt)"
   ]
  },
  {
   "cell_type": "markdown",
   "id": "5519be4d",
   "metadata": {},
   "source": [
    "### Plots"
   ]
  },
  {
   "cell_type": "code",
   "execution_count": 22,
   "id": "9814de67",
   "metadata": {},
   "outputs": [],
   "source": [
    "ticks = {0.15: 'hello', 0.35: '0.3', 0.5: 'abc', 0.8: 'world'}"
   ]
  },
  {
   "cell_type": "code",
   "execution_count": 23,
   "id": "5cede8f2",
   "metadata": {},
   "outputs": [
    {
     "data": {
      "image/svg+xml": [
       "<svg width=\"250\" height=\"213.7894174238375\" xmlns=\"http://www.w3.org/2000/svg\">\n",
       "<g>\n",
       "<g>\n",
       "<line x1=\"125\" y1=\"2.1378941742384\" x2=\"125\" y2=\"85.9433458043827\" stroke=\"black\" stroke-width=\"1\" />\n",
       "<text x=\"2.5\" y=\"211.6515232495991\" font-size=\"130.9460181721005px\" stroke=\"black\" font-family=\"Montserrat\" font-weight=\"200\">test</text>\n",
       "</g>\n",
       "</g>\n",
       "</svg>"
      ],
      "text/plain": [
       "g: "
      ]
     },
     "execution_count": 23,
     "metadata": {},
     "output_type": "execute_result"
    }
   ],
   "source": [
    "VTick('test')"
   ]
  },
  {
   "cell_type": "code",
   "execution_count": 24,
   "id": "1d5b6914",
   "metadata": {},
   "outputs": [
    {
     "data": {
      "image/svg+xml": [
       "<svg width=\"250\" height=\"31.25\" xmlns=\"http://www.w3.org/2000/svg\">\n",
       "<g>\n",
       "<g>\n",
       "<g>\n",
       "<line x1=\"39.25\" y1=\"0.3125\" x2=\"39.25\" y2=\"12.5625\" stroke=\"black\" stroke-width=\"1\" />\n",
       "<text x=\"19.3396226415094\" y=\"30.9375\" font-size=\"16.5094339622642px\" stroke=\"black\" font-family=\"Montserrat\" font-weight=\"200\">hello</text>\n",
       "</g>\n",
       "<g>\n",
       "<line x1=\"88.25\" y1=\"0.3125\" x2=\"88.25\" y2=\"12.5625\" stroke=\"black\" stroke-width=\"1\" />\n",
       "<text x=\"76.0345070422535\" y=\"30.9375\" font-size=\"17.2535211267606px\" stroke=\"black\" font-family=\"Montserrat\" font-weight=\"200\">0.3</text>\n",
       "</g>\n",
       "<g>\n",
       "<line x1=\"125\" y1=\"0.3125\" x2=\"125\" y2=\"12.5625\" stroke=\"black\" stroke-width=\"1\" />\n",
       "<text x=\"110.1144436997319\" y=\"30.9375\" font-size=\"16.4209115281501px\" stroke=\"black\" font-family=\"Montserrat\" font-weight=\"200\">abc</text>\n",
       "</g>\n",
       "<g>\n",
       "<line x1=\"198.5\" y1=\"0.3125\" x2=\"198.5\" y2=\"12.5625\" stroke=\"black\" stroke-width=\"1\" />\n",
       "<text x=\"175.4121983914209\" y=\"30.9375\" font-size=\"16.4209115281501px\" stroke=\"black\" font-family=\"Montserrat\" font-weight=\"200\">world</text>\n",
       "</g>\n",
       "</g>\n",
       "</g>\n",
       "</svg>"
      ],
      "text/plain": [
       "g: "
      ]
     },
     "execution_count": 24,
     "metadata": {},
     "output_type": "execute_result"
    }
   ],
   "source": [
    "HScale(ticks)"
   ]
  },
  {
   "cell_type": "code",
   "execution_count": 25,
   "id": "c8c6ea8a",
   "metadata": {},
   "outputs": [
    {
     "data": {
      "image/svg+xml": [
       "<svg width=\"250\" height=\"31.25\" xmlns=\"http://www.w3.org/2000/svg\">\n",
       "<g>\n",
       "<g>\n",
       "<g>\n",
       "<g>\n",
       "<line x1=\"39.25\" y1=\"0.3125\" x2=\"39.25\" y2=\"12.5625\" stroke=\"black\" stroke-width=\"1\" />\n",
       "<text x=\"19.3396226415094\" y=\"30.9375\" font-size=\"16.5094339622642px\" stroke=\"black\" font-family=\"Montserrat\" font-weight=\"200\">hello</text>\n",
       "</g>\n",
       "<g>\n",
       "<line x1=\"88.25\" y1=\"0.3125\" x2=\"88.25\" y2=\"12.5625\" stroke=\"black\" stroke-width=\"1\" />\n",
       "<text x=\"76.0345070422535\" y=\"30.9375\" font-size=\"17.2535211267606px\" stroke=\"black\" font-family=\"Montserrat\" font-weight=\"200\">0.3</text>\n",
       "</g>\n",
       "<g>\n",
       "<line x1=\"125\" y1=\"0.3125\" x2=\"125\" y2=\"12.5625\" stroke=\"black\" stroke-width=\"1\" />\n",
       "<text x=\"110.1144436997319\" y=\"30.9375\" font-size=\"16.4209115281501px\" stroke=\"black\" font-family=\"Montserrat\" font-weight=\"200\">abc</text>\n",
       "</g>\n",
       "<g>\n",
       "<line x1=\"198.5\" y1=\"0.3125\" x2=\"198.5\" y2=\"12.5625\" stroke=\"black\" stroke-width=\"1\" />\n",
       "<text x=\"175.4121983914209\" y=\"30.9375\" font-size=\"16.4209115281501px\" stroke=\"black\" font-family=\"Montserrat\" font-weight=\"200\">world</text>\n",
       "</g>\n",
       "</g>\n",
       "<line x1=\"2.5\" y1=\"6.4375\" x2=\"247.5\" y2=\"6.4375\" stroke=\"black\" />\n",
       "</g>\n",
       "</g>\n",
       "</svg>"
      ],
      "text/plain": [
       "g: "
      ]
     },
     "execution_count": 25,
     "metadata": {},
     "output_type": "execute_result"
    }
   ],
   "source": [
    "HAxis(ticks)"
   ]
  },
  {
   "cell_type": "code",
   "execution_count": 26,
   "id": "eb6eccd6",
   "metadata": {},
   "outputs": [
    {
     "data": {
      "image/svg+xml": [
       "<svg width=\"250\" height=\"125\" xmlns=\"http://www.w3.org/2000/svg\">\n",
       "<g>\n",
       "<g>\n",
       "<g>\n",
       "<g>\n",
       "<g>\n",
       "<line x1=\"70.1365501980135\" y1=\"105.3066326338787\" x2=\"70.1365501980135\" y2=\"112.6839795803272\" stroke=\"black\" stroke-width=\"1\" />\n",
       "<text x=\"58.1458757810096\" y=\"123.75\" font-size=\"9.9425161003349px\" stroke=\"black\" font-family=\"Montserrat\" font-weight=\"200\">hello</text>\n",
       "</g>\n",
       "<g>\n",
       "<line x1=\"111.8691266220103\" y1=\"105.3066326338787\" x2=\"111.8691266220103\" y2=\"112.6839795803272\" stroke=\"black\" stroke-width=\"1\" />\n",
       "<text x=\"104.5125609345659\" y=\"123.75\" font-size=\"10.3906295020401px\" stroke=\"black\" font-family=\"Montserrat\" font-weight=\"200\">0.3</text>\n",
       "</g>\n",
       "<g>\n",
       "<line x1=\"143.1685589400079\" y1=\"105.3066326338787\" x2=\"143.1685589400079\" y2=\"112.6839795803272\" stroke=\"black\" stroke-width=\"1\" />\n",
       "<text x=\"134.2039945875206\" y=\"123.75\" font-size=\"9.8892050220489px\" stroke=\"black\" font-family=\"Montserrat\" font-weight=\"200\">abc</text>\n",
       "</g>\n",
       "<g>\n",
       "<line x1=\"205.7674235760032\" y1=\"105.3066326338787\" x2=\"205.7674235760032\" y2=\"112.6839795803272\" stroke=\"black\" stroke-width=\"1\" />\n",
       "<text x=\"191.8632013150024\" y=\"123.75\" font-size=\"9.8892050220489px\" stroke=\"black\" font-family=\"Montserrat\" font-weight=\"200\">world</text>\n",
       "</g>\n",
       "</g>\n",
       "<line x1=\"38.8371178800158\" y1=\"108.995306107103\" x2=\"247.5\" y2=\"108.995306107103\" stroke=\"black\" />\n",
       "</g>\n",
       "<g>\n",
       "<g>\n",
       "<g>\n",
       "<text x=\"6.4523234052423\" y=\"96.6428820205052\" font-size=\"10.2678485969478px\" stroke=\"black\" font-family=\"Montserrat\" font-weight=\"200\">hello</text>\n",
       "<line x1=\"35.0277460505481\" y1=\"92.8335101910376\" x2=\"42.6464897094834\" y2=\"92.8335101910376\" stroke=\"black\" stroke-width=\"1\" />\n",
       "</g>\n",
       "<g>\n",
       "<text x=\"16.0238094026969\" y=\"75.0938207990846\" font-size=\"10.7306248717398px\" stroke=\"black\" font-family=\"Montserrat\" font-weight=\"200\">0.3</text>\n",
       "<line x1=\"35.0277460505481\" y1=\"71.284448969617\" x2=\"42.6464897094834\" y2=\"71.284448969617\" stroke=\"black\" stroke-width=\"1\" />\n",
       "</g>\n",
       "<g>\n",
       "<text x=\"12.7025803153839\" y=\"58.9320248830191\" font-size=\"10.2127931084923px\" stroke=\"black\" font-family=\"Montserrat\" font-weight=\"200\">abc</text>\n",
       "<line x1=\"35.0277460505481\" y1=\"55.1226530535515\" x2=\"42.6464897094834\" y2=\"55.1226530535515\" stroke=\"black\" stroke-width=\"1\" />\n",
       "</g>\n",
       "<g>\n",
       "<text x=\"2.5\" y=\"26.6084330508883\" font-size=\"10.2127931084923px\" stroke=\"black\" font-family=\"Montserrat\" font-weight=\"200\">world</text>\n",
       "<line x1=\"35.0277460505481\" y1=\"22.7990612214206\" x2=\"42.6464897094834\" y2=\"22.7990612214206\" stroke=\"black\" stroke-width=\"1\" />\n",
       "</g>\n",
       "</g>\n",
       "<line x1=\"38.8371178800158\" y1=\"1.25\" x2=\"38.8371178800158\" y2=\"108.995306107103\" stroke=\"black\" />\n",
       "</g>\n",
       "</g>\n",
       "</g>\n",
       "</svg>"
      ],
      "text/plain": [
       "g: "
      ]
     },
     "execution_count": 26,
     "metadata": {},
     "output_type": "execute_result"
    }
   ],
   "source": [
    "Axes(xticks=ticks, yticks=ticks, aspect=2)"
   ]
  },
  {
   "cell_type": "code",
   "execution_count": 27,
   "id": "c9a2c706",
   "metadata": {},
   "outputs": [
    {
     "data": {
      "image/svg+xml": [
       "<svg width=\"250\" height=\"166.6666666666666\" xmlns=\"http://www.w3.org/2000/svg\">\n",
       "<g>\n",
       "<g xaxis-tick-text-scale=\"1.5\">\n",
       "<g>\n",
       "<g>\n",
       "<g>\n",
       "<line x1=\"41.9269667018808\" y1=\"137.0250535301907\" x2=\"41.9269667018808\" y2=\"146.3500356867938\" stroke=\"black\" stroke-width=\"1\" />\n",
       "<text x=\"34.5115702883659\" y=\"163.2515658456369\" font-size=\"14.8889527989006px\" stroke=\"black\" font-family=\"NotoColorEmoji\">🍄</text>\n",
       "</g>\n",
       "<g>\n",
       "<line x1=\"87.6098629903518\" y1=\"137.0250535301907\" x2=\"87.6098629903518\" y2=\"146.3500356867938\" stroke=\"black\" stroke-width=\"1\" />\n",
       "<text x=\"80.1944665768368\" y=\"163.2515658456369\" font-size=\"14.8889527989006px\" stroke=\"black\" font-family=\"NotoColorEmoji\">🍩</text>\n",
       "</g>\n",
       "<g>\n",
       "<line x1=\"133.2927592788227\" y1=\"137.0250535301907\" x2=\"133.2927592788227\" y2=\"146.3500356867938\" stroke=\"black\" stroke-width=\"1\" />\n",
       "<text x=\"125.8773628653077\" y=\"163.2515658456369\" font-size=\"14.8889527989006px\" stroke=\"black\" font-family=\"NotoColorEmoji\">🚀</text>\n",
       "</g>\n",
       "<g>\n",
       "<line x1=\"178.9756555672936\" y1=\"137.0250535301907\" x2=\"178.9756555672936\" y2=\"146.3500356867938\" stroke=\"black\" stroke-width=\"1\" />\n",
       "<text x=\"171.5602591537786\" y=\"163.2515658456369\" font-size=\"14.8889527989006px\" stroke=\"black\" font-family=\"NotoColorEmoji\">🦊</text>\n",
       "</g>\n",
       "<g>\n",
       "<line x1=\"224.6585518557645\" y1=\"137.0250535301907\" x2=\"224.6585518557645\" y2=\"146.3500356867938\" stroke=\"black\" stroke-width=\"1\" />\n",
       "<text x=\"217.2431554422496\" y=\"163.2515658456369\" font-size=\"14.8889527989006px\" stroke=\"black\" font-family=\"NotoColorEmoji\">🐋</text>\n",
       "</g>\n",
       "</g>\n",
       "<line x1=\"19.0855185576454\" y1=\"141.6875446084922\" x2=\"247.5\" y2=\"141.6875446084922\" stroke=\"black\" />\n",
       "</g>\n",
       "<g>\n",
       "<g>\n",
       "<g>\n",
       "<text x=\"6.1870318211605\" y=\"131.9727031179846\" font-size=\"12.249275153357px\" stroke=\"black\" font-family=\"Montserrat\" font-weight=\"200\">1</text>\n",
       "<line x1=\"14.7982722539705\" y1=\"127.6854568143097\" x2=\"23.3727648613204\" y2=\"127.6854568143097\" stroke=\"black\" stroke-width=\"1\" />\n",
       "</g>\n",
       "<g>\n",
       "<text x=\"3.6635942652771\" y=\"103.9685275296195\" font-size=\"12.1624008614892px\" stroke=\"black\" font-family=\"Montserrat\" font-weight=\"200\">2</text>\n",
       "<line x1=\"14.7982722539705\" y1=\"99.6812812259446\" x2=\"23.3727648613204\" y2=\"99.6812812259446\" stroke=\"black\" stroke-width=\"1\" />\n",
       "</g>\n",
       "<g>\n",
       "<text x=\"3.7244062695845\" y=\"75.9643519412544\" font-size=\"12.1624008614893px\" stroke=\"black\" font-family=\"Montserrat\" font-weight=\"200\">3</text>\n",
       "<line x1=\"14.7982722539705\" y1=\"71.6771056375794\" x2=\"23.3727648613204\" y2=\"71.6771056375794\" stroke=\"black\" stroke-width=\"1\" />\n",
       "</g>\n",
       "<g>\n",
       "<text x=\"2.5\" y=\"47.9601763528893\" font-size=\"12.249275153357px\" stroke=\"black\" font-family=\"Montserrat\" font-weight=\"200\">4</text>\n",
       "<line x1=\"14.7982722539705\" y1=\"43.6729300492143\" x2=\"23.3727648613204\" y2=\"43.6729300492143\" stroke=\"black\" stroke-width=\"1\" />\n",
       "</g>\n",
       "<g>\n",
       "<text x=\"3.7244062695845\" y=\"19.9560007645242\" font-size=\"12.1624008614893px\" stroke=\"black\" font-family=\"Montserrat\" font-weight=\"200\">5</text>\n",
       "<line x1=\"14.7982722539705\" y1=\"15.6687544608492\" x2=\"23.3727648613204\" y2=\"15.6687544608492\" stroke=\"black\" stroke-width=\"1\" />\n",
       "</g>\n",
       "</g>\n",
       "<line x1=\"19.0855185576455\" y1=\"1.6666666666667\" x2=\"19.0855185576455\" y2=\"141.6875446084922\" stroke=\"black\" />\n",
       "</g>\n",
       "</g>\n",
       "</g>\n",
       "</svg>"
      ],
      "text/plain": [
       "g: xaxis-tick-text-scale=\"1.5\""
      ]
     },
     "execution_count": 27,
     "metadata": {},
     "output_type": "execute_result"
    }
   ],
   "source": [
    "Axes(\n",
    "    xticks={0.1: Emoji('🍄'), 0.3: Emoji('🍩'), 0.5: Emoji('🚀'), 0.7: Emoji('🦊'), 0.9: Emoji('🐋')},\n",
    "    yticks={0.1: '1', 0.3: '2', 0.5: '3', 0.7: '4', 0.9: '5'},\n",
    "    aspect=1.5, xaxis_tick_text_scale=1.5\n",
    ")"
   ]
  },
  {
   "cell_type": "code",
   "execution_count": 28,
   "id": "f40399d2",
   "metadata": {},
   "outputs": [
    {
     "data": {
      "image/svg+xml": [
       "<svg width=\"250\" height=\"125\" xmlns=\"http://www.w3.org/2000/svg\">\n",
       "<g>\n",
       "<g>\n",
       "<g>\n",
       "<polyline points=\"45.26746304760478,55.783102990696875 47.186478572376444,52.71248485004021 49.10549409714812,49.65423100488043 51.02450962191978,46.62065596406036 52.94352514669146,43.62397486358796 54.86254067146312,40.67625428059493 56.78155619623479,37.78936364548936 58.70057172100646,34.97492744794876 60.61958724577813,32.244278429202915 62.5386027705498,29.60841194908475 64.45761829532147,27.077941711597056 66.37663382009313,24.66305702727249 68.29564934486481,22.373481784416317 70.21466486963648,20.21843529444022 72.13368039440815,18.2065951689491 74.05269591917981,16.346062378061866 75.97171144395148,14.644328630663974 77.89072696872314,13.108246207939864 79.80974249349481,11.744000371655137 81.72875801826649,10.557084458290436 83.64777354303816,9.552277759314304 85.56678906780982,8.733626276663262 87.48580459258149,8.10442643092 89.40482011735315,7.667211787791166 91.32383564212483,7.423742856332452 93.2428511668965,7.375 95.16186669166817,7.521179489072777 97.08088221643985,7.861692710341429 98.99989774121151,8.395168537245915 100.91891326598318,9.119458850918273 102.83792879075484,10.03164718989909 104.75694431552651,11.12806049369848 106.67595984029819,12.404283892914288 108.59497536506986,13.855178486352976 110.51399088984151,15.47490203357095 112.43300641461319,17.25693247951493 114.35202193938485,19.194094216535603 116.27103746415652,21.278586978027192 118.1900529889282,23.502017247347855 120.10906851369987,25.855432055548945 122.02808403847153,28.329355031820885 123.94709956324321,30.913824561493964 125.86611508801487,33.598433897944574 127.78513061278655,36.372373066890994 129.7041461375582,39.22447239434439 131.6231616623299,42.14324748294382 133.54217718710154,45.11694545557094 135.4611927118732,48.13359228003821 137.38020823664488,51.181040984290156 139.29922376141656,54.24702056797277 141.21823928618824,57.319185413420996 143.1372548109599,60.38516499710361 145.05627033573157,63.43261370135555 146.97528586050322,66.4492605258228 148.8943013852749,69.42295849844993 150.81331691004658,72.34173358704935 152.73233243481826,75.19383291450276 154.6513479595899,77.96777208344918 156.57036348436156,80.65238141989978 158.48937900913324,83.23685094957287 160.40839453390493,85.7107739258448 162.32741005867655,88.06418873404589 164.24642558344823,90.28761900336657 166.1654411082199,92.37211176485815 168.0844566329916,94.30927350187883 170.00347215776327,96.0913039478228 171.92248768253495,97.7110274950408 173.84150320730657,99.16192208847947 175.76051873207825,100.43814548769527 177.67953425684993,101.53455879149466 179.5985497816216,102.44674713047549 181.5175653063933,103.17103744414783 183.43658083116492,103.70451327105232 185.3555963559366,104.04502649232097 187.27461188070828,104.19120598139375 189.19362740547996,104.1424631250613 191.11264293025164,103.89899419360259 193.03165845502326,103.46177955047376 194.95067397979494,102.83257970473049 196.86968950456662,102.01392822207946 198.7887050293383,101.00912152310332 200.70772055410998,99.8222056097386 202.62673607888166,98.45795977345388 204.5457516036533,96.92187735072979 206.46476712842497,95.22014360333189 208.38378265319665,93.35961081244463 210.30279817796833,91.34777068695352 212.22181370273995,89.19272419697744 214.14082922751163,86.90314895412128 216.0598447522833,84.4882642697967 217.978860277055,81.95779403230898 219.89787580182661,79.32192755219084 221.8168913265983,76.59127853344499 223.73590685136998,73.77684233590438 225.65492237614166,70.88995170079882 227.57393790091328,67.9422311178058 229.49295342568502,64.94555001733337 231.41196895045664,61.91197497651331 233.33098447522832,58.853721131353545 235.25,55.78310299069689\" fill=\"none\" stroke=\"black\" />\n",
       "<g>\n",
       "<g>\n",
       "<g>\n",
       "<g>\n",
       "<line x1=\"45.2674630476048\" y1=\"100.8327574767422\" x2=\"45.2674630476048\" y2=\"107.5496544860453\" stroke=\"black\" stroke-width=\"1\" />\n",
       "<text x=\"34.9839883305449\" y=\"117.625\" font-size=\"9.4604183229621px\" stroke=\"black\" font-family=\"Montserrat\" font-weight=\"200\">0.00</text>\n",
       "</g>\n",
       "<g>\n",
       "<line x1=\"92.7630972857036\" y1=\"100.8327574767422\" x2=\"92.7630972857036\" y2=\"107.5496544860453\" stroke=\"black\" stroke-width=\"1\" />\n",
       "<text x=\"84.7028208745398\" y=\"117.625\" font-size=\"9.5275134883732px\" stroke=\"black\" font-family=\"Montserrat\" font-weight=\"200\">1.57</text>\n",
       "</g>\n",
       "<g>\n",
       "<line x1=\"140.2587315238024\" y1=\"100.8327574767422\" x2=\"140.2587315238024\" y2=\"107.5496544860453\" stroke=\"black\" stroke-width=\"1\" />\n",
       "<text x=\"131.850700870313\" y=\"117.625\" font-size=\"9.5275134883732px\" stroke=\"black\" font-family=\"Montserrat\" font-weight=\"200\">3.14</text>\n",
       "</g>\n",
       "<g>\n",
       "<line x1=\"187.7543657619012\" y1=\"100.8327574767422\" x2=\"187.7543657619012\" y2=\"107.5496544860453\" stroke=\"black\" stroke-width=\"1\" />\n",
       "<text x=\"179.1759287243055\" y=\"117.625\" font-size=\"9.5955671561473px\" stroke=\"black\" font-family=\"Montserrat\" font-weight=\"200\">4.71</text>\n",
       "</g>\n",
       "<g>\n",
       "<line x1=\"235.25\" y1=\"100.8327574767422\" x2=\"235.25\" y2=\"107.5496544860453\" stroke=\"black\" stroke-width=\"1\" />\n",
       "<text x=\"225.8037723045223\" y=\"117.625\" font-size=\"9.4604183229621px\" stroke=\"black\" font-family=\"Montserrat\" font-weight=\"200\">6.28</text>\n",
       "</g>\n",
       "</g>\n",
       "<line x1=\"45.2674630476048\" y1=\"104.1912059813938\" x2=\"235.25\" y2=\"104.1912059813938\" stroke=\"black\" />\n",
       "</g>\n",
       "<g>\n",
       "<g>\n",
       "<g>\n",
       "<text x=\"16.7266445259902\" y=\"107.6141757703036\" font-size=\"9.6421684194644px\" stroke=\"black\" font-family=\"Montserrat\" font-weight=\"200\">-1.00</text>\n",
       "<line x1=\"41.8444932586949\" y1=\"104.1912059813938\" x2=\"48.6904328365146\" y2=\"104.1912059813938\" stroke=\"black\" stroke-width=\"1\" />\n",
       "</g>\n",
       "<g>\n",
       "<text x=\"14.75\" y=\"83.4101242749552\" font-size=\"9.6421684194644px\" stroke=\"black\" font-family=\"Montserrat\" font-weight=\"200\">-0.50</text>\n",
       "<line x1=\"41.8444932586949\" y1=\"79.9871544860453\" x2=\"48.6904328365146\" y2=\"79.9871544860453\" stroke=\"black\" stroke-width=\"1\" />\n",
       "</g>\n",
       "<g>\n",
       "<text x=\"17.4594493258695\" y=\"59.2060727796067\" font-size=\"9.6421684194644px\" stroke=\"black\" font-family=\"Montserrat\" font-weight=\"200\">0.00</text>\n",
       "<line x1=\"41.8444932586949\" y1=\"55.7831029906969\" x2=\"48.6904328365146\" y2=\"55.7831029906969\" stroke=\"black\" stroke-width=\"1\" />\n",
       "</g>\n",
       "<g>\n",
       "<text x=\"18.4236661678159\" y=\"35.0020212842583\" font-size=\"9.6421684194644px\" stroke=\"black\" font-family=\"Montserrat\" font-weight=\"200\">0.50</text>\n",
       "<line x1=\"41.8444932586949\" y1=\"31.5790514953484\" x2=\"48.6904328365146\" y2=\"31.5790514953484\" stroke=\"black\" stroke-width=\"1\" />\n",
       "</g>\n",
       "<g>\n",
       "<text x=\"20.4003106938061\" y=\"10.7979697889099\" font-size=\"9.6421684194644px\" stroke=\"black\" font-family=\"Montserrat\" font-weight=\"200\">1.00</text>\n",
       "<line x1=\"41.8444932586949\" y1=\"7.375\" x2=\"48.6904328365146\" y2=\"7.375\" stroke=\"black\" stroke-width=\"1\" />\n",
       "</g>\n",
       "</g>\n",
       "<line x1=\"45.2674630476048\" y1=\"7.375\" x2=\"45.2674630476048\" y2=\"104.1912059813938\" stroke=\"black\" />\n",
       "</g>\n",
       "</g>\n",
       "</g>\n",
       "</g>\n",
       "</g>\n",
       "</svg>"
      ],
      "text/plain": [
       "g: "
      ]
     },
     "execution_count": 28,
     "metadata": {},
     "output_type": "execute_result"
    }
   ],
   "source": [
    "path = SymPath(np.sin, xlim=(0, 2*np.pi))\n",
    "plot = Plot(path, aspect=2)\n",
    "Frame(plot, padding=0.05)"
   ]
  },
  {
   "cell_type": "code",
   "execution_count": 29,
   "id": "9ed96990",
   "metadata": {},
   "outputs": [],
   "source": [
    "def plot_scandal(xlim=(0, 2*np.pi), ylim=(-2.3, 1.3), yticks=[-2, -1, 0, 1], xticks=None):\n",
    "    line1 = SymPath(np.sin, xlim=xlim, stroke='#1e88e5')\n",
    "    line2 = SymPath(lambda x: -0.05*x**2, xlim=xlim, stroke='#ff0d57')\n",
    "    line3 = SymPath(lambda x: 0, xlim=xlim, stroke_dasharray=4)\n",
    "\n",
    "    if xticks is None:\n",
    "        xticks = {x: Emoji(e) for x, e in zip(np.linspace(0.5, 5.8, 5), '🍄🍩🚀🦊🐋')}\n",
    "\n",
    "    plot = Plot(\n",
    "        [line1, line2, line3], aspect=1.5, ylim=ylim,\n",
    "        yticks=yticks, xticks=xticks, xaxis_tick_text_scale=1.5\n",
    "    )\n",
    "    \n",
    "    return plot"
   ]
  },
  {
   "cell_type": "code",
   "execution_count": 32,
   "id": "80a61ec4-cd1f-4533-8ab4-eb912d9431a5",
   "metadata": {},
   "outputs": [
    {
     "data": {
      "image/svg+xml": [
       "<svg width=\"400\" height=\"266.6666666666666\" xmlns=\"http://www.w3.org/2000/svg\">\n",
       "<g xaxis-tick-text-scale=\"1.5\">\n",
       "<polyline points=\"32.82821709421805,82.76390542954553 36.537022982155236,78.726050592294 40.24582887009243,74.70445477133637 43.95463475802962,70.71531151364645 47.663440645966816,66.77468369117972 51.372246533904004,62.8984388213572 55.08105242184119,59.102185174173215 58.78985830977839,55.40120892320088 62.498664197715584,51.810412593566376 66.20747008565277,48.34425505473993 69.91627597358996,45.01669329977172 73.62508186152715,41.841126245406784 77.33388774946434,38.830340779376456 81.04269363740153,35.99646027211448 84.75149952533873,33.35089576022314 88.46030541327592,30.904299998256292 92.16911130121312,28.666524563836656 95.8779171891503,26.646580188829745 99.58672307708748,24.85260047630694 103.29552896502469,23.291809149396595 107.00433485296188,21.97049096390061 110.71314074089906,20.89396640180096 114.42194662883625,20.06657024755658 118.13075251677344,19.4916341334563 121.83955840471064,19.17147312431148 125.54836429264783,19.10737639550711 129.25717018058504,19.29960204194755 132.96597606852222,19.747376038799434 136.6747819564594,20.44889535821646 140.38358784439657,21.401335229496233 144.0923937323338,22.60086051343481 147.80119962027098,24.042641145078754 151.51000550820817,25.720871582691917 155.21881139614538,27.628794184623022 158.92761728408254,29.75872641994345 162.63642317201976,32.10209180328793 166.34522905995692,34.64945442933389 170.05403494789414,37.390556967862054 173.76284083583133,40.31436196640479 177.47164672376852,43.40909629417176 181.1804526117057,46.6622985482922 184.8892584996429,50.06086923148628 188.59806438758008,53.591123499117074 192.30687027551727,57.23884626323013 196.01567616345446,60.98934943169533 199.72448205139167,64.82753105197003 203.43328793932884,68.73793612133164 207.14209382726602,72.70481881871899 210.85089971520324,76.7122059075962 214.55970560314043,80.74396105453863 218.26851149107762,84.78384980455246 221.97731737901478,88.81560495149489 225.686123266952,92.8229920403721 229.39492915488918,96.78987473775942 233.1037350428264,100.70027980712103 236.81254093076356,104.53846142739573 240.52134681870078,108.28896459586096 244.23015270663797,111.936687359974 247.93895859457513,115.4669416276048 251.64776448251231,118.86551231079886 255.35657037044953,122.11871456491932 259.06537625838666,125.21344889268627 262.77418214632394,128.13725389122902 266.4829880342611,130.8783564297572 270.1917939221983,133.42571905580317 273.9005998101355,135.76908443914763 277.6094056980727,137.89901667446807 281.31821158600985,139.80693927639916 285.027017473947,141.48516971401233 288.7358233618842,142.92695034565625 292.44462924982145,144.12647562959486 296.1534351377586,145.07891550087461 299.86224102569577,145.78043482029165 303.57104691363304,146.22820881714352 307.2798528015702,146.42043446358397 310.98865868950736,146.3563377347796 314.69746457744463,146.0361767256348 318.4062704653818,145.46124061153452 322.11507635331895,144.6338444572901 325.8238822412561,143.55731989519046 329.5326881291934,142.23600170969448 333.24149401713055,140.67521038278412 336.9502999050677,138.88123067026132 340.659105793005,136.86128629525442 344.36791168094214,134.62351086083478 348.0767175688793,132.1769150988679 351.78552345681646,129.53135058697657 355.4943293447536,126.69747007971463 359.2031352326909,123.68668461368432 362.91194112062806,120.51111755931936 366.62074700856533,117.18355580435113 370.3295528965025,113.71739826552471 374.03835878443965,110.12660193589019 377.7471646723768,106.42562568491783 381.455970560314,102.62937203773387 385.16477644825125,98.75312716791137 388.8735823361884,94.81249934544459 392.5823882241257,90.82335608775469 396.29119411206284,86.80176026679709 400.0,82.76390542954556\" fill=\"none\" stroke=\"#1e88e5\" />\n",
       "<polyline points=\"32.82821709421805,82.76390542954555 36.537022982155236,82.7767274650565 40.24582887009243,82.81519357158938 43.95463475802962,82.87930374914416 47.663440645966816,82.96905799772085 51.372246533904004,83.08445631731948 55.08105242184119,83.22549870794 58.78985830977839,83.39218516958245 62.498664197715584,83.5845157022468 66.20747008565277,83.80249030593306 69.91627597358996,84.04610898064125 73.62508186152715,84.31537172637135 77.33388774946434,84.61027854312336 81.04269363740153,84.93082943089729 84.75149952533873,85.27702438969312 88.46030541327592,85.64886341951089 92.16911130121312,86.04634652035055 95.8779171891503,86.46947369221213 99.58672307708748,86.91824493509563 103.29552896502469,87.39266024900104 107.00433485296188,87.89271963392837 110.71314074089906,88.4184230898776 114.42194662883625,88.96977061684876 118.13075251677344,89.54676221484183 121.83955840471064,90.14939788385682 125.54836429264783,90.77767762389371 129.25717018058504,91.43160143495253 132.96597606852222,92.11116931703324 136.6747819564594,92.81638127013589 140.38358784439657,93.54723729426044 144.0923937323338,94.3037373894069 147.80119962027098,95.08588155557528 151.51000550820817,95.89366979276558 155.21881139614538,96.72710210097779 158.92761728408254,97.58617848021191 162.63642317201976,98.47089893046795 166.34522905995692,99.3812634517459 170.05403494789414,100.31727204404578 173.76284083583133,101.27892470736755 177.47164672376852,102.26622144171125 181.1804526117057,103.27916224707685 184.8892584996429,104.31774712346437 188.59806438758008,105.3819760708738 192.30687027551727,106.47184908930515 196.01567616345446,107.58736617875843 199.72448205139167,108.72852733923361 203.43328793932884,109.89533257073069 207.14209382726602,111.0877818732497 210.85089971520324,112.30587524679062 214.55970560314043,113.54961269135346 218.26851149107762,114.81899420693821 221.97731737901478,116.11401979354488 225.686123266952,117.43468945117345 229.39492915488918,118.78100317982394 233.1037350428264,120.15296097949636 236.81254093076356,121.55056285019067 240.52134681870078,122.97380879190692 244.23015270663797,124.42269880464505 247.93895859457513,125.89723288840511 251.64776448251231,127.39741104318709 255.35657037044953,128.923233268991 259.06537625838666,130.4746995658168 262.77418214632394,132.05180993366452 266.4829880342611,133.65456437253414 270.1917939221983,135.2829628824257 273.9005998101355,136.93700546333915 277.6094056980727,138.61669211527453 281.31821158600985,140.32202283823182 285.027017473947,142.05299763221103 288.7358233618842,143.80961649721212 292.44462924982145,145.5918794332352 296.1534351377586,147.3997864402801 299.86224102569577,149.23333751834696 303.57104691363304,151.09253266743576 307.2798528015702,152.97737188754644 310.98865868950736,154.88785517867905 314.69746457744463,156.82398254083355 318.4062704653818,158.78575397401 322.11507635331895,160.77316947820833 325.8238822412561,162.7862290534286 329.5326881291934,164.82493269967077 333.24149401713055,166.88928041693487 336.9502999050677,168.97927220522087 340.659105793005,171.0949080645288 344.36791168094214,173.2361879948586 348.0767175688793,175.40311199621038 351.78552345681646,177.595680068584 355.4943293447536,179.81389221197958 359.2031352326909,182.05774842639704 362.91194112062806,184.32724871183646 366.62074700856533,186.62239306829778 370.3295528965025,188.943181495781 374.03835878443965,191.28961399428613 377.7471646723768,193.6616905638132 381.455970560314,196.05941120436216 385.16477644825125,198.48277591593305 388.8735823361884,200.93178469852586 392.5823882241257,203.40643755214057 396.29119411206284,205.90673447677722 400.0,208.43267547243573\" fill=\"none\" stroke=\"#ff0d57\" />\n",
       "<polyline points=\"32.82821709421805,82.76390542954555 36.537022982155236,82.76390542954555 40.24582887009243,82.76390542954555 43.95463475802962,82.76390542954555 47.663440645966816,82.76390542954555 51.372246533904004,82.76390542954555 55.08105242184119,82.76390542954555 58.78985830977839,82.76390542954555 62.498664197715584,82.76390542954555 66.20747008565277,82.76390542954555 69.91627597358996,82.76390542954555 73.62508186152715,82.76390542954555 77.33388774946434,82.76390542954555 81.04269363740153,82.76390542954555 84.75149952533873,82.76390542954555 88.46030541327592,82.76390542954555 92.16911130121312,82.76390542954555 95.8779171891503,82.76390542954555 99.58672307708748,82.76390542954555 103.29552896502469,82.76390542954555 107.00433485296188,82.76390542954555 110.71314074089906,82.76390542954555 114.42194662883625,82.76390542954555 118.13075251677344,82.76390542954555 121.83955840471064,82.76390542954555 125.54836429264783,82.76390542954555 129.25717018058504,82.76390542954555 132.96597606852222,82.76390542954555 136.6747819564594,82.76390542954555 140.38358784439657,82.76390542954555 144.0923937323338,82.76390542954555 147.80119962027098,82.76390542954555 151.51000550820817,82.76390542954555 155.21881139614538,82.76390542954555 158.92761728408254,82.76390542954555 162.63642317201976,82.76390542954555 166.34522905995692,82.76390542954555 170.05403494789414,82.76390542954555 173.76284083583133,82.76390542954555 177.47164672376852,82.76390542954555 181.1804526117057,82.76390542954555 184.8892584996429,82.76390542954555 188.59806438758008,82.76390542954555 192.30687027551727,82.76390542954555 196.01567616345446,82.76390542954555 199.72448205139167,82.76390542954555 203.43328793932884,82.76390542954555 207.14209382726602,82.76390542954555 210.85089971520324,82.76390542954555 214.55970560314043,82.76390542954555 218.26851149107762,82.76390542954555 221.97731737901478,82.76390542954555 225.686123266952,82.76390542954555 229.39492915488918,82.76390542954555 233.1037350428264,82.76390542954555 236.81254093076356,82.76390542954555 240.52134681870078,82.76390542954555 244.23015270663797,82.76390542954555 247.93895859457513,82.76390542954555 251.64776448251231,82.76390542954555 255.35657037044953,82.76390542954555 259.06537625838666,82.76390542954555 262.77418214632394,82.76390542954555 266.4829880342611,82.76390542954555 270.1917939221983,82.76390542954555 273.9005998101355,82.76390542954555 277.6094056980727,82.76390542954555 281.31821158600985,82.76390542954555 285.027017473947,82.76390542954555 288.7358233618842,82.76390542954555 292.44462924982145,82.76390542954555 296.1534351377586,82.76390542954555 299.86224102569577,82.76390542954555 303.57104691363304,82.76390542954555 307.2798528015702,82.76390542954555 310.98865868950736,82.76390542954555 314.69746457744463,82.76390542954555 318.4062704653818,82.76390542954555 322.11507635331895,82.76390542954555 325.8238822412561,82.76390542954555 329.5326881291934,82.76390542954555 333.24149401713055,82.76390542954555 336.9502999050677,82.76390542954555 340.659105793005,82.76390542954555 344.36791168094214,82.76390542954555 348.0767175688793,82.76390542954555 351.78552345681646,82.76390542954555 355.4943293447536,82.76390542954555 359.2031352326909,82.76390542954555 362.91194112062806,82.76390542954555 366.62074700856533,82.76390542954555 370.3295528965025,82.76390542954555 374.03835878443965,82.76390542954555 377.7471646723768,82.76390542954555 381.455970560314,82.76390542954555 385.16477644825125,82.76390542954555 388.8735823361884,82.76390542954555 392.5823882241257,82.76390542954555 396.29119411206284,82.76390542954555 400.0,82.76390542954555\" fill=\"none\" stroke=\"black\" stroke-dasharray=\"4\" />\n",
       "<g xaxis-tick-text-scale=\"1.5\">\n",
       "<g>\n",
       "<g>\n",
       "<g>\n",
       "<line x1=\"62.0468192008779\" y1=\"221.6974908633103\" x2=\"62.0468192008779\" y2=\"236.6872161310958\" stroke=\"black\" stroke-width=\"1\" />\n",
       "<text x=\"50.126715427639\" y=\"263.8560931789568\" font-size=\"23.933698556464px\" stroke=\"black\" font-family=\"NotoColorEmoji\">🍄</text>\n",
       "</g>\n",
       "<g>\n",
       "<line x1=\"139.4761147835262\" y1=\"221.6974908633104\" x2=\"139.4761147835262\" y2=\"236.6872161310958\" stroke=\"black\" stroke-width=\"1\" />\n",
       "<text x=\"127.5560110102872\" y=\"263.8560931789568\" font-size=\"23.933698556464px\" stroke=\"black\" font-family=\"NotoColorEmoji\">🍩</text>\n",
       "</g>\n",
       "<g>\n",
       "<line x1=\"216.9054103661745\" y1=\"221.6974908633103\" x2=\"216.9054103661745\" y2=\"236.6872161310958\" stroke=\"black\" stroke-width=\"1\" />\n",
       "<text x=\"204.9853065929355\" y=\"263.8560931789568\" font-size=\"23.933698556464px\" stroke=\"black\" font-family=\"NotoColorEmoji\">🚀</text>\n",
       "</g>\n",
       "<g>\n",
       "<line x1=\"294.3347059488227\" y1=\"221.6974908633103\" x2=\"294.3347059488227\" y2=\"236.6872161310958\" stroke=\"black\" stroke-width=\"1\" />\n",
       "<text x=\"282.4146021755838\" y=\"263.8560931789568\" font-size=\"23.933698556464px\" stroke=\"black\" font-family=\"NotoColorEmoji\">🦊</text>\n",
       "</g>\n",
       "<g>\n",
       "<line x1=\"371.764001531471\" y1=\"221.6974908633103\" x2=\"371.764001531471\" y2=\"236.6872161310958\" stroke=\"black\" stroke-width=\"1\" />\n",
       "<text x=\"359.843897758232\" y=\"263.8560931789568\" font-size=\"23.933698556464px\" stroke=\"black\" font-family=\"NotoColorEmoji\">🐋</text>\n",
       "</g>\n",
       "</g>\n",
       "<line x1=\"32.8282170942182\" y1=\"229.192353497203\" x2=\"399.9999999999999\" y2=\"229.192353497203\" stroke=\"black\" />\n",
       "</g>\n",
       "<g>\n",
       "<g>\n",
       "<g>\n",
       "<text x=\"1e-13\" y=\"217.1105446934662\" font-size=\"19.9079545750261px\" stroke=\"black\" font-family=\"Montserrat\" font-weight=\"200\">-2</text>\n",
       "<line x1=\"25.8106631065214\" y1=\"210.0929907057695\" x2=\"39.8457710819147\" y2=\"210.0929907057695\" stroke=\"black\" stroke-width=\"1\" />\n",
       "</g>\n",
       "<g>\n",
       "<text x=\"4.0762958989122\" y=\"153.4460020553542\" font-size=\"20.0501542505619px\" stroke=\"black\" font-family=\"Montserrat\" font-weight=\"200\">-1</text>\n",
       "<line x1=\"25.8106631065214\" y1=\"146.4284480676575\" x2=\"39.8457710819147\" y2=\"146.4284480676575\" stroke=\"black\" stroke-width=\"1\" />\n",
       "</g>\n",
       "<g>\n",
       "<text x=\"5.785924544446\" y=\"89.7814594172422\" font-size=\"19.7677577118217px\" stroke=\"black\" font-family=\"Montserrat\" font-weight=\"200\">0</text>\n",
       "<line x1=\"25.8106631065214\" y1=\"82.7639054295455\" x2=\"39.8457710819147\" y2=\"82.7639054295455\" stroke=\"black\" stroke-width=\"1\" />\n",
       "</g>\n",
       "<g>\n",
       "<text x=\"11.7154046683763\" y=\"26.1169167791303\" font-size=\"20.050154250562px\" stroke=\"black\" font-family=\"Montserrat\" font-weight=\"200\">1</text>\n",
       "<line x1=\"25.8106631065214\" y1=\"19.0993627914336\" x2=\"39.8457710819147\" y2=\"19.0993627914336\" stroke=\"black\" stroke-width=\"1\" />\n",
       "</g>\n",
       "</g>\n",
       "<line x1=\"32.828217094218\" y1=\"0\" x2=\"32.828217094218\" y2=\"229.1923534972031\" stroke=\"black\" />\n",
       "</g>\n",
       "</g>\n",
       "</g>\n",
       "</svg>"
      ],
      "text/plain": [
       "svg: "
      ]
     },
     "execution_count": 32,
     "metadata": {},
     "output_type": "execute_result"
    }
   ],
   "source": [
    "plot = plot_scandal()\n",
    "SVG(plot, size=400)"
   ]
  },
  {
   "cell_type": "code",
   "execution_count": 33,
   "id": "a5f37a20",
   "metadata": {},
   "outputs": [
    {
     "data": {
      "image/svg+xml": [
       "<svg width=\"500\" height=\"222.2222222222222\" xmlns=\"http://www.w3.org/2000/svg\">\n",
       "<g>\n",
       "<g xaxis-tick-text-scale=\"1.5\">\n",
       "<polyline points=\"27.356847578514998,68.969921191288 30.44751915179599,65.60504216024505 33.53819072507699,62.253712309447025 36.62886229835798,58.92942626137209 39.71953387163897,55.64556974264981 42.810205444919966,52.41536568446438 45.90087701820096,49.251820978477724 48.99154859148196,46.16767410266744 52.082220164762944,43.175343827972014 55.17289173804394,40.28687921228332 58.26356331132493,37.513911083143135 61.354234884605916,34.867605204505686 64.44490645788692,32.358617316147075 67.53557803116792,29.9970502267621 70.62624960444892,27.79241313351931 73.7169211777299,25.753583331880268 76.80759275101089,23.888770469863907 79.89826432429189,22.205483490691478 82.98893589757287,20.710500396922473 86.07960747085387,19.409840957830518 89.17027904413486,18.308742469917195 92.26095061741586,17.411638668167488 95.35162219069684,16.72214187296384 98.44229376397784,16.243028444546937 101.53296533725884,15.97622760359292 104.62363691053983,15.922813662922612 107.71430848382083,16.08300170162298 110.80498005710183,16.456146698999547 113.89565163038283,17.040746131847072 116.9863232036638,17.834446024580217 120.0769947769448,18.834050427862365 123.1676663502258,20.03553428756565 126.25833792350679,21.434059652243285 129.34900949678777,23.023995153852542 132.43968107006876,24.798938683286238 135.53035264334977,26.751743169406634 138.62102421663076,28.87454535777827 141.71169578991174,31.15879747321841 144.80236736319276,33.59530163867068 147.89303893647374,36.17424691180983 150.98371050975473,38.88524879024353 154.07438208303574,41.7173910262386 157.1650536563167,44.659269582597595 160.25572522959772,47.69903855269181 163.34639680287867,50.82445785974615 166.4370683761597,54.02294254330841 169.52773994944067,57.28161343444308 172.61841152272166,60.58734901559921 175.70908309600267,63.92683825633022 178.79975466928366,67.28663421211557 181.89042624256464,70.65320817046045 184.98109781584563,74.0130041262458 188.07176938912664,77.3524933669768 191.16244096240763,80.6582289481329 194.25311253568864,83.9168998392676 197.34378410896963,87.11538452282983 200.43445568225064,90.24080382988419 203.5251272555316,93.28057279997839 206.6157988288126,96.2224513563374 209.70647040209357,99.05459359233247 212.7971419753746,101.76559547076617 215.88781354865557,104.3445407439053 218.9784851219366,106.78104490935759 222.06915669521754,109.06529702479772 225.15982826849856,111.18809921316937 228.25049984177954,113.14090369928977 231.34117141506056,114.91584722872348 234.43184298834154,116.50578273033271 237.52251456162253,117.90430809501034 240.6131861349035,119.10579195471362 243.70385770818456,120.10539635799579 246.79452928146551,120.89909625072892 249.8852008547465,121.48369568357644 252.9758724280275,121.85684068095301 256.0665440013085,122.01702871965338 259.1572155745895,121.96361477898307 262.24788714787053,121.69681393802907 265.33855872115146,121.21770050961217 268.4292302944325,120.5282037144085 271.5199018677135,119.6310999126588 274.6105734409945,118.53000142474548 277.70124501427546,117.2293419856535 280.7919165875565,115.73435889188451 283.88258816083743,114.05107191271209 286.9732597341184,112.18625905069572 290.06393130739946,110.14742924905667 293.15460288068044,107.94279215581389 296.2452744539614,105.58122506642893 299.33594602724236,103.07223717807032 302.4266176005234,100.42593129943286 305.5172891738044,97.65296317029267 308.6079607470854,94.76449855460397 311.69863232036636,91.77216827990856 314.7893038936474,88.68802140409825 317.87997546692833,85.52447669811161 320.9706470402093,82.2942726399262 324.06131861349036,79.01041612120389 327.15199018677134,75.68613007312896 330.24266176005233,72.33480022233095 333.3333333333333,68.96992119128801\" fill=\"none\" stroke=\"#1e88e5\" />\n",
       "<polyline points=\"27.356847578514998,68.969921191288 30.44751915179599,68.98060622088046 33.53819072507699,69.01266130965786 36.62886229835798,69.06608645762017 39.71953387163897,69.14088166476742 42.810205444919966,69.2370469310996 45.90087701820096,69.35458225661671 48.99154859148196,69.49348764131874 52.082220164762944,69.65376308520571 55.17289173804394,69.8354085882776 58.26356331132493,70.03842415053441 61.354234884605916,70.26280977197617 64.44490645788692,70.50856545260284 67.53557803116792,70.77569119241446 70.62624960444892,71.06418699141098 73.7169211777299,71.37405284959245 76.80759275101089,71.70528876695883 79.89826432429189,72.05789474351016 82.98893589757287,72.43187077924641 86.07960747085387,72.82721687416758 89.17027904413486,73.24393302827369 92.26095061741586,73.68201924156472 95.35162219069684,74.14147551404068 98.44229376397784,74.62230184570157 101.53296533725884,75.1244982365474 104.62363691053983,75.64806468657814 107.71430848382083,76.19300119579381 110.80498005710183,76.75930776419442 113.89565163038283,77.34698439177996 116.9863232036638,77.95603107855041 120.0769947769448,78.5864478245058 123.1676663502258,79.23823462964612 126.25833792350679,79.91139149397137 129.34900949678777,80.60591841748155 132.43968107006876,81.32181540017665 135.53035264334977,82.05908244205668 138.62102421663076,82.81771954312163 141.71169578991174,83.59772670337152 144.80236736319276,84.39910392280633 147.89303893647374,85.22185120142609 150.98371050975473,86.06596853923077 154.07438208303574,86.93145593622036 157.1650536563167,87.81831339239488 160.25572522959772,88.72654090775436 163.34639680287867,89.65613848229874 166.4370683761597,90.60710611602806 169.52773994944067,91.5794438089423 172.61841152272166,92.57315156104147 175.70908309600267,93.58822937232557 178.79975466928366,94.6246772427946 181.89042624256464,95.68249517244857 184.98109781584563,96.76168316128745 188.07176938912664,97.86224120931126 191.16244096240763,98.98416931652001 194.25311253568864,100.12746748291369 197.34378410896963,101.29213570849228 200.43445568225064,102.47817399325581 203.5251272555316,103.68558233720427 206.6157988288126,104.91436074033766 209.70647040209357,106.16450920265598 212.7971419753746,107.43602772415922 215.88781354865557,108.72891630484739 218.9784851219366,110.04317494472048 222.06915669521754,111.37880364377853 225.15982826849856,112.73580240202148 228.25049984177954,114.11417121944936 231.34117141506056,115.51391009606218 234.43184298834154,116.93501903185992 237.52251456162253,118.37749802684259 240.6131861349035,119.84134708101017 243.70385770818456,121.32656619436273 246.79452928146551,122.83315536690017 249.8852008547465,124.36111459862255 252.9758724280275,125.91044388952986 256.0665440013085,127.48114323962213 259.1572155745895,129.07321264889927 262.24788714787053,130.68665211736138 265.33855872115146,132.3214616450084 268.4292302944325,133.97764123184038 271.5199018677135,135.65519087785725 274.6105734409945,137.35411058305905 277.70124501427546,139.07440034744582 280.7919165875565,140.81606017101745 283.88258816083743,142.57909005377405 286.9732597341184,144.36348999571558 290.06393130739946,146.16925999684207 293.15460288068044,147.99640005715344 296.2452744539614,149.84491017664973 299.33594602724236,151.714790355331 302.4266176005234,153.60604059319715 305.5172891738044,155.51866089024824 308.6079607470854,157.45265124648427 311.69863232036636,159.4080116619052 314.7893038936474,161.38474213651108 317.87997546692833,163.3828426703019 320.9706470402093,165.40231326327762 324.06131861349036,167.4431539154383 327.15199018677134,169.50536462678394 330.24266176005233,171.58894539731443 333.3333333333333,173.69389622702988\" fill=\"none\" stroke=\"#ff0d57\" />\n",
       "<polyline points=\"27.356847578514998,68.969921191288 30.44751915179599,68.969921191288 33.53819072507699,68.969921191288 36.62886229835798,68.969921191288 39.71953387163897,68.969921191288 42.810205444919966,68.969921191288 45.90087701820096,68.969921191288 48.99154859148196,68.969921191288 52.082220164762944,68.969921191288 55.17289173804394,68.969921191288 58.26356331132493,68.969921191288 61.354234884605916,68.969921191288 64.44490645788692,68.969921191288 67.53557803116792,68.969921191288 70.62624960444892,68.969921191288 73.7169211777299,68.969921191288 76.80759275101089,68.969921191288 79.89826432429189,68.969921191288 82.98893589757287,68.969921191288 86.07960747085387,68.969921191288 89.17027904413486,68.969921191288 92.26095061741586,68.969921191288 95.35162219069684,68.969921191288 98.44229376397784,68.969921191288 101.53296533725884,68.969921191288 104.62363691053983,68.969921191288 107.71430848382083,68.969921191288 110.80498005710183,68.969921191288 113.89565163038283,68.969921191288 116.9863232036638,68.969921191288 120.0769947769448,68.969921191288 123.1676663502258,68.969921191288 126.25833792350679,68.969921191288 129.34900949678777,68.969921191288 132.43968107006876,68.969921191288 135.53035264334977,68.969921191288 138.62102421663076,68.969921191288 141.71169578991174,68.969921191288 144.80236736319276,68.969921191288 147.89303893647374,68.969921191288 150.98371050975473,68.969921191288 154.07438208303574,68.969921191288 157.1650536563167,68.969921191288 160.25572522959772,68.969921191288 163.34639680287867,68.969921191288 166.4370683761597,68.969921191288 169.52773994944067,68.969921191288 172.61841152272166,68.969921191288 175.70908309600267,68.969921191288 178.79975466928366,68.969921191288 181.89042624256464,68.969921191288 184.98109781584563,68.969921191288 188.07176938912664,68.969921191288 191.16244096240763,68.969921191288 194.25311253568864,68.969921191288 197.34378410896963,68.969921191288 200.43445568225064,68.969921191288 203.5251272555316,68.969921191288 206.6157988288126,68.969921191288 209.70647040209357,68.969921191288 212.7971419753746,68.969921191288 215.88781354865557,68.969921191288 218.9784851219366,68.969921191288 222.06915669521754,68.969921191288 225.15982826849856,68.969921191288 228.25049984177954,68.969921191288 231.34117141506056,68.969921191288 234.43184298834154,68.969921191288 237.52251456162253,68.969921191288 240.6131861349035,68.969921191288 243.70385770818456,68.969921191288 246.79452928146551,68.969921191288 249.8852008547465,68.969921191288 252.9758724280275,68.969921191288 256.0665440013085,68.969921191288 259.1572155745895,68.969921191288 262.24788714787053,68.969921191288 265.33855872115146,68.969921191288 268.4292302944325,68.969921191288 271.5199018677135,68.969921191288 274.6105734409945,68.969921191288 277.70124501427546,68.969921191288 280.7919165875565,68.969921191288 283.88258816083743,68.969921191288 286.9732597341184,68.969921191288 290.06393130739946,68.969921191288 293.15460288068044,68.969921191288 296.2452744539614,68.969921191288 299.33594602724236,68.969921191288 302.4266176005234,68.969921191288 305.5172891738044,68.969921191288 308.6079607470854,68.969921191288 311.69863232036636,68.969921191288 314.7893038936474,68.969921191288 317.87997546692833,68.969921191288 320.9706470402093,68.969921191288 324.06131861349036,68.969921191288 327.15199018677134,68.969921191288 330.24266176005233,68.969921191288 333.3333333333333,68.969921191288\" fill=\"none\" stroke=\"black\" stroke-dasharray=\"4\" />\n",
       "<g xaxis-tick-text-scale=\"1.5\">\n",
       "<g>\n",
       "<g>\n",
       "<g>\n",
       "<line x1=\"51.7056826673982\" y1=\"184.7479090527587\" x2=\"51.7056826673982\" y2=\"197.2393467759132\" stroke=\"black\" stroke-width=\"1\" />\n",
       "<text x=\"41.7722628563658\" y=\"219.8800776491308\" font-size=\"19.9447487970534px\" stroke=\"black\" font-family=\"NotoColorEmoji\">🍄</text>\n",
       "</g>\n",
       "<g>\n",
       "<line x1=\"116.2300956529384\" y1=\"184.7479090527587\" x2=\"116.2300956529384\" y2=\"197.2393467759132\" stroke=\"black\" stroke-width=\"1\" />\n",
       "<text x=\"106.296675841906\" y=\"219.8800776491308\" font-size=\"19.9447487970534px\" stroke=\"black\" font-family=\"NotoColorEmoji\">🍩</text>\n",
       "</g>\n",
       "<g>\n",
       "<line x1=\"180.7545086384787\" y1=\"184.7479090527587\" x2=\"180.7545086384787\" y2=\"197.2393467759132\" stroke=\"black\" stroke-width=\"1\" />\n",
       "<text x=\"170.8210888274462\" y=\"219.8800776491308\" font-size=\"19.9447487970534px\" stroke=\"black\" font-family=\"NotoColorEmoji\">🚀</text>\n",
       "</g>\n",
       "<g>\n",
       "<line x1=\"245.2789216240189\" y1=\"184.7479090527587\" x2=\"245.2789216240189\" y2=\"197.2393467759132\" stroke=\"black\" stroke-width=\"1\" />\n",
       "<text x=\"235.3455018129864\" y=\"219.8800776491308\" font-size=\"19.9447487970534px\" stroke=\"black\" font-family=\"NotoColorEmoji\">🦊</text>\n",
       "</g>\n",
       "<g>\n",
       "<line x1=\"309.8033346095592\" y1=\"184.7479090527587\" x2=\"309.8033346095592\" y2=\"197.2393467759132\" stroke=\"black\" stroke-width=\"1\" />\n",
       "<text x=\"299.8699147985268\" y=\"219.8800776491308\" font-size=\"19.9447487970534px\" stroke=\"black\" font-family=\"NotoColorEmoji\">🐋</text>\n",
       "</g>\n",
       "</g>\n",
       "<line x1=\"27.3568475785151\" y1=\"190.9936279143359\" x2=\"333.3333333333333\" y2=\"190.9936279143359\" stroke=\"black\" />\n",
       "</g>\n",
       "<g>\n",
       "<g>\n",
       "<g>\n",
       "<text x=\"0\" y=\"180.9254539112218\" font-size=\"16.589962145855px\" stroke=\"black\" font-family=\"Montserrat\" font-weight=\"200\">-2</text>\n",
       "<line x1=\"21.5088859221011\" y1=\"175.0774922548079\" x2=\"33.2048092349289\" y2=\"175.0774922548079\" stroke=\"black\" stroke-width=\"1\" />\n",
       "</g>\n",
       "<g>\n",
       "<text x=\"3.3969132490934\" y=\"127.8716683794619\" font-size=\"16.7084618754683px\" stroke=\"black\" font-family=\"Montserrat\" font-weight=\"200\">-1</text>\n",
       "<line x1=\"21.5088859221011\" y1=\"122.023706723048\" x2=\"33.2048092349289\" y2=\"122.023706723048\" stroke=\"black\" stroke-width=\"1\" />\n",
       "</g>\n",
       "<g>\n",
       "<text x=\"4.8216037870383\" y=\"74.8178828477019\" font-size=\"16.473131426518px\" stroke=\"black\" font-family=\"Montserrat\" font-weight=\"200\">0</text>\n",
       "<line x1=\"21.5088859221011\" y1=\"68.969921191288\" x2=\"33.2048092349289\" y2=\"68.969921191288\" stroke=\"black\" stroke-width=\"1\" />\n",
       "</g>\n",
       "<g>\n",
       "<text x=\"9.7628372236469\" y=\"21.7640973159419\" font-size=\"16.7084618754683px\" stroke=\"black\" font-family=\"Montserrat\" font-weight=\"200\">1</text>\n",
       "<line x1=\"21.5088859221011\" y1=\"15.916135659528\" x2=\"33.2048092349289\" y2=\"15.916135659528\" stroke=\"black\" stroke-width=\"1\" />\n",
       "</g>\n",
       "</g>\n",
       "<line x1=\"27.356847578515\" y1=\"0\" x2=\"27.356847578515\" y2=\"190.9936279143359\" stroke=\"black\" />\n",
       "</g>\n",
       "</g>\n",
       "</g>\n",
       "<g>\n",
       "<g>\n",
       "<rect x=\"341.6666666666666\" y=\"5.5555555555556\" width=\"150\" height=\"100\" fill=\"none\" stroke=\"black\" stroke-width=\"1\" />\n",
       "<g xaxis-tick-text-scale=\"1.5\">\n",
       "<polyline points=\"360.942739031406,38.6990795876263 362.1790076607184,37.35312797520913 363.4152762900308,36.01259603488991 364.6515449193432,34.68288161565994 365.8878135486556,33.36933900817103 367.124082177968,32.07725738489685 368.3603508072804,30.811839502502195 369.5966194365928,29.578180752178085 370.8328880659052,28.381248642299912 372.0691566952176,27.22586279602443 373.30542532452995,26.11667554436836 374.54169395384235,25.05815319291338 375.77796258315476,24.054558037569937 377.01423121246717,23.109931201815947 378.2504998417796,22.22807636451883 379.486768471092,21.412544443863215 380.7230371004044,20.66661929905667 381.95930572971673,19.9933045073877 383.19557435902914,19.395311269880096 384.43184298834154,18.875047494243315 385.66811161765395,18.434608099077984 386.90438024696635,18.0757665783781 388.14064887627876,17.799967860296643 389.3769175055911,17.608322488929883 390.6131861349035,17.501602152548276 391.8494547642159,17.480236576280152 393.0857233935283,17.5443117917603 394.32199202284073,17.693569790710928 395.55826065215314,17.927409563849935 396.79452928146554,18.244889520943193 398.0307979107779,18.644731282256053 399.2670665400903,19.125324826137366 400.5033351694027,19.68473497200842 401.7396037987151,20.320709172652123 402.9758724280275,21.030686584425602 404.2121410573399,21.81180837887376 405.4484096866523,22.660929254222417 406.6846783159647,23.574630100398473 407.9209469452771,24.549231766579382 409.1572155745895,25.580809875835037 410.3934842039019,26.665210627208516 411.6297528332143,27.798067521606548 412.8660214625267,28.974818944150144 414.1022900918391,30.19072653218783 415.33855872115146,31.440894255009564 416.57482735046386,32.72028812843447 417.81109597977627,34.02375648488834 419.0473646090887,35.34605071735079 420.2836332384011,36.68184641364319 421.5199018677135,38.02576479595733 422.7561704970259,39.37239437929529 423.99243912633824,40.71631276160942 425.22870775565065,42.052108457901824 426.46497638496305,43.37440269036426 427.70124501427546,44.67787104681814 428.93751364358786,45.957264920243034 430.17378227290027,47.20743264306478 431.4100509022127,48.42334023110246 432.646319531525,49.60009165364606 433.88258816083743,50.73294854804409 435.11885679014983,51.81734929941757 436.35512541946224,52.84892740867322 437.59139404877465,53.823529074854136 438.827662678087,54.73722992103019 440.06393130739946,55.58635079637885 441.3001999367118,56.367472590827006 442.5364685660242,57.0774500026005 443.7727371953366,57.71342420324419 445.009005824649,58.27283434911524 446.24527445396143,58.753427892996555 447.48154308327383,59.153269654309426 448.71781171258624,59.47074961140267 449.9540803418986,59.70458938454168 451.190348971211,59.85384738349231 452.4266176005234,59.91792259897245 453.66288622983575,59.89655702270433 454.8991548591482,59.78983668632273 456.13542348846056,59.59819131495597 457.37169211777297,59.32239259687451 458.6079607470854,58.963551076174625 459.8442293763978,58.5231116810093 461.0804980057102,58.002847905372505 462.3167666350226,57.40485466786491 463.553035264335,56.73153987619594 464.78930389364734,55.98561473138939 466.02557252295975,55.170082810733774 467.26184115227215,54.28822797343666 468.49810978158456,53.34360113768267 469.73437841089697,52.340005982339235 470.97064704020937,51.28148363088425 472.2069156695218,50.17229637922817 473.4431842988341,49.01691053295269 474.67945292814653,47.81997842307453 475.91572155745894,46.586319672750406 477.15199018677134,45.32090179035575 478.38825881608375,44.02882016708159 479.62452744539615,42.715277559592664 480.86079607470856,41.38556314036269 482.0970647040209,40.04503120004348 483.3333333333333,38.69907958762631\" fill=\"none\" stroke=\"#1e88e5\" />\n",
       "<polyline points=\"360.942739031406,38.6990795876263 362.1790076607184,38.703353599463284 363.4152762900308,38.71617563497424 364.6515449193432,38.737545694159174 365.8878135486556,38.76746377701807 367.124082177968,38.805929883550945 368.3603508072804,38.852944013757785 369.5966194365928,38.9085061676386 370.8328880659052,38.97261634519339 372.0691566952176,39.04527454642214 373.30542532452995,39.12648077132487 374.54169395384235,39.21623501990157 375.77796258315476,39.31453729215224 377.01423121246717,39.42138758807688 378.2504998417796,39.536785907675494 379.486768471092,39.66073225094808 380.7230371004044,39.79322661789464 381.95930572971673,39.934269008515166 383.19557435902914,40.08385942280967 384.43184298834154,40.241997860778135 385.66811161765395,40.40868432242058 386.90438024696635,40.58391880773699 388.14064887627876,40.767701316727376 389.3769175055911,40.96003184939173 390.6131861349035,41.16091040573006 391.8494547642159,41.370336985742355 393.0857233935283,41.58831158942863 394.32199202284073,41.81483421678887 395.55826065215314,42.04990486782308 396.79452928146554,42.29352354253127 398.0307979107779,42.54569024091342 399.2670665400903,42.80640496296955 400.5033351694027,43.07566770869965 401.7396037987151,43.35347847810372 402.9758724280275,43.63983727118176 404.2121410573399,43.93474408793377 405.4484096866523,44.23819892835976 406.6846783159647,44.55020179245971 407.9209469452771,44.870752680233636 409.1572155745895,45.199851591681536 410.3934842039019,45.537498526803404 411.6297528332143,45.883693485599245 412.8660214625267,46.23843646806906 414.1022900918391,46.601727474212844 415.33855872115146,46.9735665040306 416.57482735046386,47.353953557522324 417.81109597977627,47.742888634688015 419.0473646090887,48.140371735527694 420.2836332384011,48.54640286004133 421.5199018677135,48.96098200822894 422.7561704970259,49.384109180090526 423.99243912633824,49.81578437562608 425.22870775565065,50.25600759483561 426.46497638496305,50.704778837719104 427.70124501427546,51.16209810427657 428.93751364358786,51.62796539450801 430.17378227290027,52.10238070841343 431.4100509022127,52.58534404599281 432.646319531525,53.076855407246164 433.88258816083743,53.57691479217349 435.11885679014983,54.08552220077479 436.35512541946224,54.60267763305005 437.59139404877465,55.12838108899929 438.827662678087,55.662632568622506 440.06393130739946,56.20543207191969 441.3001999367118,56.756779598890844 442.5364685660242,57.31667514953597 443.7727371953366,57.885118723855065 445.009005824649,58.46211032184813 446.24527445396143,59.04764994351517 447.48154308327383,59.64173758885619 448.71781171258624,60.24437325787116 449.9540803418986,60.855556950560114 451.190348971211,61.47528866692304 452.4266176005234,62.103568406959944 453.66288622983575,62.740396170670806 454.8991548591482,63.38577195805564 456.13542348846056,64.03969576911446 457.37169211777297,64.70216760384724 458.6079607470854,65.373187462254 459.8442293763978,66.05275534433471 461.0804980057102,66.74087125008941 462.3167666350226,67.43753517951808 463.553035264335,68.14274713262071 464.78930389364734,68.85650710939733 466.02557252295975,69.57881510984792 467.26184115227215,70.30967113397247 468.49810978158456,71.04907518177099 469.73437841089697,71.79702725324348 470.97064704020937,72.55352734838996 472.2069156695218,73.3185754672104 473.4431842988341,74.09217160970479 474.67945292814653,74.87431577587317 475.91572155745894,75.66500796571553 477.15199018677134,76.46424817923186 478.38825881608375,77.27203641642214 479.62452744539615,78.08837267728643 480.86079607470856,78.91325696182466 482.0970647040209,79.74668927003687 483.3333333333333,80.58866960192304\" fill=\"none\" stroke=\"#ff0d57\" />\n",
       "<polyline points=\"360.942739031406,38.6990795876263 362.1790076607184,38.6990795876263 363.4152762900308,38.6990795876263 364.6515449193432,38.6990795876263 365.8878135486556,38.6990795876263 367.124082177968,38.6990795876263 368.3603508072804,38.6990795876263 369.5966194365928,38.6990795876263 370.8328880659052,38.6990795876263 372.0691566952176,38.6990795876263 373.30542532452995,38.6990795876263 374.54169395384235,38.6990795876263 375.77796258315476,38.6990795876263 377.01423121246717,38.6990795876263 378.2504998417796,38.6990795876263 379.486768471092,38.6990795876263 380.7230371004044,38.6990795876263 381.95930572971673,38.6990795876263 383.19557435902914,38.6990795876263 384.43184298834154,38.6990795876263 385.66811161765395,38.6990795876263 386.90438024696635,38.6990795876263 388.14064887627876,38.6990795876263 389.3769175055911,38.6990795876263 390.6131861349035,38.6990795876263 391.8494547642159,38.6990795876263 393.0857233935283,38.6990795876263 394.32199202284073,38.6990795876263 395.55826065215314,38.6990795876263 396.79452928146554,38.6990795876263 398.0307979107779,38.6990795876263 399.2670665400903,38.6990795876263 400.5033351694027,38.6990795876263 401.7396037987151,38.6990795876263 402.9758724280275,38.6990795876263 404.2121410573399,38.6990795876263 405.4484096866523,38.6990795876263 406.6846783159647,38.6990795876263 407.9209469452771,38.6990795876263 409.1572155745895,38.6990795876263 410.3934842039019,38.6990795876263 411.6297528332143,38.6990795876263 412.8660214625267,38.6990795876263 414.1022900918391,38.6990795876263 415.33855872115146,38.6990795876263 416.57482735046386,38.6990795876263 417.81109597977627,38.6990795876263 419.0473646090887,38.6990795876263 420.2836332384011,38.6990795876263 421.5199018677135,38.6990795876263 422.7561704970259,38.6990795876263 423.99243912633824,38.6990795876263 425.22870775565065,38.6990795876263 426.46497638496305,38.6990795876263 427.70124501427546,38.6990795876263 428.93751364358786,38.6990795876263 430.17378227290027,38.6990795876263 431.4100509022127,38.6990795876263 432.646319531525,38.6990795876263 433.88258816083743,38.6990795876263 435.11885679014983,38.6990795876263 436.35512541946224,38.6990795876263 437.59139404877465,38.6990795876263 438.827662678087,38.6990795876263 440.06393130739946,38.6990795876263 441.3001999367118,38.6990795876263 442.5364685660242,38.6990795876263 443.7727371953366,38.6990795876263 445.009005824649,38.6990795876263 446.24527445396143,38.6990795876263 447.48154308327383,38.6990795876263 448.71781171258624,38.6990795876263 449.9540803418986,38.6990795876263 451.190348971211,38.6990795876263 452.4266176005234,38.6990795876263 453.66288622983575,38.6990795876263 454.8991548591482,38.6990795876263 456.13542348846056,38.6990795876263 457.37169211777297,38.6990795876263 458.6079607470854,38.6990795876263 459.8442293763978,38.6990795876263 461.0804980057102,38.6990795876263 462.3167666350226,38.6990795876263 463.553035264335,38.6990795876263 464.78930389364734,38.6990795876263 466.02557252295975,38.6990795876263 467.26184115227215,38.6990795876263 468.49810978158456,38.6990795876263 469.73437841089697,38.6990795876263 470.97064704020937,38.6990795876263 472.2069156695218,38.6990795876263 473.4431842988341,38.6990795876263 474.67945292814653,38.6990795876263 475.91572155745894,38.6990795876263 477.15199018677134,38.6990795876263 478.38825881608375,38.6990795876263 479.62452744539615,38.6990795876263 480.86079607470856,38.6990795876263 482.0970647040209,38.6990795876263 483.3333333333333,38.6990795876263\" fill=\"none\" stroke=\"black\" stroke-dasharray=\"4\" />\n",
       "<g xaxis-tick-text-scale=\"1.5\">\n",
       "<g>\n",
       "<g>\n",
       "<g>\n",
       "<line x1=\"370.6822730669593\" y1=\"85.0102747322146\" x2=\"370.6822730669593\" y2=\"90.0068498214764\" stroke=\"black\" stroke-width=\"1\" />\n",
       "<text x=\"366.7089051425462\" y=\"99.0631421707634\" font-size=\"7.9778995188213px\" stroke=\"black\" font-family=\"NotoColorEmoji\">🍄</text>\n",
       "</g>\n",
       "<g>\n",
       "<line x1=\"396.4920382611754\" y1=\"85.0102747322146\" x2=\"396.4920382611754\" y2=\"90.0068498214764\" stroke=\"black\" stroke-width=\"1\" />\n",
       "<text x=\"392.5186703367624\" y=\"99.0631421707634\" font-size=\"7.9778995188213px\" stroke=\"black\" font-family=\"NotoColorEmoji\">🍩</text>\n",
       "</g>\n",
       "<g>\n",
       "<line x1=\"422.3018034553914\" y1=\"85.0102747322146\" x2=\"422.3018034553914\" y2=\"90.0068498214764\" stroke=\"black\" stroke-width=\"1\" />\n",
       "<text x=\"418.3284355309785\" y=\"99.0631421707634\" font-size=\"7.9778995188213px\" stroke=\"black\" font-family=\"NotoColorEmoji\">🚀</text>\n",
       "</g>\n",
       "<g>\n",
       "<line x1=\"448.1115686496076\" y1=\"85.0102747322146\" x2=\"448.1115686496076\" y2=\"90.0068498214764\" stroke=\"black\" stroke-width=\"1\" />\n",
       "<text x=\"444.1382007251946\" y=\"99.0631421707634\" font-size=\"7.9778995188213px\" stroke=\"black\" font-family=\"NotoColorEmoji\">🦊</text>\n",
       "</g>\n",
       "<g>\n",
       "<line x1=\"473.9213338438236\" y1=\"85.0102747322146\" x2=\"473.9213338438236\" y2=\"90.0068498214764\" stroke=\"black\" stroke-width=\"1\" />\n",
       "<text x=\"469.9479659194106\" y=\"99.0631421707634\" font-size=\"7.9778995188213px\" stroke=\"black\" font-family=\"NotoColorEmoji\">🐋</text>\n",
       "</g>\n",
       "</g>\n",
       "<line x1=\"360.942739031406\" y1=\"87.5085622768455\" x2=\"483.3333333333333\" y2=\"87.5085622768455\" stroke=\"black\" />\n",
       "</g>\n",
       "<g>\n",
       "<g>\n",
       "<g>\n",
       "<text x=\"350\" y=\"83.4812926755999\" font-size=\"6.635984858342px\" stroke=\"black\" font-family=\"Montserrat\" font-weight=\"200\">-2</text>\n",
       "<line x1=\"358.6035543688404\" y1=\"81.1421080130343\" x2=\"363.2819236939716\" y2=\"81.1421080130343\" stroke=\"black\" stroke-width=\"1\" />\n",
       "</g>\n",
       "<g>\n",
       "<text x=\"351.3587652996374\" y=\"62.2597784628959\" font-size=\"6.6833847501873px\" stroke=\"black\" font-family=\"Montserrat\" font-weight=\"200\">-1</text>\n",
       "<line x1=\"358.6035543688404\" y1=\"59.9205938003303\" x2=\"363.2819236939716\" y2=\"59.9205938003303\" stroke=\"black\" stroke-width=\"1\" />\n",
       "</g>\n",
       "<g>\n",
       "<text x=\"351.9286415148153\" y=\"41.0382642501919\" font-size=\"6.5892525706072px\" stroke=\"black\" font-family=\"Montserrat\" font-weight=\"200\">0</text>\n",
       "<line x1=\"358.6035543688404\" y1=\"38.6990795876263\" x2=\"363.2819236939716\" y2=\"38.6990795876263\" stroke=\"black\" stroke-width=\"1\" />\n",
       "</g>\n",
       "<g>\n",
       "<text x=\"353.9051348894587\" y=\"19.8167500374879\" font-size=\"6.6833847501873px\" stroke=\"black\" font-family=\"Montserrat\" font-weight=\"200\">1</text>\n",
       "<line x1=\"358.6035543688404\" y1=\"17.4775653749223\" x2=\"363.2819236939716\" y2=\"17.4775653749223\" stroke=\"black\" stroke-width=\"1\" />\n",
       "</g>\n",
       "</g>\n",
       "<line x1=\"360.942739031406\" y1=\"11.1111111111111\" x2=\"360.942739031406\" y2=\"87.5085622768455\" stroke=\"black\" />\n",
       "</g>\n",
       "</g>\n",
       "</g>\n",
       "</g>\n",
       "<g>\n",
       "<rect x=\"341.6666666666666\" y=\"116.6666666666667\" width=\"150\" height=\"100\" fill=\"none\" stroke=\"black\" stroke-width=\"1\" />\n",
       "<g xaxis-tick-text-scale=\"1.5\">\n",
       "<polyline points=\"360.942739031406,149.81019069873742 362.1790076607184,148.46423908632025 363.4152762900308,147.12370714600104 364.6515449193432,145.79399272677108 365.8878135486556,144.48045011928215 367.124082177968,143.18836849600797 368.3603508072804,141.92295061361332 369.5966194365928,140.6892918632892 370.8328880659052,139.49235975341105 372.0691566952176,138.33697390713556 373.30542532452995,137.2277866554795 374.54169395384235,136.1692643040245 375.77796258315476,135.16566914868108 377.01423121246717,134.22104231292707 378.2504998417796,133.33918747562996 379.486768471092,132.52365555497434 380.7230371004044,131.7777304101678 381.95930572971673,131.10441561849882 383.19557435902914,130.5064223809912 384.43184298834154,129.98615860535443 385.66811161765395,129.5457192101891 386.90438024696635,129.18687768948922 388.14064887627876,128.91107897140776 389.3769175055911,128.71943360004101 390.6131861349035,128.6127132636594 391.8494547642159,128.59134768739128 393.0857233935283,128.65542290287144 394.32199202284073,128.80468090182205 395.55826065215314,129.03852067496106 396.79452928146554,129.35600063205433 398.0307979107779,129.75584239336717 399.2670665400903,130.2364359372485 400.5033351694027,130.79584608311956 401.7396037987151,131.43182028376324 402.9758724280275,132.14179769553672 404.2121410573399,132.92291948998488 405.4484096866523,133.77204036533354 406.6846783159647,134.6857412115096 407.9209469452771,135.6603428776905 409.1572155745895,136.69192098694617 410.3934842039019,137.77632173831964 411.6297528332143,138.90917863271767 412.8660214625267,140.08593005526126 414.1022900918391,141.30183764329897 415.33855872115146,142.55200536612068 416.57482735046386,143.8313992395456 417.81109597977627,145.13486759599945 419.0473646090887,146.45716182846192 420.2836332384011,147.7929575247543 421.5199018677135,149.13687590706846 422.7561704970259,150.4835054904064 423.99243912633824,151.82742387272054 425.22870775565065,153.16321956901294 426.46497638496305,154.4855138014754 427.70124501427546,155.78898215792927 428.93751364358786,157.06837603135415 430.17378227290027,158.3185437541759 431.4100509022127,159.53445134221357 432.646319531525,160.7112027647572 433.88258816083743,161.84405965915522 435.11885679014983,162.92846041052871 436.35512541946224,163.96003851978435 437.59139404877465,164.93464018596526 438.827662678087,165.84834103214132 440.06393130739946,166.69746190748998 441.3001999367118,167.47858370193813 442.5364685660242,168.18856111371161 443.7727371953366,168.82453531435533 445.009005824649,169.38394546022636 446.24527445396143,169.86453900410768 447.48154308327383,170.26438076542055 448.71781171258624,170.5818607225138 449.9540803418986,170.8157004956528 451.190348971211,170.96495849460342 452.4266176005234,171.02903371008358 453.66288622983575,171.00766813381546 454.8991548591482,170.90094779743384 456.13542348846056,170.7093024260671 457.37169211777297,170.43350370798564 458.6079607470854,170.07466218728575 459.8442293763978,169.63422279212043 461.0804980057102,169.11395901648365 462.3167666350226,168.51596577897604 463.553035264335,167.84265098730708 464.78930389364734,167.09672584250052 466.02557252295975,166.2811939218449 467.26184115227215,165.3993390845478 468.49810978158456,164.45471224879378 469.73437841089697,163.45111709345036 470.97064704020937,162.39259474199537 472.2069156695218,161.2834074903393 473.4431842988341,160.12802164406384 474.67945292814653,158.93108953418565 475.91572155745894,157.69743078386153 477.15199018677134,156.43201290146686 478.38825881608375,155.1399312781927 479.62452744539615,153.82638867070378 480.86079607470856,152.49667425147382 482.0970647040209,151.1561423111546 483.3333333333333,149.81019069873744\" fill=\"none\" stroke=\"#1e88e5\" />\n",
       "<polyline points=\"360.942739031406,149.81019069873742 362.1790076607184,149.8144647105744 363.4152762900308,149.82728674608535 364.6515449193432,149.84865680527028 365.8878135486556,149.87857488812918 367.124082177968,149.91704099466205 368.3603508072804,149.9640551248689 369.5966194365928,150.0196172787497 370.8328880659052,150.0837274563045 372.0691566952176,150.15638565753326 373.30542532452995,150.237591882436 374.54169395384235,150.3273461310127 375.77796258315476,150.42564840326335 377.01423121246717,150.532498699188 378.2504998417796,150.6478970187866 379.486768471092,150.7718433620592 380.7230371004044,150.90433772900576 381.95930572971673,151.0453801196263 383.19557435902914,151.19497053392078 384.43184298834154,151.35310897188924 385.66811161765395,151.5197954335317 386.90438024696635,151.6950299188481 388.14064887627876,151.87881242783848 389.3769175055911,152.07114296050284 390.6131861349035,152.27202151684116 391.8494547642159,152.48144809685348 393.0857233935283,152.69942270053974 394.32199202284073,152.9259453279 395.55826065215314,153.1610159789342 396.79452928146554,153.40463465364238 398.0307979107779,153.65680135202453 399.2670665400903,153.91751607408065 400.5033351694027,154.18677881981077 401.7396037987151,154.46458958921482 402.9758724280275,154.75094838229288 404.2121410573399,155.0458551990449 405.4484096866523,155.34931003947088 406.6846783159647,155.66131290357083 407.9209469452771,155.98186379134475 409.1572155745895,156.31096270279266 410.3934842039019,156.64860963791452 411.6297528332143,156.99480459671037 412.8660214625267,157.34954757918018 414.1022900918391,157.71283858532396 415.33855872115146,158.08467761514171 416.57482735046386,158.46506466863343 417.81109597977627,158.85399974579914 419.0473646090887,159.2514828466388 420.2836332384011,159.65751397115244 421.5199018677135,160.07209311934005 422.7561704970259,160.49522029120163 423.99243912633824,160.9268954867372 425.22870775565065,161.36711870594672 426.46497638496305,161.8158899488302 427.70124501427546,162.27320921538768 428.93751364358786,162.73907650561912 430.17378227290027,163.21349181952453 431.4100509022127,163.6964551571039 432.646319531525,164.18796651835729 433.88258816083743,164.6880259032846 435.11885679014983,165.1966333118859 436.35512541946224,165.71378874416118 437.59139404877465,166.23949220011042 438.827662678087,166.77374367973363 440.06393130739946,167.3165431830308 441.3001999367118,167.86789071000194 442.5364685660242,168.42778626064708 443.7727371953366,168.9962298349662 445.009005824649,169.57322143295926 446.24527445396143,170.15876105462627 447.48154308327383,170.7528486999673 448.71781171258624,171.35548436898227 449.9540803418986,171.96666806167124 451.190348971211,172.58639977803415 452.4266176005234,173.21467951807105 453.66288622983575,173.85150728178192 454.8991548591482,174.49688306916676 456.13542348846056,175.15080688022556 457.37169211777297,175.81327871495836 458.6079607470854,176.4842985733651 459.8442293763978,177.16386645544583 461.0804980057102,177.85198236120053 462.3167666350226,178.5486462906292 463.553035264335,179.25385824373183 464.78930389364734,179.96761822050846 466.02557252295975,180.68992622095902 467.26184115227215,181.4207822450836 468.49810978158456,182.1601862928821 469.73437841089697,182.9081383643546 470.97064704020937,183.66463845950108 472.2069156695218,184.4296865783215 473.4431842988341,185.2032827208159 474.67945292814653,185.98542688698427 475.91572155745894,186.77611907682666 477.15199018677134,187.575359290343 478.38825881608375,188.38314752753325 479.62452744539615,189.19948378839754 480.86079607470856,190.02436807293577 482.0970647040209,190.85780038114797 483.3333333333333,191.69978071303416\" fill=\"none\" stroke=\"#ff0d57\" />\n",
       "<polyline points=\"360.942739031406,149.81019069873742 362.1790076607184,149.81019069873742 363.4152762900308,149.81019069873742 364.6515449193432,149.81019069873742 365.8878135486556,149.81019069873742 367.124082177968,149.81019069873742 368.3603508072804,149.81019069873742 369.5966194365928,149.81019069873742 370.8328880659052,149.81019069873742 372.0691566952176,149.81019069873742 373.30542532452995,149.81019069873742 374.54169395384235,149.81019069873742 375.77796258315476,149.81019069873742 377.01423121246717,149.81019069873742 378.2504998417796,149.81019069873742 379.486768471092,149.81019069873742 380.7230371004044,149.81019069873742 381.95930572971673,149.81019069873742 383.19557435902914,149.81019069873742 384.43184298834154,149.81019069873742 385.66811161765395,149.81019069873742 386.90438024696635,149.81019069873742 388.14064887627876,149.81019069873742 389.3769175055911,149.81019069873742 390.6131861349035,149.81019069873742 391.8494547642159,149.81019069873742 393.0857233935283,149.81019069873742 394.32199202284073,149.81019069873742 395.55826065215314,149.81019069873742 396.79452928146554,149.81019069873742 398.0307979107779,149.81019069873742 399.2670665400903,149.81019069873742 400.5033351694027,149.81019069873742 401.7396037987151,149.81019069873742 402.9758724280275,149.81019069873742 404.2121410573399,149.81019069873742 405.4484096866523,149.81019069873742 406.6846783159647,149.81019069873742 407.9209469452771,149.81019069873742 409.1572155745895,149.81019069873742 410.3934842039019,149.81019069873742 411.6297528332143,149.81019069873742 412.8660214625267,149.81019069873742 414.1022900918391,149.81019069873742 415.33855872115146,149.81019069873742 416.57482735046386,149.81019069873742 417.81109597977627,149.81019069873742 419.0473646090887,149.81019069873742 420.2836332384011,149.81019069873742 421.5199018677135,149.81019069873742 422.7561704970259,149.81019069873742 423.99243912633824,149.81019069873742 425.22870775565065,149.81019069873742 426.46497638496305,149.81019069873742 427.70124501427546,149.81019069873742 428.93751364358786,149.81019069873742 430.17378227290027,149.81019069873742 431.4100509022127,149.81019069873742 432.646319531525,149.81019069873742 433.88258816083743,149.81019069873742 435.11885679014983,149.81019069873742 436.35512541946224,149.81019069873742 437.59139404877465,149.81019069873742 438.827662678087,149.81019069873742 440.06393130739946,149.81019069873742 441.3001999367118,149.81019069873742 442.5364685660242,149.81019069873742 443.7727371953366,149.81019069873742 445.009005824649,149.81019069873742 446.24527445396143,149.81019069873742 447.48154308327383,149.81019069873742 448.71781171258624,149.81019069873742 449.9540803418986,149.81019069873742 451.190348971211,149.81019069873742 452.4266176005234,149.81019069873742 453.66288622983575,149.81019069873742 454.8991548591482,149.81019069873742 456.13542348846056,149.81019069873742 457.37169211777297,149.81019069873742 458.6079607470854,149.81019069873742 459.8442293763978,149.81019069873742 461.0804980057102,149.81019069873742 462.3167666350226,149.81019069873742 463.553035264335,149.81019069873742 464.78930389364734,149.81019069873742 466.02557252295975,149.81019069873742 467.26184115227215,149.81019069873742 468.49810978158456,149.81019069873742 469.73437841089697,149.81019069873742 470.97064704020937,149.81019069873742 472.2069156695218,149.81019069873742 473.4431842988341,149.81019069873742 474.67945292814653,149.81019069873742 475.91572155745894,149.81019069873742 477.15199018677134,149.81019069873742 478.38825881608375,149.81019069873742 479.62452744539615,149.81019069873742 480.86079607470856,149.81019069873742 482.0970647040209,149.81019069873742 483.3333333333333,149.81019069873742\" fill=\"none\" stroke=\"black\" stroke-dasharray=\"4\" />\n",
       "<g xaxis-tick-text-scale=\"1.5\">\n",
       "<g>\n",
       "<g>\n",
       "<g>\n",
       "<line x1=\"370.6822730669593\" y1=\"196.1213858433257\" x2=\"370.6822730669593\" y2=\"201.1179609325875\" stroke=\"black\" stroke-width=\"1\" />\n",
       "<text x=\"366.7089051425462\" y=\"210.1742532818745\" font-size=\"7.9778995188214px\" stroke=\"black\" font-family=\"NotoColorEmoji\">🍄</text>\n",
       "</g>\n",
       "<g>\n",
       "<line x1=\"396.4920382611754\" y1=\"196.1213858433257\" x2=\"396.4920382611754\" y2=\"201.1179609325875\" stroke=\"black\" stroke-width=\"1\" />\n",
       "<text x=\"392.5186703367624\" y=\"210.1742532818745\" font-size=\"7.9778995188214px\" stroke=\"black\" font-family=\"NotoColorEmoji\">🍩</text>\n",
       "</g>\n",
       "<g>\n",
       "<line x1=\"422.3018034553914\" y1=\"196.1213858433257\" x2=\"422.3018034553914\" y2=\"201.1179609325875\" stroke=\"black\" stroke-width=\"1\" />\n",
       "<text x=\"418.3284355309785\" y=\"210.1742532818745\" font-size=\"7.9778995188214px\" stroke=\"black\" font-family=\"NotoColorEmoji\">🚀</text>\n",
       "</g>\n",
       "<g>\n",
       "<line x1=\"448.1115686496076\" y1=\"196.1213858433257\" x2=\"448.1115686496076\" y2=\"201.1179609325875\" stroke=\"black\" stroke-width=\"1\" />\n",
       "<text x=\"444.1382007251946\" y=\"210.1742532818745\" font-size=\"7.9778995188214px\" stroke=\"black\" font-family=\"NotoColorEmoji\">🦊</text>\n",
       "</g>\n",
       "<g>\n",
       "<line x1=\"473.9213338438236\" y1=\"196.1213858433257\" x2=\"473.9213338438236\" y2=\"201.1179609325875\" stroke=\"black\" stroke-width=\"1\" />\n",
       "<text x=\"469.9479659194106\" y=\"210.1742532818745\" font-size=\"7.9778995188214px\" stroke=\"black\" font-family=\"NotoColorEmoji\">🐋</text>\n",
       "</g>\n",
       "</g>\n",
       "<line x1=\"360.942739031406\" y1=\"198.6196733879566\" x2=\"483.3333333333333\" y2=\"198.6196733879566\" stroke=\"black\" />\n",
       "</g>\n",
       "<g>\n",
       "<g>\n",
       "<g>\n",
       "<text x=\"350.0000000000001\" y=\"194.5924037867109\" font-size=\"6.635984858342px\" stroke=\"black\" font-family=\"Montserrat\" font-weight=\"200\">-2</text>\n",
       "<line x1=\"358.6035543688404\" y1=\"192.2532191241454\" x2=\"363.2819236939716\" y2=\"192.2532191241454\" stroke=\"black\" stroke-width=\"1\" />\n",
       "</g>\n",
       "<g>\n",
       "<text x=\"351.3587652996374\" y=\"173.370889574007\" font-size=\"6.6833847501873px\" stroke=\"black\" font-family=\"Montserrat\" font-weight=\"200\">-1</text>\n",
       "<line x1=\"358.6035543688404\" y1=\"171.0317049114414\" x2=\"363.2819236939716\" y2=\"171.0317049114414\" stroke=\"black\" stroke-width=\"1\" />\n",
       "</g>\n",
       "<g>\n",
       "<text x=\"351.9286415148153\" y=\"152.149375361303\" font-size=\"6.5892525706072px\" stroke=\"black\" font-family=\"Montserrat\" font-weight=\"200\">0</text>\n",
       "<line x1=\"358.6035543688404\" y1=\"149.8101906987374\" x2=\"363.2819236939716\" y2=\"149.8101906987374\" stroke=\"black\" stroke-width=\"1\" />\n",
       "</g>\n",
       "<g>\n",
       "<text x=\"353.9051348894587\" y=\"130.927861148599\" font-size=\"6.6833847501873px\" stroke=\"black\" font-family=\"Montserrat\" font-weight=\"200\">1</text>\n",
       "<line x1=\"358.6035543688404\" y1=\"128.5886764860334\" x2=\"363.2819236939716\" y2=\"128.5886764860334\" stroke=\"black\" stroke-width=\"1\" />\n",
       "</g>\n",
       "</g>\n",
       "<line x1=\"360.942739031406\" y1=\"122.2222222222222\" x2=\"360.942739031406\" y2=\"198.6196733879566\" stroke=\"black\" />\n",
       "</g>\n",
       "</g>\n",
       "</g>\n",
       "</g>\n",
       "</g>\n",
       "</g>\n",
       "</svg>"
      ],
      "text/plain": [
       "svg: "
      ]
     },
     "execution_count": 33,
     "metadata": {},
     "output_type": "execute_result"
    }
   ],
   "source": [
    "plot1 = Frame(plot, margin=0.05, padding=0.05, border=1)\n",
    "SVG(plot | (plot1 & plot1), size=500)"
   ]
  },
  {
   "cell_type": "code",
   "execution_count": 34,
   "id": "4b5c6729-6594-40cd-bca9-ef624cf3d2bd",
   "metadata": {},
   "outputs": [
    {
     "data": {
      "image/svg+xml": [
       "<svg width=\"400\" height=\"266.6666666666666\" xmlns=\"http://www.w3.org/2000/svg\">\n",
       "<g>\n",
       "<g xaxis-tick-text-scale=\"1.5\">\n",
       "<polyline points=\"32.82821709421805,82.76390542954553 36.537022982155236,78.726050592294 40.24582887009243,74.70445477133637 43.95463475802962,70.71531151364645 47.663440645966816,66.77468369117972 51.372246533904004,62.8984388213572 55.08105242184119,59.102185174173215 58.78985830977839,55.40120892320088 62.498664197715584,51.810412593566376 66.20747008565277,48.34425505473993 69.91627597358996,45.01669329977172 73.62508186152715,41.841126245406784 77.33388774946434,38.830340779376456 81.04269363740153,35.99646027211448 84.75149952533873,33.35089576022314 88.46030541327592,30.904299998256292 92.16911130121312,28.666524563836656 95.8779171891503,26.646580188829745 99.58672307708748,24.85260047630694 103.29552896502469,23.291809149396595 107.00433485296188,21.97049096390061 110.71314074089906,20.89396640180096 114.42194662883625,20.06657024755658 118.13075251677344,19.4916341334563 121.83955840471064,19.17147312431148 125.54836429264783,19.10737639550711 129.25717018058504,19.29960204194755 132.96597606852222,19.747376038799434 136.6747819564594,20.44889535821646 140.38358784439657,21.401335229496233 144.0923937323338,22.60086051343481 147.80119962027098,24.042641145078754 151.51000550820817,25.720871582691917 155.21881139614538,27.628794184623022 158.92761728408254,29.75872641994345 162.63642317201976,32.10209180328793 166.34522905995692,34.64945442933389 170.05403494789414,37.390556967862054 173.76284083583133,40.31436196640479 177.47164672376852,43.40909629417176 181.1804526117057,46.6622985482922 184.8892584996429,50.06086923148628 188.59806438758008,53.591123499117074 192.30687027551727,57.23884626323013 196.01567616345446,60.98934943169533 199.72448205139167,64.82753105197003 203.43328793932884,68.73793612133164 207.14209382726602,72.70481881871899 210.85089971520324,76.7122059075962 214.55970560314043,80.74396105453863 218.26851149107762,84.78384980455246 221.97731737901478,88.81560495149489 225.686123266952,92.8229920403721 229.39492915488918,96.78987473775942 233.1037350428264,100.70027980712103 236.81254093076356,104.53846142739573 240.52134681870078,108.28896459586096 244.23015270663797,111.936687359974 247.93895859457513,115.4669416276048 251.64776448251231,118.86551231079886 255.35657037044953,122.11871456491932 259.06537625838666,125.21344889268627 262.77418214632394,128.13725389122902 266.4829880342611,130.8783564297572 270.1917939221983,133.42571905580317 273.9005998101355,135.76908443914763 277.6094056980727,137.89901667446807 281.31821158600985,139.80693927639916 285.027017473947,141.48516971401233 288.7358233618842,142.92695034565625 292.44462924982145,144.12647562959486 296.1534351377586,145.07891550087461 299.86224102569577,145.78043482029165 303.57104691363304,146.22820881714352 307.2798528015702,146.42043446358397 310.98865868950736,146.3563377347796 314.69746457744463,146.0361767256348 318.4062704653818,145.46124061153452 322.11507635331895,144.6338444572901 325.8238822412561,143.55731989519046 329.5326881291934,142.23600170969448 333.24149401713055,140.67521038278412 336.9502999050677,138.88123067026132 340.659105793005,136.86128629525442 344.36791168094214,134.62351086083478 348.0767175688793,132.1769150988679 351.78552345681646,129.53135058697657 355.4943293447536,126.69747007971463 359.2031352326909,123.68668461368432 362.91194112062806,120.51111755931936 366.62074700856533,117.18355580435113 370.3295528965025,113.71739826552471 374.03835878443965,110.12660193589019 377.7471646723768,106.42562568491783 381.455970560314,102.62937203773387 385.16477644825125,98.75312716791137 388.8735823361884,94.81249934544459 392.5823882241257,90.82335608775469 396.29119411206284,86.80176026679709 400.0,82.76390542954556\" fill=\"none\" stroke=\"#1e88e5\" />\n",
       "<polyline points=\"32.82821709421805,82.76390542954555 36.537022982155236,82.7767274650565 40.24582887009243,82.81519357158938 43.95463475802962,82.87930374914416 47.663440645966816,82.96905799772085 51.372246533904004,83.08445631731948 55.08105242184119,83.22549870794 58.78985830977839,83.39218516958245 62.498664197715584,83.5845157022468 66.20747008565277,83.80249030593306 69.91627597358996,84.04610898064125 73.62508186152715,84.31537172637135 77.33388774946434,84.61027854312336 81.04269363740153,84.93082943089729 84.75149952533873,85.27702438969312 88.46030541327592,85.64886341951089 92.16911130121312,86.04634652035055 95.8779171891503,86.46947369221213 99.58672307708748,86.91824493509563 103.29552896502469,87.39266024900104 107.00433485296188,87.89271963392837 110.71314074089906,88.4184230898776 114.42194662883625,88.96977061684876 118.13075251677344,89.54676221484183 121.83955840471064,90.14939788385682 125.54836429264783,90.77767762389371 129.25717018058504,91.43160143495253 132.96597606852222,92.11116931703324 136.6747819564594,92.81638127013589 140.38358784439657,93.54723729426044 144.0923937323338,94.3037373894069 147.80119962027098,95.08588155557528 151.51000550820817,95.89366979276558 155.21881139614538,96.72710210097779 158.92761728408254,97.58617848021191 162.63642317201976,98.47089893046795 166.34522905995692,99.3812634517459 170.05403494789414,100.31727204404578 173.76284083583133,101.27892470736755 177.47164672376852,102.26622144171125 181.1804526117057,103.27916224707685 184.8892584996429,104.31774712346437 188.59806438758008,105.3819760708738 192.30687027551727,106.47184908930515 196.01567616345446,107.58736617875843 199.72448205139167,108.72852733923361 203.43328793932884,109.89533257073069 207.14209382726602,111.0877818732497 210.85089971520324,112.30587524679062 214.55970560314043,113.54961269135346 218.26851149107762,114.81899420693821 221.97731737901478,116.11401979354488 225.686123266952,117.43468945117345 229.39492915488918,118.78100317982394 233.1037350428264,120.15296097949636 236.81254093076356,121.55056285019067 240.52134681870078,122.97380879190692 244.23015270663797,124.42269880464505 247.93895859457513,125.89723288840511 251.64776448251231,127.39741104318709 255.35657037044953,128.923233268991 259.06537625838666,130.4746995658168 262.77418214632394,132.05180993366452 266.4829880342611,133.65456437253414 270.1917939221983,135.2829628824257 273.9005998101355,136.93700546333915 277.6094056980727,138.61669211527453 281.31821158600985,140.32202283823182 285.027017473947,142.05299763221103 288.7358233618842,143.80961649721212 292.44462924982145,145.5918794332352 296.1534351377586,147.3997864402801 299.86224102569577,149.23333751834696 303.57104691363304,151.09253266743576 307.2798528015702,152.97737188754644 310.98865868950736,154.88785517867905 314.69746457744463,156.82398254083355 318.4062704653818,158.78575397401 322.11507635331895,160.77316947820833 325.8238822412561,162.7862290534286 329.5326881291934,164.82493269967077 333.24149401713055,166.88928041693487 336.9502999050677,168.97927220522087 340.659105793005,171.0949080645288 344.36791168094214,173.2361879948586 348.0767175688793,175.40311199621038 351.78552345681646,177.595680068584 355.4943293447536,179.81389221197958 359.2031352326909,182.05774842639704 362.91194112062806,184.32724871183646 366.62074700856533,186.62239306829778 370.3295528965025,188.943181495781 374.03835878443965,191.28961399428613 377.7471646723768,193.6616905638132 381.455970560314,196.05941120436216 385.16477644825125,198.48277591593305 388.8735823361884,200.93178469852586 392.5823882241257,203.40643755214057 396.29119411206284,205.90673447677722 400.0,208.43267547243573\" fill=\"none\" stroke=\"#ff0d57\" />\n",
       "<polyline points=\"32.82821709421805,82.76390542954555 36.537022982155236,82.76390542954555 40.24582887009243,82.76390542954555 43.95463475802962,82.76390542954555 47.663440645966816,82.76390542954555 51.372246533904004,82.76390542954555 55.08105242184119,82.76390542954555 58.78985830977839,82.76390542954555 62.498664197715584,82.76390542954555 66.20747008565277,82.76390542954555 69.91627597358996,82.76390542954555 73.62508186152715,82.76390542954555 77.33388774946434,82.76390542954555 81.04269363740153,82.76390542954555 84.75149952533873,82.76390542954555 88.46030541327592,82.76390542954555 92.16911130121312,82.76390542954555 95.8779171891503,82.76390542954555 99.58672307708748,82.76390542954555 103.29552896502469,82.76390542954555 107.00433485296188,82.76390542954555 110.71314074089906,82.76390542954555 114.42194662883625,82.76390542954555 118.13075251677344,82.76390542954555 121.83955840471064,82.76390542954555 125.54836429264783,82.76390542954555 129.25717018058504,82.76390542954555 132.96597606852222,82.76390542954555 136.6747819564594,82.76390542954555 140.38358784439657,82.76390542954555 144.0923937323338,82.76390542954555 147.80119962027098,82.76390542954555 151.51000550820817,82.76390542954555 155.21881139614538,82.76390542954555 158.92761728408254,82.76390542954555 162.63642317201976,82.76390542954555 166.34522905995692,82.76390542954555 170.05403494789414,82.76390542954555 173.76284083583133,82.76390542954555 177.47164672376852,82.76390542954555 181.1804526117057,82.76390542954555 184.8892584996429,82.76390542954555 188.59806438758008,82.76390542954555 192.30687027551727,82.76390542954555 196.01567616345446,82.76390542954555 199.72448205139167,82.76390542954555 203.43328793932884,82.76390542954555 207.14209382726602,82.76390542954555 210.85089971520324,82.76390542954555 214.55970560314043,82.76390542954555 218.26851149107762,82.76390542954555 221.97731737901478,82.76390542954555 225.686123266952,82.76390542954555 229.39492915488918,82.76390542954555 233.1037350428264,82.76390542954555 236.81254093076356,82.76390542954555 240.52134681870078,82.76390542954555 244.23015270663797,82.76390542954555 247.93895859457513,82.76390542954555 251.64776448251231,82.76390542954555 255.35657037044953,82.76390542954555 259.06537625838666,82.76390542954555 262.77418214632394,82.76390542954555 266.4829880342611,82.76390542954555 270.1917939221983,82.76390542954555 273.9005998101355,82.76390542954555 277.6094056980727,82.76390542954555 281.31821158600985,82.76390542954555 285.027017473947,82.76390542954555 288.7358233618842,82.76390542954555 292.44462924982145,82.76390542954555 296.1534351377586,82.76390542954555 299.86224102569577,82.76390542954555 303.57104691363304,82.76390542954555 307.2798528015702,82.76390542954555 310.98865868950736,82.76390542954555 314.69746457744463,82.76390542954555 318.4062704653818,82.76390542954555 322.11507635331895,82.76390542954555 325.8238822412561,82.76390542954555 329.5326881291934,82.76390542954555 333.24149401713055,82.76390542954555 336.9502999050677,82.76390542954555 340.659105793005,82.76390542954555 344.36791168094214,82.76390542954555 348.0767175688793,82.76390542954555 351.78552345681646,82.76390542954555 355.4943293447536,82.76390542954555 359.2031352326909,82.76390542954555 362.91194112062806,82.76390542954555 366.62074700856533,82.76390542954555 370.3295528965025,82.76390542954555 374.03835878443965,82.76390542954555 377.7471646723768,82.76390542954555 381.455970560314,82.76390542954555 385.16477644825125,82.76390542954555 388.8735823361884,82.76390542954555 392.5823882241257,82.76390542954555 396.29119411206284,82.76390542954555 400.0,82.76390542954555\" fill=\"none\" stroke=\"black\" stroke-dasharray=\"4\" />\n",
       "<g xaxis-tick-text-scale=\"1.5\">\n",
       "<g>\n",
       "<g>\n",
       "<g>\n",
       "<line x1=\"62.0468192008779\" y1=\"221.6974908633103\" x2=\"62.0468192008779\" y2=\"236.6872161310958\" stroke=\"black\" stroke-width=\"1\" />\n",
       "<text x=\"50.126715427639\" y=\"263.8560931789568\" font-size=\"23.933698556464px\" stroke=\"black\" font-family=\"NotoColorEmoji\">🍄</text>\n",
       "</g>\n",
       "<g>\n",
       "<line x1=\"139.4761147835262\" y1=\"221.6974908633104\" x2=\"139.4761147835262\" y2=\"236.6872161310958\" stroke=\"black\" stroke-width=\"1\" />\n",
       "<text x=\"127.5560110102872\" y=\"263.8560931789568\" font-size=\"23.933698556464px\" stroke=\"black\" font-family=\"NotoColorEmoji\">🍩</text>\n",
       "</g>\n",
       "<g>\n",
       "<line x1=\"216.9054103661745\" y1=\"221.6974908633103\" x2=\"216.9054103661745\" y2=\"236.6872161310958\" stroke=\"black\" stroke-width=\"1\" />\n",
       "<text x=\"204.9853065929355\" y=\"263.8560931789568\" font-size=\"23.933698556464px\" stroke=\"black\" font-family=\"NotoColorEmoji\">🚀</text>\n",
       "</g>\n",
       "<g>\n",
       "<line x1=\"294.3347059488227\" y1=\"221.6974908633103\" x2=\"294.3347059488227\" y2=\"236.6872161310958\" stroke=\"black\" stroke-width=\"1\" />\n",
       "<text x=\"282.4146021755838\" y=\"263.8560931789568\" font-size=\"23.933698556464px\" stroke=\"black\" font-family=\"NotoColorEmoji\">🦊</text>\n",
       "</g>\n",
       "<g>\n",
       "<line x1=\"371.764001531471\" y1=\"221.6974908633103\" x2=\"371.764001531471\" y2=\"236.6872161310958\" stroke=\"black\" stroke-width=\"1\" />\n",
       "<text x=\"359.843897758232\" y=\"263.8560931789568\" font-size=\"23.933698556464px\" stroke=\"black\" font-family=\"NotoColorEmoji\">🐋</text>\n",
       "</g>\n",
       "</g>\n",
       "<line x1=\"32.8282170942182\" y1=\"229.192353497203\" x2=\"399.9999999999999\" y2=\"229.192353497203\" stroke=\"black\" />\n",
       "</g>\n",
       "<g>\n",
       "<g>\n",
       "<g>\n",
       "<text x=\"1e-13\" y=\"217.1105446934662\" font-size=\"19.9079545750261px\" stroke=\"black\" font-family=\"Montserrat\" font-weight=\"200\">-2</text>\n",
       "<line x1=\"25.8106631065214\" y1=\"210.0929907057695\" x2=\"39.8457710819147\" y2=\"210.0929907057695\" stroke=\"black\" stroke-width=\"1\" />\n",
       "</g>\n",
       "<g>\n",
       "<text x=\"4.0762958989122\" y=\"153.4460020553542\" font-size=\"20.0501542505619px\" stroke=\"black\" font-family=\"Montserrat\" font-weight=\"200\">-1</text>\n",
       "<line x1=\"25.8106631065214\" y1=\"146.4284480676575\" x2=\"39.8457710819147\" y2=\"146.4284480676575\" stroke=\"black\" stroke-width=\"1\" />\n",
       "</g>\n",
       "<g>\n",
       "<text x=\"5.785924544446\" y=\"89.7814594172422\" font-size=\"19.7677577118217px\" stroke=\"black\" font-family=\"Montserrat\" font-weight=\"200\">0</text>\n",
       "<line x1=\"25.8106631065214\" y1=\"82.7639054295455\" x2=\"39.8457710819147\" y2=\"82.7639054295455\" stroke=\"black\" stroke-width=\"1\" />\n",
       "</g>\n",
       "<g>\n",
       "<text x=\"11.7154046683763\" y=\"26.1169167791303\" font-size=\"20.050154250562px\" stroke=\"black\" font-family=\"Montserrat\" font-weight=\"200\">1</text>\n",
       "<line x1=\"25.8106631065214\" y1=\"19.0993627914336\" x2=\"39.8457710819147\" y2=\"19.0993627914336\" stroke=\"black\" stroke-width=\"1\" />\n",
       "</g>\n",
       "</g>\n",
       "<line x1=\"32.828217094218\" y1=\"0\" x2=\"32.828217094218\" y2=\"229.1923534972031\" stroke=\"black\" />\n",
       "</g>\n",
       "</g>\n",
       "</g>\n",
       "<g>\n",
       "<g>\n",
       "<rect x=\"50.9333333333334\" y=\"119.9999999999999\" width=\"129.9555555555555\" height=\"90.6666666666667\" fill=\"none\" stroke=\"black\" stroke-width=\"1\" />\n",
       "<g xaxis-tick-text-scale=\"1.5\">\n",
       "<polyline points=\"59.74689447834837,135.45225117478887 60.90491686857833,136.18400272137094 62.06293925880829,136.91098174025214 63.22096164903825,137.63316968798088 64.378984039268,138.35054814331406 65.53700642949796,139.06309880768717 66.69502881972792,139.77080350568053 67.8530512099579,140.4736441854832 69.01107360018784,141.17160291935357 70.16909599041782,141.86466190407634 71.32711838064756,142.55280346141674 72.48514077087752,143.23601003857186 73.64316316110748,143.9142642086177 74.80118555133744,144.58754867095408 75.9592079415674,145.25584625174588 77.11723033179737,145.91913990436115 78.27525272202712,146.57741270980574 79.43327511225708,147.2306478771553 80.59129750248704,147.87882874398295 81.749319892717,148.52193877678476 82.90734228294696,149.15996157140125 84.06536467317693,149.79288085343606 85.22338706340668,150.4206804786707 86.38140945363664,151.04334443347685 87.5394318438666,151.6608568352243 88.69745423409655,152.27320193268648 89.85547662432651,152.88036410644193 91.01349901455647,153.48232786927298 92.17152140478623,154.0790778665605 93.32954379501619,154.6705988766761 94.48756618524615,155.25687581136964 95.64558857547611,155.83789371615467 96.80361096570607,156.41363777068963 97.96163335593604,156.98409328915594 99.11965574616599,157.54924572063265 100.27767813639575,158.10908064946744 101.43570052662571,158.6635837956447 102.59372291685567,159.21274101514928 103.75174530708563,159.75653830032752 104.90976769731559,160.2949617802446 106.06779008754555,160.8279977210383 107.2258124777753,161.35563252626912 108.38383486800527,161.8778527372677 109.54185725823523,162.39464503347733 110.69987964846518,162.9059962327942 111.85790203869514,163.41189329190354 113.0159244289251,163.9123233066123 114.17394681915486,164.40727351217825 115.33196920938482,164.89673128363594 116.48999159961478,165.38068413611813 117.64801398984474,165.85911972517465 118.8060363800747,166.33202584708724 119.96405877030466,166.79939043918074 121.12208116053442,167.26120158013072 122.28010355076438,167.71744749026794 123.43812594099434,168.16811653187833 124.5961483312243,168.6131972095001 125.75417072145424,169.05267817021692 126.91219311168422,169.4865482039475 128.0702155019142,169.9147962437316 129.22823789214394,170.33741136601205 130.38626028237388,170.7543827909139 131.54428267260386,171.16569988251885 132.7023050628338,171.57135214913689 133.86032745306377,171.97132924357365 135.01834984329352,172.36562096339455 136.1763722335235,172.75421725118514 137.33439462375344,173.13710819480727 138.4924170139834,173.51428402765214 139.65043940421336,173.8857351288895 140.80846179444333,174.2514520237129 141.96648418467328,174.61142538358138 143.12450657490305,174.96564602645753 144.282528965133,175.31410491704173 145.44055135536297,175.6567931670024 146.59857374559292,175.9937020352029 147.7565961358229,176.32482292792434 148.91461852605283,176.65014739908509 150.0726409162826,176.9696671504557 151.23066330651255,177.2833740318713 152.38868569674253,177.59126004143874 153.54670808697247,177.89331732574124 154.70473047720245,178.18953818003828 155.8627528674324,178.47991504846257 157.02077525766217,178.76444052421238 158.1787976478921,179.0431073497409 159.33682003812208,179.31590841694089 160.49484242835203,179.58283676732628 161.652864818582,179.84388559220963 162.81088720881195,180.09904823287576 163.96890959904172,180.34831818075156 165.12693198927167,180.59168907757223 166.28495437950164,180.8291547155431 167.4429767697316,181.06070903749819 168.60099915996156,181.28634613705478 169.7590215501915,181.50606025876397 170.91704394042148,181.7198457982574 172.07506633065123,181.9276973023904 173.2330887208812,182.129609469381 174.39111111111114,182.325577148945\" fill=\"none\" stroke=\"#1e88e5\" />\n",
       "<polyline points=\"59.74689447834837,142.9209663862269 60.90491686857833,143.40471847507575 62.06293925880829,143.88907344539126 63.22096164903825,144.37403129717347 64.378984039268,144.85959203042222 65.53700642949796,145.3457556451377 66.69502881972792,145.8325221413199 67.8530512099579,146.31989151896872 69.01107360018784,146.8078637780842 70.16909599041782,147.29643891866638 71.32711838064756,147.78561694071507 72.48514077087752,148.27539784423055 73.64316316110748,148.7657816292127 74.80118555133744,149.25676829566146 75.9592079415674,149.74835784357694 77.11723033179737,150.24055027295904 78.27525272202712,150.73334558380776 79.43327511225708,151.2267437761232 80.59129750248704,151.7207448499053 81.749319892717,152.21534880515404 82.90734228294696,152.71055564186946 84.06536467317693,153.20636536005154 85.22338706340668,153.70277795970017 86.38140945363664,154.1997934408156 87.5394318438666,154.69741180339767 88.69745423409655,155.1956330474464 89.85547662432651,155.69445717296176 91.01349901455647,156.1938841799438 92.17152140478623,156.69391406839244 93.32954379501619,157.1945468383078 94.48756618524615,157.69578248968986 95.64558857547611,158.19762102253856 96.80361096570607,158.7000624368539 97.96163335593604,159.20310673263592 99.11965574616599,159.70675390988464 100.27767813639575,160.21100396859984 101.43570052662571,160.7158569087819 102.59372291685567,161.22131273043053 103.75174530708563,161.7273714335458 104.90976769731559,162.23403301812783 106.06779008754555,162.74129748417644 107.2258124777753,163.2491648316917 108.38383486800527,163.75763506067366 109.54185725823523,164.26670817112227 110.69987964846518,164.77638416303756 111.85790203869514,165.28666303641953 113.0159244289251,165.7975447912681 114.17394681915486,166.30902942758328 115.33196920938482,166.82111694536522 116.48999159961478,167.33380734461383 117.64801398984474,167.84710062532906 118.8060363800747,168.36099678751097 119.96405877030466,168.87549583115955 121.12208116053442,169.3905977562747 122.28010355076438,169.9063025628566 123.43812594099434,170.42261025090517 124.5961483312243,170.9395208204204 125.75417072145424,171.45703427140225 126.91219311168422,171.9751506038508 128.0702155019142,172.493869817766 129.22823789214394,173.0131919131478 130.38626028237388,173.5331168899963 131.54428267260386,174.0536447483115 132.7023050628338,174.57477548809337 133.86032745306377,175.09650910934187 135.01834984329352,175.61884561205693 136.1763722335235,176.14178499623875 137.33439462375344,176.66532726188726 138.4924170139834,177.18947240900243 139.65043940421336,177.71422043758423 140.80846179444333,178.2395713476327 141.96648418467328,178.76552513914788 143.12450657490305,179.29208181212957 144.282528965133,179.81924136657804 145.44055135536297,180.34700380249313 146.59857374559292,180.8753691198749 147.7565961358229,181.40433731872338 148.91461852605283,181.93390839903844 150.0726409162826,182.46408236082013 151.23066330651255,182.99485920406855 152.38868569674253,183.52623892878367 153.54670808697247,184.05822153496538 154.70473047720245,184.5908070226138 155.8627528674324,185.1239953917289 157.02077525766217,185.65778664231055 158.1787976478921,186.19218077435892 159.33682003812208,186.72717778787396 160.49484242835203,187.26277768285567 161.652864818582,187.79898045930406 162.81088720881195,188.33578611721913 163.96890959904172,188.87319465660067 165.12693198927167,189.41120607744904 166.28495437950164,189.94982037976408 167.4429767697316,190.48903756354574 168.60099915996156,191.02885762879407 169.7590215501915,191.56928057550908 170.91704394042148,192.11030640369077 172.07506633065123,192.651935113339 173.2330887208812,193.19416670445398 174.39111111111114,193.7370011770356\" fill=\"none\" stroke=\"#ff0d57\" />\n",
       "<polyline points=\"59.74689447834837,-50.918570975689505 60.90491686857833,-50.918570975689505 62.06293925880829,-50.918570975689505 63.22096164903825,-50.918570975689505 64.378984039268,-50.918570975689505 65.53700642949796,-50.918570975689505 66.69502881972792,-50.918570975689505 67.8530512099579,-50.918570975689505 69.01107360018784,-50.918570975689505 70.16909599041782,-50.918570975689505 71.32711838064756,-50.918570975689505 72.48514077087752,-50.918570975689505 73.64316316110748,-50.918570975689505 74.80118555133744,-50.918570975689505 75.9592079415674,-50.918570975689505 77.11723033179737,-50.918570975689505 78.27525272202712,-50.918570975689505 79.43327511225708,-50.918570975689505 80.59129750248704,-50.918570975689505 81.749319892717,-50.918570975689505 82.90734228294696,-50.918570975689505 84.06536467317693,-50.918570975689505 85.22338706340668,-50.918570975689505 86.38140945363664,-50.918570975689505 87.5394318438666,-50.918570975689505 88.69745423409655,-50.918570975689505 89.85547662432651,-50.918570975689505 91.01349901455647,-50.918570975689505 92.17152140478623,-50.918570975689505 93.32954379501619,-50.918570975689505 94.48756618524615,-50.918570975689505 95.64558857547611,-50.918570975689505 96.80361096570607,-50.918570975689505 97.96163335593604,-50.918570975689505 99.11965574616599,-50.918570975689505 100.27767813639575,-50.918570975689505 101.43570052662571,-50.918570975689505 102.59372291685567,-50.918570975689505 103.75174530708563,-50.918570975689505 104.90976769731559,-50.918570975689505 106.06779008754555,-50.918570975689505 107.2258124777753,-50.918570975689505 108.38383486800527,-50.918570975689505 109.54185725823523,-50.918570975689505 110.69987964846518,-50.918570975689505 111.85790203869514,-50.918570975689505 113.0159244289251,-50.918570975689505 114.17394681915486,-50.918570975689505 115.33196920938482,-50.918570975689505 116.48999159961478,-50.918570975689505 117.64801398984474,-50.918570975689505 118.8060363800747,-50.918570975689505 119.96405877030466,-50.918570975689505 121.12208116053442,-50.918570975689505 122.28010355076438,-50.918570975689505 123.43812594099434,-50.918570975689505 124.5961483312243,-50.918570975689505 125.75417072145424,-50.918570975689505 126.91219311168422,-50.918570975689505 128.0702155019142,-50.918570975689505 129.22823789214394,-50.918570975689505 130.38626028237388,-50.918570975689505 131.54428267260386,-50.918570975689505 132.7023050628338,-50.918570975689505 133.86032745306377,-50.918570975689505 135.01834984329352,-50.918570975689505 136.1763722335235,-50.918570975689505 137.33439462375344,-50.918570975689505 138.4924170139834,-50.918570975689505 139.65043940421336,-50.918570975689505 140.80846179444333,-50.918570975689505 141.96648418467328,-50.918570975689505 143.12450657490305,-50.918570975689505 144.282528965133,-50.918570975689505 145.44055135536297,-50.918570975689505 146.59857374559292,-50.918570975689505 147.7565961358229,-50.918570975689505 148.91461852605283,-50.918570975689505 150.0726409162826,-50.918570975689505 151.23066330651255,-50.918570975689505 152.38868569674253,-50.918570975689505 153.54670808697247,-50.918570975689505 154.70473047720245,-50.918570975689505 155.8627528674324,-50.918570975689505 157.02077525766217,-50.918570975689505 158.1787976478921,-50.918570975689505 159.33682003812208,-50.918570975689505 160.49484242835203,-50.918570975689505 161.652864818582,-50.918570975689505 162.81088720881195,-50.918570975689505 163.96890959904172,-50.918570975689505 165.12693198927167,-50.918570975689505 166.28495437950164,-50.918570975689505 167.4429767697316,-50.918570975689505 168.60099915996156,-50.918570975689505 169.7590215501915,-50.918570975689505 170.91704394042148,-50.918570975689505 172.07506633065123,-50.918570975689505 173.2330887208812,-50.918570975689505 174.39111111111114,-50.918570975689505\" fill=\"none\" stroke=\"black\" stroke-dasharray=\"4\" />\n",
       "<g xaxis-tick-text-scale=\"1.5\">\n",
       "<g>\n",
       "<g>\n",
       "\n",
       "</g>\n",
       "<line x1=\"59.7468944783483\" y1=\"201.9798347274052\" x2=\"174.3911111111111\" y2=\"201.9798347274052\" stroke=\"black\" />\n",
       "</g>\n",
       "<g>\n",
       "<g>\n",
       "\n",
       "</g>\n",
       "<line x1=\"59.7468944783484\" y1=\"126.3466666666666\" x2=\"59.7468944783484\" y2=\"201.9798347274052\" stroke=\"black\" />\n",
       "</g>\n",
       "</g>\n",
       "</g>\n",
       "</g>\n",
       "</g>\n",
       "</g>\n",
       "</svg>"
      ],
      "text/plain": [
       "svg: "
      ]
     },
     "execution_count": 34,
     "metadata": {},
     "output_type": "execute_result"
    }
   ],
   "source": [
    "plot1 = Frame(\n",
    "    plot_scandal(\n",
    "        xlim=(4.05, 4.55), ylim=(-1.07, -0.75),\n",
    "        xticks=[], yticks=[]\n",
    "    ),\n",
    "    border=1, padding=(0.05, 0.07),\n",
    ")\n",
    "cont = Container([\n",
    "    plot_scandal(),\n",
    "    Point(plot1, x=0.28, y=0.62, r=0.17),\n",
    "], aspect=plot.aspect)\n",
    "SVG(cont, size=400)"
   ]
  },
  {
   "cell_type": "markdown",
   "id": "bb1f63c4",
   "metadata": {},
   "source": [
    "### Golfing"
   ]
  },
  {
   "cell_type": "code",
   "execution_count": 35,
   "id": "a67f556b",
   "metadata": {},
   "outputs": [
    {
     "data": {
      "image/svg+xml": [
       "<svg width=\"250\" height=\"250\" xmlns=\"http://www.w3.org/2000/svg\">\n",
       "<g>\n",
       "<g>\n",
       "<rect x=\"9.85\" y=\"9.85\" width=\"230.3\" height=\"230.3\" fill=\"#BBB\" stroke=\"#222\" stroke-width=\"5\" rx=\"20\" />\n",
       "<g>\n",
       "<text x=\"29.45\" y=\"213.0325004838887\" font-size=\"258.9191190702607px\" stroke=\"#222\" font-family=\"STIX\" font-weight=\"400\" fill=\"#222\">ℓ</text>\n",
       "<g>\n",
       "<text x=\"166.4182139881679\" y=\"107.3934999032223\" font-size=\"109.3571434582467px\" stroke=\"#222\" font-family=\"STIX\" font-weight=\"400\" fill=\"#222\">2</text>\n",
       "</g>\n",
       "</g>\n",
       "</g>\n",
       "</g>\n",
       "</svg>"
      ],
      "text/plain": [
       "g: "
      ]
     },
     "execution_count": 35,
     "metadata": {},
     "output_type": "execute_result"
    }
   ],
   "source": [
    "font = 'STIX'\n",
    "fgcol = '#222'\n",
    "bgcol = '#BBB'\n",
    "size = 100\n",
    "\n",
    "ell = Text('ℓ', font_family=font, fill=fgcol, stroke=fgcol)\n",
    "two = Text('2', font_family=font, fill=fgcol, stroke=fgcol)\n",
    "ell2 = HStack([ell, VStack({two: 0.4}, expand=False)])\n",
    "\n",
    "logo = Frame(\n",
    "    ell2, padding=0.08, margin=0.03, aspect=1, border=size/20,\n",
    "    rect_rx=size/5, rect_fill=bgcol, rect_stroke=fgcol\n",
    ")\n",
    "\n",
    "logo"
   ]
  },
  {
   "cell_type": "code",
   "execution_count": 36,
   "id": "67d5e3d1",
   "metadata": {},
   "outputs": [
    {
     "data": {
      "image/svg+xml": [
       "<svg width=\"250\" height=\"125\" xmlns=\"http://www.w3.org/2000/svg\">\n",
       "<g>\n",
       "<g>\n",
       "<g>\n",
       "<rect x=\"2.5\" y=\"1.25\" width=\"122.5\" height=\"122.5\" fill=\"none\" stroke=\"black\" stroke-width=\"1\" />\n",
       "<g>\n",
       "<text x=\"51.5\" y=\"101.7900735294118\" font-size=\"24.5960784313726px\" stroke=\"black\" font-family=\"NotoColorEmoji\">🍄</text>\n",
       "<text x=\"69.500923351457\" y=\"95.9412189821445\" font-size=\"24.5960784313725px\" stroke=\"black\" font-family=\"NotoColorEmoji\">🍩</text>\n",
       "<text x=\"80.6261058115391\" y=\"80.6287189821445\" font-size=\"24.5960784313725px\" stroke=\"black\" font-family=\"NotoColorEmoji\">🚀</text>\n",
       "<text x=\"80.6261058115391\" y=\"61.701428076679\" font-size=\"24.5960784313725px\" stroke=\"black\" font-family=\"NotoColorEmoji\">🦊</text>\n",
       "<text x=\"69.500923351457\" y=\"46.388928076679\" font-size=\"24.5960784313725px\" stroke=\"black\" font-family=\"NotoColorEmoji\">🐋</text>\n",
       "<text x=\"51.5\" y=\"40.5400735294118\" font-size=\"24.5960784313726px\" stroke=\"black\" font-family=\"NotoColorEmoji\">🍄</text>\n",
       "<text x=\"33.499076648543\" y=\"46.388928076679\" font-size=\"24.5960784313725px\" stroke=\"black\" font-family=\"NotoColorEmoji\">🍩</text>\n",
       "<text x=\"22.3738941884609\" y=\"61.701428076679\" font-size=\"24.5960784313726px\" stroke=\"black\" font-family=\"NotoColorEmoji\">🚀</text>\n",
       "<text x=\"22.3738941884609\" y=\"80.6287189821445\" font-size=\"24.5960784313726px\" stroke=\"black\" font-family=\"NotoColorEmoji\">🦊</text>\n",
       "<text x=\"33.499076648543\" y=\"95.9412189821445\" font-size=\"24.5960784313725px\" stroke=\"black\" font-family=\"NotoColorEmoji\">🐋</text>\n",
       "</g>\n",
       "</g>\n",
       "<g>\n",
       "<rect x=\"125\" y=\"1.25\" width=\"122.5\" height=\"122.5\" fill=\"none\" stroke=\"black\" stroke-width=\"1\" />\n",
       "<g>\n",
       "<text x=\"174\" y=\"101.7900735294118\" font-size=\"24.5960784313726px\" stroke=\"black\" font-family=\"NotoColorEmoji\">🍄</text>\n",
       "<text x=\"192.000923351457\" y=\"95.9412189821445\" font-size=\"24.5960784313725px\" stroke=\"black\" font-family=\"NotoColorEmoji\">🍩</text>\n",
       "<text x=\"203.1261058115391\" y=\"80.6287189821445\" font-size=\"24.5960784313725px\" stroke=\"black\" font-family=\"NotoColorEmoji\">🚀</text>\n",
       "<text x=\"203.1261058115391\" y=\"61.701428076679\" font-size=\"24.5960784313725px\" stroke=\"black\" font-family=\"NotoColorEmoji\">🦊</text>\n",
       "<text x=\"192.000923351457\" y=\"46.388928076679\" font-size=\"24.5960784313725px\" stroke=\"black\" font-family=\"NotoColorEmoji\">🐋</text>\n",
       "<text x=\"174\" y=\"40.5400735294118\" font-size=\"24.5960784313726px\" stroke=\"black\" font-family=\"NotoColorEmoji\">🍄</text>\n",
       "<text x=\"155.999076648543\" y=\"46.388928076679\" font-size=\"24.5960784313725px\" stroke=\"black\" font-family=\"NotoColorEmoji\">🍩</text>\n",
       "<text x=\"144.8738941884609\" y=\"61.701428076679\" font-size=\"24.5960784313726px\" stroke=\"black\" font-family=\"NotoColorEmoji\">🚀</text>\n",
       "<text x=\"144.8738941884609\" y=\"80.6287189821445\" font-size=\"24.5960784313726px\" stroke=\"black\" font-family=\"NotoColorEmoji\">🦊</text>\n",
       "<text x=\"155.999076648543\" y=\"95.9412189821445\" font-size=\"24.5960784313725px\" stroke=\"black\" font-family=\"NotoColorEmoji\">🐋</text>\n",
       "</g>\n",
       "</g>\n",
       "</g>\n",
       "</g>\n",
       "</svg>"
      ],
      "text/plain": [
       "g: "
      ]
     },
     "execution_count": 36,
     "metadata": {},
     "output_type": "execute_result"
    }
   ],
   "source": [
    "from itertools import cycle\n",
    "emoji = cycle('🍄🍩🚀🦊🐋')\n",
    "ts = np.linspace(0, 2*np.pi, 11)[:-1]\n",
    "xs = 0.25 + 0.5*(np.sin(ts)+1)/2\n",
    "ys = 0.25 + 0.5*(np.cos(ts)+1)/2\n",
    "wreath = Scatter({\n",
    "    Emoji(e): (x, y) for e, x, y in zip(emoji, xs, ys)\n",
    "}, r=0.1, aspect=1)\n",
    "frame = Frame(wreath, border=1)\n",
    "frame | frame"
   ]
  },
  {
   "cell_type": "code",
   "execution_count": 37,
   "id": "30987e08",
   "metadata": {},
   "outputs": [
    {
     "data": {
      "image/svg+xml": [
       "<svg width=\"193.1818181818182\" height=\"250\" xmlns=\"http://www.w3.org/2000/svg\">\n",
       "<g>\n",
       "<g>\n",
       "<polygon points=\"1.9318181818181819,2.5 125.10000000000001,2.5 191.25,68.65 191.25,247.5 1.9318181818181819,247.5\" fill=\"none\" stroke=\"#888\" stroke-width=\"10\" />\n",
       "<g>\n",
       "<g>\n",
       "<line x1=\"30.3295454545455\" y1=\"51.5\" x2=\"162.8522727272727\" y2=\"51.5\" stroke=\"#888\" stroke-width=\"12\" />\n",
       "<line x1=\"30.3295454545455\" y1=\"100.5\" x2=\"162.8522727272727\" y2=\"100.5\" stroke=\"#888\" stroke-width=\"12\" />\n",
       "<line x1=\"30.3295454545455\" y1=\"149.5\" x2=\"162.8522727272727\" y2=\"149.5\" stroke=\"#888\" stroke-width=\"12\" />\n",
       "<line x1=\"30.3295454545455\" y1=\"198.5\" x2=\"162.8522727272727\" y2=\"198.5\" stroke=\"#888\" stroke-width=\"12\" />\n",
       "</g>\n",
       "</g>\n",
       "<polygon points=\"125.10000000000001,2.5 125.10000000000001,68.65 191.25,68.65\" fill=\"#888\" stroke=\"#888\" stroke-width=\"0\" />\n",
       "</g>\n",
       "</g>\n",
       "</svg>"
      ],
      "text/plain": [
       "g: "
      ]
     },
     "execution_count": 37,
     "metadata": {},
     "output_type": "execute_result"
    }
   ],
   "source": [
    "clip = 0.27\n",
    "rows = 4\n",
    "aspect = 8.5/11\n",
    "bwidth = 10\n",
    "lwidth = 12\n",
    "scolor = '#888'\n",
    "\n",
    "paper = Polygon(\n",
    "    [(0, 0), (1-clip/aspect, 0), (1, clip), (1, 1), (0, 1)],\n",
    "    stroke=scolor, stroke_width=bwidth\n",
    ")\n",
    "cut = Polygon(\n",
    "    [(1-clip/aspect, 0), (1-clip/aspect, clip), (1, clip)],\n",
    "    stroke=scolor, stroke_width=0, fill=scolor\n",
    ")\n",
    "\n",
    "line = HLine(stroke=scolor, stroke_width=lwidth)\n",
    "lines = Frame(VStack(rows*[line]), margin=(0.15, 0.1))\n",
    "\n",
    "sheet = Box([paper, lines, cut], aspect=aspect)\n",
    "sheet"
   ]
  },
  {
   "cell_type": "code",
   "execution_count": 38,
   "id": "978f9a9a",
   "metadata": {},
   "outputs": [
    {
     "data": {
      "image/svg+xml": [
       "<svg width=\"241.0973873938642\" height=\"250\" xmlns=\"http://www.w3.org/2000/svg\">\n",
       "<g>\n",
       "<g>\n",
       "<rect x=\"2.4109738739387\" y=\"2.5\" width=\"236.2754396459869\" height=\"245\" fill=\"none\" stroke=\"black\" stroke-width=\"1\" />\n",
       "<g>\n",
       "<g>\n",
       "<g>\n",
       "<text x=\"13.9412153286628\" y=\"74.6141448045557\" font-size=\"87.6706236581162px\" stroke=\"black\" font-family=\"Montserrat\" font-weight=\"400\">Do A</text>\n",
       "<rect x=\"13.9412153286628\" y=\"13.2447082438744\" width=\"72.415935141604\" height=\"61.3694365606813\" fill=\"none\" stroke=\"red\" />\n",
       "<rect x=\"86.3571504702668\" y=\"27.7103611474636\" width=\"54.9694810336388\" height=\"46.9037836570922\" fill=\"none\" stroke=\"red\" />\n",
       "<rect x=\"141.3266315039056\" y=\"74.6141448045558\" width=\"22.9697033984264\" height=\"0\" fill=\"none\" stroke=\"red\" />\n",
       "<rect x=\"164.2963349023321\" y=\"13.2447082438744\" width=\"62.8598371628693\" height=\"61.3694365606813\" fill=\"none\" stroke=\"red\" />\n",
       "<rect x=\"13.9412153286628\" y=\"13.2447082438744\" width=\"213.2149567365386\" height=\"61.3694365606813\" fill=\"none\" stroke=\"blue\" stroke-dasharray=\"5 5\" />\n",
       "</g>\n",
       "</g>\n",
       "<g>\n",
       "<g>\n",
       "<text x=\"13.9412153286629\" y=\"137.8529200158234\" font-size=\"70.624364603027px\" stroke=\"black\" font-family=\"Montserrat\" font-weight=\"400\">Barrel</text>\n",
       "<rect x=\"13.9412153286629\" y=\"88.4158647937045\" width=\"53.2507709106824\" height=\"49.4370552221189\" fill=\"none\" stroke=\"red\" />\n",
       "<rect x=\"67.1919862393452\" y=\"100.068884953204\" width=\"41.6683751157859\" height=\"37.7840350626194\" fill=\"none\" stroke=\"red\" />\n",
       "<rect x=\"108.8603613551311\" y=\"100.4220067762191\" width=\"28.3203702058138\" height=\"37.4309132396043\" fill=\"none\" stroke=\"red\" />\n",
       "<rect x=\"137.180731560945\" y=\"100.4220067762191\" width=\"28.3203702058138\" height=\"37.4309132396043\" fill=\"none\" stroke=\"red\" />\n",
       "<rect x=\"165.5011017667588\" y=\"100.068884953204\" width=\"42.6571162202283\" height=\"37.7840350626194\" fill=\"none\" stroke=\"red\" />\n",
       "<rect x=\"208.1582179869871\" y=\"85.4496414803774\" width=\"18.9979540782143\" height=\"52.403278535446\" fill=\"none\" stroke=\"red\" />\n",
       "<rect x=\"13.9412153286629\" y=\"85.4496414803774\" width=\"213.2149567365385\" height=\"52.403278535446\" fill=\"none\" stroke=\"blue\" stroke-dasharray=\"5 5\" />\n",
       "</g>\n",
       "</g>\n",
       "<g>\n",
       "<g>\n",
       "<text x=\"13.9412153286629\" y=\"234.6194966758217\" font-size=\"112.9316508138445px\" stroke=\"black\" font-family=\"Montserrat\" font-weight=\"400\">Roll</text>\n",
       "<rect x=\"13.9412153286629\" y=\"155.5673411061305\" width=\"81.6495835384096\" height=\"79.0521555696912\" fill=\"none\" stroke=\"red\" />\n",
       "<rect x=\"95.5907988670724\" y=\"174.2010634904148\" width=\"70.8081450602805\" height=\"60.4184331854068\" fill=\"none\" stroke=\"red\" />\n",
       "<rect x=\"166.398943927353\" y=\"150.824211771949\" width=\"30.3786140689242\" height=\"83.7952849038726\" fill=\"none\" stroke=\"red\" />\n",
       "<rect x=\"196.7775579962772\" y=\"150.824211771949\" width=\"30.3786140689242\" height=\"83.7952849038726\" fill=\"none\" stroke=\"red\" />\n",
       "<rect x=\"13.9412153286629\" y=\"150.824211771949\" width=\"213.2149567365385\" height=\"83.7952849038726\" fill=\"none\" stroke=\"blue\" stroke-dasharray=\"5 5\" />\n",
       "</g>\n",
       "</g>\n",
       "</g>\n",
       "</g>\n",
       "</g>\n",
       "</svg>"
      ],
      "text/plain": [
       "g: "
      ]
     },
     "execution_count": 38,
     "metadata": {},
     "output_type": "execute_result"
    }
   ],
   "source": [
    "padbox = lambda e: Frame(e, padding=(0.03, 0.08))\n",
    "Frame(gum.VStack([\n",
    "    padbox(TextDebug('Do A')),\n",
    "    padbox(TextDebug('Barrel')),\n",
    "    padbox(TextDebug('Roll')),\n",
    "], expand=True), border=1, padding=(0.02, 0.02))"
   ]
  },
  {
   "cell_type": "code",
   "execution_count": null,
   "id": "9691e764-9da8-45a1-b384-17c6da7751fa",
   "metadata": {},
   "outputs": [],
   "source": []
  }
 ],
 "metadata": {
  "kernelspec": {
   "display_name": "Python 3.9",
   "language": "python",
   "name": "python3.9"
  },
  "language_info": {
   "codemirror_mode": {
    "name": "ipython",
    "version": 3
   },
   "file_extension": ".py",
   "mimetype": "text/x-python",
   "name": "python",
   "nbconvert_exporter": "python",
   "pygments_lexer": "ipython3",
   "version": "3.9.5"
  }
 },
 "nbformat": 4,
 "nbformat_minor": 5
}
