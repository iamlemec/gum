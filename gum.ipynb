{
 "cells": [
  {
   "cell_type": "code",
   "execution_count": 1,
   "metadata": {
    "tags": []
   },
   "outputs": [],
   "source": [
    "from gum import *"
   ]
  },
  {
   "cell_type": "code",
   "execution_count": 2,
   "metadata": {},
   "outputs": [],
   "source": [
    "%config InlineBackend.figure_format = 'svg'"
   ]
  },
  {
   "cell_type": "code",
   "execution_count": 3,
   "metadata": {},
   "outputs": [
    {
     "data": {
      "image/svg+xml": [
       "<svg width=\"250\" height=\"250\" xmlns=\"http://www.w3.org/2000/svg\">\n",
       "<g>\n",
       "<g>\n",
       "<g>\n",
       "<g>\n",
       "<g>\n",
       "<line x1=\"76\" y1=\"76\" x2=\"174\" y2=\"174\" stroke=\"black\" stroke-width=\"25\" />\n",
       "<line x1=\"76\" y1=\"174\" x2=\"174\" y2=\"76\" stroke=\"black\" stroke-width=\"25\" />\n",
       "</g>\n",
       "</g>\n",
       "<ellipse cx=\"125\" cy=\"125\" rx=\"98\" ry=\"98\" fill=\"none\" stroke=\"black\" stroke-width=\"25\" />\n",
       "</g>\n",
       "</g>\n",
       "</g>\n",
       "</svg>"
      ],
      "text/plain": [
       "g: "
      ]
     },
     "execution_count": 3,
     "metadata": {},
     "output_type": "execute_result"
    }
   ],
   "source": [
    "ex0 = Ray(-45, stroke_width=25) + Ray(45, stroke_width=25)\n",
    "ex = Frame(ex0, margin=0.25)\n",
    "ci = Circle(stroke_width=25)\n",
    "bt = ex + ci\n",
    "Frame(bt, margin=0.1)"
   ]
  },
  {
   "cell_type": "code",
   "execution_count": 4,
   "metadata": {},
   "outputs": [
    {
     "data": {
      "image/svg+xml": [
       "<svg width=\"250\" height=\"250\" xmlns=\"http://www.w3.org/2000/svg\">\n",
       "<g>\n",
       "<g>\n",
       "<g>\n",
       "<line x1=\"125\" y1=\"2.5\" x2=\"125\" y2=\"247.5\" stroke=\"black\" />\n",
       "<line x1=\"103.39994486321302\" y1=\"2.5\" x2=\"146.60005513678698\" y2=\"247.5\" stroke=\"black\" />\n",
       "<line x1=\"80.41364630239019\" y1=\"2.5\" x2=\"169.5863536976098\" y2=\"247.5\" stroke=\"black\" />\n",
       "<line x1=\"54.27459202427082\" y1=\"2.5\" x2=\"195.72540797572918\" y2=\"247.5\" stroke=\"black\" />\n",
       "<line x1=\"22.21029518078319\" y1=\"2.5\" x2=\"227.7897048192168\" y2=\"247.5\" stroke=\"black\" />\n",
       "<line x1=\"2.5\" y1=\"22.210295180783206\" x2=\"247.5\" y2=\"227.7897048192168\" stroke=\"black\" />\n",
       "<line x1=\"2.5\" y1=\"54.274592024270845\" x2=\"247.5\" y2=\"195.72540797572915\" stroke=\"black\" />\n",
       "<line x1=\"2.5\" y1=\"80.41364630239022\" x2=\"247.5\" y2=\"169.58635369760978\" stroke=\"black\" />\n",
       "<line x1=\"2.5\" y1=\"103.39994486321304\" x2=\"247.5\" y2=\"146.60005513678698\" stroke=\"black\" />\n",
       "<line x1=\"2.5\" y1=\"125\" x2=\"247.5\" y2=\"125\" stroke=\"black\" />\n",
       "<line x1=\"2.5\" y1=\"146.60005513678698\" x2=\"247.5\" y2=\"103.39994486321304\" stroke=\"black\" />\n",
       "<line x1=\"2.5\" y1=\"169.58635369760978\" x2=\"247.5\" y2=\"80.41364630239022\" stroke=\"black\" />\n",
       "<line x1=\"2.5\" y1=\"195.72540797572915\" x2=\"247.5\" y2=\"54.274592024270845\" stroke=\"black\" />\n",
       "<line x1=\"2.5\" y1=\"227.7897048192168\" x2=\"247.5\" y2=\"22.210295180783206\" stroke=\"black\" />\n",
       "<line x1=\"22.21029518078319\" y1=\"247.5\" x2=\"227.7897048192168\" y2=\"2.5\" stroke=\"black\" />\n",
       "<line x1=\"54.27459202427082\" y1=\"247.5\" x2=\"195.72540797572918\" y2=\"2.5\" stroke=\"black\" />\n",
       "<line x1=\"80.41364630239019\" y1=\"247.5\" x2=\"169.5863536976098\" y2=\"2.5\" stroke=\"black\" />\n",
       "<line x1=\"103.39994486321302\" y1=\"247.5\" x2=\"146.60005513678698\" y2=\"2.5\" stroke=\"black\" />\n",
       "</g>\n",
       "<rect x=\"2.5\" y=\"2.5\" width=\"245\" height=\"245\" fill=\"none\" stroke=\"black\" />\n",
       "</g>\n",
       "</g>\n",
       "</svg>"
      ],
      "text/plain": [
       "g: "
      ]
     },
     "execution_count": 4,
     "metadata": {},
     "output_type": "execute_result"
    }
   ],
   "source": [
    "Box([Ray(th) for th in range(-90, 90, 10)]) + Rect()"
   ]
  },
  {
   "cell_type": "code",
   "execution_count": 5,
   "metadata": {},
   "outputs": [
    {
     "data": {
      "image/svg+xml": [
       "<svg width=\"250\" height=\"57.91617506074986\" xmlns=\"http://www.w3.org/2000/svg\">\n",
       "<g>\n",
       "<g>\n",
       "<g>\n",
       "<text x=\"14.662566665510855\" y=\"45.985442998235385\" font-size=\"48.64958705102987px\" stroke=\"black\" font-family=\"Montserrat\">Test</text>\n",
       "<rect x=\"2.5\" y=\"0.5791617506075125\" width=\"122.5\" height=\"56.757851559534835\" fill=\"none\" stroke=\"black\" />\n",
       "</g>\n",
       "<g>\n",
       "<text x=\"137.16256666551087\" y=\"45.985442998235385\" font-size=\"48.64958705102987px\" stroke=\"black\" font-family=\"Montserrat\">Test</text>\n",
       "<rect x=\"125.0\" y=\"0.5791617506075125\" width=\"122.5\" height=\"56.757851559534835\" fill=\"none\" stroke=\"black\" />\n",
       "</g>\n",
       "</g>\n",
       "</g>\n",
       "</svg>"
      ],
      "text/plain": [
       "g: "
      ]
     },
     "execution_count": 5,
     "metadata": {},
     "output_type": "execute_result"
    }
   ],
   "source": [
    "t = Node('Test')\n",
    "t | t"
   ]
  },
  {
   "cell_type": "code",
   "execution_count": 6,
   "metadata": {},
   "outputs": [
    {
     "data": {
      "image/svg+xml": [
       "<svg width=\"172.0735228567908\" height=\"250\" xmlns=\"http://www.w3.org/2000/svg\">\n",
       "<g>\n",
       "<g>\n",
       "<g>\n",
       "<text x=\"34.76066654711119\" y=\"135.99424980715548\" font-size=\"143.02955336480946px\" stroke=\"black\" font-family=\"Montserrat\">A</text>\n",
       "<rect x=\"1.7207352285679218\" y=\"2.5\" width=\"168.63205239965495\" height=\"166.86781225894435\" fill=\"none\" stroke=\"black\" />\n",
       "</g>\n",
       "<g>\n",
       "<text x=\"18.463580773488104\" y=\"231.87356245178887\" font-size=\"66.97044663519056px\" stroke=\"black\" font-family=\"Montserrat\">Test</text>\n",
       "<rect x=\"1.7207352285679218\" y=\"169.36781225894435\" width=\"168.63205239965495\" height=\"78.13218774105565\" fill=\"none\" stroke=\"black\" />\n",
       "</g>\n",
       "</g>\n",
       "</g>\n",
       "</svg>"
      ],
      "text/plain": [
       "g: "
      ]
     },
     "execution_count": 6,
     "metadata": {},
     "output_type": "execute_result"
    }
   ],
   "source": [
    "t1 = Node(text='A')\n",
    "t2 = Node(text='Test')\n",
    "t1 & t2"
   ]
  },
  {
   "cell_type": "markdown",
   "metadata": {},
   "source": [
    "### Text Debug"
   ]
  },
  {
   "cell_type": "code",
   "execution_count": 7,
   "metadata": {},
   "outputs": [
    {
     "data": {
      "image/svg+xml": [
       "<svg width=\"250\" height=\"100\" xmlns=\"http://www.w3.org/2000/svg\">\n",
       "<g>\n",
       "<g>\n",
       "<text x=\"25.411522633744866\" y=\"80\" font-size=\"82.3045267489712px\" stroke=\"black\" font-family=\"Montserrat\">gum</text>\n",
       "<rect x=\"25.411522633744852\" y=\"20\" width=\"56.46090534979426\" height=\"60\" fill=\"none\" stroke=\"red\" />\n",
       "<rect x=\"81.87242798353911\" y=\"36.29629629629629\" width=\"55.390946502057616\" height=\"43.70370370370371\" fill=\"none\" stroke=\"red\" />\n",
       "<rect x=\"137.26337448559673\" y=\"36.37860082304526\" width=\"87.32510288065845\" height=\"43.62139917695474\" fill=\"none\" stroke=\"red\" />\n",
       "<rect x=\"25.411522633744852\" y=\"20\" width=\"199.17695473251032\" height=\"60\" fill=\"none\" stroke=\"blue\" stroke-dasharray=\"5 5\" />\n",
       "</g>\n",
       "</g>\n",
       "</svg>"
      ],
      "text/plain": [
       "svg: "
      ]
     },
     "execution_count": 7,
     "metadata": {},
     "output_type": "execute_result"
    }
   ],
   "source": [
    "text = TextDebug(text='gum')\n",
    "logo = Frame(text, padding=(0.1, 0.2))\n",
    "s = SVG(logo, size=(250, 100))\n",
    "s.save('gum.svg')\n",
    "s"
   ]
  },
  {
   "cell_type": "code",
   "execution_count": 8,
   "metadata": {
    "tags": []
   },
   "outputs": [
    {
     "data": {
      "image/svg+xml": [
       "<svg width=\"250\" height=\"49.37920331091566\" xmlns=\"http://www.w3.org/2000/svg\">\n",
       "<g>\n",
       "<g>\n",
       "<g>\n",
       "<text x=\"12.3\" y=\"39.20708742886704\" font-size=\"38.868770477668555px\" stroke=\"black\" font-family=\"Montserrat\">hello world!</text>\n",
       "<rect x=\"12.3\" y=\"10.366459734436969\" width=\"26.314157613381614\" height=\"28.840627694430072\" fill=\"none\" stroke=\"red\" />\n",
       "<rect x=\"38.614157613381614\" y=\"18.41229522331436\" width=\"23.476737368511813\" height=\"20.79479220555268\" fill=\"none\" stroke=\"red\" />\n",
       "<rect x=\"62.09089498189343\" y=\"10.366459734436969\" width=\"10.455699258492857\" height=\"28.840627694430072\" fill=\"none\" stroke=\"red\" />\n",
       "<rect x=\"72.54659424038628\" y=\"10.366459734436969\" width=\"10.455699258492828\" height=\"28.840627694430072\" fill=\"none\" stroke=\"red\" />\n",
       "<rect x=\"83.00229349887911\" y=\"18.41229522331436\" width=\"24.37071908949821\" height=\"20.79479220555268\" fill=\"none\" stroke=\"red\" />\n",
       "<rect x=\"107.37301258837732\" y=\"39.20708742886704\" width=\"10.183617865149145\" height=\"0.0\" fill=\"none\" stroke=\"red\" />\n",
       "<rect x=\"117.55663045352647\" y=\"18.76211415761338\" width=\"33.582617692705654\" height=\"20.444973271253662\" fill=\"none\" stroke=\"red\" />\n",
       "<rect x=\"151.13924814623212\" y=\"18.41229522331436\" width=\"24.37071908949821\" height=\"20.79479220555268\" fill=\"none\" stroke=\"red\" />\n",
       "<rect x=\"175.50996723573033\" y=\"18.606639075702702\" width=\"15.275426797723696\" height=\"20.60044835316434\" fill=\"none\" stroke=\"red\" />\n",
       "<rect x=\"190.78539403345403\" y=\"10.366459734436969\" width=\"10.45569925849287\" height=\"28.840627694430072\" fill=\"none\" stroke=\"red\" />\n",
       "<rect x=\"201.2410932919469\" y=\"10.172115882048628\" width=\"26.353026383859287\" height=\"29.03497154681841\" fill=\"none\" stroke=\"red\" />\n",
       "<rect x=\"227.59411967580618\" y=\"11.804604242110708\" width=\"10.105880324193805\" height=\"27.402483186756335\" fill=\"none\" stroke=\"red\" />\n",
       "<rect x=\"12.3\" y=\"10.172115882048628\" width=\"225.39999999999998\" height=\"29.03497154681841\" fill=\"none\" stroke=\"blue\" stroke-dasharray=\"5 5\" />\n",
       "</g>\n",
       "<rect x=\"2.500000000000014\" y=\"0.49379203310915665\" width=\"245\" height=\"48.391619244697345\" fill=\"none\" stroke=\"black\" stroke-width=\"1\" />\n",
       "</g>\n",
       "</g>\n",
       "</svg>"
      ],
      "text/plain": [
       "g: "
      ]
     },
     "execution_count": 8,
     "metadata": {},
     "output_type": "execute_result"
    }
   ],
   "source": [
    "hello = TextDebug(text='hello world!')\n",
    "s = Frame(hello, padding=(0.04, 0.2), border=1)\n",
    "s.save('test/hello.svg')\n",
    "s"
   ]
  },
  {
   "cell_type": "code",
   "execution_count": 9,
   "metadata": {},
   "outputs": [
    {
     "data": {
      "image/svg+xml": [
       "<svg width=\"250\" height=\"58.94607843137256\" xmlns=\"http://www.w3.org/2000/svg\">\n",
       "<g>\n",
       "<g>\n",
       "<g>\n",
       "<g>\n",
       "<text x=\"27.0\" y=\"46.80318627450981\" font-size=\"49.19215686274511px\" stroke=\"black\" font-family=\"NotoColorEmoji\">🦊</text>\n",
       "<rect x=\"27.0\" y=\"6.36617647058824\" width=\"49.0\" height=\"46.21372549019608\" fill=\"none\" stroke=\"black\" stroke-width=\"1\" />\n",
       "</g>\n",
       "<g>\n",
       "<text x=\"76.0\" y=\"46.80318627450981\" font-size=\"49.19215686274511px\" stroke=\"black\" font-family=\"NotoColorEmoji\">🍄</text>\n",
       "<rect x=\"76.0\" y=\"6.36617647058824\" width=\"49.0\" height=\"46.21372549019608\" fill=\"none\" stroke=\"black\" stroke-width=\"1\" />\n",
       "</g>\n",
       "<g>\n",
       "<text x=\"125.0\" y=\"46.80318627450981\" font-size=\"49.19215686274511px\" stroke=\"black\" font-family=\"NotoColorEmoji\">🗻</text>\n",
       "<rect x=\"125.0\" y=\"6.36617647058824\" width=\"49.0\" height=\"46.21372549019608\" fill=\"none\" stroke=\"black\" stroke-width=\"1\" />\n",
       "</g>\n",
       "<g>\n",
       "<text x=\"174.0\" y=\"46.80318627450981\" font-size=\"49.19215686274511px\" stroke=\"black\" font-family=\"NotoColorEmoji\">⬜</text>\n",
       "<rect x=\"174.0\" y=\"6.36617647058824\" width=\"49.0\" height=\"46.21372549019608\" fill=\"none\" stroke=\"black\" stroke-width=\"1\" />\n",
       "</g>\n",
       "</g>\n",
       "</g>\n",
       "</g>\n",
       "</svg>"
      ],
      "text/plain": [
       "g: "
      ]
     },
     "execution_count": 9,
     "metadata": {},
     "output_type": "execute_result"
    }
   ],
   "source": [
    "squares = list('🦊🍄🗻⬜')\n",
    "squares = [Emoji(text=s) for s in squares]\n",
    "squares = [Frame(s, border=1) for s in squares]\n",
    "s = Frame(HStack(squares), margin=0.1)\n",
    "s.save('test/emoji.svg')\n",
    "s"
   ]
  },
  {
   "cell_type": "code",
   "execution_count": 10,
   "metadata": {},
   "outputs": [
    {
     "data": {
      "image/svg+xml": [
       "<svg width=\"250\" height=\"235.78431372549025\" xmlns=\"http://www.w3.org/2000/svg\">\n",
       "<g>\n",
       "<g>\n",
       "<text x=\"27\" y=\"187.21274509803925\" font-size=\"196.76862745098043px\" stroke=\"black\" font-family=\"NotoColorEmoji\">🍄</text>\n",
       "</g>\n",
       "</g>\n",
       "</svg>"
      ],
      "text/plain": [
       "g: "
      ]
     },
     "execution_count": 10,
     "metadata": {},
     "output_type": "execute_result"
    }
   ],
   "source": [
    "Frame(Emoji('🍄'), margin=0.1)"
   ]
  },
  {
   "cell_type": "markdown",
   "metadata": {},
   "source": [
    "### Font Shaping"
   ]
  },
  {
   "cell_type": "code",
   "execution_count": 11,
   "metadata": {},
   "outputs": [],
   "source": [
    "from gi.repository import HarfBuzz as hb"
   ]
  },
  {
   "cell_type": "code",
   "execution_count": 12,
   "metadata": {},
   "outputs": [],
   "source": [
    "font, infos, positions, extents = get_text_shape('🗻', font='Noto Emoji', debug=True)"
   ]
  },
  {
   "cell_type": "code",
   "execution_count": 13,
   "metadata": {},
   "outputs": [
    {
     "name": "stdout",
     "output_type": "stream",
     "text": [
      "2555 2405\n",
      "0 1898\n"
     ]
    }
   ],
   "source": [
    "ext = extents[0].extents\n",
    "print(ext.width, -ext.height)\n",
    "print(ext.x_bearing, ext.y_bearing)"
   ]
  },
  {
   "cell_type": "code",
   "execution_count": 14,
   "metadata": {},
   "outputs": [
    {
     "name": "stdout",
     "output_type": "stream",
     "text": [
      "0 0\n",
      "2550 0\n"
     ]
    }
   ],
   "source": [
    "pos = positions[0]\n",
    "print(pos.x_offset, pos.y_offset)\n",
    "print(pos.x_advance, pos.y_advance)"
   ]
  },
  {
   "cell_type": "markdown",
   "metadata": {},
   "source": [
    "### Layout"
   ]
  },
  {
   "cell_type": "code",
   "execution_count": 15,
   "metadata": {},
   "outputs": [],
   "source": [
    "na = Node(text='A', pad=0.2)\n",
    "nt = Node(text='Test', pad=0.2)\n",
    "b = Bullet()"
   ]
  },
  {
   "cell_type": "code",
   "execution_count": 16,
   "metadata": {},
   "outputs": [
    {
     "data": {
      "image/svg+xml": [
       "<svg width=\"250\" height=\"250\" xmlns=\"http://www.w3.org/2000/svg\">\n",
       "<g>\n",
       "<g>\n",
       "<g>\n",
       "<ellipse cx=\"149.5\" cy=\"76\" rx=\"12.25\" ry=\"12.25\" fill=\"black\" stroke=\"black\" />\n",
       "</g>\n",
       "<rect x=\"2.5\" y=\"2.5\" width=\"245\" height=\"245\" fill=\"none\" stroke=\"black\" />\n",
       "</g>\n",
       "</g>\n",
       "</svg>"
      ],
      "text/plain": [
       "g: "
      ]
     },
     "execution_count": 16,
     "metadata": {},
     "output_type": "execute_result"
    }
   ],
   "source": [
    "Point(b, x=0.6, y=0.3, r=0.05) + Rect()"
   ]
  },
  {
   "cell_type": "code",
   "execution_count": 17,
   "metadata": {},
   "outputs": [
    {
     "data": {
      "image/svg+xml": [
       "<svg width=\"250\" height=\"250\" xmlns=\"http://www.w3.org/2000/svg\">\n",
       "<g>\n",
       "<g>\n",
       "<g>\n",
       "<g>\n",
       "<text x=\"46.201054741025416\" y=\"202.57977380300213\" font-size=\"83.12118621750228px\" stroke=\"black\" font-family=\"Montserrat\">A</text>\n",
       "<rect x=\"27\" y=\"125\" width=\"98\" height=\"96.97471725375267\" fill=\"none\" stroke=\"black\" />\n",
       "</g>\n",
       "</g>\n",
       "<rect x=\"2.5\" y=\"2.5\" width=\"245\" height=\"245\" fill=\"none\" stroke=\"black\" />\n",
       "</g>\n",
       "</g>\n",
       "</svg>"
      ],
      "text/plain": [
       "g: "
      ]
     },
     "execution_count": 17,
     "metadata": {},
     "output_type": "execute_result"
    }
   ],
   "source": [
    "Point(na, x=0.3, y=0.7, r=0.2) + Rect()"
   ]
  },
  {
   "cell_type": "code",
   "execution_count": 18,
   "metadata": {},
   "outputs": [
    {
     "data": {
      "image/svg+xml": [
       "<svg width=\"250\" height=\"78.89261572892536\" xmlns=\"http://www.w3.org/2000/svg\">\n",
       "<g>\n",
       "<g>\n",
       "<g>\n",
       "<text x=\"17.808371569919224\" y=\"62.64073688876674\" font-size=\"66.2697972122973px\" stroke=\"black\" font-family=\"Montserrat\">A</text>\n",
       "<rect x=\"2.5\" y=\"0.7889261572892536\" width=\"78.13218774105563\" height=\"77.31476341434686\" fill=\"none\" stroke=\"black\" />\n",
       "</g>\n",
       "<g>\n",
       "<text x=\"97.1998684833198\" y=\"62.64073688876674\" font-size=\"66.2697972122973px\" stroke=\"black\" font-family=\"Montserrat\">Test</text>\n",
       "<rect x=\"80.63218774105566\" y=\"0.7889261572892536\" width=\"166.8678122589443\" height=\"77.31476341434686\" fill=\"none\" stroke=\"black\" />\n",
       "</g>\n",
       "</g>\n",
       "</g>\n",
       "</svg>"
      ],
      "text/plain": [
       "g: "
      ]
     },
     "execution_count": 18,
     "metadata": {},
     "output_type": "execute_result"
    }
   ],
   "source": [
    "na | nt"
   ]
  },
  {
   "cell_type": "code",
   "execution_count": 19,
   "metadata": {},
   "outputs": [
    {
     "data": {
      "image/svg+xml": [
       "<svg width=\"250\" height=\"141.44752195193354\" xmlns=\"http://www.w3.org/2000/svg\">\n",
       "<g>\n",
       "<g>\n",
       "<g>\n",
       "<g>\n",
       "<text x=\"21.19366564188012\" y=\"76.94419853973741\" font-size=\"80.9247035573765px\" stroke=\"black\" font-family=\"Montserrat\">A</text>\n",
       "<rect x=\"2.500000000000014\" y=\"1.4144752195193424\" width=\"95.41034373439918\" height=\"94.41215415027258\" fill=\"none\" stroke=\"black\" />\n",
       "</g>\n",
       "<g>\n",
       "<text x=\"11.972936051011734\" y=\"131.19176325988974\" font-size=\"37.89121488224762px\" stroke=\"black\" font-family=\"Montserrat\">Test</text>\n",
       "<rect x=\"2.500000000000014\" y=\"95.82662936979196\" width=\"95.41034373439918\" height=\"44.20641736262223\" fill=\"none\" stroke=\"black\" />\n",
       "</g>\n",
       "</g>\n",
       "<g>\n",
       "<g>\n",
       "<text x=\"151.40741848689697\" y=\"56.86190382467727\" font-size=\"59.40795921981208px\" stroke=\"black\" font-family=\"Montserrat\">A</text>\n",
       "<rect x=\"137.6841365062071\" y=\"1.4144752195193353\" width=\"70.04207072198503\" height=\"69.30928575644742\" fill=\"none\" stroke=\"black\" />\n",
       "</g>\n",
       "<g>\n",
       "<text x=\"112.7625410144092\" y=\"126.17118958112471\" font-size=\"59.4079592198121px\" stroke=\"black\" font-family=\"Montserrat\">Test</text>\n",
       "<rect x=\"97.91034373439922\" y=\"70.72376097596675\" width=\"149.58965626560078\" height=\"69.30928575644744\" fill=\"none\" stroke=\"black\" />\n",
       "</g>\n",
       "</g>\n",
       "</g>\n",
       "</g>\n",
       "</svg>"
      ],
      "text/plain": [
       "g: "
      ]
     },
     "execution_count": 19,
     "metadata": {},
     "output_type": "execute_result"
    }
   ],
   "source": [
    "VStack([na, nt], expand=True) | VStack([na, nt], expand=False)"
   ]
  },
  {
   "cell_type": "code",
   "execution_count": 20,
   "metadata": {},
   "outputs": [
    {
     "data": {
      "image/svg+xml": [
       "<svg width=\"250\" height=\"64.8145523993823\" xmlns=\"http://www.w3.org/2000/svg\">\n",
       "<g>\n",
       "<g>\n",
       "<g>\n",
       "<g>\n",
       "<text x=\"11.06587343887089\" y=\"35.25762572056227\" font-size=\"37.08158592489477px\" stroke=\"black\" font-family=\"Montserrat\">A</text>\n",
       "<rect x=\"2.5000000000000284\" y=\"0.648145523993823\" width=\"43.71924398589127\" height=\"43.26185024571055\" fill=\"none\" stroke=\"black\" />\n",
       "</g>\n",
       "<g>\n",
       "<text x=\"6.840720159544004\" y=\"60.11512465425166\" font-size=\"17.362638090586376px\" stroke=\"black\" font-family=\"Montserrat\">Test</text>\n",
       "<rect x=\"2.5000000000000284\" y=\"43.90999576970437\" width=\"43.71924398589127\" height=\"20.2564111056841\" fill=\"none\" stroke=\"black\" />\n",
       "</g>\n",
       "</g>\n",
       "<g>\n",
       "<g>\n",
       "<text x=\"58.79589950808815\" y=\"51.462754605109545\" font-size=\"54.44422401548114px\" stroke=\"black\" font-family=\"Montserrat\">A</text>\n",
       "<rect x=\"46.219243985891296\" y=\"0.648145523993823\" width=\"64.1898196634937\" height=\"63.51826135139465\" fill=\"none\" stroke=\"black\" />\n",
       "</g>\n",
       "<g>\n",
       "<text x=\"124.02030979307202\" y=\"51.462754605109545\" font-size=\"54.44422401548114px\" stroke=\"black\" font-family=\"Montserrat\">Test</text>\n",
       "<rect x=\"110.409063649385\" y=\"0.648145523993823\" width=\"137.09093635061498\" height=\"63.51826135139465\" fill=\"none\" stroke=\"black\" />\n",
       "</g>\n",
       "</g>\n",
       "</g>\n",
       "</g>\n",
       "</svg>"
      ],
      "text/plain": [
       "g: "
      ]
     },
     "execution_count": 20,
     "metadata": {},
     "output_type": "execute_result"
    }
   ],
   "source": [
    "(na & nt) | (na | nt)"
   ]
  },
  {
   "cell_type": "markdown",
   "metadata": {},
   "source": [
    "### Plots"
   ]
  },
  {
   "cell_type": "code",
   "execution_count": 21,
   "metadata": {},
   "outputs": [],
   "source": [
    "ticks = {0.15: 'hello', 0.35: '0.3', 0.5: 'abc', 0.8: 'world'}"
   ]
  },
  {
   "cell_type": "code",
   "execution_count": 22,
   "metadata": {},
   "outputs": [
    {
     "data": {
      "image/svg+xml": [
       "<svg width=\"250\" height=\"214.07741251325564\" xmlns=\"http://www.w3.org/2000/svg\">\n",
       "<g>\n",
       "<g>\n",
       "<line x1=\"125\" y1=\"2.1407741251325842\" x2=\"125\" y2=\"86.05911983032877\" stroke=\"black\" stroke-width=\"1\" />\n",
       "<text x=\"2.5\" y=\"211.93663838812304\" font-size=\"129.90455991516438px\" stroke=\"black\" font-family=\"Montserrat\" font-weight=\"200\">test</text>\n",
       "</g>\n",
       "</g>\n",
       "</svg>"
      ],
      "text/plain": [
       "g: "
      ]
     },
     "execution_count": 22,
     "metadata": {},
     "output_type": "execute_result"
    }
   ],
   "source": [
    "VTick('test')"
   ]
  },
  {
   "cell_type": "code",
   "execution_count": 23,
   "metadata": {},
   "outputs": [
    {
     "data": {
      "image/svg+xml": [
       "<svg width=\"250\" height=\"31.25\" xmlns=\"http://www.w3.org/2000/svg\">\n",
       "<g>\n",
       "<g>\n",
       "<g>\n",
       "<line x1=\"39.25\" y1=\"0.3125\" x2=\"39.25\" y2=\"12.5625\" stroke=\"black\" stroke-width=\"1\" />\n",
       "<text x=\"19.05896226415094\" y=\"30.9375\" font-size=\"16.50943396226415px\" stroke=\"black\" font-family=\"Montserrat\" font-weight=\"200\">hello</text>\n",
       "</g>\n",
       "<g>\n",
       "<line x1=\"88.25\" y1=\"0.3125\" x2=\"88.25\" y2=\"12.5625\" stroke=\"black\" stroke-width=\"1\" />\n",
       "<text x=\"75.88816713483145\" y=\"30.9375\" font-size=\"17.205056179775283px\" stroke=\"black\" font-family=\"Montserrat\" font-weight=\"200\">0.3</text>\n",
       "</g>\n",
       "<g>\n",
       "<line x1=\"125\" y1=\"0.3125\" x2=\"125\" y2=\"12.5625\" stroke=\"black\" stroke-width=\"1\" />\n",
       "<text x=\"109.98678045515396\" y=\"30.9375\" font-size=\"16.39892904953146px\" stroke=\"black\" font-family=\"Montserrat\" font-weight=\"200\">abc</text>\n",
       "</g>\n",
       "<g>\n",
       "<line x1=\"198.5\" y1=\"0.31250000000000533\" x2=\"198.5\" y2=\"12.5625\" stroke=\"black\" stroke-width=\"1\" />\n",
       "<text x=\"175.28731593038825\" y=\"30.937499999999993\" font-size=\"16.39892904953146px\" stroke=\"black\" font-family=\"Montserrat\" font-weight=\"200\">world</text>\n",
       "</g>\n",
       "</g>\n",
       "</g>\n",
       "</svg>"
      ],
      "text/plain": [
       "g: "
      ]
     },
     "execution_count": 23,
     "metadata": {},
     "output_type": "execute_result"
    }
   ],
   "source": [
    "HScale(ticks)"
   ]
  },
  {
   "cell_type": "code",
   "execution_count": 24,
   "metadata": {},
   "outputs": [
    {
     "data": {
      "image/svg+xml": [
       "<svg width=\"250\" height=\"31.25\" xmlns=\"http://www.w3.org/2000/svg\">\n",
       "<g>\n",
       "<g>\n",
       "<g>\n",
       "<g>\n",
       "<line x1=\"39.25\" y1=\"0.3125\" x2=\"39.25\" y2=\"12.5625\" stroke=\"black\" stroke-width=\"1\" />\n",
       "<text x=\"19.05896226415094\" y=\"30.9375\" font-size=\"16.50943396226415px\" stroke=\"black\" font-family=\"Montserrat\" font-weight=\"200\">hello</text>\n",
       "</g>\n",
       "<g>\n",
       "<line x1=\"88.25\" y1=\"0.3125\" x2=\"88.25\" y2=\"12.5625\" stroke=\"black\" stroke-width=\"1\" />\n",
       "<text x=\"75.88816713483145\" y=\"30.9375\" font-size=\"17.205056179775283px\" stroke=\"black\" font-family=\"Montserrat\" font-weight=\"200\">0.3</text>\n",
       "</g>\n",
       "<g>\n",
       "<line x1=\"125\" y1=\"0.3125\" x2=\"125\" y2=\"12.5625\" stroke=\"black\" stroke-width=\"1\" />\n",
       "<text x=\"109.98678045515396\" y=\"30.9375\" font-size=\"16.39892904953146px\" stroke=\"black\" font-family=\"Montserrat\" font-weight=\"200\">abc</text>\n",
       "</g>\n",
       "<g>\n",
       "<line x1=\"198.5\" y1=\"0.31250000000000533\" x2=\"198.5\" y2=\"12.5625\" stroke=\"black\" stroke-width=\"1\" />\n",
       "<text x=\"175.28731593038825\" y=\"30.937499999999993\" font-size=\"16.39892904953146px\" stroke=\"black\" font-family=\"Montserrat\" font-weight=\"200\">world</text>\n",
       "</g>\n",
       "</g>\n",
       "<line x1=\"2.5\" y1=\"6.4375\" x2=\"247.5\" y2=\"6.4375\" stroke=\"black\" />\n",
       "</g>\n",
       "</g>\n",
       "</svg>"
      ],
      "text/plain": [
       "g: "
      ]
     },
     "execution_count": 24,
     "metadata": {},
     "output_type": "execute_result"
    }
   ],
   "source": [
    "HAxis(ticks)"
   ]
  },
  {
   "cell_type": "code",
   "execution_count": 25,
   "metadata": {},
   "outputs": [
    {
     "data": {
      "image/svg+xml": [
       "<svg width=\"250\" height=\"125\" xmlns=\"http://www.w3.org/2000/svg\">\n",
       "<g>\n",
       "<g>\n",
       "<g>\n",
       "<g>\n",
       "<g>\n",
       "<line x1=\"70.27182758003246\" y1=\"105.32069962713858\" x2=\"70.27182758003246\" y2=\"112.69241977628315\" stroke=\"black\" stroke-width=\"1\" />\n",
       "<text x=\"58.12140474660415\" y=\"123.75\" font-size=\"9.934932815558714px\" stroke=\"black\" font-family=\"Montserrat\" font-weight=\"200\">hello</text>\n",
       "</g>\n",
       "<g>\n",
       "<line x1=\"111.97257403178952\" y1=\"105.32069962713858\" x2=\"111.97257403178952\" y2=\"112.69241977628315\" stroke=\"black\" stroke-width=\"1\" />\n",
       "<text x=\"104.5335558756654\" y=\"123.75\" font-size=\"10.3535395353154px\" stroke=\"black\" font-family=\"Montserrat\" font-weight=\"200\">0.3</text>\n",
       "</g>\n",
       "<g>\n",
       "<line x1=\"143.24813387060732\" y1=\"105.32069962713858\" x2=\"143.24813387060732\" y2=\"112.69241977628315\" stroke=\"black\" stroke-width=\"1\" />\n",
       "<text x=\"134.21358260348302\" y=\"123.75\" font-size=\"9.868433934597812px\" stroke=\"black\" font-family=\"Montserrat\" font-weight=\"200\">abc</text>\n",
       "</g>\n",
       "<g>\n",
       "<line x1=\"205.7992535482429\" y1=\"105.32069962713858\" x2=\"205.7992535482429\" y2=\"112.69241977628315\" stroke=\"black\" stroke-width=\"1\" />\n",
       "<text x=\"191.83048531381968\" y=\"123.75\" font-size=\"9.868433934597812px\" stroke=\"black\" font-family=\"Montserrat\" font-weight=\"200\">world</text>\n",
       "</g>\n",
       "</g>\n",
       "<line x1=\"38.99626774121463\" y1=\"109.00655970171087\" x2=\"247.5\" y2=\"109.00655970171087\" stroke=\"black\" />\n",
       "</g>\n",
       "<g>\n",
       "<g>\n",
       "<g>\n",
       "<text x=\"6.258947480469054\" y=\"96.65284545057486\" font-size=\"10.268921035365588px\" stroke=\"black\" font-family=\"Montserrat\" font-weight=\"200\">hello</text>\n",
       "<line x1=\"35.186498037093955\" y1=\"92.84307574645422\" x2=\"42.80603744533524\" y2=\"92.84307574645422\" stroke=\"black\" stroke-width=\"1\" />\n",
       "</g>\n",
       "<g>\n",
       "<text x=\"15.9985287126886\" y=\"75.1015335102327\" font-size=\"10.701600292473708px\" stroke=\"black\" font-family=\"Montserrat\" font-weight=\"200\">0.3</text>\n",
       "<line x1=\"35.18649803709396\" y1=\"71.29176380611206\" x2=\"42.80603744533524\" y2=\"71.29176380611206\" stroke=\"black\" stroke-width=\"1\" />\n",
       "</g>\n",
       "<g>\n",
       "<text x=\"12.700186624151653\" y=\"58.93804955497606\" font-size=\"10.200186624151646px\" stroke=\"black\" font-family=\"Montserrat\" font-weight=\"200\">abc</text>\n",
       "<line x1=\"35.186498037093955\" y1=\"55.12827985085542\" x2=\"42.80603744533524\" y2=\"55.12827985085542\" stroke=\"black\" stroke-width=\"1\" />\n",
       "</g>\n",
       "<g>\n",
       "<text x=\"2.5000000000000036\" y=\"26.611081644462807\" font-size=\"10.200186624151646px\" stroke=\"black\" font-family=\"Montserrat\" font-weight=\"200\">world</text>\n",
       "<line x1=\"35.18649803709396\" y1=\"22.801311940342167\" x2=\"42.80603744533524\" y2=\"22.801311940342167\" stroke=\"black\" stroke-width=\"1\" />\n",
       "</g>\n",
       "</g>\n",
       "<line x1=\"38.9962677412146\" y1=\"1.25\" x2=\"38.9962677412146\" y2=\"109.00655970171086\" stroke=\"black\" />\n",
       "</g>\n",
       "</g>\n",
       "</g>\n",
       "</svg>"
      ],
      "text/plain": [
       "g: "
      ]
     },
     "execution_count": 25,
     "metadata": {},
     "output_type": "execute_result"
    }
   ],
   "source": [
    "Axes(xticks=ticks, yticks=ticks, aspect=2)"
   ]
  },
  {
   "cell_type": "code",
   "execution_count": 26,
   "metadata": {},
   "outputs": [
    {
     "data": {
      "image/svg+xml": [
       "<svg width=\"250\" height=\"166.66666666666663\" xmlns=\"http://www.w3.org/2000/svg\">\n",
       "<g>\n",
       "<g xaxis-tick-text-scale=\"1.5\">\n",
       "<g>\n",
       "<g>\n",
       "<g>\n",
       "<line x1=\"42.005086429537684\" y1=\"137.03568427861313\" x2=\"42.005086429537684\" y2=\"146.35712285240874\" stroke=\"black\" stroke-width=\"1\" />\n",
       "<text x=\"34.59250793790188\" y=\"163.2522302674133\" font-size=\"14.883294853794258px\" stroke=\"black\" font-family=\"NotoColorEmoji\">🍄</text>\n",
       "</g>\n",
       "<g>\n",
       "<line x1=\"87.67062277852929\" y1=\"137.03568427861313\" x2=\"87.67062277852929\" y2=\"146.35712285240874\" stroke=\"black\" stroke-width=\"1\" />\n",
       "<text x=\"80.2580442868935\" y=\"163.2522302674133\" font-size=\"14.883294853794258px\" stroke=\"black\" font-family=\"NotoColorEmoji\">🍩</text>\n",
       "</g>\n",
       "<g>\n",
       "<line x1=\"133.33615912752094\" y1=\"137.03568427861313\" x2=\"133.33615912752094\" y2=\"146.35712285240874\" stroke=\"black\" stroke-width=\"1\" />\n",
       "<text x=\"125.92358063588513\" y=\"163.2522302674133\" font-size=\"14.883294853794258px\" stroke=\"black\" font-family=\"NotoColorEmoji\">🚀</text>\n",
       "</g>\n",
       "<g>\n",
       "<line x1=\"179.0016954765125\" y1=\"137.03568427861313\" x2=\"179.0016954765125\" y2=\"146.35712285240874\" stroke=\"black\" stroke-width=\"1\" />\n",
       "<text x=\"171.5891169848767\" y=\"163.2522302674133\" font-size=\"14.883294853794258px\" stroke=\"black\" font-family=\"NotoColorEmoji\">🦊</text>\n",
       "</g>\n",
       "<g>\n",
       "<line x1=\"224.6672318255042\" y1=\"137.03568427861313\" x2=\"224.6672318255042\" y2=\"146.35712285240874\" stroke=\"black\" stroke-width=\"1\" />\n",
       "<text x=\"217.25465333386836\" y=\"163.2522302674133\" font-size=\"14.883294853794258px\" stroke=\"black\" font-family=\"NotoColorEmoji\">🐋</text>\n",
       "</g>\n",
       "</g>\n",
       "<line x1=\"19.172318255041866\" y1=\"141.69640356551093\" x2=\"247.49999999999997\" y2=\"141.69640356551093\" stroke=\"black\" />\n",
       "</g>\n",
       "<g>\n",
       "<g>\n",
       "<g>\n",
       "<text x=\"6.175015045196597\" y=\"131.98094742835585\" font-size=\"12.25005015065522px\" stroke=\"black\" font-family=\"Montserrat\" font-weight=\"200\">1</text>\n",
       "<line x1=\"14.884800702312456\" y1=\"127.69342987562652\" x2=\"23.459835807771107\" y2=\"127.69342987562652\" stroke=\"black\" stroke-width=\"1\" />\n",
       "</g>\n",
       "<g>\n",
       "<text x=\"3.6983880505739006\" y=\"103.97500004858699\" font-size=\"12.145942075720473px\" stroke=\"black\" font-family=\"Montserrat\" font-weight=\"200\">2</text>\n",
       "<line x1=\"14.884800702312454\" y1=\"99.68748249585767\" x2=\"23.459835807771107\" y2=\"99.68748249585767\" stroke=\"black\" stroke-width=\"1\" />\n",
       "</g>\n",
       "<g>\n",
       "<text x=\"3.746971818876781\" y=\"75.96905266881814\" font-size=\"12.145942075720473px\" stroke=\"black\" font-family=\"Montserrat\" font-weight=\"200\">3</text>\n",
       "<line x1=\"14.884800702312454\" y1=\"71.68153511608881\" x2=\"23.459835807771107\" y2=\"71.68153511608881\" stroke=\"black\" stroke-width=\"1\" />\n",
       "</g>\n",
       "<g>\n",
       "<text x=\"2.5000000000000306\" y=\"47.96310528904928\" font-size=\"12.250050150655209px\" stroke=\"black\" font-family=\"Montserrat\" font-weight=\"200\">4</text>\n",
       "<line x1=\"14.884800702312454\" y1=\"43.675587736319955\" x2=\"23.459835807771107\" y2=\"43.675587736319955\" stroke=\"black\" stroke-width=\"1\" />\n",
       "</g>\n",
       "<g>\n",
       "<text x=\"3.7226799347253423\" y=\"19.95715790928043\" font-size=\"12.14594207572047px\" stroke=\"black\" font-family=\"Montserrat\" font-weight=\"200\">5</text>\n",
       "<line x1=\"14.884800702312454\" y1=\"15.669640356551103\" x2=\"23.459835807771107\" y2=\"15.669640356551103\" stroke=\"black\" stroke-width=\"1\" />\n",
       "</g>\n",
       "</g>\n",
       "<line x1=\"19.17231825504178\" y1=\"1.6666666666666805\" x2=\"19.17231825504178\" y2=\"141.69640356551093\" stroke=\"black\" />\n",
       "</g>\n",
       "</g>\n",
       "</g>\n",
       "</svg>"
      ],
      "text/plain": [
       "g: xaxis-tick-text-scale=\"1.5\""
      ]
     },
     "execution_count": 26,
     "metadata": {},
     "output_type": "execute_result"
    }
   ],
   "source": [
    "Axes(\n",
    "    xticks={0.1: Emoji('🍄'), 0.3: Emoji('🍩'), 0.5: Emoji('🚀'), 0.7: Emoji('🦊'), 0.9: Emoji('🐋')},\n",
    "    yticks={0.1: '1', 0.3: '2', 0.5: '3', 0.7: '4', 0.9: '5'},\n",
    "    aspect=1.5, xaxis_tick_text_scale=1.5\n",
    ")"
   ]
  },
  {
   "cell_type": "code",
   "execution_count": 27,
   "metadata": {},
   "outputs": [
    {
     "data": {
      "image/svg+xml": [
       "<svg width=\"400\" height=\"300\" xmlns=\"http://www.w3.org/2000/svg\">\n",
       "<g>\n",
       "<g xaxis-tick-text-scale=\"1.5\">\n",
       "<polyline points=\"45.683193863661074,103.52224064661532 49.060131299381666,98.85858493768146 52.437068735102265,94.21370812427925 55.814006170822864,89.60631348595595 59.190943606543456,85.05495337476884 62.56788104226405,80.57795451151148 65.94481847798465,76.19334419047738 69.32175591370525,71.91877768990841 72.69869334942584,67.7714671804208 76.07563078514643,63.768112417668824 79.45256822086702,59.92483349832298 82.82950565658763,56.25710595013011 86.20644309230822,52.77969841742521 89.58338052802881,49.506613193013166 92.96031796374942,46.45102983587767 96.33725539947,43.62525210174877 99.7141928351906,41.04065840022117 103.0911302709112,38.70765597791468 106.46806770663179,36.63563901216527 109.84500514235239,34.83295078398853 113.22194257807298,33.30685008263174 116.59888001379358,32.06348197699154 119.97581744951417,31.10785307159032 123.35275488523476,30.44381134674686 126.72969232095537,30.074030664117714 130.10662975667594,30.000000000000043 133.48356719239655,30.22201744974959 136.86050462811716,30.739189027455893 140.23744206383776,31.549432265708003 143.61437949955834,32.64948460095579 146.99131693527892,34.03491651070182 150.36825437099952,35.700149349625114 153.74519180672013,37.63847781281688 157.12212924244074,39.8420969356768 160.4990666781613,42.30213352175073 163.87600411388192,45.00868187196119 167.2529415496025,47.950843671361184 170.6298789853231,51.116771872802275 174.0068164210437,54.49371840081183 177.3837538567643,58.06808548359385 180.7606912924849,61.82548040645648 184.1376287282055,65.75077346619457 187.51456616392608,69.8281588930642 190.89150359964668,74.0412184950392 194.26844103536726,78.37298776807552 197.64537847108787,82.80602420618165 201.02231590680844,87.32247753623386 204.39925334252905,91.90416159472618 207.77619077824966,96.53262755703184 211.15312821397023,101.18923822430882 214.53006564969084,105.85524306892182 217.90700308541142,110.51185373619882 221.28394052113205,115.14031969850447 224.66087795685263,119.72200375699676 228.03781539257324,124.238457087049 231.4147528282938,128.67149352515509 234.79169026401445,133.00326279819143 238.16862769973503,137.21632240016643 241.5455651354556,141.2937078270361 244.92250257117618,145.21900088677415 248.2994400068968,148.9763958096368 251.67637744261737,152.5507628924188 255.053314878338,155.92770942042836 258.4302523140586,159.09363762186945 261.8071897497792,162.03579942126947 265.18412718549973,164.7423477714799 268.5610646212204,167.20238435755385 271.93800205694095,169.40600348041374 275.31493949266155,171.34433194360554 278.69187692838216,173.0095647825288 282.06881436410276,174.39499669227484 285.44575179982337,175.4950490275226 288.822689235544,176.3052922657747 292.1996266712645,176.82246384348105 295.57656410698513,177.0444812932306 298.9535015427057,176.97045062911292 302.33043897842634,176.60066994648378 305.7073764141469,175.93662822164032 309.0843138498675,174.9809993162391 312.4612512855881,173.73763121059892 315.8381887213087,172.2115305092421 319.2151261570293,170.40884228106535 322.5920635927499,168.33682531531593 325.9690010284705,166.00382289300944 329.3459384641911,163.41922919148186 332.7228758999117,160.59345145735296 336.0998133356323,157.53786810021745 339.47675077135284,154.26478287580545 342.85368820707345,150.78737534310056 346.2306256427941,147.11964779490765 349.60756307851466,143.2763688755618 352.98450051423526,139.27301411280985 356.3614379499558,135.12570360332222 359.7383753856764,130.85113710275323 363.115312821397,126.46652678171914 366.49225025711763,121.98952791846182 369.86918769283824,117.43816780727467 373.24612512855884,112.83077316895135 376.6230625642794,108.18589635554918 380.0,103.52224064661533\" fill=\"none\" stroke=\"#1e88e5\" />\n",
       "<polyline points=\"45.683193863661074,103.52224064661532 48.90793157610309,103.5357450536359 52.1326692885451,103.57625827469766 55.357407000987116,103.64378030980059 58.58214471342913,103.73831115894468 61.80688242587114,103.85985082212996 65.03162013831316,104.0083992993564 68.25635785075517,104.183956590624 71.48109556319719,104.3865226959328 74.7058332756392,104.61609761528275 77.9305709880812,104.87268134867388 81.15530870052322,105.15627389610619 84.38004641296524,105.46687525757964 87.60478412540724,105.80448543309429 90.82952183784926,106.16910442265011 94.05425955029128,106.56073222624708 97.2789972627333,106.97936884388524 100.50373497517529,107.42501427556456 103.72847268761731,107.89766852128507 106.95321040005933,108.39733158104673 110.17794811250134,108.92400345484957 113.40268582494336,109.47768414269359 116.62742353738537,110.05837364457877 119.85216124982739,110.66607196050512 123.0768989622694,111.30077909047264 126.30163667471142,111.96249503448135 129.5263743871534,112.65121979253121 132.75111209959545,113.36695336462225 135.97584981203744,114.10969575075447 139.20058752447946,114.87944695092784 142.42532523692148,115.6762069651424 145.65006294936347,116.49997579339812 148.87480066180552,117.35075343569503 152.09953837424752,118.22853989203308 155.3242760866895,119.13333516241232 158.54901379913156,120.06513924683273 161.77375151157355,121.02395214529432 164.99848922401557,122.00977385779706 168.2232269364576,123.022604384341 171.4479646488996,124.06244372492608 174.6727023613416,125.12929187955235 177.89744007378363,126.22314884821978 181.12217778622565,127.3440146309284 184.34691549866764,128.49188922767817 187.57165321110966,129.66677263846913 190.79639092355168,130.86866486330126 194.0211286359937,132.09756590217455 197.2458663484357,133.35347575508902 200.47060406087772,134.63639442204465 203.69534177331974,135.94632190304145 206.92007948576176,137.2832581980794 210.14481719820375,138.64720330715858 213.36955491064575,140.0381572302789 216.5942926230878,141.4561199674404 219.81903033552982,142.90109151864306 223.0437680479718,144.3730718838869 226.2685057604138,145.87206106317188 229.49324347285585,147.39805905649808 232.71798118529784,148.95106586386544 235.94271889773984,150.53108148527394 239.1674566101819,152.13810592072366 242.3921943226239,153.77213917021453 245.6169320350659,155.43318123374655 248.84166974750792,157.12123211131976 252.06640745994994,158.8362918029341 255.29114517239194,160.57836030858965 258.51588288483396,162.3474376282864 261.740620597276,164.1435237620243 264.965358309718,165.96661870980336 268.19009602216,167.81672247162356 271.414833734602,169.69383504748498 274.639571447044,171.59795643738755 277.86430915948597,173.52908664133128 281.0890468719281,175.48722565931624 284.31378458437007,177.4723734913423 287.5385222968121,179.4845301374096 290.7632600092541,181.523695597518 293.9879977216961,183.58986987166762 297.21273543413815,185.6830529598584 300.43747314658015,187.80324486209034 303.66221085902214,189.95044557836346 306.8869485714642,192.12465510867773 310.1116862839062,194.32587345303318 313.3364239963482,196.55410061142985 316.5611617087902,198.8093365838676 319.7858994212322,201.0915813703466 323.0106371336742,203.40083497086675 326.23537484611626,205.73709738542806 329.46011255855825,208.10036861403057 332.6848502710003,210.49064865667424 335.9095879834423,212.90793751335906 339.1343256958843,215.3522351840851 342.35906340832634,217.82354166885222 345.5838011207683,220.32185696766055 348.8085388332103,222.8471810805101 352.03327654565237,225.3995140074008 355.25801425809436,227.97885574833265 358.48275197053636,230.58520630330565 361.7074896829784,233.2185656723198 364.9322273954204,235.87893385537524\" fill=\"none\" stroke=\"#ff0d57\" />\n",
       "<polyline points=\"45.683193863661074,103.52224064661532 49.060131299381666,103.52224064661532 52.437068735102265,103.52224064661532 55.814006170822864,103.52224064661532 59.190943606543456,103.52224064661532 62.56788104226405,103.52224064661532 65.94481847798465,103.52224064661532 69.32175591370525,103.52224064661532 72.69869334942584,103.52224064661532 76.07563078514643,103.52224064661532 79.45256822086702,103.52224064661532 82.82950565658763,103.52224064661532 86.20644309230822,103.52224064661532 89.58338052802881,103.52224064661532 92.96031796374942,103.52224064661532 96.33725539947,103.52224064661532 99.7141928351906,103.52224064661532 103.0911302709112,103.52224064661532 106.46806770663179,103.52224064661532 109.84500514235239,103.52224064661532 113.22194257807298,103.52224064661532 116.59888001379358,103.52224064661532 119.97581744951417,103.52224064661532 123.35275488523476,103.52224064661532 126.72969232095537,103.52224064661532 130.10662975667594,103.52224064661532 133.48356719239655,103.52224064661532 136.86050462811716,103.52224064661532 140.23744206383776,103.52224064661532 143.61437949955834,103.52224064661532 146.99131693527892,103.52224064661532 150.36825437099952,103.52224064661532 153.74519180672013,103.52224064661532 157.12212924244074,103.52224064661532 160.4990666781613,103.52224064661532 163.87600411388192,103.52224064661532 167.2529415496025,103.52224064661532 170.6298789853231,103.52224064661532 174.0068164210437,103.52224064661532 177.3837538567643,103.52224064661532 180.7606912924849,103.52224064661532 184.1376287282055,103.52224064661532 187.51456616392608,103.52224064661532 190.89150359964668,103.52224064661532 194.26844103536726,103.52224064661532 197.64537847108787,103.52224064661532 201.02231590680844,103.52224064661532 204.39925334252905,103.52224064661532 207.77619077824966,103.52224064661532 211.15312821397023,103.52224064661532 214.53006564969084,103.52224064661532 217.90700308541142,103.52224064661532 221.28394052113205,103.52224064661532 224.66087795685263,103.52224064661532 228.03781539257324,103.52224064661532 231.4147528282938,103.52224064661532 234.79169026401445,103.52224064661532 238.16862769973503,103.52224064661532 241.5455651354556,103.52224064661532 244.92250257117618,103.52224064661532 248.2994400068968,103.52224064661532 251.67637744261737,103.52224064661532 255.053314878338,103.52224064661532 258.4302523140586,103.52224064661532 261.8071897497792,103.52224064661532 265.18412718549973,103.52224064661532 268.5610646212204,103.52224064661532 271.93800205694095,103.52224064661532 275.31493949266155,103.52224064661532 278.69187692838216,103.52224064661532 282.06881436410276,103.52224064661532 285.44575179982337,103.52224064661532 288.822689235544,103.52224064661532 292.1996266712645,103.52224064661532 295.57656410698513,103.52224064661532 298.9535015427057,103.52224064661532 302.33043897842634,103.52224064661532 305.7073764141469,103.52224064661532 309.0843138498675,103.52224064661532 312.4612512855881,103.52224064661532 315.8381887213087,103.52224064661532 319.2151261570293,103.52224064661532 322.5920635927499,103.52224064661532 325.9690010284705,103.52224064661532 329.3459384641911,103.52224064661532 332.7228758999117,103.52224064661532 336.0998133356323,103.52224064661532 339.47675077135284,103.52224064661532 342.85368820707345,103.52224064661532 346.2306256427941,103.52224064661532 349.60756307851466,103.52224064661532 352.98450051423526,103.52224064661532 356.3614379499558,103.52224064661532 359.7383753856764,103.52224064661532 363.115312821397,103.52224064661532 366.49225025711763,103.52224064661532 369.86918769283824,103.52224064661532 373.24612512855884,103.52224064661532 376.6230625642794,103.52224064661532 380.0,103.52224064661532\" fill=\"none\" stroke=\"black\" stroke-dasharray=\"4\" />\n",
       "<g xaxis-tick-text-scale=\"1.5\">\n",
       "<g>\n",
       "<g>\n",
       "<g>\n",
       "<line x1=\"45.68319386366112\" y1=\"229.0547206264503\" x2=\"45.68319386366112\" y2=\"242.70314708430018\" stroke=\"black\" stroke-width=\"1\" />\n",
       "<text x=\"34.82971544343744\" y=\"267.4409200391531\" font-size=\"21.792082161390297px\" stroke=\"black\" font-family=\"NotoColorEmoji\">🍄</text>\n",
       "</g>\n",
       "<g>\n",
       "<line x1=\"129.26239539774582\" y1=\"229.0547206264503\" x2=\"129.26239539774582\" y2=\"242.70314708430018\" stroke=\"black\" stroke-width=\"1\" />\n",
       "<text x=\"118.40891697752215\" y=\"267.4409200391531\" font-size=\"21.792082161390297px\" stroke=\"black\" font-family=\"NotoColorEmoji\">🍩</text>\n",
       "</g>\n",
       "<g>\n",
       "<line x1=\"212.84159693183054\" y1=\"229.05472062645026\" x2=\"212.84159693183054\" y2=\"242.70314708430018\" stroke=\"black\" stroke-width=\"1\" />\n",
       "<text x=\"201.98811851160684\" y=\"267.4409200391531\" font-size=\"21.792082161390297px\" stroke=\"black\" font-family=\"NotoColorEmoji\">🚀</text>\n",
       "</g>\n",
       "<g>\n",
       "<line x1=\"296.42079846591525\" y1=\"229.05472062645026\" x2=\"296.42079846591525\" y2=\"242.70314708430018\" stroke=\"black\" stroke-width=\"1\" />\n",
       "<text x=\"285.56732004569153\" y=\"267.4409200391531\" font-size=\"21.792082161390297px\" stroke=\"black\" font-family=\"NotoColorEmoji\">🦊</text>\n",
       "</g>\n",
       "<g>\n",
       "<line x1=\"379.99999999999994\" y1=\"229.0547206264503\" x2=\"379.99999999999994\" y2=\"242.70314708430018\" stroke=\"black\" stroke-width=\"1\" />\n",
       "<text x=\"369.1465215797763\" y=\"267.4409200391531\" font-size=\"21.792082161390297px\" stroke=\"black\" font-family=\"NotoColorEmoji\">🐋</text>\n",
       "</g>\n",
       "</g>\n",
       "<line x1=\"45.68319386366112\" y1=\"235.8789338553752\" x2=\"379.99999999999994\" y2=\"235.8789338553752\" stroke=\"black\" />\n",
       "</g>\n",
       "<g>\n",
       "<g>\n",
       "<g>\n",
       "<text x=\"20.000000000000064\" y=\"183.35746608287764\" font-size=\"18.010654883352768px\" stroke=\"black\" font-family=\"Montserrat\" font-weight=\"200\">-1</text>\n",
       "<line x1=\"39.37946465448765\" y1=\"177.05373687370417\" x2=\"51.9869230728346\" y2=\"177.05373687370417\" stroke=\"black\" stroke-width=\"1\" />\n",
       "</g>\n",
       "<g>\n",
       "<text x=\"21.353632252974744\" y=\"109.8259698557888\" font-size=\"17.707104520150192px\" stroke=\"black\" font-family=\"Montserrat\" font-weight=\"200\">0</text>\n",
       "<line x1=\"39.37946465448765\" y1=\"103.52224064661533\" x2=\"51.9869230728346\" y2=\"103.52224064661533\" stroke=\"black\" stroke-width=\"1\" />\n",
       "</g>\n",
       "<g>\n",
       "<text x=\"26.57388903242383\" y=\"36.29447362869998\" font-size=\"18.010654883352778px\" stroke=\"black\" font-family=\"Montserrat\" font-weight=\"200\">1</text>\n",
       "<line x1=\"39.379464654487656\" y1=\"29.99074441952651\" x2=\"51.9869230728346\" y2=\"29.99074441952651\" stroke=\"black\" stroke-width=\"1\" />\n",
       "</g>\n",
       "</g>\n",
       "<line x1=\"45.68319386366113\" y1=\"30.000000000000057\" x2=\"45.68319386366113\" y2=\"235.87893385537524\" stroke=\"black\" />\n",
       "</g>\n",
       "</g>\n",
       "</g>\n",
       "</g>\n",
       "</svg>"
      ],
      "text/plain": [
       "svg: "
      ]
     },
     "execution_count": 27,
     "metadata": {},
     "output_type": "execute_result"
    }
   ],
   "source": [
    "xlim = (0, 2*np.pi)\n",
    "line1 = SymPath(np.sin, xlim=xlim, stroke='#1e88e5')\n",
    "line2 = SymPath(lambda x: -0.05*x**2, xlim=(0, 6), stroke='#ff0d57')\n",
    "line3 = SymPath(lambda x: 0, xlim=xlim, stroke_dasharray=4)\n",
    "\n",
    "xticks = {x: Emoji(e) for x, e in zip(np.linspace(*xlim, 5), '🍄🍩🚀🦊🐋')}\n",
    "yticks = [-1, 0, 1]\n",
    "\n",
    "plot = Plot(\n",
    "    [line1, line2, line3], aspect=1.5,\n",
    "    yticks=yticks, xticks=xticks,\n",
    "    xaxis_tick_text_scale=1.5\n",
    ")\n",
    "\n",
    "SVG(Frame(plot, padding=(0.05, 0.1)), size=400)"
   ]
  },
  {
   "cell_type": "code",
   "execution_count": null,
   "metadata": {},
   "outputs": [],
   "source": []
  }
 ],
 "metadata": {
  "kernelspec": {
   "display_name": "Python 3.9",
   "language": "python",
   "name": "python3.9"
  },
  "language_info": {
   "codemirror_mode": {
    "name": "ipython",
    "version": 3
   },
   "file_extension": ".py",
   "mimetype": "text/x-python",
   "name": "python",
   "nbconvert_exporter": "python",
   "pygments_lexer": "ipython3",
   "version": "3.9.2"
  }
 },
 "nbformat": 4,
 "nbformat_minor": 5
}
