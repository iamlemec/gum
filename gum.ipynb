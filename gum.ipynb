{
 "cells": [
  {
   "cell_type": "code",
   "execution_count": 1,
   "metadata": {
    "tags": []
   },
   "outputs": [],
   "source": [
    "from gum import *"
   ]
  },
  {
   "cell_type": "code",
   "execution_count": 2,
   "metadata": {},
   "outputs": [],
   "source": [
    "from math import sqrt, sin, cos"
   ]
  },
  {
   "cell_type": "code",
   "execution_count": 3,
   "metadata": {},
   "outputs": [],
   "source": [
    "%config InlineBackend.figure_format = 'svg'"
   ]
  },
  {
   "cell_type": "code",
   "execution_count": 4,
   "metadata": {},
   "outputs": [
    {
     "data": {
      "image/svg+xml": [
       "<svg width=\"250\" height=\"250\" xmlns=\"http://www.w3.org/2000/svg\">\n",
       "<g>\n",
       "<g>\n",
       "<g>\n",
       "<g>\n",
       "<g>\n",
       "<line x1=\"76\" y1=\"76\" x2=\"174\" y2=\"174\" stroke=\"black\" stroke-width=\"25\" />\n",
       "<line x1=\"76\" y1=\"174\" x2=\"174\" y2=\"76\" stroke=\"black\" stroke-width=\"25\" />\n",
       "</g>\n",
       "</g>\n",
       "<ellipse cx=\"125\" cy=\"125\" rx=\"98\" ry=\"98\" fill=\"none\" stroke=\"black\" stroke-width=\"25\" />\n",
       "</g>\n",
       "</g>\n",
       "</g>\n",
       "</svg>"
      ],
      "text/plain": [
       "g: "
      ]
     },
     "execution_count": 4,
     "metadata": {},
     "output_type": "execute_result"
    }
   ],
   "source": [
    "ex0 = Ray(-45, stroke_width=25) + Ray(45, stroke_width=25)\n",
    "ex = Frame(ex0, margin=0.25)\n",
    "ci = Circle(stroke_width=25)\n",
    "bt = ex + ci\n",
    "Frame(bt, margin=0.1)"
   ]
  },
  {
   "cell_type": "code",
   "execution_count": 5,
   "metadata": {},
   "outputs": [
    {
     "data": {
      "image/svg+xml": [
       "<svg width=\"250\" height=\"250\" xmlns=\"http://www.w3.org/2000/svg\">\n",
       "<g>\n",
       "<g>\n",
       "<g>\n",
       "<line x1=\"125\" y1=\"2.5\" x2=\"125\" y2=\"247.5\" stroke=\"black\" />\n",
       "<line x1=\"103.39994486321302\" y1=\"2.5\" x2=\"146.60005513678698\" y2=\"247.5\" stroke=\"black\" />\n",
       "<line x1=\"80.41364630239019\" y1=\"2.5\" x2=\"169.5863536976098\" y2=\"247.5\" stroke=\"black\" />\n",
       "<line x1=\"54.27459202427082\" y1=\"2.5\" x2=\"195.72540797572918\" y2=\"247.5\" stroke=\"black\" />\n",
       "<line x1=\"22.21029518078319\" y1=\"2.5\" x2=\"227.7897048192168\" y2=\"247.5\" stroke=\"black\" />\n",
       "<line x1=\"2.5\" y1=\"22.210295180783206\" x2=\"247.5\" y2=\"227.7897048192168\" stroke=\"black\" />\n",
       "<line x1=\"2.5\" y1=\"54.274592024270845\" x2=\"247.5\" y2=\"195.72540797572915\" stroke=\"black\" />\n",
       "<line x1=\"2.5\" y1=\"80.41364630239022\" x2=\"247.5\" y2=\"169.58635369760978\" stroke=\"black\" />\n",
       "<line x1=\"2.5\" y1=\"103.39994486321304\" x2=\"247.5\" y2=\"146.60005513678698\" stroke=\"black\" />\n",
       "<line x1=\"2.5\" y1=\"125\" x2=\"247.5\" y2=\"125\" stroke=\"black\" />\n",
       "<line x1=\"2.5\" y1=\"146.60005513678698\" x2=\"247.5\" y2=\"103.39994486321304\" stroke=\"black\" />\n",
       "<line x1=\"2.5\" y1=\"169.58635369760978\" x2=\"247.5\" y2=\"80.41364630239022\" stroke=\"black\" />\n",
       "<line x1=\"2.5\" y1=\"195.72540797572915\" x2=\"247.5\" y2=\"54.274592024270845\" stroke=\"black\" />\n",
       "<line x1=\"2.5\" y1=\"227.7897048192168\" x2=\"247.5\" y2=\"22.210295180783206\" stroke=\"black\" />\n",
       "<line x1=\"22.21029518078319\" y1=\"247.5\" x2=\"227.7897048192168\" y2=\"2.5\" stroke=\"black\" />\n",
       "<line x1=\"54.27459202427082\" y1=\"247.5\" x2=\"195.72540797572918\" y2=\"2.5\" stroke=\"black\" />\n",
       "<line x1=\"80.41364630239019\" y1=\"247.5\" x2=\"169.5863536976098\" y2=\"2.5\" stroke=\"black\" />\n",
       "<line x1=\"103.39994486321302\" y1=\"247.5\" x2=\"146.60005513678698\" y2=\"2.5\" stroke=\"black\" />\n",
       "</g>\n",
       "<rect x=\"2.5\" y=\"2.5\" width=\"245\" height=\"245\" fill=\"none\" stroke=\"black\" />\n",
       "</g>\n",
       "</g>\n",
       "</svg>"
      ],
      "text/plain": [
       "g: "
      ]
     },
     "execution_count": 5,
     "metadata": {},
     "output_type": "execute_result"
    }
   ],
   "source": [
    "Box([Ray(th) for th in range(-90, 90, 10)]) + Rect()"
   ]
  },
  {
   "cell_type": "code",
   "execution_count": 6,
   "metadata": {},
   "outputs": [
    {
     "data": {
      "image/svg+xml": [
       "<svg width=\"250\" height=\"57.91617506074986\" xmlns=\"http://www.w3.org/2000/svg\">\n",
       "<g>\n",
       "<g>\n",
       "<g>\n",
       "<text x=\"14.662566665510855\" y=\"45.985442998235385\" font-size=\"48.64958705102987px\" stroke=\"black\" font-family=\"Montserrat\">Test</text>\n",
       "<rect x=\"2.5\" y=\"0.5791617506075125\" width=\"122.5\" height=\"56.757851559534835\" fill=\"none\" stroke=\"black\" />\n",
       "</g>\n",
       "<g>\n",
       "<text x=\"137.16256666551087\" y=\"45.985442998235385\" font-size=\"48.64958705102987px\" stroke=\"black\" font-family=\"Montserrat\">Test</text>\n",
       "<rect x=\"125\" y=\"0.5791617506075125\" width=\"122.5\" height=\"56.757851559534835\" fill=\"none\" stroke=\"black\" />\n",
       "</g>\n",
       "</g>\n",
       "</g>\n",
       "</svg>"
      ],
      "text/plain": [
       "g: "
      ]
     },
     "execution_count": 6,
     "metadata": {},
     "output_type": "execute_result"
    }
   ],
   "source": [
    "t = Node('Test')\n",
    "t | t"
   ]
  },
  {
   "cell_type": "code",
   "execution_count": 7,
   "metadata": {},
   "outputs": [
    {
     "data": {
      "image/svg+xml": [
       "<svg width=\"172.0735228567908\" height=\"250\" xmlns=\"http://www.w3.org/2000/svg\">\n",
       "<g>\n",
       "<g>\n",
       "<g>\n",
       "<text x=\"34.76066654711119\" y=\"135.99424980715548\" font-size=\"143.02955336480946px\" stroke=\"black\" font-family=\"Montserrat\">A</text>\n",
       "<rect x=\"1.7207352285679218\" y=\"2.5\" width=\"168.63205239965495\" height=\"166.86781225894435\" fill=\"none\" stroke=\"black\" />\n",
       "</g>\n",
       "<g>\n",
       "<text x=\"18.463580773488104\" y=\"231.87356245178887\" font-size=\"66.97044663519056px\" stroke=\"black\" font-family=\"Montserrat\">Test</text>\n",
       "<rect x=\"1.7207352285679218\" y=\"169.36781225894435\" width=\"168.63205239965495\" height=\"78.13218774105565\" fill=\"none\" stroke=\"black\" />\n",
       "</g>\n",
       "</g>\n",
       "</g>\n",
       "</svg>"
      ],
      "text/plain": [
       "g: "
      ]
     },
     "execution_count": 7,
     "metadata": {},
     "output_type": "execute_result"
    }
   ],
   "source": [
    "t1 = Node(text='A')\n",
    "t2 = Node(text='Test')\n",
    "t1 & t2"
   ]
  },
  {
   "cell_type": "markdown",
   "metadata": {},
   "source": [
    "### Text Debug"
   ]
  },
  {
   "cell_type": "code",
   "execution_count": 8,
   "metadata": {},
   "outputs": [
    {
     "data": {
      "image/svg+xml": [
       "<svg width=\"250\" height=\"100\" xmlns=\"http://www.w3.org/2000/svg\">\n",
       "<g>\n",
       "<g>\n",
       "<text x=\"25.411522633744866\" y=\"80\" font-size=\"82.3045267489712px\" stroke=\"black\" font-family=\"Montserrat\">gum</text>\n",
       "<rect x=\"25.411522633744852\" y=\"20\" width=\"56.46090534979426\" height=\"60\" fill=\"none\" stroke=\"red\" />\n",
       "<rect x=\"81.87242798353911\" y=\"36.29629629629629\" width=\"55.390946502057616\" height=\"43.70370370370371\" fill=\"none\" stroke=\"red\" />\n",
       "<rect x=\"137.26337448559673\" y=\"36.37860082304526\" width=\"87.32510288065845\" height=\"43.62139917695474\" fill=\"none\" stroke=\"red\" />\n",
       "<rect x=\"25.411522633744852\" y=\"20\" width=\"199.17695473251032\" height=\"60\" fill=\"none\" stroke=\"blue\" stroke-dasharray=\"5 5\" />\n",
       "</g>\n",
       "</g>\n",
       "</svg>"
      ],
      "text/plain": [
       "svg: "
      ]
     },
     "execution_count": 8,
     "metadata": {},
     "output_type": "execute_result"
    }
   ],
   "source": [
    "text = TextDebug(text='gum')\n",
    "logo = Frame(text, padding=(0.1, 0.2))\n",
    "s = SVG(logo, size=(250, 100))\n",
    "s.save('gum.svg')\n",
    "s"
   ]
  },
  {
   "cell_type": "code",
   "execution_count": 9,
   "metadata": {
    "tags": []
   },
   "outputs": [
    {
     "data": {
      "image/svg+xml": [
       "<svg width=\"250\" height=\"49.37920331091566\" xmlns=\"http://www.w3.org/2000/svg\">\n",
       "<g>\n",
       "<g>\n",
       "<rect x=\"2.500000000000014\" y=\"0.49379203310915665\" width=\"245\" height=\"48.391619244697345\" fill=\"none\" stroke=\"black\" stroke-width=\"1\" />\n",
       "<g>\n",
       "<text x=\"12.3\" y=\"39.20708742886704\" font-size=\"38.868770477668555px\" stroke=\"black\" font-family=\"Montserrat\">hello world!</text>\n",
       "<rect x=\"12.3\" y=\"10.366459734436969\" width=\"26.314157613381614\" height=\"28.840627694430072\" fill=\"none\" stroke=\"red\" />\n",
       "<rect x=\"38.614157613381614\" y=\"18.41229522331436\" width=\"23.476737368511813\" height=\"20.79479220555268\" fill=\"none\" stroke=\"red\" />\n",
       "<rect x=\"62.09089498189343\" y=\"10.366459734436969\" width=\"10.455699258492857\" height=\"28.840627694430072\" fill=\"none\" stroke=\"red\" />\n",
       "<rect x=\"72.54659424038628\" y=\"10.366459734436969\" width=\"10.455699258492828\" height=\"28.840627694430072\" fill=\"none\" stroke=\"red\" />\n",
       "<rect x=\"83.00229349887911\" y=\"18.41229522331436\" width=\"24.37071908949821\" height=\"20.79479220555268\" fill=\"none\" stroke=\"red\" />\n",
       "<rect x=\"107.37301258837732\" y=\"39.20708742886704\" width=\"10.183617865149145\" height=\"0.0\" fill=\"none\" stroke=\"red\" />\n",
       "<rect x=\"117.55663045352647\" y=\"18.76211415761338\" width=\"33.582617692705654\" height=\"20.444973271253662\" fill=\"none\" stroke=\"red\" />\n",
       "<rect x=\"151.13924814623212\" y=\"18.41229522331436\" width=\"24.37071908949821\" height=\"20.79479220555268\" fill=\"none\" stroke=\"red\" />\n",
       "<rect x=\"175.50996723573033\" y=\"18.606639075702702\" width=\"15.275426797723696\" height=\"20.60044835316434\" fill=\"none\" stroke=\"red\" />\n",
       "<rect x=\"190.78539403345403\" y=\"10.366459734436969\" width=\"10.45569925849287\" height=\"28.840627694430072\" fill=\"none\" stroke=\"red\" />\n",
       "<rect x=\"201.2410932919469\" y=\"10.172115882048628\" width=\"26.353026383859287\" height=\"29.03497154681841\" fill=\"none\" stroke=\"red\" />\n",
       "<rect x=\"227.59411967580618\" y=\"11.804604242110708\" width=\"10.105880324193805\" height=\"27.402483186756335\" fill=\"none\" stroke=\"red\" />\n",
       "<rect x=\"12.3\" y=\"10.172115882048628\" width=\"225.39999999999998\" height=\"29.03497154681841\" fill=\"none\" stroke=\"blue\" stroke-dasharray=\"5 5\" />\n",
       "</g>\n",
       "</g>\n",
       "</g>\n",
       "</svg>"
      ],
      "text/plain": [
       "g: "
      ]
     },
     "execution_count": 9,
     "metadata": {},
     "output_type": "execute_result"
    }
   ],
   "source": [
    "hello = TextDebug(text='hello world!')\n",
    "s = Frame(hello, padding=(0.04, 0.2), border=1)\n",
    "s.save('test/hello.svg')\n",
    "s"
   ]
  },
  {
   "cell_type": "code",
   "execution_count": 10,
   "metadata": {},
   "outputs": [
    {
     "data": {
      "image/svg+xml": [
       "<svg width=\"250\" height=\"58.94607843137256\" xmlns=\"http://www.w3.org/2000/svg\">\n",
       "<g>\n",
       "<g>\n",
       "<g>\n",
       "<g>\n",
       "<rect x=\"27\" y=\"6.36617647058824\" width=\"49\" height=\"46.21372549019608\" fill=\"none\" stroke=\"black\" stroke-width=\"1\" />\n",
       "<text x=\"27\" y=\"46.80318627450981\" font-size=\"49.19215686274511px\" stroke=\"black\" font-family=\"NotoColorEmoji\">🦊</text>\n",
       "</g>\n",
       "<g>\n",
       "<rect x=\"76\" y=\"6.36617647058824\" width=\"49\" height=\"46.21372549019608\" fill=\"none\" stroke=\"black\" stroke-width=\"1\" />\n",
       "<text x=\"76\" y=\"46.80318627450981\" font-size=\"49.19215686274511px\" stroke=\"black\" font-family=\"NotoColorEmoji\">🍄</text>\n",
       "</g>\n",
       "<g>\n",
       "<rect x=\"125\" y=\"6.36617647058824\" width=\"49\" height=\"46.21372549019608\" fill=\"none\" stroke=\"black\" stroke-width=\"1\" />\n",
       "<text x=\"125\" y=\"46.80318627450981\" font-size=\"49.19215686274511px\" stroke=\"black\" font-family=\"NotoColorEmoji\">🗻</text>\n",
       "</g>\n",
       "<g>\n",
       "<rect x=\"174\" y=\"6.36617647058824\" width=\"49\" height=\"46.21372549019608\" fill=\"none\" stroke=\"black\" stroke-width=\"1\" />\n",
       "<text x=\"174\" y=\"46.80318627450981\" font-size=\"49.19215686274511px\" stroke=\"black\" font-family=\"NotoColorEmoji\">⬜</text>\n",
       "</g>\n",
       "</g>\n",
       "</g>\n",
       "</g>\n",
       "</svg>"
      ],
      "text/plain": [
       "g: "
      ]
     },
     "execution_count": 10,
     "metadata": {},
     "output_type": "execute_result"
    }
   ],
   "source": [
    "squares = list('🦊🍄🗻⬜')\n",
    "squares = [Emoji(text=s) for s in squares]\n",
    "squares = [Frame(s, border=1) for s in squares]\n",
    "s = Frame(HStack(squares), margin=0.1)\n",
    "s.save('test/emoji.svg')\n",
    "s"
   ]
  },
  {
   "cell_type": "code",
   "execution_count": 11,
   "metadata": {},
   "outputs": [
    {
     "data": {
      "image/svg+xml": [
       "<svg width=\"250\" height=\"235.78431372549025\" xmlns=\"http://www.w3.org/2000/svg\">\n",
       "<g>\n",
       "<g>\n",
       "<text x=\"27\" y=\"187.21274509803925\" font-size=\"196.76862745098043px\" stroke=\"black\" font-family=\"NotoColorEmoji\">🍄</text>\n",
       "</g>\n",
       "</g>\n",
       "</svg>"
      ],
      "text/plain": [
       "g: "
      ]
     },
     "execution_count": 11,
     "metadata": {},
     "output_type": "execute_result"
    }
   ],
   "source": [
    "Frame(Emoji('🍄'), margin=0.1)"
   ]
  },
  {
   "cell_type": "markdown",
   "metadata": {},
   "source": [
    "### Font Shaping"
   ]
  },
  {
   "cell_type": "code",
   "execution_count": 12,
   "metadata": {},
   "outputs": [],
   "source": [
    "from gi.repository import HarfBuzz as hb"
   ]
  },
  {
   "cell_type": "code",
   "execution_count": 13,
   "metadata": {},
   "outputs": [],
   "source": [
    "font, infos, positions, extents = get_text_shape('🗻', font='Noto Emoji', debug=True)"
   ]
  },
  {
   "cell_type": "code",
   "execution_count": 14,
   "metadata": {},
   "outputs": [
    {
     "name": "stdout",
     "output_type": "stream",
     "text": [
      "2555 2405\n",
      "0 1898\n"
     ]
    }
   ],
   "source": [
    "ext = extents[0].extents\n",
    "print(ext.width, -ext.height)\n",
    "print(ext.x_bearing, ext.y_bearing)"
   ]
  },
  {
   "cell_type": "code",
   "execution_count": 15,
   "metadata": {},
   "outputs": [
    {
     "name": "stdout",
     "output_type": "stream",
     "text": [
      "0 0\n",
      "2550 0\n"
     ]
    }
   ],
   "source": [
    "pos = positions[0]\n",
    "print(pos.x_offset, pos.y_offset)\n",
    "print(pos.x_advance, pos.y_advance)"
   ]
  },
  {
   "cell_type": "markdown",
   "metadata": {},
   "source": [
    "### Layout"
   ]
  },
  {
   "cell_type": "code",
   "execution_count": 16,
   "metadata": {},
   "outputs": [],
   "source": [
    "na = Node(text='A', pad=0.2)\n",
    "nt = Node(text='Test', pad=0.2)\n",
    "b = Bullet()"
   ]
  },
  {
   "cell_type": "code",
   "execution_count": 17,
   "metadata": {},
   "outputs": [
    {
     "data": {
      "image/svg+xml": [
       "<svg width=\"250\" height=\"250\" xmlns=\"http://www.w3.org/2000/svg\">\n",
       "<g>\n",
       "<g>\n",
       "<g>\n",
       "<ellipse cx=\"149.5\" cy=\"76\" rx=\"12.25\" ry=\"12.25\" fill=\"black\" stroke=\"black\" />\n",
       "</g>\n",
       "<rect x=\"2.5\" y=\"2.5\" width=\"245\" height=\"245\" fill=\"none\" stroke=\"black\" />\n",
       "</g>\n",
       "</g>\n",
       "</svg>"
      ],
      "text/plain": [
       "g: "
      ]
     },
     "execution_count": 17,
     "metadata": {},
     "output_type": "execute_result"
    }
   ],
   "source": [
    "Point(b, x=0.6, y=0.3, r=0.05) + Rect()"
   ]
  },
  {
   "cell_type": "code",
   "execution_count": 18,
   "metadata": {},
   "outputs": [
    {
     "data": {
      "image/svg+xml": [
       "<svg width=\"250\" height=\"250\" xmlns=\"http://www.w3.org/2000/svg\">\n",
       "<g>\n",
       "<g>\n",
       "<g>\n",
       "<g pad=\"0.2\">\n",
       "<text x=\"46.201054741025416\" y=\"202.57977380300213\" font-size=\"83.12118621750228px\" stroke=\"black\" font-family=\"Montserrat\">A</text>\n",
       "<rect x=\"27\" y=\"125\" width=\"98\" height=\"96.97471725375267\" fill=\"none\" stroke=\"black\" />\n",
       "</g>\n",
       "</g>\n",
       "<rect x=\"2.5\" y=\"2.5\" width=\"245\" height=\"245\" fill=\"none\" stroke=\"black\" />\n",
       "</g>\n",
       "</g>\n",
       "</svg>"
      ],
      "text/plain": [
       "g: "
      ]
     },
     "execution_count": 18,
     "metadata": {},
     "output_type": "execute_result"
    }
   ],
   "source": [
    "Point(na, x=0.3, y=0.7, r=0.2) + Rect()"
   ]
  },
  {
   "cell_type": "code",
   "execution_count": 19,
   "metadata": {},
   "outputs": [
    {
     "data": {
      "image/svg+xml": [
       "<svg width=\"250\" height=\"78.89261572892536\" xmlns=\"http://www.w3.org/2000/svg\">\n",
       "<g>\n",
       "<g>\n",
       "<g pad=\"0.2\">\n",
       "<text x=\"17.808371569919224\" y=\"62.64073688876674\" font-size=\"66.2697972122973px\" stroke=\"black\" font-family=\"Montserrat\">A</text>\n",
       "<rect x=\"2.5\" y=\"0.7889261572892536\" width=\"78.13218774105563\" height=\"77.31476341434686\" fill=\"none\" stroke=\"black\" />\n",
       "</g>\n",
       "<g pad=\"0.2\">\n",
       "<text x=\"97.1998684833198\" y=\"62.64073688876674\" font-size=\"66.2697972122973px\" stroke=\"black\" font-family=\"Montserrat\">Test</text>\n",
       "<rect x=\"80.63218774105566\" y=\"0.7889261572892536\" width=\"166.8678122589443\" height=\"77.31476341434686\" fill=\"none\" stroke=\"black\" />\n",
       "</g>\n",
       "</g>\n",
       "</g>\n",
       "</svg>"
      ],
      "text/plain": [
       "g: "
      ]
     },
     "execution_count": 19,
     "metadata": {},
     "output_type": "execute_result"
    }
   ],
   "source": [
    "na | nt"
   ]
  },
  {
   "cell_type": "code",
   "execution_count": 20,
   "metadata": {},
   "outputs": [
    {
     "data": {
      "image/svg+xml": [
       "<svg width=\"250\" height=\"141.44752195193354\" xmlns=\"http://www.w3.org/2000/svg\">\n",
       "<g>\n",
       "<g>\n",
       "<g>\n",
       "<g pad=\"0.2\">\n",
       "<text x=\"21.19366564188012\" y=\"76.94419853973741\" font-size=\"80.9247035573765px\" stroke=\"black\" font-family=\"Montserrat\">A</text>\n",
       "<rect x=\"2.500000000000014\" y=\"1.4144752195193424\" width=\"95.41034373439918\" height=\"94.41215415027258\" fill=\"none\" stroke=\"black\" />\n",
       "</g>\n",
       "<g pad=\"0.2\">\n",
       "<text x=\"11.972936051011734\" y=\"131.19176325988974\" font-size=\"37.89121488224762px\" stroke=\"black\" font-family=\"Montserrat\">Test</text>\n",
       "<rect x=\"2.500000000000014\" y=\"95.82662936979196\" width=\"95.41034373439918\" height=\"44.20641736262223\" fill=\"none\" stroke=\"black\" />\n",
       "</g>\n",
       "</g>\n",
       "<g>\n",
       "<g pad=\"0.2\">\n",
       "<text x=\"151.40741848689697\" y=\"56.86190382467727\" font-size=\"59.40795921981208px\" stroke=\"black\" font-family=\"Montserrat\">A</text>\n",
       "<rect x=\"137.6841365062071\" y=\"1.4144752195193353\" width=\"70.04207072198503\" height=\"69.30928575644742\" fill=\"none\" stroke=\"black\" />\n",
       "</g>\n",
       "<g pad=\"0.2\">\n",
       "<text x=\"112.7625410144092\" y=\"126.17118958112471\" font-size=\"59.4079592198121px\" stroke=\"black\" font-family=\"Montserrat\">Test</text>\n",
       "<rect x=\"97.91034373439922\" y=\"70.72376097596675\" width=\"149.58965626560078\" height=\"69.30928575644744\" fill=\"none\" stroke=\"black\" />\n",
       "</g>\n",
       "</g>\n",
       "</g>\n",
       "</g>\n",
       "</svg>"
      ],
      "text/plain": [
       "g: "
      ]
     },
     "execution_count": 20,
     "metadata": {},
     "output_type": "execute_result"
    }
   ],
   "source": [
    "VStack([na, nt], expand=True) | VStack([na, nt], expand=False)"
   ]
  },
  {
   "cell_type": "code",
   "execution_count": 21,
   "metadata": {},
   "outputs": [
    {
     "data": {
      "image/svg+xml": [
       "<svg width=\"250\" height=\"64.8145523993823\" xmlns=\"http://www.w3.org/2000/svg\">\n",
       "<g>\n",
       "<g>\n",
       "<g>\n",
       "<g pad=\"0.2\">\n",
       "<text x=\"11.06587343887089\" y=\"35.25762572056226\" font-size=\"37.08158592489475px\" stroke=\"black\" font-family=\"Montserrat\">A</text>\n",
       "<rect x=\"2.500000000000028\" y=\"0.6481455239938301\" width=\"43.71924398589126\" height=\"43.261850245710534\" fill=\"none\" stroke=\"black\" />\n",
       "</g>\n",
       "<g pad=\"0.2\">\n",
       "<text x=\"6.840720159543999\" y=\"60.11512465425166\" font-size=\"17.362638090586376px\" stroke=\"black\" font-family=\"Montserrat\">Test</text>\n",
       "<rect x=\"2.500000000000028\" y=\"43.90999576970437\" width=\"43.71924398589126\" height=\"20.2564111056841\" fill=\"none\" stroke=\"black\" />\n",
       "</g>\n",
       "</g>\n",
       "<g>\n",
       "<g pad=\"0.2\">\n",
       "<text x=\"58.79589950808813\" y=\"51.46275460510955\" font-size=\"54.44422401548114px\" stroke=\"black\" font-family=\"Montserrat\">A</text>\n",
       "<rect x=\"46.21924398589129\" y=\"0.6481455239938301\" width=\"64.18981966349367\" height=\"63.51826135139464\" fill=\"none\" stroke=\"black\" />\n",
       "</g>\n",
       "<g pad=\"0.2\">\n",
       "<text x=\"124.02030979307199\" y=\"51.462754605109545\" font-size=\"54.44422401548114px\" stroke=\"black\" font-family=\"Montserrat\">Test</text>\n",
       "<rect x=\"110.40906364938496\" y=\"0.648145523993823\" width=\"137.090936350615\" height=\"63.51826135139465\" fill=\"none\" stroke=\"black\" />\n",
       "</g>\n",
       "</g>\n",
       "</g>\n",
       "</g>\n",
       "</svg>"
      ],
      "text/plain": [
       "g: "
      ]
     },
     "execution_count": 21,
     "metadata": {},
     "output_type": "execute_result"
    }
   ],
   "source": [
    "(na & nt) | (na | nt)"
   ]
  },
  {
   "cell_type": "markdown",
   "metadata": {},
   "source": [
    "### Plots"
   ]
  },
  {
   "cell_type": "code",
   "execution_count": 22,
   "metadata": {},
   "outputs": [],
   "source": [
    "ticks = {0.15: 'hello', 0.35: '0.3', 0.5: 'abc', 0.8: 'world'}"
   ]
  },
  {
   "cell_type": "code",
   "execution_count": 23,
   "metadata": {},
   "outputs": [
    {
     "data": {
      "image/svg+xml": [
       "<svg width=\"250\" height=\"214.07741251325564\" xmlns=\"http://www.w3.org/2000/svg\">\n",
       "<g>\n",
       "<g>\n",
       "<line x1=\"125\" y1=\"2.1407741251325842\" x2=\"125\" y2=\"86.05911983032877\" stroke=\"black\" stroke-width=\"1\" />\n",
       "<text x=\"2.5\" y=\"211.93663838812304\" font-size=\"129.90455991516438px\" stroke=\"black\" font-family=\"Montserrat\" font-weight=\"200\">test</text>\n",
       "</g>\n",
       "</g>\n",
       "</svg>"
      ],
      "text/plain": [
       "g: "
      ]
     },
     "execution_count": 23,
     "metadata": {},
     "output_type": "execute_result"
    }
   ],
   "source": [
    "VTick('test')"
   ]
  },
  {
   "cell_type": "code",
   "execution_count": 24,
   "metadata": {},
   "outputs": [
    {
     "data": {
      "image/svg+xml": [
       "<svg width=\"250\" height=\"31.25\" xmlns=\"http://www.w3.org/2000/svg\">\n",
       "<g>\n",
       "<g>\n",
       "<g>\n",
       "<line x1=\"39.25\" y1=\"0.3125\" x2=\"39.25\" y2=\"12.5625\" stroke=\"black\" stroke-width=\"1\" />\n",
       "<text x=\"19.05896226415094\" y=\"30.9375\" font-size=\"16.50943396226415px\" stroke=\"black\" font-family=\"Montserrat\" font-weight=\"200\">hello</text>\n",
       "</g>\n",
       "<g>\n",
       "<line x1=\"88.25\" y1=\"0.3125\" x2=\"88.25\" y2=\"12.5625\" stroke=\"black\" stroke-width=\"1\" />\n",
       "<text x=\"75.88816713483145\" y=\"30.9375\" font-size=\"17.205056179775283px\" stroke=\"black\" font-family=\"Montserrat\" font-weight=\"200\">0.3</text>\n",
       "</g>\n",
       "<g>\n",
       "<line x1=\"125\" y1=\"0.3125\" x2=\"125\" y2=\"12.5625\" stroke=\"black\" stroke-width=\"1\" />\n",
       "<text x=\"109.98678045515396\" y=\"30.9375\" font-size=\"16.39892904953146px\" stroke=\"black\" font-family=\"Montserrat\" font-weight=\"200\">abc</text>\n",
       "</g>\n",
       "<g>\n",
       "<line x1=\"198.5\" y1=\"0.31250000000000533\" x2=\"198.5\" y2=\"12.5625\" stroke=\"black\" stroke-width=\"1\" />\n",
       "<text x=\"175.28731593038825\" y=\"30.937499999999993\" font-size=\"16.39892904953146px\" stroke=\"black\" font-family=\"Montserrat\" font-weight=\"200\">world</text>\n",
       "</g>\n",
       "</g>\n",
       "</g>\n",
       "</svg>"
      ],
      "text/plain": [
       "g: "
      ]
     },
     "execution_count": 24,
     "metadata": {},
     "output_type": "execute_result"
    }
   ],
   "source": [
    "HScale(ticks)"
   ]
  },
  {
   "cell_type": "code",
   "execution_count": 25,
   "metadata": {},
   "outputs": [
    {
     "data": {
      "image/svg+xml": [
       "<svg width=\"250\" height=\"31.25\" xmlns=\"http://www.w3.org/2000/svg\">\n",
       "<g>\n",
       "<g>\n",
       "<g>\n",
       "<g>\n",
       "<line x1=\"39.25\" y1=\"0.3125\" x2=\"39.25\" y2=\"12.5625\" stroke=\"black\" stroke-width=\"1\" />\n",
       "<text x=\"19.05896226415094\" y=\"30.9375\" font-size=\"16.50943396226415px\" stroke=\"black\" font-family=\"Montserrat\" font-weight=\"200\">hello</text>\n",
       "</g>\n",
       "<g>\n",
       "<line x1=\"88.25\" y1=\"0.3125\" x2=\"88.25\" y2=\"12.5625\" stroke=\"black\" stroke-width=\"1\" />\n",
       "<text x=\"75.88816713483145\" y=\"30.9375\" font-size=\"17.205056179775283px\" stroke=\"black\" font-family=\"Montserrat\" font-weight=\"200\">0.3</text>\n",
       "</g>\n",
       "<g>\n",
       "<line x1=\"125\" y1=\"0.3125\" x2=\"125\" y2=\"12.5625\" stroke=\"black\" stroke-width=\"1\" />\n",
       "<text x=\"109.98678045515396\" y=\"30.9375\" font-size=\"16.39892904953146px\" stroke=\"black\" font-family=\"Montserrat\" font-weight=\"200\">abc</text>\n",
       "</g>\n",
       "<g>\n",
       "<line x1=\"198.5\" y1=\"0.31250000000000533\" x2=\"198.5\" y2=\"12.5625\" stroke=\"black\" stroke-width=\"1\" />\n",
       "<text x=\"175.28731593038825\" y=\"30.937499999999993\" font-size=\"16.39892904953146px\" stroke=\"black\" font-family=\"Montserrat\" font-weight=\"200\">world</text>\n",
       "</g>\n",
       "</g>\n",
       "<line x1=\"2.5\" y1=\"6.4375\" x2=\"247.5\" y2=\"6.4375\" stroke=\"black\" />\n",
       "</g>\n",
       "</g>\n",
       "</svg>"
      ],
      "text/plain": [
       "g: "
      ]
     },
     "execution_count": 25,
     "metadata": {},
     "output_type": "execute_result"
    }
   ],
   "source": [
    "HAxis(ticks)"
   ]
  },
  {
   "cell_type": "code",
   "execution_count": 26,
   "metadata": {},
   "outputs": [
    {
     "data": {
      "image/svg+xml": [
       "<svg width=\"250\" height=\"125\" xmlns=\"http://www.w3.org/2000/svg\">\n",
       "<g>\n",
       "<g>\n",
       "<g>\n",
       "<g>\n",
       "<g>\n",
       "<line x1=\"70.27182758003246\" y1=\"105.32069962713858\" x2=\"70.27182758003246\" y2=\"112.69241977628315\" stroke=\"black\" stroke-width=\"1\" />\n",
       "<text x=\"58.12140474660415\" y=\"123.75\" font-size=\"9.934932815558714px\" stroke=\"black\" font-family=\"Montserrat\" font-weight=\"200\">hello</text>\n",
       "</g>\n",
       "<g>\n",
       "<line x1=\"111.97257403178952\" y1=\"105.32069962713858\" x2=\"111.97257403178952\" y2=\"112.69241977628315\" stroke=\"black\" stroke-width=\"1\" />\n",
       "<text x=\"104.5335558756654\" y=\"123.75\" font-size=\"10.3535395353154px\" stroke=\"black\" font-family=\"Montserrat\" font-weight=\"200\">0.3</text>\n",
       "</g>\n",
       "<g>\n",
       "<line x1=\"143.24813387060732\" y1=\"105.32069962713858\" x2=\"143.24813387060732\" y2=\"112.69241977628315\" stroke=\"black\" stroke-width=\"1\" />\n",
       "<text x=\"134.21358260348302\" y=\"123.75\" font-size=\"9.868433934597812px\" stroke=\"black\" font-family=\"Montserrat\" font-weight=\"200\">abc</text>\n",
       "</g>\n",
       "<g>\n",
       "<line x1=\"205.7992535482429\" y1=\"105.32069962713858\" x2=\"205.7992535482429\" y2=\"112.69241977628315\" stroke=\"black\" stroke-width=\"1\" />\n",
       "<text x=\"191.83048531381968\" y=\"123.75\" font-size=\"9.868433934597812px\" stroke=\"black\" font-family=\"Montserrat\" font-weight=\"200\">world</text>\n",
       "</g>\n",
       "</g>\n",
       "<line x1=\"38.99626774121463\" y1=\"109.00655970171087\" x2=\"247.5\" y2=\"109.00655970171087\" stroke=\"black\" />\n",
       "</g>\n",
       "<g>\n",
       "<g>\n",
       "<g>\n",
       "<text x=\"6.258947480469054\" y=\"96.65284545057486\" font-size=\"10.268921035365588px\" stroke=\"black\" font-family=\"Montserrat\" font-weight=\"200\">hello</text>\n",
       "<line x1=\"35.186498037093955\" y1=\"92.84307574645422\" x2=\"42.80603744533524\" y2=\"92.84307574645422\" stroke=\"black\" stroke-width=\"1\" />\n",
       "</g>\n",
       "<g>\n",
       "<text x=\"15.9985287126886\" y=\"75.1015335102327\" font-size=\"10.701600292473708px\" stroke=\"black\" font-family=\"Montserrat\" font-weight=\"200\">0.3</text>\n",
       "<line x1=\"35.18649803709396\" y1=\"71.29176380611206\" x2=\"42.80603744533524\" y2=\"71.29176380611206\" stroke=\"black\" stroke-width=\"1\" />\n",
       "</g>\n",
       "<g>\n",
       "<text x=\"12.700186624151653\" y=\"58.93804955497606\" font-size=\"10.200186624151646px\" stroke=\"black\" font-family=\"Montserrat\" font-weight=\"200\">abc</text>\n",
       "<line x1=\"35.186498037093955\" y1=\"55.12827985085542\" x2=\"42.80603744533524\" y2=\"55.12827985085542\" stroke=\"black\" stroke-width=\"1\" />\n",
       "</g>\n",
       "<g>\n",
       "<text x=\"2.5000000000000036\" y=\"26.611081644462807\" font-size=\"10.200186624151646px\" stroke=\"black\" font-family=\"Montserrat\" font-weight=\"200\">world</text>\n",
       "<line x1=\"35.18649803709396\" y1=\"22.801311940342167\" x2=\"42.80603744533524\" y2=\"22.801311940342167\" stroke=\"black\" stroke-width=\"1\" />\n",
       "</g>\n",
       "</g>\n",
       "<line x1=\"38.9962677412146\" y1=\"1.25\" x2=\"38.9962677412146\" y2=\"109.00655970171086\" stroke=\"black\" />\n",
       "</g>\n",
       "</g>\n",
       "</g>\n",
       "</svg>"
      ],
      "text/plain": [
       "g: "
      ]
     },
     "execution_count": 26,
     "metadata": {},
     "output_type": "execute_result"
    }
   ],
   "source": [
    "Axes(xticks=ticks, yticks=ticks, aspect=2)"
   ]
  },
  {
   "cell_type": "code",
   "execution_count": 27,
   "metadata": {},
   "outputs": [
    {
     "data": {
      "image/svg+xml": [
       "<svg width=\"250\" height=\"166.66666666666663\" xmlns=\"http://www.w3.org/2000/svg\">\n",
       "<g>\n",
       "<g xaxis-tick-text-scale=\"1.5\">\n",
       "<g>\n",
       "<g>\n",
       "<g>\n",
       "<line x1=\"42.005086429537684\" y1=\"137.03568427861313\" x2=\"42.005086429537684\" y2=\"146.35712285240874\" stroke=\"black\" stroke-width=\"1\" />\n",
       "<text x=\"34.59250793790188\" y=\"163.2522302674133\" font-size=\"14.883294853794258px\" stroke=\"black\" font-family=\"NotoColorEmoji\">🍄</text>\n",
       "</g>\n",
       "<g>\n",
       "<line x1=\"87.67062277852929\" y1=\"137.03568427861313\" x2=\"87.67062277852929\" y2=\"146.35712285240874\" stroke=\"black\" stroke-width=\"1\" />\n",
       "<text x=\"80.2580442868935\" y=\"163.2522302674133\" font-size=\"14.883294853794258px\" stroke=\"black\" font-family=\"NotoColorEmoji\">🍩</text>\n",
       "</g>\n",
       "<g>\n",
       "<line x1=\"133.33615912752094\" y1=\"137.03568427861313\" x2=\"133.33615912752094\" y2=\"146.35712285240874\" stroke=\"black\" stroke-width=\"1\" />\n",
       "<text x=\"125.92358063588513\" y=\"163.2522302674133\" font-size=\"14.883294853794258px\" stroke=\"black\" font-family=\"NotoColorEmoji\">🚀</text>\n",
       "</g>\n",
       "<g>\n",
       "<line x1=\"179.0016954765125\" y1=\"137.03568427861313\" x2=\"179.0016954765125\" y2=\"146.35712285240874\" stroke=\"black\" stroke-width=\"1\" />\n",
       "<text x=\"171.5891169848767\" y=\"163.2522302674133\" font-size=\"14.883294853794258px\" stroke=\"black\" font-family=\"NotoColorEmoji\">🦊</text>\n",
       "</g>\n",
       "<g>\n",
       "<line x1=\"224.6672318255042\" y1=\"137.03568427861313\" x2=\"224.6672318255042\" y2=\"146.35712285240874\" stroke=\"black\" stroke-width=\"1\" />\n",
       "<text x=\"217.25465333386836\" y=\"163.2522302674133\" font-size=\"14.883294853794258px\" stroke=\"black\" font-family=\"NotoColorEmoji\">🐋</text>\n",
       "</g>\n",
       "</g>\n",
       "<line x1=\"19.172318255041866\" y1=\"141.69640356551093\" x2=\"247.49999999999997\" y2=\"141.69640356551093\" stroke=\"black\" />\n",
       "</g>\n",
       "<g>\n",
       "<g>\n",
       "<g>\n",
       "<text x=\"6.175015045196597\" y=\"131.98094742835585\" font-size=\"12.25005015065522px\" stroke=\"black\" font-family=\"Montserrat\" font-weight=\"200\">1</text>\n",
       "<line x1=\"14.884800702312456\" y1=\"127.69342987562652\" x2=\"23.459835807771107\" y2=\"127.69342987562652\" stroke=\"black\" stroke-width=\"1\" />\n",
       "</g>\n",
       "<g>\n",
       "<text x=\"3.6983880505739006\" y=\"103.97500004858699\" font-size=\"12.145942075720473px\" stroke=\"black\" font-family=\"Montserrat\" font-weight=\"200\">2</text>\n",
       "<line x1=\"14.884800702312454\" y1=\"99.68748249585767\" x2=\"23.459835807771107\" y2=\"99.68748249585767\" stroke=\"black\" stroke-width=\"1\" />\n",
       "</g>\n",
       "<g>\n",
       "<text x=\"3.746971818876781\" y=\"75.96905266881814\" font-size=\"12.145942075720473px\" stroke=\"black\" font-family=\"Montserrat\" font-weight=\"200\">3</text>\n",
       "<line x1=\"14.884800702312454\" y1=\"71.68153511608881\" x2=\"23.459835807771107\" y2=\"71.68153511608881\" stroke=\"black\" stroke-width=\"1\" />\n",
       "</g>\n",
       "<g>\n",
       "<text x=\"2.5000000000000306\" y=\"47.96310528904928\" font-size=\"12.250050150655209px\" stroke=\"black\" font-family=\"Montserrat\" font-weight=\"200\">4</text>\n",
       "<line x1=\"14.884800702312454\" y1=\"43.675587736319955\" x2=\"23.459835807771107\" y2=\"43.675587736319955\" stroke=\"black\" stroke-width=\"1\" />\n",
       "</g>\n",
       "<g>\n",
       "<text x=\"3.7226799347253423\" y=\"19.95715790928043\" font-size=\"12.14594207572047px\" stroke=\"black\" font-family=\"Montserrat\" font-weight=\"200\">5</text>\n",
       "<line x1=\"14.884800702312454\" y1=\"15.669640356551103\" x2=\"23.459835807771107\" y2=\"15.669640356551103\" stroke=\"black\" stroke-width=\"1\" />\n",
       "</g>\n",
       "</g>\n",
       "<line x1=\"19.17231825504178\" y1=\"1.6666666666666805\" x2=\"19.17231825504178\" y2=\"141.69640356551093\" stroke=\"black\" />\n",
       "</g>\n",
       "</g>\n",
       "</g>\n",
       "</svg>"
      ],
      "text/plain": [
       "g: xaxis-tick-text-scale=\"1.5\""
      ]
     },
     "execution_count": 27,
     "metadata": {},
     "output_type": "execute_result"
    }
   ],
   "source": [
    "Axes(\n",
    "    xticks={0.1: Emoji('🍄'), 0.3: Emoji('🍩'), 0.5: Emoji('🚀'), 0.7: Emoji('🦊'), 0.9: Emoji('🐋')},\n",
    "    yticks={0.1: '1', 0.3: '2', 0.5: '3', 0.7: '4', 0.9: '5'},\n",
    "    aspect=1.5, xaxis_tick_text_scale=1.5\n",
    ")"
   ]
  },
  {
   "cell_type": "code",
   "execution_count": 28,
   "metadata": {},
   "outputs": [
    {
     "data": {
      "image/svg+xml": [
       "<svg width=\"250\" height=\"125\" xmlns=\"http://www.w3.org/2000/svg\">\n",
       "<g>\n",
       "<g>\n",
       "<g>\n",
       "<polyline points=\"45.45517111125638,55.789739472931444 47.37229059498106,52.718700367570925 49.28941007870574,49.66002725278358 51.206529562430426,46.62603632566304 53.12364904615511,43.62894439684461 55.04076852987979,40.68081969772074 56.957888013604475,37.79353328593257 58.87500749732916,34.9787112448106 60.79212698105384,32.247687869240536 62.70924646477852,29.611460026458126 64.6263659485032,27.08064287554605 66.54348543222788,24.665427123934897 68.46060491595257,22.37553799302104 70.37772439967725,20.220196058132586 72.29484388340194,18.20808012052683 74.21196336712663,16.34729226092071 76.1290828508513,14.645325215271388 78.04620233457598,13.10903220417303 79.96332181830067,11.74459933735629 81.88044130202536,10.557520704407752 83.79756078575004,9.552576252010294 85.71468026947471,8.733812536784841 87.6317997531994,8.104526431235055 89.54891923692409,7.667251848405373 91.46603872064878,7.423749538707511 93.38315820437344,7.375 95.30027768809813,7.521199529469371 97.21739717182282,7.861759433210667 99.13451665554751,8.395308396690005 101.05163613927218,9.11969800654425 102.96875562299687,10.032011401483308 104.88587510672156,11.128575017461092 106.80299459044623,12.404973379821353 108.72011407417092,13.856066882855725 110.6372335578956,15.476012485181869 112.55435304162029,17.25828723760896 114.47147252534496,19.195714548751717 116.38859200906965,21.28049308263109 118.30571149279433,23.504228171900696 120.22283097651902,25.857965620209544 122.1399504602437,28.33222775759021 124.05706994396839,30.917051603690908 125.97418942769306,33.60202898518082 127.89130891141775,36.37634844579077 129.8084283951424,39.2288387802316 131.72554787886713,42.14801401669524 133.6426673625918,45.122119666809134 135.55978684631646,48.13918005681237 137.47690633004117,51.18704654936704 139.39402581376584,54.253446461833086 141.31114529749053,57.32603248402982 143.22826478121522,60.39243239649586 145.14538426493988,63.44029888905053 147.06250374866457,66.45735927905375 148.97962323238926,69.43146492916765 150.89674271611395,72.35064016563128 152.81386219983864,75.20313050007212 154.7309816835633,77.97744996068205 156.648101167288,80.66242734217198 158.56522065101268,83.24725118827267 160.48234013473734,85.72151332565335 162.39945961846203,88.07525077396218 164.31657910218672,90.2989858632318 166.23369858591138,92.38376439711116 168.1508180696361,94.32119170825393 170.06793755336076,96.10346646068102 171.98505703708548,97.72341206300719 173.90217652081014,99.17450556604155 175.8192960045348,100.4509039284018 177.73641548825947,101.54746754437957 179.6535349719842,102.45978093931865 181.5706544557089,103.18417054917288 183.48777393943357,103.71771951265222 185.40489342315823,104.05827941639352 187.32201290688295,104.20447894586289 189.2391323906076,104.15572940715538 191.15625187433227,103.91222709745752 193.073371358057,103.47495251462784 194.99049084178165,102.84566640907805 196.9076103255063,102.0269026938526 198.82472980923103,101.02195824145514 200.7418492929557,99.83487960850658 202.6589687766804,98.47044674168986 204.57608826040507,96.9341537305915 206.49320774412973,95.23218668494218 208.41032722785445,93.37139882533604 210.3274467115791,91.35928288773029 212.24456619530378,89.20394095284186 214.16168567902844,86.91405182192801 216.07880516275316,84.49883607031684 217.99592464647787,81.96801891940476 219.91304413020254,79.33179107662235 221.8301636139272,76.60076770105229 223.74728309765192,73.7859456599303 225.66440258137658,70.89865924814214 227.58152206510124,67.9505345490183 229.49864154882596,64.95344262019984 231.41576103255062,61.919451693079296 233.33288051627534,58.86077857829196 235.25,55.78973947293146\" fill=\"none\" stroke=\"black\" />\n",
       "<g>\n",
       "<g>\n",
       "<g>\n",
       "<g>\n",
       "<line x1=\"45.45517111125638\" y1=\"100.84934868232861\" x2=\"45.45517111125638\" y2=\"107.55960920939717\" stroke=\"black\" stroke-width=\"1\" />\n",
       "<text x=\"35.20128985641005\" y=\"117.625\" font-size=\"9.424523212174938px\" stroke=\"black\" font-family=\"Montserrat\" font-weight=\"200\">0.00</text>\n",
       "</g>\n",
       "<g>\n",
       "<line x1=\"92.90387833344228\" y1=\"100.84934868232861\" x2=\"92.90387833344228\" y2=\"107.55960920939717\" stroke=\"black\" stroke-width=\"1\" />\n",
       "<text x=\"84.75842044151912\" y=\"117.625\" font-size=\"9.504618310295406px\" stroke=\"black\" font-family=\"Montserrat\" font-weight=\"200\">1.57</text>\n",
       "</g>\n",
       "<g>\n",
       "<line x1=\"140.35258555562817\" y1=\"100.84934868232862\" x2=\"140.35258555562817\" y2=\"107.55960920939717\" stroke=\"black\" stroke-width=\"1\" />\n",
       "<text x=\"131.86496140453437\" y=\"117.62499999999999\" font-size=\"9.504618310295385px\" stroke=\"black\" font-family=\"Montserrat\" font-weight=\"200\">3.14</text>\n",
       "</g>\n",
       "<g>\n",
       "<line x1=\"187.80129277781407\" y1=\"100.84934868232861\" x2=\"187.80129277781407\" y2=\"107.55960920939717\" stroke=\"black\" stroke-width=\"1\" />\n",
       "<text x=\"178.97730018471893\" y=\"117.625\" font-size=\"9.586086467240795px\" stroke=\"black\" font-family=\"Montserrat\" font-weight=\"200\">4.71</text>\n",
       "</g>\n",
       "<g>\n",
       "<line x1=\"235.24999999999997\" y1=\"100.84934868232861\" x2=\"235.24999999999997\" y2=\"107.55960920939717\" stroke=\"black\" stroke-width=\"1\" />\n",
       "<text x=\"225.6040004923389\" y=\"117.625\" font-size=\"9.424523212174938px\" stroke=\"black\" font-family=\"Montserrat\" font-weight=\"200\">6.28</text>\n",
       "</g>\n",
       "</g>\n",
       "<line x1=\"45.45517111125638\" y1=\"104.20447894586289\" x2=\"235.25\" y2=\"104.20447894586289\" stroke=\"black\" />\n",
       "</g>\n",
       "<g>\n",
       "<g>\n",
       "<g>\n",
       "<text x=\"16.961772425803005\" y=\"107.62791800493187\" font-size=\"9.616401851317368px\" stroke=\"black\" font-family=\"Montserrat\" font-weight=\"200\">-1.00</text>\n",
       "<line x1=\"42.031732052187394\" y1=\"104.20447894586289\" x2=\"48.87861017032536\" y2=\"104.20447894586289\" stroke=\"black\" stroke-width=\"1\" />\n",
       "</g>\n",
       "<g>\n",
       "<text x=\"14.750000000000009\" y=\"83.42054826846615\" font-size=\"9.616401851317368px\" stroke=\"black\" font-family=\"Montserrat\" font-weight=\"200\">-0.50</text>\n",
       "<line x1=\"42.031732052187394\" y1=\"79.99710920939717\" x2=\"48.87861017032536\" y2=\"79.99710920939717\" stroke=\"black\" stroke-width=\"1\" />\n",
       "</g>\n",
       "<g>\n",
       "<text x=\"17.6830025646518\" y=\"59.21317853200042\" font-size=\"9.616401851317368px\" stroke=\"black\" font-family=\"Montserrat\" font-weight=\"200\">0.00</text>\n",
       "<line x1=\"42.031732052187394\" y1=\"55.78973947293144\" x2=\"48.87861017032536\" y2=\"55.78973947293144\" stroke=\"black\" stroke-width=\"1\" />\n",
       "</g>\n",
       "<g>\n",
       "<text x=\"18.500396722013775\" y=\"35.005808795534705\" font-size=\"9.616401851317377px\" stroke=\"black\" font-family=\"Montserrat\" font-weight=\"200\">0.50</text>\n",
       "<line x1=\"42.03173205218739\" y1=\"31.58236973646572\" x2=\"48.87861017032536\" y2=\"31.58236973646572\" stroke=\"black\" stroke-width=\"1\" />\n",
       "</g>\n",
       "<g>\n",
       "<text x=\"20.471759101533834\" y=\"10.79843905906899\" font-size=\"9.616401851317372px\" stroke=\"black\" font-family=\"Montserrat\" font-weight=\"200\">1.00</text>\n",
       "<line x1=\"42.03173205218739\" y1=\"7.375000000000005\" x2=\"48.87861017032536\" y2=\"7.375000000000005\" stroke=\"black\" stroke-width=\"1\" />\n",
       "</g>\n",
       "</g>\n",
       "<line x1=\"45.45517111125638\" y1=\"7.375\" x2=\"45.45517111125638\" y2=\"104.20447894586289\" stroke=\"black\" />\n",
       "</g>\n",
       "</g>\n",
       "</g>\n",
       "</g>\n",
       "</g>\n",
       "</svg>"
      ],
      "text/plain": [
       "g: "
      ]
     },
     "execution_count": 28,
     "metadata": {},
     "output_type": "execute_result"
    }
   ],
   "source": [
    "Frame(\n",
    "    Plot(\n",
    "        SymPath(\n",
    "            np.sin,\n",
    "            xlim=(0, 2*np.pi)\n",
    "        ),\n",
    "        aspect=2\n",
    "    ),\n",
    "    padding=0.05\n",
    ")"
   ]
  },
  {
   "cell_type": "code",
   "execution_count": 29,
   "metadata": {},
   "outputs": [
    {
     "data": {
      "image/svg+xml": [
       "<svg width=\"400\" height=\"266.6666666666666\" xmlns=\"http://www.w3.org/2000/svg\">\n",
       "<g xaxis-tick-text-scale=\"1.5\">\n",
       "<polyline points=\"32.68016469280774,82.75844884748254 36.39046605954706,78.7208602239405 40.100767426286374,74.69952954474374 43.81106879302569,70.71064928923374 47.521370159765006,66.77028127034903 51.231671526504314,62.89429195937332 54.94197289324364,59.09828859725563 58.65227425998295,55.39755634975948 62.36257562672226,51.806996759495135 66.07287699346158,48.34106774266698 69.78317836020089,45.01372537214772 73.49347972694021,41.838367681298664 77.20378109367954,38.82778071481816 80.91408246041885,35.99408704385232 84.62438382715817,33.34869695267961 88.33468519389747,30.90226249352322 92.04498656063679,28.664634594496377 95.75528792737609,26.644823393391636 99.4655892941154,24.85096195703608 103.17589066085475,23.290273532301683 106.88619202759403,21.969042460639596 110.59649339433335,20.89258887325514 114.30679476107267,20.065247268817114 118.01709612781198,19.49034905996153 121.72739749455133,19.170209158868712 125.43769886129061,19.106116655928975 129.14800022802996,19.298329629030608 132.85830159476927,19.74607410437131 136.5686029615086,20.44754717297749 140.27890432824788,21.399924250382433 143.9892056949872,22.599370450230982 147.6995070617265,24.0410560260134 151.40980842846582,25.71917581874996 155.12010979520517,27.626972632317248 158.83041116194445,29.75676444229199 162.5407125286838,32.09997532875221 166.25101389542309,34.64717000847977 169.96131526216243,37.38809182751594 173.67161662890175,40.311704061086694 177.38191799564106,43.40623435459822 181.09221936238035,46.65922212675366 184.8025207291197,50.05756874391638 188.51282209585898,53.58759026368426 192.2231234625983,57.23507253529637 195.9334248293376,60.98532843500098 199.64372619607695,64.82325700591952 203.35402756281624,68.7334042642698 207.06432892955556,72.7000254271046 210.7746302962949,76.70714831099541 214.4849316630342,80.7386376463778 218.1952330297735,84.7782600485873 221.90553439651282,88.80974938396967 225.61583576325216,92.81687226786048 229.32613712999145,96.78349343069526 233.0364384967308,100.69364068904557 236.74673986347008,104.53156925996406 240.45704123020943,108.28182515966871 244.1673425969487,111.9293074312808 247.87764396368803,115.4593289510487 251.58794533042732,118.8576755682114 255.29824669716666,122.11066334036687 259.00854806390595,125.20519363387837 262.71884943064526,128.12880586744916 266.4291507973846,130.8697276864853 270.1394521641239,133.41692236621287 273.8497535308632,135.76013325267309 277.5600548976026,137.88992506264785 281.27035626434184,139.79772187621512 284.98065763108116,141.4758416689517 288.6909589978205,142.9175272447341 292.40126036455985,144.11697344458267 296.11156173129916,145.0693505219876 299.8218630980384,145.77082359059375 303.53216446477774,146.21856806593448 307.2424658315171,146.4107810390361 310.95276719825637,146.34668853609637 314.66306856499574,146.02654863500354 318.373369931735,145.45165042614798 322.08367129847437,144.62430882170995 325.79397266521363,143.54785523432548 329.50427403195295,142.2266241626634 333.2145753986923,140.66593573792898 336.92487676543163,138.87207430157343 340.63517813217095,136.8522631004687 344.3454794989102,134.61463520144187 348.0557808656496,132.16820074228545 351.76608223238884,129.52281065111274 355.47638359912816,126.68911698014692 359.18668496586747,123.67853001366643 362.89698633260684,120.50317232281736 366.60728769934616,117.17582995229807 370.3175890660854,113.70990093546993 374.02789043282473,110.1193413452056 377.73819179956405,106.4186090977094 381.44849316630336,102.62260573559173 385.1587945330427,98.74661642461605 388.86909589978205,94.80624840573131 392.57939726652137,90.81736815022131 396.2896986332606,86.79603747102456 399.99999999999994,82.75844884748255\" fill=\"none\" stroke=\"#1e88e5\" />\n",
       "<polyline points=\"32.68016469280774,82.75844884748254 36.39046605954706,82.77127003764323 40.100767426286374,82.80973360812533 43.81106879302569,82.87383955892881 47.521370159765006,82.96358789005369 51.231671526504314,83.07897860149997 54.94197289324364,83.22001169326764 58.65227425998295,83.38668716535669 62.36257562672226,83.57900501776714 66.07287699346158,83.796965250499 69.78317836020089,84.04056786355224 73.49347972694021,84.30981285692688 77.20378109367954,84.60470023062291 80.91408246041885,84.92522998464032 84.62438382715817,85.27140211897915 88.33468519389747,85.64321663363935 92.04498656063679,86.04067352862097 95.75528792737609,86.46377280392397 99.4655892941154,86.91251445954836 103.17589066085475,87.38689849549415 106.88619202759403,87.88692491176134 110.59649339433335,88.41259370834992 114.30679476107267,88.96390488525988 118.01709612781198,89.54085844249124 121.72739749455133,90.143454380044 125.43769886129061,90.77169269791816 129.14800022802996,91.4255733961137 132.85830159476927,92.10509647463064 136.5686029615086,92.81026193346898 140.27890432824788,93.5410697726287 143.9892056949872,94.29751999210983 147.6995070617265,95.07961259191234 151.40980842846582,95.88734757203625 155.12010979520517,96.72072493248156 158.83041116194445,97.57974467324826 162.5407125286838,98.46440679433636 166.25101389542309,99.37471129574583 169.96131526216243,100.31065817747671 173.67161662890175,101.27224743952898 177.38191799564106,102.25947908190265 181.09221936238035,103.27235310459771 184.8025207291197,104.31086950761417 188.51282209585898,105.37502829095202 192.2231234625983,106.46482945461126 195.9334248293376,107.58027299859191 199.64372619607695,108.72135892289393 203.35402756281624,109.88808722751736 207.06432892955556,111.08045791246218 210.7746302962949,112.29847097772839 214.4849316630342,113.542126423316 218.1952330297735,114.811424249225 221.90553439651282,116.1063644554554 225.61583576325216,117.42694704200719 229.32613712999145,118.77317200888037 233.0364384967308,120.14503935607495 236.74673986347008,121.54254908359093 240.45704123020943,122.96570119142828 244.1673425969487,124.41449567958705 247.87764396368803,125.8889325480672 251.58794533042732,127.38901179686874 255.29824669716666,128.9147334259917 259.00854806390595,130.466097435436 262.71884943064526,132.04310382520174 266.4291507973846,133.64575259528885 270.1394521641239,135.27404374569738 273.8497535308632,136.9279772764273 277.5600548976026,138.60755318747863 281.27035626434184,140.31277147885132 284.98065763108116,142.0436321505454 288.6909589978205,143.80013520256085 292.40126036455985,145.58228063489776 296.11156173129916,147.39006844755602 299.8218630980384,149.2234986405357 303.53216446477774,151.08257121383676 307.2424658315171,152.96728616745924 310.95276719825637,154.87764350140307 314.66306856499574,156.81364321566832 318.373369931735,158.77528531025496 322.08367129847437,160.762569785163 325.79397266521363,162.77549664039242 329.50427403195295,164.81406587594324 333.2145753986923,166.87827749181548 336.92487676543163,168.96813148800908 340.63517813217095,171.08362786452406 344.3454794989102,173.22476662136046 348.0557808656496,175.39154775851827 351.76608223238884,177.58397127599744 355.47638359912816,179.802037173798 359.18668496586747,182.04574545191997 362.89698633260684,184.31509611036336 366.60728769934616,186.6100891491281 370.3175890660854,188.93072456821426 374.02789043282473,191.27700236762178 377.73819179956405,193.64892254735076 381.44849316630336,196.04648510740108 385.1587945330427,198.46969004777281 388.86909589978205,200.91853736846593 392.57939726652137,203.39302706948047 396.2896986332606,205.89315915081636 399.99999999999994,208.41893361247367\" fill=\"none\" stroke=\"#ff0d57\" />\n",
       "<polyline points=\"32.68016469280774,82.75844884748254 36.39046605954706,82.75844884748254 40.100767426286374,82.75844884748254 43.81106879302569,82.75844884748254 47.521370159765006,82.75844884748254 51.231671526504314,82.75844884748254 54.94197289324364,82.75844884748254 58.65227425998295,82.75844884748254 62.36257562672226,82.75844884748254 66.07287699346158,82.75844884748254 69.78317836020089,82.75844884748254 73.49347972694021,82.75844884748254 77.20378109367954,82.75844884748254 80.91408246041885,82.75844884748254 84.62438382715817,82.75844884748254 88.33468519389747,82.75844884748254 92.04498656063679,82.75844884748254 95.75528792737609,82.75844884748254 99.4655892941154,82.75844884748254 103.17589066085475,82.75844884748254 106.88619202759403,82.75844884748254 110.59649339433335,82.75844884748254 114.30679476107267,82.75844884748254 118.01709612781198,82.75844884748254 121.72739749455133,82.75844884748254 125.43769886129061,82.75844884748254 129.14800022802996,82.75844884748254 132.85830159476927,82.75844884748254 136.5686029615086,82.75844884748254 140.27890432824788,82.75844884748254 143.9892056949872,82.75844884748254 147.6995070617265,82.75844884748254 151.40980842846582,82.75844884748254 155.12010979520517,82.75844884748254 158.83041116194445,82.75844884748254 162.5407125286838,82.75844884748254 166.25101389542309,82.75844884748254 169.96131526216243,82.75844884748254 173.67161662890175,82.75844884748254 177.38191799564106,82.75844884748254 181.09221936238035,82.75844884748254 184.8025207291197,82.75844884748254 188.51282209585898,82.75844884748254 192.2231234625983,82.75844884748254 195.9334248293376,82.75844884748254 199.64372619607695,82.75844884748254 203.35402756281624,82.75844884748254 207.06432892955556,82.75844884748254 210.7746302962949,82.75844884748254 214.4849316630342,82.75844884748254 218.1952330297735,82.75844884748254 221.90553439651282,82.75844884748254 225.61583576325216,82.75844884748254 229.32613712999145,82.75844884748254 233.0364384967308,82.75844884748254 236.74673986347008,82.75844884748254 240.45704123020943,82.75844884748254 244.1673425969487,82.75844884748254 247.87764396368803,82.75844884748254 251.58794533042732,82.75844884748254 255.29824669716666,82.75844884748254 259.00854806390595,82.75844884748254 262.71884943064526,82.75844884748254 266.4291507973846,82.75844884748254 270.1394521641239,82.75844884748254 273.8497535308632,82.75844884748254 277.5600548976026,82.75844884748254 281.27035626434184,82.75844884748254 284.98065763108116,82.75844884748254 288.6909589978205,82.75844884748254 292.40126036455985,82.75844884748254 296.11156173129916,82.75844884748254 299.8218630980384,82.75844884748254 303.53216446477774,82.75844884748254 307.2424658315171,82.75844884748254 310.95276719825637,82.75844884748254 314.66306856499574,82.75844884748254 318.373369931735,82.75844884748254 322.08367129847437,82.75844884748254 325.79397266521363,82.75844884748254 329.50427403195295,82.75844884748254 333.2145753986923,82.75844884748254 336.92487676543163,82.75844884748254 340.63517813217095,82.75844884748254 344.3454794989102,82.75844884748254 348.0557808656496,82.75844884748254 351.76608223238884,82.75844884748254 355.47638359912816,82.75844884748254 359.18668496586747,82.75844884748254 362.89698633260684,82.75844884748254 366.60728769934616,82.75844884748254 370.3175890660854,82.75844884748254 374.02789043282473,82.75844884748254 377.73819179956405,82.75844884748254 381.44849316630336,82.75844884748254 385.1587945330427,82.75844884748254 388.86909589978205,82.75844884748254 392.57939726652137,82.75844884748254 396.2896986332606,82.75844884748254 399.99999999999994,82.75844884748254\" fill=\"none\" stroke=\"black\" stroke-dasharray=\"4\" />\n",
       "<g xaxis-tick-text-scale=\"1.5\">\n",
       "<g>\n",
       "<g>\n",
       "<g>\n",
       "<line x1=\"61.910548435228066\" y1=\"221.6793582213779\" x2=\"61.910548435228066\" y2=\"236.6751277031408\" stroke=\"black\" stroke-width=\"1\" />\n",
       "<text x=\"49.98563819245404\" y=\"263.85495988883605\" font-size=\"23.943349193334527px\" stroke=\"black\" font-family=\"NotoColorEmoji\">🍄</text>\n",
       "</g>\n",
       "<g>\n",
       "<line x1=\"139.37106535264175\" y1=\"221.6793582213779\" x2=\"139.37106535264175\" y2=\"236.6751277031408\" stroke=\"black\" stroke-width=\"1\" />\n",
       "<text x=\"127.44615510986775\" y=\"263.85495988883605\" font-size=\"23.943349193334527px\" stroke=\"black\" font-family=\"NotoColorEmoji\">🍩</text>\n",
       "</g>\n",
       "<g>\n",
       "<line x1=\"216.8315822700555\" y1=\"221.6793582213779\" x2=\"216.8315822700555\" y2=\"236.6751277031408\" stroke=\"black\" stroke-width=\"1\" />\n",
       "<text x=\"204.90667202728147\" y=\"263.85495988883605\" font-size=\"23.943349193334527px\" stroke=\"black\" font-family=\"NotoColorEmoji\">🚀</text>\n",
       "</g>\n",
       "<g>\n",
       "<line x1=\"294.29209918746915\" y1=\"221.6793582213779\" x2=\"294.29209918746915\" y2=\"236.6751277031408\" stroke=\"black\" stroke-width=\"1\" />\n",
       "<text x=\"282.3671889446951\" y=\"263.85495988883605\" font-size=\"23.943349193334527px\" stroke=\"black\" font-family=\"NotoColorEmoji\">🦊</text>\n",
       "</g>\n",
       "<g>\n",
       "<line x1=\"371.7526161048829\" y1=\"221.6793582213779\" x2=\"371.7526161048829\" y2=\"236.6751277031408\" stroke=\"black\" stroke-width=\"1\" />\n",
       "<text x=\"359.82770586210887\" y=\"263.85495988883605\" font-size=\"23.943349193334527px\" stroke=\"black\" font-family=\"NotoColorEmoji\">🐋</text>\n",
       "</g>\n",
       "</g>\n",
       "<line x1=\"32.68016469280779\" y1=\"229.17724296225936\" x2=\"399.99999999999994\" y2=\"229.17724296225936\" stroke=\"black\" />\n",
       "</g>\n",
       "<g>\n",
       "<g>\n",
       "<g>\n",
       "<text x=\"6.039613253960852e-14\" y=\"217.0962307060134\" font-size=\"19.87844567689032px\" stroke=\"black\" font-family=\"Montserrat\" font-weight=\"200\">-2</text>\n",
       "<line x1=\"25.663073368865458\" y1=\"210.0791393820711\" x2=\"39.69725601675002\" y2=\"210.0791393820711\" stroke=\"black\" stroke-width=\"1\" />\n",
       "</g>\n",
       "<g>\n",
       "<text x=\"4.090529755831485\" y=\"153.43588543871908\" font-size=\"20.048832354120766px\" stroke=\"black\" font-family=\"Montserrat\" font-weight=\"200\">-1</text>\n",
       "<line x1=\"25.66307336886545\" y1=\"146.4187941147768\" x2=\"39.69725601675002\" y2=\"146.4187941147768\" stroke=\"black\" stroke-width=\"1\" />\n",
       "</g>\n",
       "<g>\n",
       "<text x=\"5.597345931300175\" y=\"89.77554017142481\" font-size=\"19.71093068523111px\" stroke=\"black\" font-family=\"Montserrat\" font-weight=\"200\">0</text>\n",
       "<line x1=\"25.663073368865454\" y1=\"82.75844884748253\" x2=\"39.69725601675002\" y2=\"82.75844884748253\" stroke=\"black\" stroke-width=\"1\" />\n",
       "</g>\n",
       "<g>\n",
       "<text x=\"11.408353565085568\" y=\"26.115194904130544\" font-size=\"20.0488323541208px\" stroke=\"black\" font-family=\"Montserrat\" font-weight=\"200\">1</text>\n",
       "<line x1=\"25.663073368865454\" y1=\"19.098103580188265\" x2=\"39.69725601675002\" y2=\"19.098103580188265\" stroke=\"black\" stroke-width=\"1\" />\n",
       "</g>\n",
       "</g>\n",
       "<line x1=\"32.680164692807736\" y1=\"0\" x2=\"32.680164692807736\" y2=\"229.17724296225936\" stroke=\"black\" />\n",
       "</g>\n",
       "</g>\n",
       "</g>\n",
       "</svg>"
      ],
      "text/plain": [
       "svg: "
      ]
     },
     "execution_count": 29,
     "metadata": {},
     "output_type": "execute_result"
    }
   ],
   "source": [
    "xlim = (0, 2*np.pi)\n",
    "line1 = SymPath(np.sin, xlim=xlim, stroke='#1e88e5')\n",
    "line2 = SymPath(lambda x: -0.05*x**2, xlim=xlim, stroke='#ff0d57')\n",
    "line3 = SymPath(lambda x: 0, xlim=xlim, stroke_dasharray=4)\n",
    "\n",
    "xticks = {x: Emoji(e) for x, e in zip(np.linspace(0.5, 5.8, 5), '🍄🍩🚀🦊🐋')}\n",
    "yticks = [-2, -1, 0, 1]\n",
    "\n",
    "plot = Plot(\n",
    "    [line1, line2, line3], aspect=1.5, ylim=(-2.3, 1.3),\n",
    "    yticks=yticks, xticks=xticks, xaxis_tick_text_scale=1.5\n",
    ")\n",
    "Frame(plot, padding=(0.05, 0.1))\n",
    "\n",
    "SVG(plot, size=400)"
   ]
  },
  {
   "cell_type": "code",
   "execution_count": 30,
   "metadata": {},
   "outputs": [
    {
     "data": {
      "image/svg+xml": [
       "<svg width=\"500\" height=\"222.22222222222223\" xmlns=\"http://www.w3.org/2000/svg\">\n",
       "<g>\n",
       "<g xaxis-tick-text-scale=\"1.5\">\n",
       "<polyline points=\"27.233470577339745,68.96537403956883 30.325388382955843,65.6007168532838 33.41730618857194,62.24960795395316 36.509223994188034,58.9255410743615 39.60114179980413,55.64190105862424 42.69305960542023,52.41190996614448 45.78497741103632,49.2485738310464 48.87689521665243,46.16463029146627 51.96881302226852,43.17249729957932 55.06073082788461,40.28422311888918 58.15264863350071,37.51143781012313 61.24456643911681,34.86530640108224 64.3364842447329,32.356483929015155 67.428402050349,29.995072536543628 70.52031985596511,27.7905807938997 73.61223766158119,25.751885411269374 76.7041554671973,23.88719549541367 79.79607327281339,22.204019494493053 82.88799107842948,20.709134964196757 85.97990888404559,19.40856127691809 89.07182668966168,18.30753538386635 92.16374449527778,17.410490727712634 95.25566230089387,16.721039390680946 98.34758010650997,16.24195754996796 101.43949791212607,15.97517429905728 104.53141571774216,15.921763879940832 107.62333352335827,16.081941357525526 110.71525132897436,16.455061753642777 113.80716913459047,17.03962264414793 116.89908694020654,17.83327020865205 119.99100474582265,18.83280870852584 123.08292255143874,20.03421335501119 126.17484035705485,21.432646515624988 129.26675816267095,23.02247719359773 132.35867596828703,24.79730370191001 135.45059377390317,26.749979440626866 138.5425115795192,28.872641673733167 141.63442938513532,31.156743189596646 144.72634719075143,33.59308671757227 147.81826499636753,36.17186196216521 150.9101828019836,38.88268510562808 154.00210060759974,41.71464061993034 157.09401841321582,44.65632521973692 160.1859362188319,47.69589377941367 163.277854024448,50.82110702916753 166.3697718300641,54.01938083826631 169.4616896356802,57.277836886891535 172.5536074412963,60.583354522587214 175.6455252469124,63.92262359249622 178.73744305252848,67.2821980386482 181.82936085814458,70.64855004048945 184.92127866376066,74.00812448664145 188.0131964693768,77.34739355655044 191.10511427499287,80.65291119224611 194.19703208060898,83.91136724087136 197.28894988622505,87.10964104997011 200.3808676918412,90.23485429972399 203.47278549745727,93.27442285940072 206.56470330307334,96.21610745920731 209.65662110868942,99.04806297350957 212.74853891430556,101.75888611697245 215.84045671992163,104.33766136156537 218.93237452553774,106.77400488954102 222.02429233115384,109.05810640540447 225.11621013676995,111.1807686385108 228.20812794238603,113.13344437722763 231.30004574800213,114.90827088553995 234.39196355361824,116.49810156351266 237.48388135923432,117.89653472412645 240.5757991648504,119.09793937061181 243.66771697046656,120.0974778704856 246.75963477608263,120.89112543498972 249.8515525816987,121.47568632549486 252.9434703873148,121.84880672161212 256.0353881929309,122.00898419919682 259.127305998547,121.95557378008037 262.2192238041631,121.6887905291697 265.31114160977916,121.20970868845671 268.4030594153953,120.52025735142502 271.49497722101137,119.6232126952713 274.5868950266275,118.52218680221957 277.6788128322436,117.22161311494088 280.77073063785974,115.72672858464459 283.8626484434758,114.04355258372398 286.9545662490919,112.17886266786827 290.046484054708,110.14016728523792 293.13840186032405,107.93567554259401 296.23031966594016,105.5742641501225 299.32223747155626,103.06544167805542 302.41415527717237,100.41931026901453 305.5060730827885,97.64652496024846 308.5979908884045,94.75825077955834 311.68990869402063,91.76611778767139 314.78182649963674,88.68217424809123 317.87374430525284,85.51883811299317 320.9656621108689,82.28884702051343 324.05757991648505,79.00520700477614 327.14949772210116,75.68114012518448 330.2414155277172,72.33003122585386 333.3333333333333,68.96537403956884\" fill=\"none\" stroke=\"#1e88e5\" />\n",
       "<polyline points=\"27.233470577339745,68.96537403956881 30.325388382955843,68.97605836470272 33.41730618857194,69.00811134010448 36.509223994188034,69.06153296577405 39.60114179980413,69.13632324171144 42.69305960542023,69.23248216791667 45.78497741103632,69.35000974438972 48.87689521665243,69.4889059711306 51.96881302226852,69.64917084813932 55.06073082788461,69.83080437541587 58.15264863350071,70.03380655296023 61.24456643911681,70.25817738077242 64.3364842447329,70.50391685885245 67.428402050349,70.7710249872003 70.52031985596511,71.059501765816 73.61223766158119,71.3693471946995 76.7041554671973,71.70056127385084 79.79607327281339,72.05314400327 82.88799107842948,72.427095382957 85.97990888404559,72.82241541291182 89.07182668966168,73.23910409313447 92.16374449527778,73.67716142362497 95.25566230089387,74.13658740438326 98.34758010650997,74.6173820354094 101.43949791212607,75.11954531670337 104.53141571774216,75.64307724826517 107.62333352335827,76.18797783009478 110.71525132897436,76.75424706219223 113.80716913459047,77.34188494455752 116.89908694020654,77.95089147719062 119.99100474582265,78.58126666009156 123.08292255143874,79.23301049326032 126.17484035705485,79.90612297669692 129.26675816267095,80.60060411040133 132.35867596828703,81.31645389437358 135.45059377390317,82.05367232861366 138.5425115795192,82.81225941312157 141.63442938513532,83.5922151478973 144.72634719075143,84.39353953294086 147.81826499636753,85.21623256825225 150.9101828019836,86.06029425383147 154.00210060759974,86.92572458967852 157.09401841321582,87.81252357579339 160.1859362188319,88.72069121217609 163.277854024448,89.65022749882662 166.3697718300641,90.60113243574499 169.4616896356802,91.57340602293117 172.5536074412963,92.56704826038519 175.6455252469124,93.58205914810704 178.73744305252848,94.61843868609671 181.82936085814458,95.67618687435422 184.92127866376066,96.75530371287954 188.0131964693768,97.8557892016727 191.10511427499287,98.97764334073369 194.19703208060898,100.12086613006251 197.28894988622505,101.28545756965914 200.3808676918412,102.47141765952362 203.47278549745727,103.67874639965592 206.56470330307334,104.90744379005605 209.65662110868942,106.157509830724 212.74853891430556,107.42894452165979 215.84045671992163,108.7217478628634 218.93237452553774,110.03591985433485 222.02429233115384,111.37146049607412 225.11621013676995,112.72836978808121 228.20812794238603,114.10664773035614 231.30004574800213,115.5062943228989 234.39196355361824,116.92730956570949 237.48388135923432,118.36969345878789 240.5757991648504,119.83344600213411 243.66771697046656,121.31856719574822 246.75963477608263,122.8250570396301 249.8515525816987,124.35291553377982 252.9434703873148,125.90214267819736 256.0353881929309,127.47273847288277 259.127305998547,129.06470291783597 262.2192238041631,130.678036013057 265.31114160977916,132.31273775854586 268.4030594153953,133.96880815430256 271.49497722101137,135.64624720032708 274.5868950266275,137.34505489661944 277.6788128322436,139.06523124317962 280.77073063785974,140.80677624000765 283.8626484434758,142.56968988710346 286.9545662490919,144.35397218446712 290.046484054708,146.15962313209863 293.13840186032405,147.98664272999793 296.23031966594016,149.8350309781651 299.32223747155626,151.70478787660005 302.41415527717237,153.59591342530288 305.5060730827885,155.5084076242735 308.5979908884045,157.44227047351194 311.68990869402063,159.39750197301822 314.78182649963674,161.37410212279238 317.87374430525284,163.37207092283433 320.9656621108689,165.3914083731441 324.05757991648505,167.4321144737217 327.14949772210116,169.49418922456715 330.2414155277172,171.5776326256804 333.3333333333333,173.68244467706148\" fill=\"none\" stroke=\"#ff0d57\" />\n",
       "<polyline points=\"27.233470577339745,68.96537403956881 30.325388382955843,68.96537403956881 33.41730618857194,68.96537403956881 36.509223994188034,68.96537403956881 39.60114179980413,68.96537403956881 42.69305960542023,68.96537403956881 45.78497741103632,68.96537403956881 48.87689521665243,68.96537403956881 51.96881302226852,68.96537403956881 55.06073082788461,68.96537403956881 58.15264863350071,68.96537403956881 61.24456643911681,68.96537403956881 64.3364842447329,68.96537403956881 67.428402050349,68.96537403956881 70.52031985596511,68.96537403956881 73.61223766158119,68.96537403956881 76.7041554671973,68.96537403956881 79.79607327281339,68.96537403956881 82.88799107842948,68.96537403956881 85.97990888404559,68.96537403956881 89.07182668966168,68.96537403956881 92.16374449527778,68.96537403956881 95.25566230089387,68.96537403956881 98.34758010650997,68.96537403956881 101.43949791212607,68.96537403956881 104.53141571774216,68.96537403956881 107.62333352335827,68.96537403956881 110.71525132897436,68.96537403956881 113.80716913459047,68.96537403956881 116.89908694020654,68.96537403956881 119.99100474582265,68.96537403956881 123.08292255143874,68.96537403956881 126.17484035705485,68.96537403956881 129.26675816267095,68.96537403956881 132.35867596828703,68.96537403956881 135.45059377390317,68.96537403956881 138.5425115795192,68.96537403956881 141.63442938513532,68.96537403956881 144.72634719075143,68.96537403956881 147.81826499636753,68.96537403956881 150.9101828019836,68.96537403956881 154.00210060759974,68.96537403956881 157.09401841321582,68.96537403956881 160.1859362188319,68.96537403956881 163.277854024448,68.96537403956881 166.3697718300641,68.96537403956881 169.4616896356802,68.96537403956881 172.5536074412963,68.96537403956881 175.6455252469124,68.96537403956881 178.73744305252848,68.96537403956881 181.82936085814458,68.96537403956881 184.92127866376066,68.96537403956881 188.0131964693768,68.96537403956881 191.10511427499287,68.96537403956881 194.19703208060898,68.96537403956881 197.28894988622505,68.96537403956881 200.3808676918412,68.96537403956881 203.47278549745727,68.96537403956881 206.56470330307334,68.96537403956881 209.65662110868942,68.96537403956881 212.74853891430556,68.96537403956881 215.84045671992163,68.96537403956881 218.93237452553774,68.96537403956881 222.02429233115384,68.96537403956881 225.11621013676995,68.96537403956881 228.20812794238603,68.96537403956881 231.30004574800213,68.96537403956881 234.39196355361824,68.96537403956881 237.48388135923432,68.96537403956881 240.5757991648504,68.96537403956881 243.66771697046656,68.96537403956881 246.75963477608263,68.96537403956881 249.8515525816987,68.96537403956881 252.9434703873148,68.96537403956881 256.0353881929309,68.96537403956881 259.127305998547,68.96537403956881 262.2192238041631,68.96537403956881 265.31114160977916,68.96537403956881 268.4030594153953,68.96537403956881 271.49497722101137,68.96537403956881 274.5868950266275,68.96537403956881 277.6788128322436,68.96537403956881 280.77073063785974,68.96537403956881 283.8626484434758,68.96537403956881 286.9545662490919,68.96537403956881 290.046484054708,68.96537403956881 293.13840186032405,68.96537403956881 296.23031966594016,68.96537403956881 299.32223747155626,68.96537403956881 302.41415527717237,68.96537403956881 305.5060730827885,68.96537403956881 308.5979908884045,68.96537403956881 311.68990869402063,68.96537403956881 314.78182649963674,68.96537403956881 317.87374430525284,68.96537403956881 320.9656621108689,68.96537403956881 324.05757991648505,68.96537403956881 327.14949772210116,68.96537403956881 330.2414155277172,68.96537403956881 333.3333333333333,68.96537403956881\" fill=\"none\" stroke=\"black\" stroke-dasharray=\"4\" />\n",
       "<g xaxis-tick-text-scale=\"1.5\">\n",
       "<g>\n",
       "<g>\n",
       "<g>\n",
       "<line x1=\"51.59212369602335\" y1=\"184.73279851781498\" x2=\"51.59212369602335\" y2=\"197.22927308595072\" stroke=\"black\" stroke-width=\"1\" />\n",
       "<text x=\"41.65469849371166\" y=\"219.87913324069677\" font-size=\"19.95279099444545px\" stroke=\"black\" font-family=\"NotoColorEmoji\">🍄</text>\n",
       "</g>\n",
       "<g>\n",
       "<line x1=\"116.14255446053478\" y1=\"184.73279851781498\" x2=\"116.14255446053478\" y2=\"197.22927308595072\" stroke=\"black\" stroke-width=\"1\" />\n",
       "<text x=\"106.2051292582231\" y=\"219.87913324069677\" font-size=\"19.95279099444545px\" stroke=\"black\" font-family=\"NotoColorEmoji\">🍩</text>\n",
       "</g>\n",
       "<g>\n",
       "<line x1=\"180.69298522504621\" y1=\"184.73279851781498\" x2=\"180.69298522504621\" y2=\"197.22927308595072\" stroke=\"black\" stroke-width=\"1\" />\n",
       "<text x=\"170.75556002273453\" y=\"219.87913324069677\" font-size=\"19.95279099444545px\" stroke=\"black\" font-family=\"NotoColorEmoji\">🚀</text>\n",
       "</g>\n",
       "<g>\n",
       "<line x1=\"245.24341598955763\" y1=\"184.73279851781498\" x2=\"245.24341598955763\" y2=\"197.22927308595072\" stroke=\"black\" stroke-width=\"1\" />\n",
       "<text x=\"235.30599078724595\" y=\"219.87913324069677\" font-size=\"19.95279099444545px\" stroke=\"black\" font-family=\"NotoColorEmoji\">🦊</text>\n",
       "</g>\n",
       "<g>\n",
       "<line x1=\"309.79384675406914\" y1=\"184.73279851781498\" x2=\"309.79384675406914\" y2=\"197.22927308595072\" stroke=\"black\" stroke-width=\"1\" />\n",
       "<text x=\"299.8564215517574\" y=\"219.87913324069677\" font-size=\"19.95279099444545px\" stroke=\"black\" font-family=\"NotoColorEmoji\">🐋</text>\n",
       "</g>\n",
       "</g>\n",
       "<line x1=\"27.233470577339787\" y1=\"190.98103580188285\" x2=\"333.3333333333333\" y2=\"190.98103580188285\" stroke=\"black\" />\n",
       "</g>\n",
       "<g>\n",
       "<g>\n",
       "<g>\n",
       "<text x=\"0\" y=\"180.91352558834456\" font-size=\"16.565371397408597px\" stroke=\"black\" font-family=\"Montserrat\" font-weight=\"200\">-2</text>\n",
       "<line x1=\"21.385894474054506\" y1=\"175.06594948505932\" x2=\"33.08104668062498\" y2=\"175.06594948505932\" stroke=\"black\" stroke-width=\"1\" />\n",
       "</g>\n",
       "<g>\n",
       "<text x=\"3.4087747965261754\" y=\"127.86323786559932\" font-size=\"16.707360295100692px\" stroke=\"black\" font-family=\"Montserrat\" font-weight=\"200\">-1</text>\n",
       "<line x1=\"21.385894474054503\" y1=\"122.01566176231407\" x2=\"33.08104668062498\" y2=\"122.01566176231407\" stroke=\"black\" stroke-width=\"1\" />\n",
       "</g>\n",
       "<g>\n",
       "<text x=\"4.664454942750093\" y=\"74.81295014285406\" font-size=\"16.42577557102595px\" stroke=\"black\" font-family=\"Montserrat\" font-weight=\"200\">0</text>\n",
       "<line x1=\"21.385894474054506\" y1=\"68.96537403956881\" x2=\"33.08104668062498\" y2=\"68.96537403956881\" stroke=\"black\" stroke-width=\"1\" />\n",
       "</g>\n",
       "<g>\n",
       "<text x=\"9.506961304237926\" y=\"21.76266242010882\" font-size=\"16.707360295100678px\" stroke=\"black\" font-family=\"Montserrat\" font-weight=\"200\">1</text>\n",
       "<line x1=\"21.385894474054506\" y1=\"15.915086316823585\" x2=\"33.08104668062498\" y2=\"15.915086316823585\" stroke=\"black\" stroke-width=\"1\" />\n",
       "</g>\n",
       "</g>\n",
       "<line x1=\"27.233470577339745\" y1=\"0\" x2=\"27.233470577339745\" y2=\"190.98103580188288\" stroke=\"black\" />\n",
       "</g>\n",
       "</g>\n",
       "</g>\n",
       "<g>\n",
       "<g>\n",
       "<rect x=\"341.66666666666663\" y=\"5.555555555555556\" width=\"150\" height=\"100\" fill=\"none\" stroke=\"black\" stroke-width=\"1\" />\n",
       "<g xaxis-tick-text-scale=\"1.5\">\n",
       "<polyline points=\"360.8933882309359,38.69726072693864 362.1301553531823,37.351397852424626 363.3669224754288,36.01095429269237 364.6036895976752,34.681327540855705 365.84045671992163,33.367871534560805 367.0772238421681,32.0758750975689 368.31399096441453,30.81054064352967 369.55075808666095,29.576963227697615 370.7875252089074,28.380110030942834 372.02429233115384,27.22480035866678 373.26105945340026,26.115686235160357 374.49782657564674,25.057233671544004 375.73459369789316,24.05370468271717 376.9713608201396,23.10914012572856 378.20812794238606,22.227343428670988 379.4448950646325,21.411865275618858 380.6816621868789,20.665989309276576 381.9184293091254,19.99271890890833 383.1551964313718,19.39476509678981 384.3919635536182,18.874535621878344 385.6287306758647,18.43412526465765 386.8654977981111,18.075307402196163 388.1022649203575,17.799526867383488 389.339032042604,17.60789413109829 390.5757991648504,17.501180830734018 391.81256628709684,17.47981666308744 393.0493334093433,17.543887654121317 394.28610053158974,17.69313581256822 395.52286765383616,17.92696016877028 396.75963477608263,18.24441919457193 397.99640189832905,18.644234594521443 399.2331690205755,19.124796453115582 400.46993614282195,19.684169717361105 401.70670326506837,20.3201019885502 402.9434703873148,21.030032591875113 404.18023750956127,21.811102887361855 405.4170046318077,22.660167780604375 406.6537717540541,23.573808386949764 407.8905388763006,24.548345798140016 409.127305998547,25.57985589597719 410.3640731207934,26.66418515336234 411.6008402430399,27.796967359083247 412.8376073652863,28.973641199005876 414.07437448753274,30.189468622876575 415.3111416097792,31.439553922778117 416.54790873202563,32.71886344641763 417.78467585427205,34.02224586586772 419.02144297651853,35.344452920146 420.25821009876495,36.6801605481096 421.49497722101137,38.02399032657039 422.73174434325784,39.37053112730689 423.96851146550426,40.71436090576769 425.20527858775074,42.05006853373129 426.44204570999716,43.37227558800955 427.6788128322436,44.675658007459646 428.91557995449,45.95496753109915 430.1523470767365,47.2050528310007 431.3891141989829,48.42088025487139 432.6258813212293,49.59755409479403 433.8626484434758,50.730336300514935 435.0994155657222,51.814665557900085 436.33618268796863,52.846175655737255 437.5729498102151,53.82071306692751 438.8097169324615,54.7343536732729 440.046484054708,55.58341856651543 441.2832511769544,56.36448886200216 442.52001829920084,57.07441946532708 443.75678542144726,57.710351736516174 444.99355254369374,58.26972500076169 446.23031966594016,58.75028685935583 447.46708678818663,59.15010225930535 448.70385391043305,59.467561285106996 449.9406210326795,59.70138564130905 451.1773881549259,59.850633799755954 452.41415527717237,59.914704790789834 453.6509223994188,59.89334062314325 454.88768952166527,59.78662732277898 456.1244566439117,59.5949945864938 457.3612237661581,59.319214051681115 458.5979908884045,58.96039618921963 459.834758010651,58.51998583199893 461.0715251328974,57.999756357087456 462.3082922551439,57.401802544968945 463.5450593773903,56.7285321446007 464.78182649963674,55.982656178258416 466.01859362188316,55.167178025206276 467.25536074412963,54.28538132814871 468.49212786637605,53.34081677116011 469.72889498862247,52.33728778233328 470.96566211086895,51.27883521871692 472.20242923311537,50.16972109521049 473.4391963553618,49.014411422934444 474.67596347760826,47.81755822617966 475.9127305998547,46.5839808103476 477.1494977221011,45.31864635630838 478.3862648443476,44.02664991931648 479.623031966594,42.71319391302156 480.8597990888404,41.3835671611849 482.0965662110869,40.04312360145265 483.3333333333333,38.69726072693864\" fill=\"none\" stroke=\"#1e88e5\" />\n",
       "<polyline points=\"360.8933882309359,38.69726072693863 362.1301553531823,38.7015344569922 363.3669224754288,38.71435564715289 364.6036895976752,38.735724297420724 365.84045671992163,38.76564040779568 367.0772238421681,38.80410397827777 368.31399096441453,38.85111500886699 369.55075808666095,38.90667349956335 370.7875252089074,38.970779450366834 372.02429233115384,39.04343286127745 373.26105945340026,39.124633732295194 374.49782657564674,39.214382063420075 375.73459369789316,39.31267785465209 376.9713608201396,39.41952110599123 378.20812794238606,39.534911817437504 379.4448950646325,39.6588499889909 380.6816621868789,39.79133562065144 381.9184293091254,39.932368712419105 383.1551964313718,40.081949264293904 384.3919635536182,40.240077276275834 385.6287306758647,40.406752748364895 386.8654977981111,40.58197568056109 388.1022649203575,40.76574607286441 389.339032042604,40.958063925274864 390.5757991648504,41.15892923779245 391.81256628709684,41.36834201041717 393.0493334093433,41.58630224314902 394.28610053158974,41.812809935988 395.52286765383616,42.04786508893411 396.75963477608263,42.29146770198735 397.99640189832905,42.54361777514773 399.2331690205755,42.804315308415234 400.46993614282195,43.07356030178987 401.70670326506837,43.35135275527164 402.9434703873148,43.63769266886054 404.18023750956127,43.932580042556566 405.4170046318077,44.23601487635973 406.6537717540541,44.54799717027002 407.8905388763006,44.86852692428745 409.127305998547,45.197604138412004 410.3640731207934,45.535228812643695 411.6008402430399,45.88140094698251 412.8376073652863,46.23612054142846 414.07437448753274,46.59938759598154 415.3111416097792,46.971202110641755 416.54790873202563,47.3515640854091 417.78467585427205,47.74047352028357 419.02144297651853,48.13793041526518 420.25821009876495,48.54393477035392 421.49497722101137,48.95848658554979 422.73174434325784,49.38158586085279 423.96851146550426,49.81323259626292 425.20527858775074,50.253426791780186 426.44204570999716,50.70216844740458 427.6788128322436,51.15945756313611 428.91557995449,51.625294138974766 430.1523470767365,52.099678174920555 431.3891141989829,52.58260967097347 432.6258813212293,53.07408862713352 433.8626484434758,53.5741150434007 435.0994155657222,54.08268891977502 436.33618268796863,54.59981025625646 437.5729498102151,55.12547905284504 438.8097169324615,55.65969530954075 440.046484054708,56.20245902634359 441.2832511769544,56.75377020325355 442.52001829920084,57.31362884027067 443.75678542144726,57.88203493739489 444.99355254369374,58.458988494626254 446.23031966594016,59.04448951196475 447.46708678818663,59.63853798941038 448.70385391043305,60.241133926963144 449.9406210326795,60.85227732462303 451.1773881549259,61.47196818239005 452.41415527717237,62.10020650026421 453.6509223994188,62.73699227824549 454.88768952166527,63.3823255163339 456.1244566439117,64.03620621452944 457.3612237661581,64.69863437283213 458.5979908884045,65.36960999124193 459.834758010651,66.04913306975888 461.0715251328974,66.73720360838296 462.3082922551439,67.43382160711415 463.5450593773903,68.13898706595249 464.78182649963674,68.85269998489795 466.01859362188316,69.57496036395055 467.25536074412963,70.30576820311028 468.49212786637605,71.04512350237714 469.72889498862247,71.79302626175112 470.96566211086895,72.54947648123226 472.20242923311537,73.31447416082051 473.4391963553618,74.08801930051588 474.67596347760826,74.87011190031839 475.9127305998547,75.66075196022805 477.1494977221011,76.45993948024483 478.3862648443476,77.26767446036874 479.623031966594,78.08395690059979 480.8597990888404,78.90878680093796 482.0965662110869,79.74216416138327 483.3333333333333,80.5840889819357\" fill=\"none\" stroke=\"#ff0d57\" />\n",
       "<polyline points=\"360.8933882309359,38.69726072693863 362.1301553531823,38.69726072693863 363.3669224754288,38.69726072693863 364.6036895976752,38.69726072693863 365.84045671992163,38.69726072693863 367.0772238421681,38.69726072693863 368.31399096441453,38.69726072693863 369.55075808666095,38.69726072693863 370.7875252089074,38.69726072693863 372.02429233115384,38.69726072693863 373.26105945340026,38.69726072693863 374.49782657564674,38.69726072693863 375.73459369789316,38.69726072693863 376.9713608201396,38.69726072693863 378.20812794238606,38.69726072693863 379.4448950646325,38.69726072693863 380.6816621868789,38.69726072693863 381.9184293091254,38.69726072693863 383.1551964313718,38.69726072693863 384.3919635536182,38.69726072693863 385.6287306758647,38.69726072693863 386.8654977981111,38.69726072693863 388.1022649203575,38.69726072693863 389.339032042604,38.69726072693863 390.5757991648504,38.69726072693863 391.81256628709684,38.69726072693863 393.0493334093433,38.69726072693863 394.28610053158974,38.69726072693863 395.52286765383616,38.69726072693863 396.75963477608263,38.69726072693863 397.99640189832905,38.69726072693863 399.2331690205755,38.69726072693863 400.46993614282195,38.69726072693863 401.70670326506837,38.69726072693863 402.9434703873148,38.69726072693863 404.18023750956127,38.69726072693863 405.4170046318077,38.69726072693863 406.6537717540541,38.69726072693863 407.8905388763006,38.69726072693863 409.127305998547,38.69726072693863 410.3640731207934,38.69726072693863 411.6008402430399,38.69726072693863 412.8376073652863,38.69726072693863 414.07437448753274,38.69726072693863 415.3111416097792,38.69726072693863 416.54790873202563,38.69726072693863 417.78467585427205,38.69726072693863 419.02144297651853,38.69726072693863 420.25821009876495,38.69726072693863 421.49497722101137,38.69726072693863 422.73174434325784,38.69726072693863 423.96851146550426,38.69726072693863 425.20527858775074,38.69726072693863 426.44204570999716,38.69726072693863 427.6788128322436,38.69726072693863 428.91557995449,38.69726072693863 430.1523470767365,38.69726072693863 431.3891141989829,38.69726072693863 432.6258813212293,38.69726072693863 433.8626484434758,38.69726072693863 435.0994155657222,38.69726072693863 436.33618268796863,38.69726072693863 437.5729498102151,38.69726072693863 438.8097169324615,38.69726072693863 440.046484054708,38.69726072693863 441.2832511769544,38.69726072693863 442.52001829920084,38.69726072693863 443.75678542144726,38.69726072693863 444.99355254369374,38.69726072693863 446.23031966594016,38.69726072693863 447.46708678818663,38.69726072693863 448.70385391043305,38.69726072693863 449.9406210326795,38.69726072693863 451.1773881549259,38.69726072693863 452.41415527717237,38.69726072693863 453.6509223994188,38.69726072693863 454.88768952166527,38.69726072693863 456.1244566439117,38.69726072693863 457.3612237661581,38.69726072693863 458.5979908884045,38.69726072693863 459.834758010651,38.69726072693863 461.0715251328974,38.69726072693863 462.3082922551439,38.69726072693863 463.5450593773903,38.69726072693863 464.78182649963674,38.69726072693863 466.01859362188316,38.69726072693863 467.25536074412963,38.69726072693863 468.49212786637605,38.69726072693863 469.72889498862247,38.69726072693863 470.96566211086895,38.69726072693863 472.20242923311537,38.69726072693863 473.4391963553618,38.69726072693863 474.67596347760826,38.69726072693863 475.9127305998547,38.69726072693863 477.1494977221011,38.69726072693863 478.3862648443476,38.69726072693863 479.623031966594,38.69726072693863 480.8597990888404,38.69726072693863 482.0965662110869,38.69726072693863 483.3333333333333,38.69726072693863\" fill=\"none\" stroke=\"black\" stroke-dasharray=\"4\" />\n",
       "<g xaxis-tick-text-scale=\"1.5\">\n",
       "<g>\n",
       "<g>\n",
       "<g>\n",
       "<line x1=\"370.6368494784093\" y1=\"85.00423051823711\" x2=\"370.6368494784093\" y2=\"90.0028203454914\" stroke=\"black\" stroke-width=\"1\" />\n",
       "<text x=\"366.66187939748465\" y=\"99.0627644073898\" font-size=\"7.981116397778141px\" stroke=\"black\" font-family=\"NotoColorEmoji\">🍄</text>\n",
       "</g>\n",
       "<g>\n",
       "<line x1=\"396.4570217842139\" y1=\"85.00423051823711\" x2=\"396.4570217842139\" y2=\"90.0028203454914\" stroke=\"black\" stroke-width=\"1\" />\n",
       "<text x=\"392.48205170328924\" y=\"99.0627644073898\" font-size=\"7.981116397778141px\" stroke=\"black\" font-family=\"NotoColorEmoji\">🍩</text>\n",
       "</g>\n",
       "<g>\n",
       "<line x1=\"422.2771940900185\" y1=\"85.00423051823711\" x2=\"422.2771940900185\" y2=\"90.0028203454914\" stroke=\"black\" stroke-width=\"1\" />\n",
       "<text x=\"418.30222400909383\" y=\"99.0627644073898\" font-size=\"7.981116397778141px\" stroke=\"black\" font-family=\"NotoColorEmoji\">🚀</text>\n",
       "</g>\n",
       "<g>\n",
       "<line x1=\"448.0973663958231\" y1=\"85.00423051823711\" x2=\"448.0973663958231\" y2=\"90.0028203454914\" stroke=\"black\" stroke-width=\"1\" />\n",
       "<text x=\"444.12239631489837\" y=\"99.06276440738982\" font-size=\"7.9811163977781705px\" stroke=\"black\" font-family=\"NotoColorEmoji\">🦊</text>\n",
       "</g>\n",
       "<g>\n",
       "<line x1=\"473.9175387016277\" y1=\"85.00423051823711\" x2=\"473.9175387016277\" y2=\"90.0028203454914\" stroke=\"black\" stroke-width=\"1\" />\n",
       "<text x=\"469.94256862070296\" y=\"99.06276440738982\" font-size=\"7.9811163977781705px\" stroke=\"black\" font-family=\"NotoColorEmoji\">🐋</text>\n",
       "</g>\n",
       "</g>\n",
       "<line x1=\"360.8933882309359\" y1=\"87.50352543186426\" x2=\"483.3333333333333\" y2=\"87.50352543186426\" stroke=\"black\" />\n",
       "</g>\n",
       "<g>\n",
       "<g>\n",
       "<g>\n",
       "<text x=\"350\" y=\"83.47652134644893\" font-size=\"6.626148558963439px\" stroke=\"black\" font-family=\"Montserrat\" font-weight=\"200\">-2</text>\n",
       "<line x1=\"358.5543577896218\" y1=\"81.13749090513484\" x2=\"363.23241867225\" y2=\"81.13749090513484\" stroke=\"black\" stroke-width=\"1\" />\n",
       "</g>\n",
       "<g>\n",
       "<text x=\"351.3635099186105\" y=\"62.25640625735083\" font-size=\"6.682944118040268px\" stroke=\"black\" font-family=\"Montserrat\" font-weight=\"200\">-1</text>\n",
       "<line x1=\"358.5543577896218\" y1=\"59.91737581603674\" x2=\"363.23241867225\" y2=\"59.91737581603674\" stroke=\"black\" stroke-width=\"1\" />\n",
       "</g>\n",
       "<g>\n",
       "<text x=\"351.8657819771\" y=\"41.03629116825274\" font-size=\"6.570310228410387px\" stroke=\"black\" font-family=\"Montserrat\" font-weight=\"200\">0</text>\n",
       "<line x1=\"358.5543577896218\" y1=\"38.69726072693864\" x2=\"363.23241867225\" y2=\"38.69726072693864\" stroke=\"black\" stroke-width=\"1\" />\n",
       "</g>\n",
       "<g>\n",
       "<text x=\"353.8027845216952\" y=\"19.816176079154644\" font-size=\"6.682944118040268px\" stroke=\"black\" font-family=\"Montserrat\" font-weight=\"200\">1</text>\n",
       "<line x1=\"358.5543577896218\" y1=\"17.47714563784055\" x2=\"363.23241867225\" y2=\"17.47714563784055\" stroke=\"black\" stroke-width=\"1\" />\n",
       "</g>\n",
       "</g>\n",
       "<line x1=\"360.8933882309359\" y1=\"11.111111111111127\" x2=\"360.8933882309359\" y2=\"87.50352543186426\" stroke=\"black\" />\n",
       "</g>\n",
       "</g>\n",
       "</g>\n",
       "</g>\n",
       "<g>\n",
       "<rect x=\"341.66666666666663\" y=\"116.66666666666667\" width=\"150\" height=\"100\" fill=\"none\" stroke=\"black\" stroke-width=\"1\" />\n",
       "<g xaxis-tick-text-scale=\"1.5\">\n",
       "<polyline points=\"360.8933882309359,149.80837183804977 362.1301553531823,148.46250896353575 363.3669224754288,147.12206540380348 364.6036895976752,145.79243865196682 365.84045671992163,144.47898264567192 367.0772238421681,143.18698620868 368.31399096441453,141.92165175464078 369.55075808666095,140.68807433880872 370.7875252089074,139.49122114205394 372.02429233115384,138.3359114697779 373.26105945340026,137.22679734627147 374.49782657564674,136.1683447826551 375.73459369789316,135.16481579382827 376.9713608201396,134.22025123683966 378.20812794238606,133.3384545397821 379.4448950646325,132.52297638672997 380.6816621868789,131.77710042038768 381.9184293091254,131.10383002001944 383.1551964313718,130.5058762079009 384.3919635536182,129.98564673298944 385.6287306758647,129.54523637576875 386.8654977981111,129.18641851330727 388.1022649203575,128.9106379784946 389.339032042604,128.7190052422094 390.5757991648504,128.61229194184511 391.81256628709684,128.59092777419855 393.0493334093433,128.65499876523242 394.28610053158974,128.80424692367933 395.52286765383616,129.0380712798814 396.75963477608263,129.35553030568303 397.99640189832905,129.75534570563255 399.2331690205755,130.2359075642267 400.46993614282195,130.79528082847222 401.70670326506837,131.4312130996613 402.9434703873148,132.14114370298623 404.18023750956127,132.92221399847296 405.4170046318077,133.7712788917155 406.6537717540541,134.68491949806088 407.8905388763006,135.65945690925113 409.127305998547,136.6909670070883 410.3640731207934,137.77529626447344 411.6008402430399,138.90807847019437 412.8376073652863,140.08475231011698 414.07437448753274,141.3005797339877 415.3111416097792,142.55066503388923 416.54790873202563,143.82997455752874 417.78467585427205,145.13335697697883 419.02144297651853,146.4555640312571 420.25821009876495,147.7912716592207 421.49497722101137,149.1351014376815 422.73174434325784,150.481642238418 423.96851146550426,151.8254720168788 425.20527858775074,153.1611796448424 426.44204570999716,154.48338669912067 427.6788128322436,155.78676911857076 428.91557995449,157.06607864221027 430.1523470767365,158.3161639421118 431.3891141989829,159.53199136598252 432.6258813212293,160.70866520590516 433.8626484434758,161.84144741162606 435.0994155657222,162.9257766690112 436.33618268796863,163.95728676684837 437.5729498102151,164.93182417803862 438.8097169324615,165.84546478438403 440.046484054708,166.69452967762655 441.2832511769544,167.47559997311328 442.52001829920084,168.1855305764382 443.75678542144726,168.8214628476273 444.99355254369374,169.3808361118728 446.23031966594016,169.86139797046695 447.46708678818663,170.26121337041647 448.70385391043305,170.5786723962181 449.9406210326795,170.81249675242017 451.1773881549259,170.96174491086708 452.41415527717237,171.02581590190096 453.6509223994188,171.00445173425436 454.88768952166527,170.8977384338901 456.1244566439117,170.70610569760493 457.3612237661581,170.43032516279223 458.5979908884045,170.07150730033075 459.834758010651,169.63109694311004 461.0715251328974,169.1108674681986 462.3082922551439,168.51291365608006 463.5450593773903,167.83964325571182 464.78182649963674,167.09376728936954 466.01859362188316,166.2782891363174 467.25536074412963,165.39649243925982 468.49212786637605,164.45192788227124 469.72889498862247,163.4483988934444 470.96566211086895,162.38994632982804 472.20242923311537,161.2808322063216 473.4391963553618,160.12552253404556 474.67596347760826,158.92866933729078 475.9127305998547,157.69509192145873 477.1494977221011,156.4297574674195 478.3862648443476,155.1377610304276 479.623031966594,153.82430502413268 480.8597990888404,152.49467827229603 482.0965662110869,151.15423471256378 483.3333333333333,149.80837183804977\" fill=\"none\" stroke=\"#1e88e5\" />\n",
       "<polyline points=\"360.8933882309359,149.80837183804974 362.1301553531823,149.8126455681033 363.3669224754288,149.825466758264 364.6036895976752,149.84683540853183 365.84045671992163,149.8767515189068 367.0772238421681,149.91521508938888 368.31399096441453,149.9622261199781 369.55075808666095,150.01778461067445 370.7875252089074,150.08189056147793 372.02429233115384,150.15454397238855 373.26105945340026,150.2357448434063 374.49782657564674,150.32549317453118 375.73459369789316,150.42378896576318 376.9713608201396,150.53063221710232 378.20812794238606,150.6460229285486 379.4448950646325,150.76996110010202 380.6816621868789,150.90244673176255 381.9184293091254,151.04347982353022 383.1551964313718,151.19306037540503 384.3919635536182,151.35118838738694 385.6287306758647,151.517863859476 386.8654977981111,151.6930867916722 388.1022649203575,151.87685718397552 389.339032042604,152.06917503638599 390.5757991648504,152.27004034890356 391.81256628709684,152.47945312152828 393.0493334093433,152.69741335426014 394.28610053158974,152.9239210470991 395.52286765383616,153.15897620004523 396.75963477608263,153.40257881309847 397.99640189832905,153.65472888625882 399.2331690205755,153.91542641952634 400.46993614282195,154.18467141290097 401.70670326506837,154.46246386638273 402.9434703873148,154.74880377997164 404.18023750956127,155.04369115366768 405.4170046318077,155.34712598747083 406.6537717540541,155.65910828138112 407.8905388763006,155.97963803539855 409.127305998547,156.30871524952312 410.3640731207934,156.6463399237548 411.6008402430399,156.9925120580936 412.8376073652863,157.34723165253956 414.07437448753274,157.71049870709265 415.3111416097792,158.08231322175286 416.54790873202563,158.46267519652022 417.78467585427205,158.85158463139467 419.02144297651853,159.2490415263763 420.25821009876495,159.65504588146504 421.49497722101137,160.0695976966609 422.73174434325784,160.4926969719639 423.96851146550426,160.92434370737402 425.20527858775074,161.3645379028913 426.44204570999716,161.8132795585157 427.6788128322436,162.27056867424722 428.91557995449,162.73640525008588 430.1523470767365,163.21078928603166 431.3891141989829,163.6937207820846 432.6258813212293,164.18519973824465 433.8626484434758,164.6852261545118 435.0994155657222,165.19380003088614 436.33618268796863,165.71092136736758 437.5729498102151,166.23659016395615 438.8097169324615,166.77080642065187 440.046484054708,167.31357013745472 441.2832511769544,167.86488131436468 442.52001829920084,168.42473995138178 443.75678542144726,168.99314604850602 444.99355254369374,169.57009960573737 446.23031966594016,170.15560062307586 447.46708678818663,170.7496491005215 448.70385391043305,171.35224503807427 449.9406210326795,171.96338843573415 451.1773881549259,172.58307929350116 452.41415527717237,173.21131761137534 453.6509223994188,173.8481033893566 454.88768952166527,174.49343662744502 456.1244566439117,175.14731732564056 457.3612237661581,175.80974548394326 458.5979908884045,176.48072110235307 459.834758010651,177.16024418087 461.0715251328974,177.84831471949408 462.3082922551439,178.54493271822528 463.5450593773903,179.25009817706362 464.78182649963674,179.96381109600907 466.01859362188316,180.68607147506168 467.25536074412963,181.4168793142214 468.49212786637605,182.15623461348827 469.72889498862247,182.90413737286224 470.96566211086895,183.66058759234338 472.20242923311537,184.42558527193162 473.4391963553618,185.199130411627 474.67596347760826,185.9812230114295 475.9127305998547,186.77186307133917 477.1494977221011,187.57105059135597 478.3862648443476,188.37878557147985 479.623031966594,189.1950680117109 480.8597990888404,190.0198979120491 482.0965662110869,190.8532752724944 483.3333333333333,191.69520009304682\" fill=\"none\" stroke=\"#ff0d57\" />\n",
       "<polyline points=\"360.8933882309359,149.80837183804974 362.1301553531823,149.80837183804974 363.3669224754288,149.80837183804974 364.6036895976752,149.80837183804974 365.84045671992163,149.80837183804974 367.0772238421681,149.80837183804974 368.31399096441453,149.80837183804974 369.55075808666095,149.80837183804974 370.7875252089074,149.80837183804974 372.02429233115384,149.80837183804974 373.26105945340026,149.80837183804974 374.49782657564674,149.80837183804974 375.73459369789316,149.80837183804974 376.9713608201396,149.80837183804974 378.20812794238606,149.80837183804974 379.4448950646325,149.80837183804974 380.6816621868789,149.80837183804974 381.9184293091254,149.80837183804974 383.1551964313718,149.80837183804974 384.3919635536182,149.80837183804974 385.6287306758647,149.80837183804974 386.8654977981111,149.80837183804974 388.1022649203575,149.80837183804974 389.339032042604,149.80837183804974 390.5757991648504,149.80837183804974 391.81256628709684,149.80837183804974 393.0493334093433,149.80837183804974 394.28610053158974,149.80837183804974 395.52286765383616,149.80837183804974 396.75963477608263,149.80837183804974 397.99640189832905,149.80837183804974 399.2331690205755,149.80837183804974 400.46993614282195,149.80837183804974 401.70670326506837,149.80837183804974 402.9434703873148,149.80837183804974 404.18023750956127,149.80837183804974 405.4170046318077,149.80837183804974 406.6537717540541,149.80837183804974 407.8905388763006,149.80837183804974 409.127305998547,149.80837183804974 410.3640731207934,149.80837183804974 411.6008402430399,149.80837183804974 412.8376073652863,149.80837183804974 414.07437448753274,149.80837183804974 415.3111416097792,149.80837183804974 416.54790873202563,149.80837183804974 417.78467585427205,149.80837183804974 419.02144297651853,149.80837183804974 420.25821009876495,149.80837183804974 421.49497722101137,149.80837183804974 422.73174434325784,149.80837183804974 423.96851146550426,149.80837183804974 425.20527858775074,149.80837183804974 426.44204570999716,149.80837183804974 427.6788128322436,149.80837183804974 428.91557995449,149.80837183804974 430.1523470767365,149.80837183804974 431.3891141989829,149.80837183804974 432.6258813212293,149.80837183804974 433.8626484434758,149.80837183804974 435.0994155657222,149.80837183804974 436.33618268796863,149.80837183804974 437.5729498102151,149.80837183804974 438.8097169324615,149.80837183804974 440.046484054708,149.80837183804974 441.2832511769544,149.80837183804974 442.52001829920084,149.80837183804974 443.75678542144726,149.80837183804974 444.99355254369374,149.80837183804974 446.23031966594016,149.80837183804974 447.46708678818663,149.80837183804974 448.70385391043305,149.80837183804974 449.9406210326795,149.80837183804974 451.1773881549259,149.80837183804974 452.41415527717237,149.80837183804974 453.6509223994188,149.80837183804974 454.88768952166527,149.80837183804974 456.1244566439117,149.80837183804974 457.3612237661581,149.80837183804974 458.5979908884045,149.80837183804974 459.834758010651,149.80837183804974 461.0715251328974,149.80837183804974 462.3082922551439,149.80837183804974 463.5450593773903,149.80837183804974 464.78182649963674,149.80837183804974 466.01859362188316,149.80837183804974 467.25536074412963,149.80837183804974 468.49212786637605,149.80837183804974 469.72889498862247,149.80837183804974 470.96566211086895,149.80837183804974 472.20242923311537,149.80837183804974 473.4391963553618,149.80837183804974 474.67596347760826,149.80837183804974 475.9127305998547,149.80837183804974 477.1494977221011,149.80837183804974 478.3862648443476,149.80837183804974 479.623031966594,149.80837183804974 480.8597990888404,149.80837183804974 482.0965662110869,149.80837183804974 483.3333333333333,149.80837183804974\" fill=\"none\" stroke=\"black\" stroke-dasharray=\"4\" />\n",
       "<g xaxis-tick-text-scale=\"1.5\">\n",
       "<g>\n",
       "<g>\n",
       "<g>\n",
       "<line x1=\"370.6368494784093\" y1=\"196.11534162934822\" x2=\"370.6368494784093\" y2=\"201.11393145660253\" stroke=\"black\" stroke-width=\"1\" />\n",
       "<text x=\"366.66187939748465\" y=\"210.17387551850092\" font-size=\"7.9811163977781865px\" stroke=\"black\" font-family=\"NotoColorEmoji\">🍄</text>\n",
       "</g>\n",
       "<g>\n",
       "<line x1=\"396.4570217842139\" y1=\"196.11534162934822\" x2=\"396.4570217842139\" y2=\"201.11393145660253\" stroke=\"black\" stroke-width=\"1\" />\n",
       "<text x=\"392.48205170328924\" y=\"210.17387551850092\" font-size=\"7.9811163977781865px\" stroke=\"black\" font-family=\"NotoColorEmoji\">🍩</text>\n",
       "</g>\n",
       "<g>\n",
       "<line x1=\"422.2771940900185\" y1=\"196.11534162934822\" x2=\"422.2771940900185\" y2=\"201.11393145660253\" stroke=\"black\" stroke-width=\"1\" />\n",
       "<text x=\"418.30222400909383\" y=\"210.17387551850092\" font-size=\"7.9811163977781865px\" stroke=\"black\" font-family=\"NotoColorEmoji\">🚀</text>\n",
       "</g>\n",
       "<g>\n",
       "<line x1=\"448.0973663958231\" y1=\"196.11534162934822\" x2=\"448.0973663958231\" y2=\"201.11393145660253\" stroke=\"black\" stroke-width=\"1\" />\n",
       "<text x=\"444.12239631489837\" y=\"210.17387551850092\" font-size=\"7.9811163977781865px\" stroke=\"black\" font-family=\"NotoColorEmoji\">🦊</text>\n",
       "</g>\n",
       "<g>\n",
       "<line x1=\"473.9175387016277\" y1=\"196.11534162934822\" x2=\"473.9175387016277\" y2=\"201.11393145660253\" stroke=\"black\" stroke-width=\"1\" />\n",
       "<text x=\"469.94256862070296\" y=\"210.17387551850092\" font-size=\"7.9811163977781865px\" stroke=\"black\" font-family=\"NotoColorEmoji\">🐋</text>\n",
       "</g>\n",
       "</g>\n",
       "<line x1=\"360.8933882309359\" y1=\"198.61463654297538\" x2=\"483.3333333333333\" y2=\"198.61463654297538\" stroke=\"black\" />\n",
       "</g>\n",
       "<g>\n",
       "<g>\n",
       "<g>\n",
       "<text x=\"350\" y=\"194.58763245756006\" font-size=\"6.626148558963439px\" stroke=\"black\" font-family=\"Montserrat\" font-weight=\"200\">-2</text>\n",
       "<line x1=\"358.5543577896218\" y1=\"192.24860201624597\" x2=\"363.23241867225\" y2=\"192.24860201624597\" stroke=\"black\" stroke-width=\"1\" />\n",
       "</g>\n",
       "<g>\n",
       "<text x=\"351.3635099186105\" y=\"173.36751736846193\" font-size=\"6.682944118040228px\" stroke=\"black\" font-family=\"Montserrat\" font-weight=\"200\">-1</text>\n",
       "<line x1=\"358.5543577896218\" y1=\"171.02848692714787\" x2=\"363.23241867225\" y2=\"171.02848692714787\" stroke=\"black\" stroke-width=\"1\" />\n",
       "</g>\n",
       "<g>\n",
       "<text x=\"351.8657819771\" y=\"152.14740227936386\" font-size=\"6.570310228410416px\" stroke=\"black\" font-family=\"Montserrat\" font-weight=\"200\">0</text>\n",
       "<line x1=\"358.5543577896218\" y1=\"149.80837183804977\" x2=\"363.23241867225\" y2=\"149.80837183804977\" stroke=\"black\" stroke-width=\"1\" />\n",
       "</g>\n",
       "<g>\n",
       "<text x=\"353.8027845216952\" y=\"130.92728719026573\" font-size=\"6.682944118040228px\" stroke=\"black\" font-family=\"Montserrat\" font-weight=\"200\">1</text>\n",
       "<line x1=\"358.5543577896218\" y1=\"128.58825674895166\" x2=\"363.23241867225\" y2=\"128.58825674895166\" stroke=\"black\" stroke-width=\"1\" />\n",
       "</g>\n",
       "</g>\n",
       "<line x1=\"360.8933882309359\" y1=\"122.22222222222223\" x2=\"360.8933882309359\" y2=\"198.61463654297538\" stroke=\"black\" />\n",
       "</g>\n",
       "</g>\n",
       "</g>\n",
       "</g>\n",
       "</g>\n",
       "</g>\n",
       "</svg>"
      ],
      "text/plain": [
       "svg: "
      ]
     },
     "execution_count": 30,
     "metadata": {},
     "output_type": "execute_result"
    }
   ],
   "source": [
    "plot1 = Frame(plot, margin=0.05, padding=0.05, border=1)\n",
    "SVG(plot | (plot1 & plot1), size=500)"
   ]
  },
  {
   "cell_type": "markdown",
   "metadata": {},
   "source": [
    "### Logo"
   ]
  },
  {
   "cell_type": "code",
   "execution_count": 31,
   "metadata": {},
   "outputs": [
    {
     "data": {
      "image/svg+xml": [
       "<svg width=\"100\" height=\"100\" xmlns=\"http://www.w3.org/2000/svg\">\n",
       "<g>\n",
       "<rect x=\"3\" y=\"3\" width=\"94\" height=\"94\" fill=\"#BBB\" stroke=\"#222\" stroke-width=\"5\" rx=\"20\" />\n",
       "<g>\n",
       "<text x=\"11\" y=\"85.93163285056679\" font-size=\"105.6812730899023px\" stroke=\"#222\" font-family=\"STIX\" fill=\"#222\">ℓ</text>\n",
       "<g>\n",
       "<text x=\"66.90539346455833\" y=\"42.81367342988664\" font-size=\"44.63556875846802px\" stroke=\"#222\" font-family=\"STIX\" fill=\"#222\">2</text>\n",
       "</g>\n",
       "</g>\n",
       "</g>\n",
       "</svg>"
      ],
      "text/plain": [
       "svg: "
      ]
     },
     "execution_count": 31,
     "metadata": {},
     "output_type": "execute_result"
    }
   ],
   "source": [
    "font = 'STIX'\n",
    "fgcol = '#222'\n",
    "bgcol = '#BBB'\n",
    "size = 100\n",
    "\n",
    "ell = Text('ℓ', font_family=font, fill=fgcol, stroke=fgcol)\n",
    "two = Text('2', font_family=font, fill=fgcol, stroke=fgcol)\n",
    "ell2 = HStack([ell, VStack({two: 0.4}, expand=False)])\n",
    "\n",
    "logo = Frame(\n",
    "    ell2, padding=0.08, margin=0.03, aspect=1, border=size/20,\n",
    "    rect_rx=size/5, rect_fill=bgcol, rect_stroke=fgcol\n",
    ")\n",
    "\n",
    "SVG(logo, size=size)"
   ]
  },
  {
   "cell_type": "code",
   "execution_count": 32,
   "metadata": {},
   "outputs": [],
   "source": [
    "from itertools import cycle"
   ]
  },
  {
   "cell_type": "code",
   "execution_count": 33,
   "metadata": {},
   "outputs": [
    {
     "data": {
      "image/svg+xml": [
       "<svg width=\"250\" height=\"125\" xmlns=\"http://www.w3.org/2000/svg\">\n",
       "<g>\n",
       "<g>\n",
       "<g>\n",
       "<rect x=\"2.5\" y=\"1.25\" width=\"122.5\" height=\"122.5\" fill=\"none\" stroke=\"black\" stroke-width=\"1\" />\n",
       "<g>\n",
       "<text x=\"51.5\" y=\"101.79007352941177\" font-size=\"24.596078431372565px\" stroke=\"black\" font-family=\"NotoColorEmoji\">🍄</text>\n",
       "<text x=\"69.500923351457\" y=\"95.94121898214452\" font-size=\"24.596078431372533px\" stroke=\"black\" font-family=\"NotoColorEmoji\">🍩</text>\n",
       "<text x=\"80.62610581153908\" y=\"80.62871898214452\" font-size=\"24.596078431372533px\" stroke=\"black\" font-family=\"NotoColorEmoji\">🚀</text>\n",
       "<text x=\"80.62610581153908\" y=\"61.701428076678994\" font-size=\"24.596078431372543px\" stroke=\"black\" font-family=\"NotoColorEmoji\">🦊</text>\n",
       "<text x=\"69.500923351457\" y=\"46.388928076678994\" font-size=\"24.596078431372543px\" stroke=\"black\" font-family=\"NotoColorEmoji\">🐋</text>\n",
       "<text x=\"51.5\" y=\"40.540073529411764\" font-size=\"24.596078431372554px\" stroke=\"black\" font-family=\"NotoColorEmoji\">🍄</text>\n",
       "<text x=\"33.499076648543024\" y=\"46.388928076678994\" font-size=\"24.596078431372543px\" stroke=\"black\" font-family=\"NotoColorEmoji\">🍩</text>\n",
       "<text x=\"22.37389418846092\" y=\"61.70142807667901\" font-size=\"24.59607843137256px\" stroke=\"black\" font-family=\"NotoColorEmoji\">🚀</text>\n",
       "<text x=\"22.37389418846092\" y=\"80.62871898214453\" font-size=\"24.596078431372554px\" stroke=\"black\" font-family=\"NotoColorEmoji\">🦊</text>\n",
       "<text x=\"33.49907664854301\" y=\"95.94121898214452\" font-size=\"24.596078431372533px\" stroke=\"black\" font-family=\"NotoColorEmoji\">🐋</text>\n",
       "</g>\n",
       "</g>\n",
       "<g>\n",
       "<rect x=\"125\" y=\"1.25\" width=\"122.5\" height=\"122.5\" fill=\"none\" stroke=\"black\" stroke-width=\"1\" />\n",
       "<g>\n",
       "<text x=\"174.0\" y=\"101.79007352941177\" font-size=\"24.596078431372565px\" stroke=\"black\" font-family=\"NotoColorEmoji\">🍄</text>\n",
       "<text x=\"192.000923351457\" y=\"95.94121898214452\" font-size=\"24.596078431372533px\" stroke=\"black\" font-family=\"NotoColorEmoji\">🍩</text>\n",
       "<text x=\"203.12610581153908\" y=\"80.62871898214452\" font-size=\"24.596078431372533px\" stroke=\"black\" font-family=\"NotoColorEmoji\">🚀</text>\n",
       "<text x=\"203.12610581153908\" y=\"61.701428076678994\" font-size=\"24.596078431372543px\" stroke=\"black\" font-family=\"NotoColorEmoji\">🦊</text>\n",
       "<text x=\"192.000923351457\" y=\"46.388928076678994\" font-size=\"24.596078431372543px\" stroke=\"black\" font-family=\"NotoColorEmoji\">🐋</text>\n",
       "<text x=\"174.0\" y=\"40.540073529411764\" font-size=\"24.596078431372554px\" stroke=\"black\" font-family=\"NotoColorEmoji\">🍄</text>\n",
       "<text x=\"155.99907664854302\" y=\"46.388928076678994\" font-size=\"24.596078431372543px\" stroke=\"black\" font-family=\"NotoColorEmoji\">🍩</text>\n",
       "<text x=\"144.87389418846092\" y=\"61.70142807667901\" font-size=\"24.59607843137256px\" stroke=\"black\" font-family=\"NotoColorEmoji\">🚀</text>\n",
       "<text x=\"144.87389418846092\" y=\"80.62871898214453\" font-size=\"24.596078431372554px\" stroke=\"black\" font-family=\"NotoColorEmoji\">🦊</text>\n",
       "<text x=\"155.999076648543\" y=\"95.94121898214452\" font-size=\"24.596078431372533px\" stroke=\"black\" font-family=\"NotoColorEmoji\">🐋</text>\n",
       "</g>\n",
       "</g>\n",
       "</g>\n",
       "</g>\n",
       "</svg>"
      ],
      "text/plain": [
       "g: "
      ]
     },
     "execution_count": 33,
     "metadata": {},
     "output_type": "execute_result"
    }
   ],
   "source": [
    "emoji = cycle('🍄🍩🚀🦊🐋')\n",
    "ts = np.linspace(0, 2*np.pi, 11)[:-1]\n",
    "xs = 0.25 + 0.5*(np.sin(ts)+1)/2\n",
    "ys = 0.25 + 0.5*(np.cos(ts)+1)/2\n",
    "wreath = Scatter({\n",
    "    Emoji(e): (x, y) for e, x, y in zip(emoji, xs, ys)\n",
    "}, r=0.1, aspect=1)\n",
    "frame = Frame(wreath, border=1)\n",
    "frame | frame"
   ]
  },
  {
   "cell_type": "code",
   "execution_count": null,
   "metadata": {},
   "outputs": [],
   "source": []
  }
 ],
 "metadata": {
  "kernelspec": {
   "display_name": "Python 3.9",
   "language": "python",
   "name": "python3.9"
  },
  "language_info": {
   "codemirror_mode": {
    "name": "ipython",
    "version": 3
   },
   "file_extension": ".py",
   "mimetype": "text/x-python",
   "name": "python",
   "nbconvert_exporter": "python",
   "pygments_lexer": "ipython3",
   "version": "3.9.2"
  }
 },
 "nbformat": 4,
 "nbformat_minor": 5
}
