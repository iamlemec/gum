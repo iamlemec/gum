{
 "cells": [
  {
   "cell_type": "code",
   "execution_count": 38,
   "metadata": {
    "tags": []
   },
   "outputs": [],
   "source": [
    "from gum import *"
   ]
  },
  {
   "cell_type": "code",
   "execution_count": 2,
   "metadata": {},
   "outputs": [],
   "source": [
    "%config InlineBackend.figure_format = 'svg'"
   ]
  },
  {
   "cell_type": "code",
   "execution_count": 3,
   "metadata": {},
   "outputs": [
    {
     "data": {
      "image/svg+xml": [
       "<svg width=\"250\" height=\"250\" xmlns=\"http://www.w3.org/2000/svg\">\n",
       "<g>\n",
       "<g>\n",
       "<g>\n",
       "<g>\n",
       "<g>\n",
       "<line x1=\"76\" y1=\"76\" x2=\"174\" y2=\"174\" stroke=\"black\" stroke-width=\"25\" />\n",
       "<line x1=\"76\" y1=\"174\" x2=\"174\" y2=\"76\" stroke=\"black\" stroke-width=\"25\" />\n",
       "</g>\n",
       "</g>\n",
       "<ellipse cx=\"125\" cy=\"125\" rx=\"98\" ry=\"98\" fill=\"none\" stroke=\"black\" stroke-width=\"25\" />\n",
       "</g>\n",
       "</g>\n",
       "</g>\n",
       "</svg>"
      ],
      "text/plain": [
       "g: "
      ]
     },
     "execution_count": 3,
     "metadata": {},
     "output_type": "execute_result"
    }
   ],
   "source": [
    "ex0 = Ray(-45, stroke_width=25) + Ray(45, stroke_width=25)\n",
    "ex = Frame(ex0, margin=0.25)\n",
    "ci = Circle(stroke_width=25)\n",
    "bt = ex + ci\n",
    "Frame(bt, margin=0.1)"
   ]
  },
  {
   "cell_type": "code",
   "execution_count": 34,
   "metadata": {},
   "outputs": [
    {
     "data": {
      "image/svg+xml": [
       "<svg width=\"250\" height=\"250\" xmlns=\"http://www.w3.org/2000/svg\">\n",
       "<g>\n",
       "<g>\n",
       "<g>\n",
       "<line x1=\"125\" y1=\"2.5\" x2=\"125\" y2=\"247.5\" stroke=\"black\" />\n",
       "<line x1=\"103.39994486321302\" y1=\"2.5\" x2=\"146.60005513678698\" y2=\"247.5\" stroke=\"black\" />\n",
       "<line x1=\"80.41364630239019\" y1=\"2.5\" x2=\"169.5863536976098\" y2=\"247.5\" stroke=\"black\" />\n",
       "<line x1=\"54.27459202427082\" y1=\"2.5\" x2=\"195.72540797572918\" y2=\"247.5\" stroke=\"black\" />\n",
       "<line x1=\"22.21029518078319\" y1=\"2.5\" x2=\"227.7897048192168\" y2=\"247.5\" stroke=\"black\" />\n",
       "<line x1=\"2.5\" y1=\"22.210295180783206\" x2=\"247.5\" y2=\"227.7897048192168\" stroke=\"black\" />\n",
       "<line x1=\"2.5\" y1=\"54.274592024270845\" x2=\"247.5\" y2=\"195.72540797572915\" stroke=\"black\" />\n",
       "<line x1=\"2.5\" y1=\"80.41364630239022\" x2=\"247.5\" y2=\"169.58635369760978\" stroke=\"black\" />\n",
       "<line x1=\"2.5\" y1=\"103.39994486321304\" x2=\"247.5\" y2=\"146.60005513678698\" stroke=\"black\" />\n",
       "<line x1=\"2.5\" y1=\"125\" x2=\"247.5\" y2=\"125\" stroke=\"black\" />\n",
       "<line x1=\"2.5\" y1=\"146.60005513678698\" x2=\"247.5\" y2=\"103.39994486321304\" stroke=\"black\" />\n",
       "<line x1=\"2.5\" y1=\"169.58635369760978\" x2=\"247.5\" y2=\"80.41364630239022\" stroke=\"black\" />\n",
       "<line x1=\"2.5\" y1=\"195.72540797572915\" x2=\"247.5\" y2=\"54.274592024270845\" stroke=\"black\" />\n",
       "<line x1=\"2.5\" y1=\"227.7897048192168\" x2=\"247.5\" y2=\"22.210295180783206\" stroke=\"black\" />\n",
       "<line x1=\"22.21029518078319\" y1=\"247.5\" x2=\"227.7897048192168\" y2=\"2.5\" stroke=\"black\" />\n",
       "<line x1=\"54.27459202427082\" y1=\"247.5\" x2=\"195.72540797572918\" y2=\"2.5\" stroke=\"black\" />\n",
       "<line x1=\"80.41364630239019\" y1=\"247.5\" x2=\"169.5863536976098\" y2=\"2.5\" stroke=\"black\" />\n",
       "<line x1=\"103.39994486321302\" y1=\"247.5\" x2=\"146.60005513678698\" y2=\"2.5\" stroke=\"black\" />\n",
       "</g>\n",
       "<rect x=\"2.5\" y=\"2.5\" width=\"245\" height=\"245\" fill=\"none\" stroke=\"black\" />\n",
       "</g>\n",
       "</g>\n",
       "</svg>"
      ],
      "text/plain": [
       "g: "
      ]
     },
     "execution_count": 34,
     "metadata": {},
     "output_type": "execute_result"
    }
   ],
   "source": [
    "Box([Ray(th) for th in range(-90, 90, 10)]) + Rect()"
   ]
  },
  {
   "cell_type": "code",
   "execution_count": 5,
   "metadata": {},
   "outputs": [
    {
     "data": {
      "image/svg+xml": [
       "<svg width=\"250\" height=\"57.91617506074986\" xmlns=\"http://www.w3.org/2000/svg\">\n",
       "<g>\n",
       "<g>\n",
       "<g>\n",
       "<text x=\"14.662566665510855\" y=\"45.985442998235385\" font-size=\"48.64958705102987px\" stroke=\"black\" font-family=\"Montserrat\">Test</text>\n",
       "<rect x=\"2.5\" y=\"0.5791617506075125\" width=\"122.5\" height=\"56.757851559534835\" fill=\"none\" stroke=\"black\" />\n",
       "</g>\n",
       "<g>\n",
       "<text x=\"137.16256666551087\" y=\"45.985442998235385\" font-size=\"48.64958705102987px\" stroke=\"black\" font-family=\"Montserrat\">Test</text>\n",
       "<rect x=\"125.0\" y=\"0.5791617506075125\" width=\"122.5\" height=\"56.757851559534835\" fill=\"none\" stroke=\"black\" />\n",
       "</g>\n",
       "</g>\n",
       "</g>\n",
       "</svg>"
      ],
      "text/plain": [
       "g: "
      ]
     },
     "execution_count": 5,
     "metadata": {},
     "output_type": "execute_result"
    }
   ],
   "source": [
    "t = Node('Test')\n",
    "t | t"
   ]
  },
  {
   "cell_type": "code",
   "execution_count": 6,
   "metadata": {},
   "outputs": [
    {
     "data": {
      "image/svg+xml": [
       "<svg width=\"172.0735228567908\" height=\"250\" xmlns=\"http://www.w3.org/2000/svg\">\n",
       "<g>\n",
       "<g>\n",
       "<g>\n",
       "<text x=\"34.76066654711119\" y=\"135.99424980715548\" font-size=\"143.02955336480946px\" stroke=\"black\" font-family=\"Montserrat\">A</text>\n",
       "<rect x=\"1.7207352285679218\" y=\"2.5\" width=\"168.63205239965495\" height=\"166.86781225894435\" fill=\"none\" stroke=\"black\" />\n",
       "</g>\n",
       "<g>\n",
       "<text x=\"18.463580773488104\" y=\"231.87356245178887\" font-size=\"66.97044663519056px\" stroke=\"black\" font-family=\"Montserrat\">Test</text>\n",
       "<rect x=\"1.7207352285679218\" y=\"169.36781225894435\" width=\"168.63205239965495\" height=\"78.13218774105565\" fill=\"none\" stroke=\"black\" />\n",
       "</g>\n",
       "</g>\n",
       "</g>\n",
       "</svg>"
      ],
      "text/plain": [
       "g: "
      ]
     },
     "execution_count": 6,
     "metadata": {},
     "output_type": "execute_result"
    }
   ],
   "source": [
    "t1 = Node(text='A')\n",
    "t2 = Node(text='Test')\n",
    "t1 & t2"
   ]
  },
  {
   "cell_type": "markdown",
   "metadata": {},
   "source": [
    "### Text Debug"
   ]
  },
  {
   "cell_type": "code",
   "execution_count": 7,
   "metadata": {},
   "outputs": [
    {
     "data": {
      "image/svg+xml": [
       "<svg width=\"250\" height=\"100\" xmlns=\"http://www.w3.org/2000/svg\">\n",
       "<g>\n",
       "<g>\n",
       "<text x=\"25.411522633744866\" y=\"80\" font-size=\"82.3045267489712px\" stroke=\"black\" font-family=\"Montserrat\">gum</text>\n",
       "<rect x=\"25.411522633744852\" y=\"20\" width=\"56.46090534979426\" height=\"60\" fill=\"none\" stroke=\"red\" />\n",
       "<rect x=\"81.87242798353911\" y=\"36.29629629629629\" width=\"55.390946502057616\" height=\"43.70370370370371\" fill=\"none\" stroke=\"red\" />\n",
       "<rect x=\"137.26337448559673\" y=\"36.37860082304526\" width=\"87.32510288065845\" height=\"43.62139917695474\" fill=\"none\" stroke=\"red\" />\n",
       "<rect x=\"25.411522633744852\" y=\"20\" width=\"199.17695473251032\" height=\"60\" fill=\"none\" stroke=\"blue\" stroke-dasharray=\"5 5\" />\n",
       "</g>\n",
       "</g>\n",
       "</svg>"
      ],
      "text/plain": [
       "svg: "
      ]
     },
     "execution_count": 7,
     "metadata": {},
     "output_type": "execute_result"
    }
   ],
   "source": [
    "text = TextDebug(text='gum')\n",
    "logo = Frame(text, padding=(0.1, 0.2))\n",
    "s = SVG(logo, size=(250, 100))\n",
    "s.save('gum.svg')\n",
    "s"
   ]
  },
  {
   "cell_type": "code",
   "execution_count": 8,
   "metadata": {
    "tags": []
   },
   "outputs": [
    {
     "data": {
      "image/svg+xml": [
       "<svg width=\"250\" height=\"49.37920331091566\" xmlns=\"http://www.w3.org/2000/svg\">\n",
       "<g>\n",
       "<g>\n",
       "<g>\n",
       "<text x=\"12.3\" y=\"39.20708742886704\" font-size=\"38.868770477668555px\" stroke=\"black\" font-family=\"Montserrat\">hello world!</text>\n",
       "<rect x=\"12.3\" y=\"10.366459734436969\" width=\"26.314157613381614\" height=\"28.840627694430072\" fill=\"none\" stroke=\"red\" />\n",
       "<rect x=\"38.614157613381614\" y=\"18.41229522331436\" width=\"23.476737368511813\" height=\"20.79479220555268\" fill=\"none\" stroke=\"red\" />\n",
       "<rect x=\"62.09089498189343\" y=\"10.366459734436969\" width=\"10.455699258492857\" height=\"28.840627694430072\" fill=\"none\" stroke=\"red\" />\n",
       "<rect x=\"72.54659424038628\" y=\"10.366459734436969\" width=\"10.455699258492828\" height=\"28.840627694430072\" fill=\"none\" stroke=\"red\" />\n",
       "<rect x=\"83.00229349887911\" y=\"18.41229522331436\" width=\"24.37071908949821\" height=\"20.79479220555268\" fill=\"none\" stroke=\"red\" />\n",
       "<rect x=\"107.37301258837732\" y=\"39.20708742886704\" width=\"10.183617865149145\" height=\"0.0\" fill=\"none\" stroke=\"red\" />\n",
       "<rect x=\"117.55663045352647\" y=\"18.76211415761338\" width=\"33.582617692705654\" height=\"20.444973271253662\" fill=\"none\" stroke=\"red\" />\n",
       "<rect x=\"151.13924814623212\" y=\"18.41229522331436\" width=\"24.37071908949821\" height=\"20.79479220555268\" fill=\"none\" stroke=\"red\" />\n",
       "<rect x=\"175.50996723573033\" y=\"18.606639075702702\" width=\"15.275426797723696\" height=\"20.60044835316434\" fill=\"none\" stroke=\"red\" />\n",
       "<rect x=\"190.78539403345403\" y=\"10.366459734436969\" width=\"10.45569925849287\" height=\"28.840627694430072\" fill=\"none\" stroke=\"red\" />\n",
       "<rect x=\"201.2410932919469\" y=\"10.172115882048628\" width=\"26.353026383859287\" height=\"29.03497154681841\" fill=\"none\" stroke=\"red\" />\n",
       "<rect x=\"227.59411967580618\" y=\"11.804604242110708\" width=\"10.105880324193805\" height=\"27.402483186756335\" fill=\"none\" stroke=\"red\" />\n",
       "<rect x=\"12.3\" y=\"10.172115882048628\" width=\"225.39999999999998\" height=\"29.03497154681841\" fill=\"none\" stroke=\"blue\" stroke-dasharray=\"5 5\" />\n",
       "</g>\n",
       "<rect x=\"2.500000000000014\" y=\"0.49379203310915665\" width=\"245\" height=\"48.391619244697345\" fill=\"none\" stroke=\"black\" stroke-width=\"1\" />\n",
       "</g>\n",
       "</g>\n",
       "</svg>"
      ],
      "text/plain": [
       "g: "
      ]
     },
     "execution_count": 8,
     "metadata": {},
     "output_type": "execute_result"
    }
   ],
   "source": [
    "hello = TextDebug(text='hello world!')\n",
    "s = Frame(hello, padding=(0.04, 0.2), border=1)\n",
    "s.save('test/hello.svg')\n",
    "s"
   ]
  },
  {
   "cell_type": "code",
   "execution_count": 9,
   "metadata": {},
   "outputs": [
    {
     "data": {
      "image/svg+xml": [
       "<svg width=\"250\" height=\"58.94607843137256\" xmlns=\"http://www.w3.org/2000/svg\">\n",
       "<g>\n",
       "<g>\n",
       "<g>\n",
       "<g>\n",
       "<text x=\"27.0\" y=\"46.80318627450981\" font-size=\"49.19215686274511px\" stroke=\"black\" font-family=\"NotoColorEmoji\">🦊</text>\n",
       "<rect x=\"27.0\" y=\"6.36617647058824\" width=\"49.0\" height=\"46.21372549019608\" fill=\"none\" stroke=\"black\" stroke-width=\"1\" />\n",
       "</g>\n",
       "<g>\n",
       "<text x=\"76.0\" y=\"46.80318627450981\" font-size=\"49.19215686274511px\" stroke=\"black\" font-family=\"NotoColorEmoji\">🍄</text>\n",
       "<rect x=\"76.0\" y=\"6.36617647058824\" width=\"49.0\" height=\"46.21372549019608\" fill=\"none\" stroke=\"black\" stroke-width=\"1\" />\n",
       "</g>\n",
       "<g>\n",
       "<text x=\"125.0\" y=\"46.80318627450981\" font-size=\"49.19215686274511px\" stroke=\"black\" font-family=\"NotoColorEmoji\">🗻</text>\n",
       "<rect x=\"125.0\" y=\"6.36617647058824\" width=\"49.0\" height=\"46.21372549019608\" fill=\"none\" stroke=\"black\" stroke-width=\"1\" />\n",
       "</g>\n",
       "<g>\n",
       "<text x=\"174.0\" y=\"46.80318627450981\" font-size=\"49.19215686274511px\" stroke=\"black\" font-family=\"NotoColorEmoji\">⬜</text>\n",
       "<rect x=\"174.0\" y=\"6.36617647058824\" width=\"49.0\" height=\"46.21372549019608\" fill=\"none\" stroke=\"black\" stroke-width=\"1\" />\n",
       "</g>\n",
       "</g>\n",
       "</g>\n",
       "</g>\n",
       "</svg>"
      ],
      "text/plain": [
       "g: "
      ]
     },
     "execution_count": 9,
     "metadata": {},
     "output_type": "execute_result"
    }
   ],
   "source": [
    "squares = list('🦊🍄🗻⬜')\n",
    "squares = [Emoji(text=s) for s in squares]\n",
    "squares = [Frame(s, border=1) for s in squares]\n",
    "s = Frame(HStack(squares), margin=0.1)\n",
    "s.save('test/emoji.svg')\n",
    "s"
   ]
  },
  {
   "cell_type": "code",
   "execution_count": 10,
   "metadata": {},
   "outputs": [
    {
     "data": {
      "image/svg+xml": [
       "<svg width=\"250\" height=\"235.78431372549025\" xmlns=\"http://www.w3.org/2000/svg\">\n",
       "<g>\n",
       "<g>\n",
       "<text x=\"27\" y=\"187.21274509803925\" font-size=\"196.76862745098043px\" stroke=\"black\" font-family=\"NotoColorEmoji\">🍄</text>\n",
       "</g>\n",
       "</g>\n",
       "</svg>"
      ],
      "text/plain": [
       "g: "
      ]
     },
     "execution_count": 10,
     "metadata": {},
     "output_type": "execute_result"
    }
   ],
   "source": [
    "Frame(Emoji('🍄'), margin=0.1)"
   ]
  },
  {
   "cell_type": "markdown",
   "metadata": {},
   "source": [
    "### Font Shaping"
   ]
  },
  {
   "cell_type": "code",
   "execution_count": 11,
   "metadata": {},
   "outputs": [],
   "source": [
    "from gi.repository import HarfBuzz as hb"
   ]
  },
  {
   "cell_type": "code",
   "execution_count": 12,
   "metadata": {},
   "outputs": [],
   "source": [
    "font, infos, positions, extents = get_text_shape('🗻', font='Noto Emoji', debug=True)"
   ]
  },
  {
   "cell_type": "code",
   "execution_count": 13,
   "metadata": {},
   "outputs": [
    {
     "name": "stdout",
     "output_type": "stream",
     "text": [
      "2555 2405\n",
      "0 1898\n"
     ]
    }
   ],
   "source": [
    "ext = extents[0].extents\n",
    "print(ext.width, -ext.height)\n",
    "print(ext.x_bearing, ext.y_bearing)"
   ]
  },
  {
   "cell_type": "code",
   "execution_count": 14,
   "metadata": {},
   "outputs": [
    {
     "name": "stdout",
     "output_type": "stream",
     "text": [
      "0 0\n",
      "2550 0\n"
     ]
    }
   ],
   "source": [
    "pos = positions[0]\n",
    "print(pos.x_offset, pos.y_offset)\n",
    "print(pos.x_advance, pos.y_advance)"
   ]
  },
  {
   "cell_type": "markdown",
   "metadata": {},
   "source": [
    "### Layout"
   ]
  },
  {
   "cell_type": "code",
   "execution_count": 15,
   "metadata": {},
   "outputs": [],
   "source": [
    "na = Node(text='A', pad=0.2)\n",
    "nt = Node(text='Test', pad=0.2)\n",
    "b = Bullet()"
   ]
  },
  {
   "cell_type": "code",
   "execution_count": 16,
   "metadata": {},
   "outputs": [
    {
     "data": {
      "image/svg+xml": [
       "<svg width=\"250\" height=\"250\" xmlns=\"http://www.w3.org/2000/svg\">\n",
       "<g>\n",
       "<g>\n",
       "<g>\n",
       "<ellipse cx=\"149.5\" cy=\"76\" rx=\"12.25\" ry=\"12.25\" fill=\"black\" stroke=\"black\" />\n",
       "</g>\n",
       "<rect x=\"2.5\" y=\"2.5\" width=\"245\" height=\"245\" fill=\"none\" stroke=\"black\" />\n",
       "</g>\n",
       "</g>\n",
       "</svg>"
      ],
      "text/plain": [
       "g: "
      ]
     },
     "execution_count": 16,
     "metadata": {},
     "output_type": "execute_result"
    }
   ],
   "source": [
    "Point(b, x=0.6, y=0.3, r=0.05) + Rect()"
   ]
  },
  {
   "cell_type": "code",
   "execution_count": 17,
   "metadata": {},
   "outputs": [
    {
     "data": {
      "image/svg+xml": [
       "<svg width=\"250\" height=\"250\" xmlns=\"http://www.w3.org/2000/svg\">\n",
       "<g>\n",
       "<g>\n",
       "<g>\n",
       "<g>\n",
       "<text x=\"46.201054741025416\" y=\"202.57977380300213\" font-size=\"83.12118621750228px\" stroke=\"black\" font-family=\"Montserrat\">A</text>\n",
       "<rect x=\"27\" y=\"125\" width=\"98\" height=\"96.97471725375267\" fill=\"none\" stroke=\"black\" />\n",
       "</g>\n",
       "</g>\n",
       "<rect x=\"2.5\" y=\"2.5\" width=\"245\" height=\"245\" fill=\"none\" stroke=\"black\" />\n",
       "</g>\n",
       "</g>\n",
       "</svg>"
      ],
      "text/plain": [
       "g: "
      ]
     },
     "execution_count": 17,
     "metadata": {},
     "output_type": "execute_result"
    }
   ],
   "source": [
    "Point(na, x=0.3, y=0.7, r=0.2) + Rect()"
   ]
  },
  {
   "cell_type": "code",
   "execution_count": 18,
   "metadata": {},
   "outputs": [
    {
     "data": {
      "image/svg+xml": [
       "<svg width=\"250\" height=\"78.89261572892536\" xmlns=\"http://www.w3.org/2000/svg\">\n",
       "<g>\n",
       "<g>\n",
       "<g>\n",
       "<text x=\"17.808371569919224\" y=\"62.64073688876674\" font-size=\"66.2697972122973px\" stroke=\"black\" font-family=\"Montserrat\">A</text>\n",
       "<rect x=\"2.5\" y=\"0.7889261572892536\" width=\"78.13218774105563\" height=\"77.31476341434686\" fill=\"none\" stroke=\"black\" />\n",
       "</g>\n",
       "<g>\n",
       "<text x=\"97.1998684833198\" y=\"62.64073688876674\" font-size=\"66.2697972122973px\" stroke=\"black\" font-family=\"Montserrat\">Test</text>\n",
       "<rect x=\"80.63218774105566\" y=\"0.7889261572892536\" width=\"166.8678122589443\" height=\"77.31476341434686\" fill=\"none\" stroke=\"black\" />\n",
       "</g>\n",
       "</g>\n",
       "</g>\n",
       "</svg>"
      ],
      "text/plain": [
       "g: "
      ]
     },
     "execution_count": 18,
     "metadata": {},
     "output_type": "execute_result"
    }
   ],
   "source": [
    "na | nt"
   ]
  },
  {
   "cell_type": "code",
   "execution_count": 19,
   "metadata": {},
   "outputs": [
    {
     "data": {
      "image/svg+xml": [
       "<svg width=\"250\" height=\"141.44752195193354\" xmlns=\"http://www.w3.org/2000/svg\">\n",
       "<g>\n",
       "<g>\n",
       "<g>\n",
       "<g>\n",
       "<text x=\"21.19366564188012\" y=\"76.94419853973741\" font-size=\"80.9247035573765px\" stroke=\"black\" font-family=\"Montserrat\">A</text>\n",
       "<rect x=\"2.500000000000014\" y=\"1.4144752195193424\" width=\"95.41034373439918\" height=\"94.41215415027258\" fill=\"none\" stroke=\"black\" />\n",
       "</g>\n",
       "<g>\n",
       "<text x=\"11.972936051011734\" y=\"131.19176325988974\" font-size=\"37.89121488224762px\" stroke=\"black\" font-family=\"Montserrat\">Test</text>\n",
       "<rect x=\"2.500000000000014\" y=\"95.82662936979196\" width=\"95.41034373439918\" height=\"44.20641736262223\" fill=\"none\" stroke=\"black\" />\n",
       "</g>\n",
       "</g>\n",
       "<g>\n",
       "<g>\n",
       "<text x=\"151.40741848689697\" y=\"56.86190382467727\" font-size=\"59.40795921981208px\" stroke=\"black\" font-family=\"Montserrat\">A</text>\n",
       "<rect x=\"137.6841365062071\" y=\"1.4144752195193353\" width=\"70.04207072198503\" height=\"69.30928575644742\" fill=\"none\" stroke=\"black\" />\n",
       "</g>\n",
       "<g>\n",
       "<text x=\"112.7625410144092\" y=\"126.17118958112471\" font-size=\"59.4079592198121px\" stroke=\"black\" font-family=\"Montserrat\">Test</text>\n",
       "<rect x=\"97.91034373439922\" y=\"70.72376097596675\" width=\"149.58965626560078\" height=\"69.30928575644744\" fill=\"none\" stroke=\"black\" />\n",
       "</g>\n",
       "</g>\n",
       "</g>\n",
       "</g>\n",
       "</svg>"
      ],
      "text/plain": [
       "g: "
      ]
     },
     "execution_count": 19,
     "metadata": {},
     "output_type": "execute_result"
    }
   ],
   "source": [
    "VStack([na, nt], expand=True) | VStack([na, nt], expand=False)"
   ]
  },
  {
   "cell_type": "code",
   "execution_count": 20,
   "metadata": {},
   "outputs": [
    {
     "data": {
      "image/svg+xml": [
       "<svg width=\"250\" height=\"64.8145523993823\" xmlns=\"http://www.w3.org/2000/svg\">\n",
       "<g>\n",
       "<g>\n",
       "<g>\n",
       "<g>\n",
       "<text x=\"11.06587343887089\" y=\"35.25762572056227\" font-size=\"37.08158592489477px\" stroke=\"black\" font-family=\"Montserrat\">A</text>\n",
       "<rect x=\"2.5000000000000284\" y=\"0.648145523993823\" width=\"43.71924398589127\" height=\"43.26185024571055\" fill=\"none\" stroke=\"black\" />\n",
       "</g>\n",
       "<g>\n",
       "<text x=\"6.840720159544004\" y=\"60.11512465425166\" font-size=\"17.362638090586376px\" stroke=\"black\" font-family=\"Montserrat\">Test</text>\n",
       "<rect x=\"2.5000000000000284\" y=\"43.90999576970437\" width=\"43.71924398589127\" height=\"20.2564111056841\" fill=\"none\" stroke=\"black\" />\n",
       "</g>\n",
       "</g>\n",
       "<g>\n",
       "<g>\n",
       "<text x=\"58.79589950808815\" y=\"51.462754605109545\" font-size=\"54.44422401548114px\" stroke=\"black\" font-family=\"Montserrat\">A</text>\n",
       "<rect x=\"46.219243985891296\" y=\"0.648145523993823\" width=\"64.1898196634937\" height=\"63.51826135139465\" fill=\"none\" stroke=\"black\" />\n",
       "</g>\n",
       "<g>\n",
       "<text x=\"124.02030979307202\" y=\"51.462754605109545\" font-size=\"54.44422401548114px\" stroke=\"black\" font-family=\"Montserrat\">Test</text>\n",
       "<rect x=\"110.409063649385\" y=\"0.648145523993823\" width=\"137.09093635061498\" height=\"63.51826135139465\" fill=\"none\" stroke=\"black\" />\n",
       "</g>\n",
       "</g>\n",
       "</g>\n",
       "</g>\n",
       "</svg>"
      ],
      "text/plain": [
       "g: "
      ]
     },
     "execution_count": 20,
     "metadata": {},
     "output_type": "execute_result"
    }
   ],
   "source": [
    "(na & nt) | (na | nt)"
   ]
  },
  {
   "cell_type": "markdown",
   "metadata": {},
   "source": [
    "### Plots"
   ]
  },
  {
   "cell_type": "code",
   "execution_count": 21,
   "metadata": {},
   "outputs": [],
   "source": [
    "ticks = {0.15: 'hello', 0.35: '0.3', 0.5: 'abc', 0.8: 'world'}"
   ]
  },
  {
   "cell_type": "code",
   "execution_count": 22,
   "metadata": {},
   "outputs": [
    {
     "data": {
      "image/svg+xml": [
       "<svg width=\"250\" height=\"214.07741251325564\" xmlns=\"http://www.w3.org/2000/svg\">\n",
       "<g>\n",
       "<g>\n",
       "<line x1=\"125\" y1=\"2.1407741251325842\" x2=\"125\" y2=\"86.05911983032877\" stroke=\"black\" stroke-width=\"1\" />\n",
       "<text x=\"2.5\" y=\"211.93663838812304\" font-size=\"129.90455991516438px\" stroke=\"black\" font-family=\"Montserrat\" font-weight=\"200\">test</text>\n",
       "</g>\n",
       "</g>\n",
       "</svg>"
      ],
      "text/plain": [
       "g: "
      ]
     },
     "execution_count": 22,
     "metadata": {},
     "output_type": "execute_result"
    }
   ],
   "source": [
    "VTick('test')"
   ]
  },
  {
   "cell_type": "code",
   "execution_count": 23,
   "metadata": {},
   "outputs": [
    {
     "data": {
      "image/svg+xml": [
       "<svg width=\"250\" height=\"31.25\" xmlns=\"http://www.w3.org/2000/svg\">\n",
       "<g>\n",
       "<g>\n",
       "<g>\n",
       "<line x1=\"39.25\" y1=\"0.3125\" x2=\"39.25\" y2=\"12.5625\" stroke=\"black\" stroke-width=\"1\" />\n",
       "<text x=\"19.05896226415094\" y=\"30.9375\" font-size=\"16.50943396226415px\" stroke=\"black\" font-family=\"Montserrat\" font-weight=\"200\">hello</text>\n",
       "</g>\n",
       "<g>\n",
       "<line x1=\"88.25\" y1=\"0.3125\" x2=\"88.25\" y2=\"12.5625\" stroke=\"black\" stroke-width=\"1\" />\n",
       "<text x=\"75.88816713483145\" y=\"30.9375\" font-size=\"17.205056179775283px\" stroke=\"black\" font-family=\"Montserrat\" font-weight=\"200\">0.3</text>\n",
       "</g>\n",
       "<g>\n",
       "<line x1=\"125\" y1=\"0.3125\" x2=\"125\" y2=\"12.5625\" stroke=\"black\" stroke-width=\"1\" />\n",
       "<text x=\"109.98678045515396\" y=\"30.9375\" font-size=\"16.39892904953146px\" stroke=\"black\" font-family=\"Montserrat\" font-weight=\"200\">abc</text>\n",
       "</g>\n",
       "<g>\n",
       "<line x1=\"198.5\" y1=\"0.31250000000000533\" x2=\"198.5\" y2=\"12.5625\" stroke=\"black\" stroke-width=\"1\" />\n",
       "<text x=\"175.28731593038825\" y=\"30.937499999999993\" font-size=\"16.39892904953146px\" stroke=\"black\" font-family=\"Montserrat\" font-weight=\"200\">world</text>\n",
       "</g>\n",
       "</g>\n",
       "</g>\n",
       "</svg>"
      ],
      "text/plain": [
       "g: "
      ]
     },
     "execution_count": 23,
     "metadata": {},
     "output_type": "execute_result"
    }
   ],
   "source": [
    "HScale(ticks)"
   ]
  },
  {
   "cell_type": "code",
   "execution_count": 24,
   "metadata": {},
   "outputs": [
    {
     "data": {
      "image/svg+xml": [
       "<svg width=\"250\" height=\"31.25\" xmlns=\"http://www.w3.org/2000/svg\">\n",
       "<g>\n",
       "<g>\n",
       "<g>\n",
       "<g>\n",
       "<line x1=\"39.25\" y1=\"0.3125\" x2=\"39.25\" y2=\"12.5625\" stroke=\"black\" stroke-width=\"1\" />\n",
       "<text x=\"19.05896226415094\" y=\"30.9375\" font-size=\"16.50943396226415px\" stroke=\"black\" font-family=\"Montserrat\" font-weight=\"200\">hello</text>\n",
       "</g>\n",
       "<g>\n",
       "<line x1=\"88.25\" y1=\"0.3125\" x2=\"88.25\" y2=\"12.5625\" stroke=\"black\" stroke-width=\"1\" />\n",
       "<text x=\"75.88816713483145\" y=\"30.9375\" font-size=\"17.205056179775283px\" stroke=\"black\" font-family=\"Montserrat\" font-weight=\"200\">0.3</text>\n",
       "</g>\n",
       "<g>\n",
       "<line x1=\"125\" y1=\"0.3125\" x2=\"125\" y2=\"12.5625\" stroke=\"black\" stroke-width=\"1\" />\n",
       "<text x=\"109.98678045515396\" y=\"30.9375\" font-size=\"16.39892904953146px\" stroke=\"black\" font-family=\"Montserrat\" font-weight=\"200\">abc</text>\n",
       "</g>\n",
       "<g>\n",
       "<line x1=\"198.5\" y1=\"0.31250000000000533\" x2=\"198.5\" y2=\"12.5625\" stroke=\"black\" stroke-width=\"1\" />\n",
       "<text x=\"175.28731593038825\" y=\"30.937499999999993\" font-size=\"16.39892904953146px\" stroke=\"black\" font-family=\"Montserrat\" font-weight=\"200\">world</text>\n",
       "</g>\n",
       "</g>\n",
       "<line x1=\"2.5\" y1=\"6.4375\" x2=\"247.5\" y2=\"6.4375\" stroke=\"black\" />\n",
       "</g>\n",
       "</g>\n",
       "</svg>"
      ],
      "text/plain": [
       "g: "
      ]
     },
     "execution_count": 24,
     "metadata": {},
     "output_type": "execute_result"
    }
   ],
   "source": [
    "HAxis(ticks)"
   ]
  },
  {
   "cell_type": "code",
   "execution_count": 25,
   "metadata": {},
   "outputs": [
    {
     "data": {
      "image/svg+xml": [
       "<svg width=\"250\" height=\"125\" xmlns=\"http://www.w3.org/2000/svg\">\n",
       "<g>\n",
       "<g>\n",
       "<g>\n",
       "<g>\n",
       "<g>\n",
       "<line x1=\"70.27182758003246\" y1=\"105.32069962713858\" x2=\"70.27182758003246\" y2=\"112.69241977628315\" stroke=\"black\" stroke-width=\"1\" />\n",
       "<text x=\"58.12140474660415\" y=\"123.75\" font-size=\"9.934932815558714px\" stroke=\"black\" font-family=\"Montserrat\" font-weight=\"200\">hello</text>\n",
       "</g>\n",
       "<g>\n",
       "<line x1=\"111.97257403178952\" y1=\"105.32069962713858\" x2=\"111.97257403178952\" y2=\"112.69241977628315\" stroke=\"black\" stroke-width=\"1\" />\n",
       "<text x=\"104.5335558756654\" y=\"123.75\" font-size=\"10.3535395353154px\" stroke=\"black\" font-family=\"Montserrat\" font-weight=\"200\">0.3</text>\n",
       "</g>\n",
       "<g>\n",
       "<line x1=\"143.24813387060732\" y1=\"105.32069962713858\" x2=\"143.24813387060732\" y2=\"112.69241977628315\" stroke=\"black\" stroke-width=\"1\" />\n",
       "<text x=\"134.21358260348302\" y=\"123.75\" font-size=\"9.868433934597812px\" stroke=\"black\" font-family=\"Montserrat\" font-weight=\"200\">abc</text>\n",
       "</g>\n",
       "<g>\n",
       "<line x1=\"205.7992535482429\" y1=\"105.32069962713858\" x2=\"205.7992535482429\" y2=\"112.69241977628315\" stroke=\"black\" stroke-width=\"1\" />\n",
       "<text x=\"191.83048531381968\" y=\"123.75\" font-size=\"9.868433934597812px\" stroke=\"black\" font-family=\"Montserrat\" font-weight=\"200\">world</text>\n",
       "</g>\n",
       "</g>\n",
       "<line x1=\"38.99626774121463\" y1=\"109.00655970171087\" x2=\"247.5\" y2=\"109.00655970171087\" stroke=\"black\" />\n",
       "</g>\n",
       "<g>\n",
       "<g>\n",
       "<g>\n",
       "<text x=\"6.258947480469054\" y=\"96.65284545057486\" font-size=\"10.268921035365588px\" stroke=\"black\" font-family=\"Montserrat\" font-weight=\"200\">hello</text>\n",
       "<line x1=\"35.186498037093955\" y1=\"92.84307574645422\" x2=\"42.80603744533524\" y2=\"92.84307574645422\" stroke=\"black\" stroke-width=\"1\" />\n",
       "</g>\n",
       "<g>\n",
       "<text x=\"15.9985287126886\" y=\"75.1015335102327\" font-size=\"10.701600292473708px\" stroke=\"black\" font-family=\"Montserrat\" font-weight=\"200\">0.3</text>\n",
       "<line x1=\"35.18649803709396\" y1=\"71.29176380611206\" x2=\"42.80603744533524\" y2=\"71.29176380611206\" stroke=\"black\" stroke-width=\"1\" />\n",
       "</g>\n",
       "<g>\n",
       "<text x=\"12.700186624151653\" y=\"58.93804955497606\" font-size=\"10.200186624151646px\" stroke=\"black\" font-family=\"Montserrat\" font-weight=\"200\">abc</text>\n",
       "<line x1=\"35.186498037093955\" y1=\"55.12827985085542\" x2=\"42.80603744533524\" y2=\"55.12827985085542\" stroke=\"black\" stroke-width=\"1\" />\n",
       "</g>\n",
       "<g>\n",
       "<text x=\"2.5000000000000036\" y=\"26.611081644462807\" font-size=\"10.200186624151646px\" stroke=\"black\" font-family=\"Montserrat\" font-weight=\"200\">world</text>\n",
       "<line x1=\"35.18649803709396\" y1=\"22.801311940342167\" x2=\"42.80603744533524\" y2=\"22.801311940342167\" stroke=\"black\" stroke-width=\"1\" />\n",
       "</g>\n",
       "</g>\n",
       "<line x1=\"38.9962677412146\" y1=\"1.25\" x2=\"38.9962677412146\" y2=\"109.00655970171086\" stroke=\"black\" />\n",
       "</g>\n",
       "</g>\n",
       "</g>\n",
       "</svg>"
      ],
      "text/plain": [
       "g: "
      ]
     },
     "execution_count": 25,
     "metadata": {},
     "output_type": "execute_result"
    }
   ],
   "source": [
    "Axes(xticks=ticks, yticks=ticks, aspect=2)"
   ]
  },
  {
   "cell_type": "code",
   "execution_count": 26,
   "metadata": {},
   "outputs": [
    {
     "data": {
      "image/svg+xml": [
       "<svg width=\"250\" height=\"166.66666666666663\" xmlns=\"http://www.w3.org/2000/svg\">\n",
       "<g>\n",
       "<g xaxis-tick-text-scale=\"1.5\">\n",
       "<g>\n",
       "<g>\n",
       "<g>\n",
       "<line x1=\"42.005086429537684\" y1=\"137.03568427861313\" x2=\"42.005086429537684\" y2=\"146.35712285240874\" stroke=\"black\" stroke-width=\"1\" />\n",
       "<text x=\"34.59250793790188\" y=\"163.2522302674133\" font-size=\"14.883294853794258px\" stroke=\"black\" font-family=\"NotoColorEmoji\">🍄</text>\n",
       "</g>\n",
       "<g>\n",
       "<line x1=\"87.67062277852929\" y1=\"137.03568427861313\" x2=\"87.67062277852929\" y2=\"146.35712285240874\" stroke=\"black\" stroke-width=\"1\" />\n",
       "<text x=\"80.2580442868935\" y=\"163.2522302674133\" font-size=\"14.883294853794258px\" stroke=\"black\" font-family=\"NotoColorEmoji\">🍩</text>\n",
       "</g>\n",
       "<g>\n",
       "<line x1=\"133.33615912752094\" y1=\"137.03568427861313\" x2=\"133.33615912752094\" y2=\"146.35712285240874\" stroke=\"black\" stroke-width=\"1\" />\n",
       "<text x=\"125.92358063588513\" y=\"163.2522302674133\" font-size=\"14.883294853794258px\" stroke=\"black\" font-family=\"NotoColorEmoji\">🚀</text>\n",
       "</g>\n",
       "<g>\n",
       "<line x1=\"179.0016954765125\" y1=\"137.03568427861313\" x2=\"179.0016954765125\" y2=\"146.35712285240874\" stroke=\"black\" stroke-width=\"1\" />\n",
       "<text x=\"171.5891169848767\" y=\"163.2522302674133\" font-size=\"14.883294853794258px\" stroke=\"black\" font-family=\"NotoColorEmoji\">🦊</text>\n",
       "</g>\n",
       "<g>\n",
       "<line x1=\"224.6672318255042\" y1=\"137.03568427861313\" x2=\"224.6672318255042\" y2=\"146.35712285240874\" stroke=\"black\" stroke-width=\"1\" />\n",
       "<text x=\"217.25465333386836\" y=\"163.2522302674133\" font-size=\"14.883294853794258px\" stroke=\"black\" font-family=\"NotoColorEmoji\">🐋</text>\n",
       "</g>\n",
       "</g>\n",
       "<line x1=\"19.172318255041866\" y1=\"141.69640356551093\" x2=\"247.49999999999997\" y2=\"141.69640356551093\" stroke=\"black\" />\n",
       "</g>\n",
       "<g>\n",
       "<g>\n",
       "<g>\n",
       "<text x=\"6.175015045196597\" y=\"131.98094742835585\" font-size=\"12.25005015065522px\" stroke=\"black\" font-family=\"Montserrat\" font-weight=\"200\">1</text>\n",
       "<line x1=\"14.884800702312456\" y1=\"127.69342987562652\" x2=\"23.459835807771107\" y2=\"127.69342987562652\" stroke=\"black\" stroke-width=\"1\" />\n",
       "</g>\n",
       "<g>\n",
       "<text x=\"3.6983880505739006\" y=\"103.97500004858699\" font-size=\"12.145942075720473px\" stroke=\"black\" font-family=\"Montserrat\" font-weight=\"200\">2</text>\n",
       "<line x1=\"14.884800702312454\" y1=\"99.68748249585767\" x2=\"23.459835807771107\" y2=\"99.68748249585767\" stroke=\"black\" stroke-width=\"1\" />\n",
       "</g>\n",
       "<g>\n",
       "<text x=\"3.746971818876781\" y=\"75.96905266881814\" font-size=\"12.145942075720473px\" stroke=\"black\" font-family=\"Montserrat\" font-weight=\"200\">3</text>\n",
       "<line x1=\"14.884800702312454\" y1=\"71.68153511608881\" x2=\"23.459835807771107\" y2=\"71.68153511608881\" stroke=\"black\" stroke-width=\"1\" />\n",
       "</g>\n",
       "<g>\n",
       "<text x=\"2.5000000000000306\" y=\"47.96310528904928\" font-size=\"12.250050150655209px\" stroke=\"black\" font-family=\"Montserrat\" font-weight=\"200\">4</text>\n",
       "<line x1=\"14.884800702312454\" y1=\"43.675587736319955\" x2=\"23.459835807771107\" y2=\"43.675587736319955\" stroke=\"black\" stroke-width=\"1\" />\n",
       "</g>\n",
       "<g>\n",
       "<text x=\"3.7226799347253423\" y=\"19.95715790928043\" font-size=\"12.14594207572047px\" stroke=\"black\" font-family=\"Montserrat\" font-weight=\"200\">5</text>\n",
       "<line x1=\"14.884800702312454\" y1=\"15.669640356551103\" x2=\"23.459835807771107\" y2=\"15.669640356551103\" stroke=\"black\" stroke-width=\"1\" />\n",
       "</g>\n",
       "</g>\n",
       "<line x1=\"19.17231825504178\" y1=\"1.6666666666666805\" x2=\"19.17231825504178\" y2=\"141.69640356551093\" stroke=\"black\" />\n",
       "</g>\n",
       "</g>\n",
       "</g>\n",
       "</svg>"
      ],
      "text/plain": [
       "g: xaxis-tick-text-scale=\"1.5\""
      ]
     },
     "execution_count": 26,
     "metadata": {},
     "output_type": "execute_result"
    }
   ],
   "source": [
    "Axes(\n",
    "    xticks={0.1: Emoji('🍄'), 0.3: Emoji('🍩'), 0.5: Emoji('🚀'), 0.7: Emoji('🦊'), 0.9: Emoji('🐋')},\n",
    "    yticks={0.1: '1', 0.3: '2', 0.5: '3', 0.7: '4', 0.9: '5'},\n",
    "    aspect=1.5, xaxis_tick_text_scale=1.5\n",
    ")"
   ]
  },
  {
   "cell_type": "code",
   "execution_count": 99,
   "metadata": {},
   "outputs": [
    {
     "data": {
      "image/svg+xml": [
       "<svg width=\"350\" height=\"262.5\" xmlns=\"http://www.w3.org/2000/svg\">\n",
       "<g>\n",
       "<g xaxis-tick-text-scale=\"1.5\">\n",
       "<polyline points=\"68.09007125157002,117.7568873258477 70.76087861266528,111.95243123568088 73.43168597376052,106.17134764154255 76.10249333485578,100.43691492666888 78.77330069595104,94.77222362767036 81.4441080570463,89.20008345709059 84.11491541814154,83.7429314567443 86.78572277923679,78.42274165166913 89.45653014033205,73.26093656848225 92.12733750142729,68.27830097442674 94.79814486252255,63.49489818444965 97.4689522236178,58.92998927331403 100.13975958471306,54.60195551804883 102.81056694580832,50.52822438303401 105.48137430690356,46.72519934575223 108.1521816679988,43.20819384577463 110.82298902909406,39.99136962294446 113.49379639018932,37.08767969304897 116.16460375128457,34.508816190596605 118.83541111237983,32.26516328871792 121.50621847347507,30.365755385765468 124.17702583457032,28.818240726980267 126.84783319566557,27.628850607707587 129.51864055676083,26.8023742821699 132.18944791785609,26.34213967883048 134.86025527895134,26.250000000000043 137.5310626400466,26.526326259645113 140.20187000114186,27.170005789445735 142.87267736223708,28.178446719118067 145.54348472333234,29.547588412961275 148.2142920844276,31.271917820604276 150.88509944552285,33.34449167611381 153.5559068066181,35.756964456075764 156.22671416771337,38.4996219840725 158.89752152880862,41.56142054624259 161.56832888990385,44.93003136041897 164.2391362509991,48.591890219783096 166.90994361209437,52.532252111138625 169.58075097318962,56.73525058787517 172.25155833428488,61.183961658549144 174.9223656953801,65.86047193382367 177.5931730564754,70.7459507573655 180.26398041757062,75.82072603025144 182.93478777866588,81.06436342356795 185.60559513976114,86.45574866024126 188.2764025008564,91.97317253477914 190.94720986195165,97.59441832857914 193.61801722304688,103.29685126881338 196.28882458414216,109.05750967066969 198.9596319452374,114.85319739595221 201.63043930633268,120.66057725574322 204.3012466674279,126.45626498102574 206.9720540285232,132.21692338288204 209.64286138961842,137.91935632311623 212.31366875071365,143.54060211691626 214.98447611180893,149.05802599145412 217.65528347290416,154.44941122812747 220.32609083399944,159.69304862144395 222.99689819509467,164.76782389432992 225.6677055561899,169.65330271787172 228.3385129172852,174.32981299314628 231.00932027838041,178.7785240638202 233.6801276394757,182.9815225405568 236.35093500057093,186.9218844319123 239.0217423616662,190.58374329127645 241.69254972276144,193.9523541054528 244.36335708385673,197.01415266762297 247.03416444495195,199.75681019561966 249.70497180604718,202.1692829755816 252.3757791671424,204.24185683109113 255.0465865282377,205.96618623873417 257.717393889333,207.33532793257734 260.3882012504282,208.34376886224965 263.05900861152344,208.98744839205028 265.7298159726187,209.26377465169537 268.40062333371395,209.17163497286492 271.07143069480924,208.7114003695255 273.74223805590447,207.88492404398784 276.41304541699975,206.69553392471516 279.083852778095,205.14801926592992 281.7546601391902,203.2486113629775 284.4254675002855,201.0049584610988 287.0962748613808,198.42609495864644 289.767082222476,195.52240502875094 292.43788958357123,192.30558080592078 295.1086969446665,188.78857530594314 297.77950430576175,184.98555026866137 300.450311666857,180.9118191336466 303.1211190279522,176.58378537838144 305.79192638904755,172.01887646724578 308.4627337501428,167.23547367726866 311.133541111238,162.25283808321313 313.80434847233323,157.0910330000263 316.4751558334285,151.77084319495106 319.14596319452374,146.31369119460481 321.816770555619,140.74155102402506 324.48757791671426,135.0768597250265 327.15838527780954,129.34242701015282 329.8291926389048,123.56134341601452 332.5,117.75688732584771\" fill=\"none\" stroke=\"#1e88e5\" />\n",
       "<polyline points=\"68.09007125157002,26.250000000000043 70.76087861266528,26.268672969559443 73.43168597376052,26.324691878237648 76.10249333485578,26.418056726034656 78.77330069595104,26.54876751295047 81.4441080570463,26.716824238985083 84.11491541814154,26.9222269041385 86.78572277923679,27.164975508410723 89.45653014033205,27.445070051801746 92.12733750142729,27.762510534311573 94.79814486252255,28.117296955940205 97.4689522236178,28.50942931668764 100.13975958471306,28.938907616553877 102.81056694580832,29.405731855538917 105.48137430690356,29.909902033642762 108.1521816679988,30.451418150865408 110.82298902909406,31.030280207206857 113.49379639018932,31.646488202667115 116.16460375128457,32.300042137246166 118.83541111237983,32.99094201094403 121.50621847347507,33.71918782376069 124.17702583457032,34.48477957569616 126.84783319566557,35.28771726675043 129.51864055676083,36.1280008969235 132.18944791785609,37.00563046621538 134.86025527895134,37.920605974626056 137.5310626400466,38.87292742215554 140.20187000114186,39.86259480880383 142.87267736223708,40.88960813457092 145.54348472333234,41.95396739945681 148.2142920844276,43.05567260346151 150.88509944552285,44.194723746585005 153.5559068066181,45.37112082882731 156.22671416771337,46.58486385018841 158.89752152880862,47.835952810668324 161.56832888990385,49.124387710267044 164.2391362509991,50.45016854898455 166.90994361209437,51.81329532682088 169.58075097318962,53.213768043775985 172.25155833428488,54.65158669984992 174.9223656953801,56.126751295042645 177.5931730564754,57.63926182935418 180.26398041757062,59.189118302784514 182.93478777866588,60.776320715333654 185.60559513976114,62.40086906700159 188.2764025008564,64.06276335778833 190.94720986195165,65.76200358769387 193.61801722304688,67.49858975671823 196.28882458414216,69.27252186486139 198.9596319452374,71.08379991212334 201.63043930633268,72.93242389850411 204.3012466674279,74.81839382400368 206.9720540285232,76.74170968862205 209.64286138961842,78.70237149235922 212.31366875071365,80.7003792352152 214.98447611180893,82.73573291718996 217.65528347290416,84.80843253828354 220.32609083399944,86.91847809849594 222.99689819509467,89.06586959782712 225.6677055561899,91.2506070362771 228.3385129172852,93.47269041384591 231.00932027838041,95.73211973053348 233.6801276394757,98.02889498633989 236.35093500057093,100.3630161812651 239.0217423616662,102.7344833153091 241.69254972276144,105.14329638847191 244.36335708385673,107.58945540075354 247.03416444495195,110.07296035215396 249.70497180604718,112.59381124267317 252.3757791671424,115.15200807231116 255.0465865282377,117.74755084106803 257.717393889333,120.38043954894364 260.3882012504282,123.05067419593806 263.05900861152344,125.7582547820513 265.7298159726187,128.50318130728337 268.40062333371395,131.2854537716342 271.07143069480924,134.10507217510383 273.74223805590447,136.96203651769227 276.41304541699975,139.85634679939955 279.083852778095,142.7880030202256 281.7546601391902,145.75700518017044 284.4254675002855,148.76335327923414 287.0962748613808,151.8070473174166 289.767082222476,154.88808729471788 292.43788958357123,158.00647321113792 295.1086969446665,161.16220506667685 297.77950430576175,164.3552828613345 300.450311666857,167.58570659511093 303.1211190279522,170.8534762680062 305.79192638904755,174.1585918800203 308.4627337501428,177.5010534311532 311.133541111238,180.88086092140486 313.80434847233323,184.29801435077536 316.4751558334285,187.7525137192647 319.14596319452374,191.24435902687281 321.816770555619,194.7735502735997 324.48757791671426,198.34008745944544 327.15838527780954,201.94397058440995 329.8291926389048,205.58519964849324 332.5,209.26377465169537\" fill=\"none\" stroke=\"#ff0d57\" />\n",
       "<polyline points=\"68.09007125157002,117.7568873258477 70.76087861266528,117.7568873258477 73.43168597376052,117.7568873258477 76.10249333485578,117.7568873258477 78.77330069595104,117.7568873258477 81.4441080570463,117.7568873258477 84.11491541814154,117.7568873258477 86.78572277923679,117.7568873258477 89.45653014033205,117.7568873258477 92.12733750142729,117.7568873258477 94.79814486252255,117.7568873258477 97.4689522236178,117.7568873258477 100.13975958471306,117.7568873258477 102.81056694580832,117.7568873258477 105.48137430690356,117.7568873258477 108.1521816679988,117.7568873258477 110.82298902909406,117.7568873258477 113.49379639018932,117.7568873258477 116.16460375128457,117.7568873258477 118.83541111237983,117.7568873258477 121.50621847347507,117.7568873258477 124.17702583457032,117.7568873258477 126.84783319566557,117.7568873258477 129.51864055676083,117.7568873258477 132.18944791785609,117.7568873258477 134.86025527895134,117.7568873258477 137.5310626400466,117.7568873258477 140.20187000114186,117.7568873258477 142.87267736223708,117.7568873258477 145.54348472333234,117.7568873258477 148.2142920844276,117.7568873258477 150.88509944552285,117.7568873258477 153.5559068066181,117.7568873258477 156.22671416771337,117.7568873258477 158.89752152880862,117.7568873258477 161.56832888990385,117.7568873258477 164.2391362509991,117.7568873258477 166.90994361209437,117.7568873258477 169.58075097318962,117.7568873258477 172.25155833428488,117.7568873258477 174.9223656953801,117.7568873258477 177.5931730564754,117.7568873258477 180.26398041757062,117.7568873258477 182.93478777866588,117.7568873258477 185.60559513976114,117.7568873258477 188.2764025008564,117.7568873258477 190.94720986195165,117.7568873258477 193.61801722304688,117.7568873258477 196.28882458414216,117.7568873258477 198.9596319452374,117.7568873258477 201.63043930633268,117.7568873258477 204.3012466674279,117.7568873258477 206.9720540285232,117.7568873258477 209.64286138961842,117.7568873258477 212.31366875071365,117.7568873258477 214.98447611180893,117.7568873258477 217.65528347290416,117.7568873258477 220.32609083399944,117.7568873258477 222.99689819509467,117.7568873258477 225.6677055561899,117.7568873258477 228.3385129172852,117.7568873258477 231.00932027838041,117.7568873258477 233.6801276394757,117.7568873258477 236.35093500057093,117.7568873258477 239.0217423616662,117.7568873258477 241.69254972276144,117.7568873258477 244.36335708385673,117.7568873258477 247.03416444495195,117.7568873258477 249.70497180604718,117.7568873258477 252.3757791671424,117.7568873258477 255.0465865282377,117.7568873258477 257.717393889333,117.7568873258477 260.3882012504282,117.7568873258477 263.05900861152344,117.7568873258477 265.7298159726187,117.7568873258477 268.40062333371395,117.7568873258477 271.07143069480924,117.7568873258477 273.74223805590447,117.7568873258477 276.41304541699975,117.7568873258477 279.083852778095,117.7568873258477 281.7546601391902,117.7568873258477 284.4254675002855,117.7568873258477 287.0962748613808,117.7568873258477 289.767082222476,117.7568873258477 292.43788958357123,117.7568873258477 295.1086969446665,117.7568873258477 297.77950430576175,117.7568873258477 300.450311666857,117.7568873258477 303.1211190279522,117.7568873258477 305.79192638904755,117.7568873258477 308.4627337501428,117.7568873258477 311.133541111238,117.7568873258477 313.80434847233323,117.7568873258477 316.4751558334285,117.7568873258477 319.14596319452374,117.7568873258477 321.816770555619,117.7568873258477 324.48757791671426,117.7568873258477 327.15838527780954,117.7568873258477 329.8291926389048,117.7568873258477 332.5,117.7568873258477\" fill=\"none\" stroke=\"black\" stroke-dasharray=\"4\" />\n",
       "<g xaxis-tick-text-scale=\"1.5\">\n",
       "<g>\n",
       "<g>\n",
       "<g>\n",
       "<line x1=\"68.09007125156992\" y1=\"203.86652958203447\" x2=\"68.09007125156992\" y2=\"214.6610197213563\" stroke=\"black\" stroke-width=\"1\" />\n",
       "<text x=\"59.506095205227716\" y=\"234.22603309887714\" font-size=\"17.235277395008662px\" stroke=\"black\" font-family=\"NotoColorEmoji\">🍄</text>\n",
       "</g>\n",
       "<g>\n",
       "<line x1=\"134.1925534386774\" y1=\"203.86652958203447\" x2=\"134.1925534386774\" y2=\"214.6610197213563\" stroke=\"black\" stroke-width=\"1\" />\n",
       "<text x=\"125.6085773923352\" y=\"234.22603309887714\" font-size=\"17.235277395008662px\" stroke=\"black\" font-family=\"NotoColorEmoji\">🍩</text>\n",
       "</g>\n",
       "<g>\n",
       "<line x1=\"200.29503562578492\" y1=\"203.86652958203447\" x2=\"200.29503562578492\" y2=\"214.6610197213563\" stroke=\"black\" stroke-width=\"1\" />\n",
       "<text x=\"191.7110595794427\" y=\"234.22603309887714\" font-size=\"17.235277395008662px\" stroke=\"black\" font-family=\"NotoColorEmoji\">🚀</text>\n",
       "</g>\n",
       "<g>\n",
       "<line x1=\"266.3975178128924\" y1=\"203.86652958203447\" x2=\"266.3975178128924\" y2=\"214.6610197213563\" stroke=\"black\" stroke-width=\"1\" />\n",
       "<text x=\"257.81354176655014\" y=\"234.22603309887714\" font-size=\"17.235277395008662px\" stroke=\"black\" font-family=\"NotoColorEmoji\">🦊</text>\n",
       "</g>\n",
       "<g>\n",
       "<line x1=\"332.49999999999983\" y1=\"203.86652958203447\" x2=\"332.49999999999983\" y2=\"214.6610197213563\" stroke=\"black\" stroke-width=\"1\" />\n",
       "<text x=\"323.9160239536576\" y=\"234.22603309887714\" font-size=\"17.235277395008662px\" stroke=\"black\" font-family=\"NotoColorEmoji\">🐋</text>\n",
       "</g>\n",
       "</g>\n",
       "<line x1=\"68.09007125156992\" y1=\"209.26377465169537\" x2=\"332.4999999999999\" y2=\"209.26377465169537\" stroke=\"black\" />\n",
       "</g>\n",
       "<g>\n",
       "<g>\n",
       "<g>\n",
       "<text x=\"23.38695913132774\" y=\"214.86740419916237\" font-size=\"15.74053243670504px\" stroke=\"black\" font-family=\"Montserrat\" font-weight=\"200\">-1.97</text>\n",
       "<line x1=\"62.48644170410307\" y1=\"209.26377465169537\" x2=\"73.69370079903706\" y2=\"209.26377465169537\" stroke=\"black\" stroke-width=\"1\" />\n",
       "</g>\n",
       "<g>\n",
       "<text x=\"23.864258449181815\" y=\"169.11396053623852\" font-size=\"15.87430466704531px\" stroke=\"black\" font-family=\"Montserrat\" font-weight=\"200\">-1.23</text>\n",
       "<line x1=\"62.48644170410306\" y1=\"163.51033098877153\" x2=\"73.69370079903706\" y2=\"163.51033098877153\" stroke=\"black\" stroke-width=\"1\" />\n",
       "</g>\n",
       "<g>\n",
       "<text x=\"17.500000000000068\" y=\"123.3605168733147\" font-size=\"15.74053243670504px\" stroke=\"black\" font-family=\"Montserrat\" font-weight=\"200\">-0.49</text>\n",
       "<line x1=\"62.48644170410307\" y1=\"117.7568873258477\" x2=\"73.69370079903706\" y2=\"117.7568873258477\" stroke=\"black\" stroke-width=\"1\" />\n",
       "</g>\n",
       "<g>\n",
       "<text x=\"24.64620172626415\" y=\"77.60707321039087\" font-size=\"15.74053243670504px\" stroke=\"black\" font-family=\"Montserrat\" font-weight=\"200\">0.26</text>\n",
       "<line x1=\"62.48644170410307\" y1=\"72.00344366292387\" x2=\"73.69370079903706\" y2=\"72.00344366292387\" stroke=\"black\" stroke-width=\"1\" />\n",
       "</g>\n",
       "<g>\n",
       "<text x=\"27.196167981010362\" y=\"31.853629547467037\" font-size=\"15.74053243670504px\" stroke=\"black\" font-family=\"Montserrat\" font-weight=\"200\">1.00</text>\n",
       "<line x1=\"62.48644170410306\" y1=\"26.250000000000043\" x2=\"73.69370079903706\" y2=\"26.250000000000043\" stroke=\"black\" stroke-width=\"1\" />\n",
       "</g>\n",
       "</g>\n",
       "<line x1=\"68.09007125157007\" y1=\"26.250000000000043\" x2=\"68.09007125157007\" y2=\"209.26377465169537\" stroke=\"black\" />\n",
       "</g>\n",
       "</g>\n",
       "</g>\n",
       "</g>\n",
       "</svg>"
      ],
      "text/plain": [
       "svg: "
      ]
     },
     "execution_count": 99,
     "metadata": {},
     "output_type": "execute_result"
    }
   ],
   "source": [
    "xlim = 0, 2*np.pi\n",
    "\n",
    "line1 = SymPath(np.sin, xlim=xlim, stroke='#1e88e5')\n",
    "line2 = SymPath(lambda x: -0.05*x**2, xlim=xlim, stroke='#ff0d57')\n",
    "line3 = SymPath(lambda x: 0, xlim=xlim, stroke_dasharray=4)\n",
    "\n",
    "xticks = {x: Emoji(e) for x, e in zip(np.linspace(*xlim, 5), '🍄🍩🚀🦊🐋')}\n",
    "plot = Plot([line1, line2, line3], xticks=xticks, aspect=1.5, xaxis_tick_text_scale=1.5)\n",
    "\n",
    "SVG(Frame(plot, padding=(0.05, 0.1)), size=350)"
   ]
  },
  {
   "cell_type": "code",
   "execution_count": null,
   "metadata": {},
   "outputs": [],
   "source": []
  }
 ],
 "metadata": {
  "kernelspec": {
   "display_name": "Python 3.9",
   "language": "python",
   "name": "python3.9"
  },
  "language_info": {
   "codemirror_mode": {
    "name": "ipython",
    "version": 3
   },
   "file_extension": ".py",
   "mimetype": "text/x-python",
   "name": "python",
   "nbconvert_exporter": "python",
   "pygments_lexer": "ipython3",
   "version": "3.9.2"
  }
 },
 "nbformat": 4,
 "nbformat_minor": 5
}
