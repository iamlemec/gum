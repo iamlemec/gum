{
 "cells": [
  {
   "cell_type": "code",
   "execution_count": 0,
   "metadata": {},
   "outputs": [],
   "source": [
    "import gen"
   ]
  },
  {
   "cell_type": "code",
   "execution_count": 0,
   "metadata": {},
   "outputs": [],
   "source": [
    "gen.Line(stroke_width=5)"
   ]
  },
  {
   "cell_type": "code",
   "execution_count": 0,
   "metadata": {},
   "outputs": [],
   "source": [
    "gen.SVG([\n",
    "    (gen.Line(stroke_width=5), (0.1, 0.1, 0.9, 0.9)),\n",
    "    (gen.Rect(stroke_width=5), (0.05, 0.05, 0.95, 0.95)),\n",
    "], size=(200, 200))"
   ]
  },
  {
   "cell_type": "code",
   "execution_count": 0,
   "metadata": {},
   "outputs": [],
   "source": [
    "line = gen.SymPath(np.sin, xlim=(0, 4*np.pi), stroke_width=3, stroke='red')\n",
    "gen.SVG([\n",
    "    (line, (0.1, 0.1, 0.9, 0.9)),\n",
    "    (gen.Rect(stroke_width=1), (0.05, 0.05, 0.95, 0.95)),\n",
    "], size=(200, 200))"
   ]
  },
  {
   "cell_type": "code",
   "execution_count": 0,
   "metadata": {},
   "outputs": [],
   "source": [
    "xlim = (0, 2*np.pi)\n",
    "stroke = dict(stroke_width=1, stroke_linecap='round')\n",
    "line1 = gen.SymPath(np.sin, xlim=xlim, **stroke)\n",
    "line2 = gen.SymPath(lambda x: -0.05*x**2, xlim=xlim, **stroke)\n",
    "plot = gen.Plot([line1, line2], xaxis=-1)\n",
    "gen.SVG(plot, size=(200, 200))"
   ]
  },
  {
   "cell_type": "code",
   "execution_count": 0,
   "metadata": {},
   "outputs": [],
   "source": [
    "gen.Node(text='A', font_size=0.2, font_family='Source Code Pro', font_aspect=1.7, pad=0.1, shape='rect')"
   ]
  },
  {
   "cell_type": "code",
   "execution_count": 0,
   "metadata": {},
   "outputs": [],
   "source": [
    "def fujii(n):\n",
    "    return gen.Text(text=n*'🗻', font_size=1/n) + gen.Rect()"
   ]
  },
  {
   "cell_type": "code",
   "execution_count": 0,
   "metadata": {},
   "outputs": [],
   "source": [
    "s = fujii(1)\n",
    "s.save('fuji.svg')\n",
    "s"
   ]
  },
  {
   "cell_type": "code",
   "execution_count": 0,
   "metadata": {},
   "outputs": [],
   "source": [
    "gen.Node(text='A', shape='rect', font_size=0.2)"
   ]
  },
  {
   "cell_type": "markdown",
   "metadata": {},
   "source": [
    "### Fonts"
   ]
  },
  {
   "cell_type": "code",
   "execution_count": 0,
   "metadata": {},
   "outputs": [],
   "source": [
    "import gi\n",
    "gi.require_version('HarfBuzz', '0.0')\n",
    "from gi.repository import HarfBuzz as hb\n",
    "from gi.repository import GLib"
   ]
  },
  {
   "cell_type": "code",
   "execution_count": 0,
   "metadata": {},
   "outputs": [],
   "source": [
    "fpath = gen.load_font_family('Montserrat-Regular')\n",
    "with open(fpath, 'rb') as fid:\n",
    "    fontdata = fid.read()"
   ]
  },
  {
   "cell_type": "code",
   "execution_count": 0,
   "metadata": {},
   "outputs": [],
   "source": [
    "bdata = GLib.Bytes.new(fontdata)\n",
    "blob = hb.glib_blob_create(bdata)\n",
    "face = hb.face_create(blob, 0)\n",
    "font = hb.font_create(face)\n",
    "upem = hb.face_get_upem(face)\n",
    "hb.font_set_scale(font, upem, upem)\n",
    "hb.ft_font_set_funcs(font)\n",
    "#hb.ot_font_set_funcs (font)"
   ]
  },
  {
   "cell_type": "code",
   "execution_count": 0,
   "metadata": {},
   "outputs": [],
   "source": [
    "text = 'hello 🗻 world'\n",
    "buf = hb.buffer_create ()\n",
    "hb.buffer_add_utf8 (buf, text.encode('utf-8'), 0, -1)"
   ]
  },
  {
   "cell_type": "code",
   "execution_count": 0,
   "metadata": {},
   "outputs": [],
   "source": [
    "hb.buffer_guess_segment_properties (buf)\n",
    "hb.shape (font, buf, [])\n",
    "infos = hb.buffer_get_glyph_infos (buf)\n",
    "positions = hb.buffer_get_glyph_positions (buf)"
   ]
  },
  {
   "cell_type": "code",
   "execution_count": 0,
   "metadata": {},
   "outputs": [],
   "source": [
    "for info, pos in zip (infos, positions):\n",
    "    gid = info.codepoint\n",
    "    cluster = info.cluster\n",
    "    ext = hb.font_get_glyph_extents(font, gid)\n",
    "    width, height = ext.extents.width, -ext.extents.height\n",
    "\n",
    "    x_advance = pos.x_advance\n",
    "    y_advance = pos.y_advance\n",
    "    x_offset = pos.x_offset\n",
    "    y_offset = pos.y_offset\n",
    "\n",
    "    print (f'{gid=:4} {cluster=:2}, {width=:4} {height=:4}, {x_advance=} {y_advance=} {x_offset=} {y_offset=}')"
   ]
  },
  {
   "cell_type": "code",
   "execution_count": 0,
   "metadata": {},
   "outputs": [],
   "source": []
  }
 ],
 "metadata": {
  "kernelspec": {
   "display_name": "Python 3.9",
   "language": "python",
   "name": "python3.9"
  },
  "language_info": {
   "codemirror_mode": {
    "name": "ipython",
    "version": 3
   },
   "file_extension": ".py",
   "mimetype": "text/x-python",
   "name": "python",
   "nbconvert_exporter": "python",
   "pygments_lexer": "ipython3",
   "version": "3.9.1"
  }
 },
 "nbformat": 4,
 "nbformat_minor": 5
}