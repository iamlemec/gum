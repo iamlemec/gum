{
 "cells": [
  {
   "cell_type": "code",
   "execution_count": 0,
   "id": "infectious-pendant",
   "metadata": {},
   "outputs": [],
   "source": [
    "import gen"
   ]
  },
  {
   "cell_type": "code",
   "execution_count": 0,
   "id": "suffering-tournament",
   "metadata": {},
   "outputs": [],
   "source": [
    "gen.Line(stroke_width=5)"
   ]
  },
  {
   "cell_type": "code",
   "execution_count": 0,
   "id": "centered-accordance",
   "metadata": {},
   "outputs": [],
   "source": [
    "gen.SVG([\n",
    "    (gen.Line(stroke_width=5), (0.1, 0.1, 0.9, 0.9)),\n",
    "    (gen.Rect(stroke_width=5), (0.05, 0.05, 0.95, 0.95)),\n",
    "], size=(200, 200))"
   ]
  },
  {
   "cell_type": "code",
   "execution_count": 0,
   "id": "unusual-sydney",
   "metadata": {},
   "outputs": [],
   "source": [
    "line = gen.SymPath(np.sin, xlim=(0, 4*np.pi), stroke_width=3, stroke='red')\n",
    "gen.SVG([\n",
    "    (line, (0.1, 0.1, 0.9, 0.9)),\n",
    "    (gen.Rect(stroke_width=1), (0.05, 0.05, 0.95, 0.95)),\n",
    "], size=(200, 200))"
   ]
  },
  {
   "cell_type": "code",
   "execution_count": 0,
   "id": "serious-ridge",
   "metadata": {},
   "outputs": [],
   "source": [
    "xlim = (0, 2*np.pi)\n",
    "stroke = dict(stroke_width=1, stroke_linecap='round')\n",
    "line1 = gen.SymPath(np.sin, xlim=xlim, **stroke)\n",
    "line2 = gen.SymPath(lambda x: -0.05*x**2, xlim=xlim, **stroke)\n",
    "plot = gen.Plot([line1, line2], xaxis=-1)\n",
    "gen.SVG(plot, size=(200, 200))"
   ]
  },
  {
   "cell_type": "code",
   "execution_count": 0,
   "id": "integrated-julian",
   "metadata": {},
   "outputs": [],
   "source": [
    "gen.Node(text='hello', font_size=0.1, font_family='monospace', font_aspect=1.7, pad=0.1)"
   ]
  },
  {
   "cell_type": "code",
   "execution_count": 0,
   "id": "analyzed-riverside",
   "metadata": {},
   "outputs": [],
   "source": []
  }
 ],
 "metadata": {
  "kernelspec": {
   "display_name": "Python 3",
   "language": "python",
   "name": "python3"
  },
  "language_info": {
   "codemirror_mode": {
    "name": "ipython",
    "version": 3
   },
   "file_extension": ".py",
   "mimetype": "text/x-python",
   "name": "python",
   "nbconvert_exporter": "python",
   "pygments_lexer": "ipython3",
   "version": "3.9.1"
  }
 },
 "nbformat": 4,
 "nbformat_minor": 5
}