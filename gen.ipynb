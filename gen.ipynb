{
 "cells": [
  {
   "cell_type": "code",
   "execution_count": 0,
   "metadata": {},
   "outputs": [],
   "source": [
    "import gen\n",
    "import fonts"
   ]
  },
  {
   "cell_type": "code",
   "execution_count": 0,
   "metadata": {},
   "outputs": [],
   "source": [
    "gen.Line(stroke_width=5)"
   ]
  },
  {
   "cell_type": "code",
   "execution_count": 0,
   "metadata": {},
   "outputs": [],
   "source": [
    "gen.SVG([\n",
    "    (gen.Line(stroke_width=5), (0.1, 0.1, 0.9, 0.9)),\n",
    "    (gen.Rect(stroke_width=5), (0.05, 0.05, 0.95, 0.95)),\n",
    "], size=(200, 200))"
   ]
  },
  {
   "cell_type": "code",
   "execution_count": 0,
   "metadata": {},
   "outputs": [],
   "source": [
    "line = gen.SymPath(np.sin, xlim=(0, 4*np.pi), stroke_width=3, stroke='red')\n",
    "gen.SVG([\n",
    "    (line, (0.1, 0.1, 0.9, 0.9)),\n",
    "    (gen.Rect(stroke_width=1), (0.05, 0.05, 0.95, 0.95)),\n",
    "], size=(200, 200))"
   ]
  },
  {
   "cell_type": "code",
   "execution_count": 0,
   "metadata": {},
   "outputs": [],
   "source": [
    "xlim = (0, 2*np.pi)\n",
    "stroke = dict(stroke_width=1, stroke_linecap='round')\n",
    "line1 = gen.SymPath(np.sin, xlim=xlim, **stroke)\n",
    "line2 = gen.SymPath(lambda x: -0.05*x**2, xlim=xlim, **stroke)\n",
    "gen.Plot([line1, line2])"
   ]
  },
  {
   "cell_type": "code",
   "execution_count": 0,
   "metadata": {},
   "outputs": [],
   "source": [
    "gen.Text('Test', font_family='Montserrat')"
   ]
  },
  {
   "cell_type": "code",
   "execution_count": 0,
   "metadata": {},
   "outputs": [],
   "source": [
    "gen.Node(text='Test', font_size=0.2, font_family='Montserrat', shape='rect')"
   ]
  },
  {
   "cell_type": "code",
   "execution_count": 0,
   "metadata": {},
   "outputs": [],
   "source": [
    "def fujii(n):\n",
    "    return gen.Text(text=n*'🗻', font_size=1/n, x=0, y=1) + gen.Rect()"
   ]
  },
  {
   "cell_type": "code",
   "execution_count": 0,
   "metadata": {},
   "outputs": [],
   "source": [
    "s = fujii(1)\n",
    "s.save('test/fuji.svg')\n",
    "s"
   ]
  },
  {
   "cell_type": "markdown",
   "metadata": {},
   "source": [
    "### Text Debug"
   ]
  },
  {
   "cell_type": "code",
   "execution_count": 0,
   "metadata": {},
   "outputs": [],
   "source": [
    "td = gen.TextDebug(x=0.1, y=0.6, text='hello world!', font_size=0.25, font_family='Montserrat')\n",
    "s = gen.SVG(td + gen.Rect(), size=(400, 200))\n",
    "s.save('test/text_debug.svg')\n",
    "s"
   ]
  },
  {
   "cell_type": "code",
   "execution_count": 0,
   "metadata": {},
   "outputs": [],
   "source": [
    "td1 = gen.TextDebug(x=0.1, y=0.6, text='🦊', font_size=0.25, font_family='Noto Emoji')\n",
    "td2 = gen.TextDebug(x=0.5, y=0.6, text='🗻', font_size=0.25, font_family='Noto Emoji')\n",
    "s = gen.SVG([td1, td2, gen.Rect()])\n",
    "s.save('test/emoji_debug.svg')\n",
    "s"
   ]
  },
  {
   "cell_type": "markdown",
   "metadata": {},
   "source": [
    "### Font Shaping"
   ]
  },
  {
   "cell_type": "code",
   "execution_count": 0,
   "metadata": {},
   "outputs": [],
   "source": [
    "from gi.repository import HarfBuzz as hb"
   ]
  },
  {
   "cell_type": "code",
   "execution_count": 0,
   "metadata": {},
   "outputs": [],
   "source": [
    "font, infos, positions, extents = fonts.get_text_shape('🗻', font='Noto Emoji', debug=True)"
   ]
  },
  {
   "cell_type": "code",
   "execution_count": 0,
   "metadata": {},
   "outputs": [],
   "source": [
    "ext = extents[0].extents\n",
    "print(ext.width, -ext.height)\n",
    "print(ext.x_bearing, ext.y_bearing)"
   ]
  },
  {
   "cell_type": "code",
   "execution_count": 0,
   "metadata": {},
   "outputs": [],
   "source": [
    "pos = positions[0]\n",
    "print(pos.x_offset, pos.y_offset)\n",
    "print(pos.x_advance, pos.y_advance)"
   ]
  },
  {
   "cell_type": "code",
   "execution_count": 0,
   "metadata": {},
   "outputs": [],
   "source": []
  }
 ],
 "metadata": {
  "kernelspec": {
   "display_name": "Python 3.9",
   "language": "python",
   "name": "python3.9"
  },
  "language_info": {
   "codemirror_mode": {
    "name": "ipython",
    "version": 3
   },
   "file_extension": ".py",
   "mimetype": "text/x-python",
   "name": "python",
   "nbconvert_exporter": "python",
   "pygments_lexer": "ipython3",
   "version": "3.9.2"
  }
 },
 "nbformat": 4,
 "nbformat_minor": 5
}