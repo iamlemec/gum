{
 "cells": [
  {
   "cell_type": "code",
   "execution_count": 0,
   "metadata": {},
   "outputs": [],
   "source": [
    "import gen\n",
    "import fonts"
   ]
  },
  {
   "cell_type": "code",
   "execution_count": 0,
   "metadata": {},
   "outputs": [],
   "source": [
    "gen.Line(stroke_width=5)"
   ]
  },
  {
   "cell_type": "code",
   "execution_count": 0,
   "metadata": {},
   "outputs": [],
   "source": [
    "line = gen.Line(stroke_width=5)\n",
    "gen.Frame(line, padding=0.05, margin=0.01, border=5)"
   ]
  },
  {
   "cell_type": "code",
   "execution_count": 0,
   "metadata": {},
   "outputs": [],
   "source": [
    "line = gen.SymPath(np.sin, xlim=(0, 4*np.pi), stroke_width=3, stroke='red')\n",
    "gen.Frame(line, padding=0.05, margin=0.01, border=1)"
   ]
  },
  {
   "cell_type": "code",
   "execution_count": 0,
   "metadata": {},
   "outputs": [],
   "source": [
    "xlim = (0, 2*np.pi)\n",
    "stroke = dict(stroke_width=1, stroke_linecap='round')\n",
    "line1 = gen.SymPath(np.sin, xlim=xlim, **stroke)\n",
    "line2 = gen.SymPath(lambda x: -0.05*x**2, xlim=xlim, **stroke)\n",
    "gen.Frame(line1 + line2, padding=0.02)"
   ]
  },
  {
   "cell_type": "code",
   "execution_count": 0,
   "metadata": {},
   "outputs": [],
   "source": [
    "gen.Container([\n",
    "    (gen.Text('Test', font_family='Montserrat') + gen.Rect(), (0, 0, 1, 0.5)),\n",
    "    (gen.Text('Test', font_family='Montserrat') + gen.Rect(), (0, 0.5, 1, 1))\n",
    "], aspect=0.5)"
   ]
  },
  {
   "cell_type": "code",
   "execution_count": 0,
   "metadata": {},
   "outputs": [],
   "source": [
    "text_args = dict(font_family='Montserrat')\n",
    "gen.Frame(gen.Container({\n",
    "    gen.Node(text='Test', shape='rect', text_args=text_args): (0, 0, 1, 0.5),\n",
    "    gen.Node(text='Test', shape='ellipse', text_args=text_args): (0, 0.5, 1, 1)\n",
    "}), padding=0.01)"
   ]
  },
  {
   "cell_type": "markdown",
   "metadata": {},
   "source": [
    "### Text Debug"
   ]
  },
  {
   "cell_type": "code",
   "execution_count": 0,
   "metadata": {},
   "outputs": [],
   "source": [
    "gen.SVG({\n",
    "    gen.TextDebug(text='gum', font_family='Montserrat'): 0.1,\n",
    "    gen.Rect(): 0\n",
    "}, size=(250, 110))"
   ]
  },
  {
   "cell_type": "code",
   "execution_count": 0,
   "metadata": {
    "tags": []
   },
   "outputs": [],
   "source": [
    "s = gen.SVG({\n",
    "    gen.TextDebug(text='hello world!', font_family='Montserrat'): 0.1,\n",
    "    gen.Rect(): 0\n",
    "}, size=(300, 100))\n",
    "s.save('test/text_debug.svg')\n",
    "s"
   ]
  },
  {
   "cell_type": "code",
   "execution_count": 0,
   "metadata": {},
   "outputs": [],
   "source": [
    "s = gen.SVG({\n",
    "    gen.TextDebug(text='🦊', font_family='Noto Emoji'): (0.1, 0.4, 0.4, 0.7),\n",
    "    gen.TextDebug(text='🗻', font_family='Noto Emoji'): (0.5, 0.4, 0.8, 0.7),\n",
    "    gen.Rect(): 0\n",
    "})\n",
    "s.save('test/emoji_debug.svg')\n",
    "s"
   ]
  },
  {
   "cell_type": "markdown",
   "metadata": {},
   "source": [
    "### Font Shaping"
   ]
  },
  {
   "cell_type": "code",
   "execution_count": 0,
   "metadata": {},
   "outputs": [],
   "source": [
    "from gi.repository import HarfBuzz as hb"
   ]
  },
  {
   "cell_type": "code",
   "execution_count": 0,
   "metadata": {},
   "outputs": [],
   "source": [
    "font, infos, positions, extents = fonts.get_text_shape('🗻', font='Noto Emoji', debug=True)"
   ]
  },
  {
   "cell_type": "code",
   "execution_count": 0,
   "metadata": {},
   "outputs": [],
   "source": [
    "ext = extents[0].extents\n",
    "print(ext.width, -ext.height)\n",
    "print(ext.x_bearing, ext.y_bearing)"
   ]
  },
  {
   "cell_type": "code",
   "execution_count": 0,
   "metadata": {},
   "outputs": [],
   "source": [
    "pos = positions[0]\n",
    "print(pos.x_offset, pos.y_offset)\n",
    "print(pos.x_advance, pos.y_advance)"
   ]
  },
  {
   "cell_type": "markdown",
   "metadata": {},
   "source": [
    "### Layout"
   ]
  },
  {
   "cell_type": "code",
   "execution_count": 0,
   "metadata": {},
   "outputs": [],
   "source": [
    "dot = gen.Point(gen.Bullet(), xy=(0.4, 0.3), r=0.05)\n",
    "gen.Frame(dot, border=1)"
   ]
  },
  {
   "cell_type": "markdown",
   "metadata": {},
   "source": [
    "### Plots"
   ]
  },
  {
   "cell_type": "code",
   "execution_count": 0,
   "metadata": {},
   "outputs": [],
   "source": [
    "tick_args = dict(text_font_family='Montserrat', text_font_weight=200)"
   ]
  },
  {
   "cell_type": "code",
   "execution_count": 0,
   "metadata": {},
   "outputs": [],
   "source": [
    "tick = gen.VTick('test', **tick_args)\n",
    "gen.Frame(tick, padding=0.01)"
   ]
  },
  {
   "cell_type": "code",
   "execution_count": 0,
   "metadata": {},
   "outputs": [],
   "source": [
    "ticks = {0.15: 'hello', 0.35: '0.3', 0.5: 'abc', 0.8: 'world'}\n",
    "axis = gen.HScale(ticks, tick_size=0.05, tick_args=tick_args)\n",
    "gen.Frame(axis, padding=0.01)"
   ]
  },
  {
   "cell_type": "code",
   "execution_count": 0,
   "metadata": {},
   "outputs": [],
   "source": [
    "ticks = {0.15: 'hello', 0.35: '0.3', 0.5: 'abc', 0.8: 'world'}\n",
    "tick_args_a = gen.prefix(tick_args, 'tick')\n",
    "axis = gen.HAxis(ticks, tick_size=0.05, **tick_args_a)\n",
    "gen.Frame(axis, padding=0.01)"
   ]
  },
  {
   "cell_type": "code",
   "execution_count": 0,
   "metadata": {},
   "outputs": [],
   "source": [
    "tick_args_ax = gen.prefix(tick_args_a, 'xaxis')\n",
    "tick_args_ay = gen.prefix(tick_args_a, 'yaxis')\n",
    "axes = gen.Axes(xticks=ticks, yticks=ticks, **tick_args_ax, **tick_args_ay)\n",
    "gen.Frame(axes, padding=0.01)"
   ]
  },
  {
   "cell_type": "code",
   "execution_count": 0,
   "metadata": {},
   "outputs": [],
   "source": []
  }
 ],
 "metadata": {
  "kernelspec": {
   "display_name": "Python 3.9",
   "language": "python",
   "name": "python3.9"
  },
  "language_info": {
   "codemirror_mode": {
    "name": "ipython",
    "version": 3
   },
   "file_extension": ".py",
   "mimetype": "text/x-python",
   "name": "python",
   "nbconvert_exporter": "python",
   "pygments_lexer": "ipython3",
   "version": "3.9.2"
  }
 },
 "nbformat": 4,
 "nbformat_minor": 5
}