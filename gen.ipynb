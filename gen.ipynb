{
 "cells": [
  {
   "cell_type": "code",
   "execution_count": 0,
   "id": "indonesian-zoning",
   "metadata": {},
   "outputs": [],
   "source": [
    "import gen"
   ]
  },
  {
   "cell_type": "code",
   "execution_count": 0,
   "id": "lyric-gazette",
   "metadata": {},
   "outputs": [],
   "source": [
    "gen.Line(stroke_width=5)"
   ]
  },
  {
   "cell_type": "code",
   "execution_count": 0,
   "id": "awful-mills",
   "metadata": {},
   "outputs": [],
   "source": [
    "gen.SVG([\n",
    "    (gen.Line(stroke_width=5), (0.1, 0.1, 0.9, 0.9)),\n",
    "    (gen.Rect(stroke_width=5), (0.05, 0.05, 0.95, 0.95)),\n",
    "], size=(200, 200))"
   ]
  },
  {
   "cell_type": "code",
   "execution_count": 0,
   "id": "developing-faculty",
   "metadata": {},
   "outputs": [],
   "source": [
    "line = gen.SymPath(np.sin, xlim=(0, 4*np.pi), stroke_width=3, stroke='red')\n",
    "gen.SVG([\n",
    "    (line, (0.1, 0.1, 0.9, 0.9)),\n",
    "    (gen.Rect(stroke_width=1), (0.05, 0.05, 0.95, 0.95)),\n",
    "], size=(200, 200))"
   ]
  },
  {
   "cell_type": "code",
   "execution_count": 0,
   "id": "renewable-latitude",
   "metadata": {},
   "outputs": [],
   "source": [
    "xlim = (0, 2*np.pi)\n",
    "stroke = dict(stroke_width=1, stroke_linecap='round')\n",
    "line1 = gen.SymPath(np.sin, xlim=xlim, **stroke)\n",
    "line2 = gen.SymPath(lambda x: -0.05*x**2, xlim=xlim, **stroke)\n",
    "plot = gen.Plot([line1, line2], xaxis=-1)\n",
    "gen.SVG(plot, size=(200, 200))"
   ]
  },
  {
   "cell_type": "code",
   "execution_count": 0,
   "id": "corporate-spare",
   "metadata": {},
   "outputs": [],
   "source": [
    "gen.Node(text='A', font_size=0.2, font_family='Source Code Pro', font_aspect=1.7, pad=0.1, shape='rect')"
   ]
  },
  {
   "cell_type": "code",
   "execution_count": 0,
   "id": "marked-familiar",
   "metadata": {},
   "outputs": [],
   "source": [
    "def fujii(n):\n",
    "    return gen.Text(text=n*'🗻', font_size=1/n) + gen.Rect()"
   ]
  },
  {
   "cell_type": "code",
   "execution_count": 0,
   "id": "separate-amber",
   "metadata": {},
   "outputs": [],
   "source": [
    "s = fujii(1)\n",
    "s.save('fuji.svg')\n",
    "s"
   ]
  },
  {
   "cell_type": "code",
   "execution_count": 0,
   "id": "beautiful-width",
   "metadata": {},
   "outputs": [],
   "source": [
    "gen.Node(text='A', shape='rect', font_size=0.2)"
   ]
  },
  {
   "cell_type": "code",
   "execution_count": 0,
   "id": "invisible-legislation",
   "metadata": {},
   "outputs": [],
   "source": []
  }
 ],
 "metadata": {
  "kernelspec": {
   "display_name": "Python 3",
   "language": "python",
   "name": "python3"
  },
  "language_info": {
   "codemirror_mode": {
    "name": "ipython",
    "version": 3
   },
   "file_extension": ".py",
   "mimetype": "text/x-python",
   "name": "python",
   "nbconvert_exporter": "python",
   "pygments_lexer": "ipython3",
   "version": "3.9.1"
  }
 },
 "nbformat": 4,
 "nbformat_minor": 5
}